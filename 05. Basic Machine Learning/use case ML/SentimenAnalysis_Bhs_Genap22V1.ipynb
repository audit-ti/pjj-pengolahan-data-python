{
 "cells": [
  {
   "cell_type": "markdown",
   "metadata": {
    "id": "gk4hlmX2X4qE"
   },
   "source": [
    "#Tutorial Sentiment Analysis\n",
    "Pengajar :\n",
    "1. Aris Budi Santoso\n",
    "2. Prabu Kresna Putra\n",
    "\n",
    "Tutorial ini merupakan panduan dalam melakukan sentiment analysis.\n",
    "\n",
    "Data yang digunakan dalam sesi praktikum ini merupakan data yang telah berlabel dalam format csv yang telah digunakan dalam penelitian yang dilakukan oleh Simanungkalit, Tiarma dalam Tugas Mata Kuliah Analitika Media Sosial dan Digital dengan Tema Sentimen Analisis atas Kebijakan PPKM pada Program MTI Universitas Indonesia."
   ]
  },
  {
   "cell_type": "markdown",
   "metadata": {
    "id": "crRW-m1YfX-z"
   },
   "source": [
    "## 1. Persiapan\n",
    "\n",
    "Install dan import library yang dibutuhkan"
   ]
  },
  {
   "cell_type": "markdown",
   "metadata": {
    "id": "4GLz-oKuiJog"
   },
   "source": [
    "### Install Library"
   ]
  },
  {
   "cell_type": "code",
   "execution_count": 1,
   "metadata": {
    "colab": {
     "base_uri": "https://localhost:8080/"
    },
    "id": "oPNEoVNYgJ7v",
    "outputId": "81b5fcd9-32dc-4145-bb43-0f48064c7036"
   },
   "outputs": [],
   "source": [
    "# !pip install nlp-id"
   ]
  },
  {
   "cell_type": "code",
   "execution_count": 2,
   "metadata": {
    "colab": {
     "base_uri": "https://localhost:8080/"
    },
    "id": "lGuQge4slDfX",
    "outputId": "f817c207-e710-4416-fb5e-b5bb6779899f"
   },
   "outputs": [],
   "source": [
    "# !pip install emoji"
   ]
  },
  {
   "cell_type": "markdown",
   "metadata": {
    "id": "cwjCU_9SicjQ"
   },
   "source": [
    "### Import Library"
   ]
  },
  {
   "cell_type": "code",
   "execution_count": 3,
   "metadata": {
    "colab": {
     "base_uri": "https://localhost:8080/"
    },
    "id": "qMk9tfRNUSB3",
    "outputId": "90549e5b-5a88-4e20-f701-ce065c7d1c43"
   },
   "outputs": [],
   "source": [
    "# # Library untuk akses Google Drive dari Colabs\n",
    "# from google.colab import drive\n",
    "# drive.mount(\"/content/gdrive\")"
   ]
  },
  {
   "cell_type": "code",
   "execution_count": null,
   "metadata": {
    "colab": {
     "base_uri": "https://localhost:8080/"
    },
    "id": "8X5IyE8vlOpb",
    "outputId": "25daf1ff-56b7-473f-c586-e43287d3ee41"
   },
   "outputs": [
    {
     "name": "stderr",
     "output_type": "stream",
     "text": [
      "[nltk_data] Downloading package punkt to C:\\Users\\Ade\n",
      "[nltk_data]     Satya\\AppData\\Roaming\\nltk_data...\n"
     ]
    }
   ],
   "source": [
    "# Library NLP\n",
    "import nltk\n",
    "from nltk.tokenize import word_tokenize\n",
    "from nltk.corpus import stopwords\n",
    "nltk.download('punkt')\n",
    "#nltk.download('stopwords')\n",
    "from nlp_id.stopword import StopWord\n",
    "from nlp_id.postag import PosTag\n",
    "from nlp_id.lemmatizer import Lemmatizer \n",
    "\n",
    "# Library Preprocessing\n",
    "import pandas as pd\n",
    "import re\n",
    "import csv\n",
    "import random\n",
    "import string\n",
    "import emoji\n",
    "import operator\n",
    "from sklearn.feature_extraction.text import CountVectorizer, TfidfTransformer\n",
    "\n",
    "# Library untuk Melatih dan Evaluasi Model\n",
    "from sklearn.model_selection import train_test_split\n",
    "from nltk.classify.scikitlearn import SklearnClassifier\n",
    "from sklearn.naive_bayes import MultinomialNB, BernoulliNB\n",
    "from sklearn.linear_model import LogisticRegression, SGDClassifier\n",
    "from sklearn.svm import SVC, LinearSVC, NuSVC\n",
    "from sklearn.tree import DecisionTreeClassifier\n",
    "from sklearn.ensemble import RandomForestClassifier\n",
    "from sklearn.ensemble import AdaBoostClassifier\n",
    "from sklearn.ensemble import GradientBoostingClassifier\n",
    "from nltk.classify import ClassifierI\n",
    "from statistics import mode\n",
    "import pickle"
   ]
  },
  {
   "cell_type": "code",
   "execution_count": null,
   "metadata": {
    "id": "zHVMh8lYuVdb"
   },
   "outputs": [],
   "source": [
    "#Visualization\n",
    "import matplotlib.pyplot as plt\n",
    "import seaborn as sns"
   ]
  },
  {
   "cell_type": "markdown",
   "metadata": {
    "id": "pbq_Wpjbm29V"
   },
   "source": [
    "## Data Preprocessing"
   ]
  },
  {
   "cell_type": "markdown",
   "metadata": {
    "id": "2_jc9M5nm_aZ"
   },
   "source": [
    "### Load Data"
   ]
  },
  {
   "cell_type": "code",
   "execution_count": null,
   "metadata": {
    "id": "Gdu5pMnUAYZE"
   },
   "outputs": [],
   "source": [
    "import csv\n",
    "link_file = 'https://raw.githubusercontent.com/audit-ti/pjj-pengolahan-data-python/main/05.%20Basic%20Machine%20Learning/use%20case%20ML/dataset-sentimen.csv'"
   ]
  },
  {
   "cell_type": "code",
   "execution_count": null,
   "metadata": {
    "id": "gTWbIuVbqAX_"
   },
   "outputs": [],
   "source": [
    "with open(link_file, 'r', encoding=\"utf8\") as nodecsv: # Buka file                       \n",
    "    csvreader = csv.reader(nodecsv) # membaca data\n",
    "    # Menyusun data dalam list dan menghilangkan header data\n",
    "    datacsv = [n for n in csvreader][1:]"
   ]
  },
  {
   "cell_type": "code",
   "execution_count": null,
   "metadata": {
    "colab": {
     "base_uri": "https://localhost:8080/"
    },
    "id": "jd8YKNdpqc8l",
    "outputId": "bc6f7d60-815c-446c-a9f9-7add466a14e0"
   },
   "outputs": [],
   "source": [
    "print(datacsv[:10])"
   ]
  },
  {
   "cell_type": "markdown",
   "metadata": {
    "id": "2oY616QunJu_"
   },
   "source": [
    "### Tokenisasi"
   ]
  },
  {
   "cell_type": "markdown",
   "metadata": {
    "id": "wOOhnJ20nYAI"
   },
   "source": [
    "#### Regex untuk tokenisasi"
   ]
  },
  {
   "cell_type": "code",
   "execution_count": null,
   "metadata": {
    "id": "R0-CNjFPBuvF"
   },
   "outputs": [],
   "source": [
    "import re"
   ]
  },
  {
   "cell_type": "code",
   "execution_count": null,
   "metadata": {
    "id": "rUID60DQqstb"
   },
   "outputs": [],
   "source": [
    "emoticons_str = r\"\"\"\n",
    "    (?:\n",
    "        [:=;] # Eyes\n",
    "        [oO\\-]? # Nose (optional)\n",
    "        [D\\)\\]\\(\\]/\\\\OpP] # Mouth\n",
    "    )\"\"\"\n",
    "regex_str = []\n",
    "regex_str.append(emoticons_str)\n",
    "regex_str.append(r'<[^>]+>')# HTML tags\n",
    "regex_str.append(r'(?:@[\\w_]+)')# @-mentions\n",
    "regex_str.append(r'(?:&[\\w_]+)')\n",
    "regex_str.append(r\"(?:\\#+[\\w_]+[\\w\\'_\\-]*[\\w_]+)\") # hash-tags\n",
    "regex_str.append(r'http[s]?://(?:[a-z]|[0-9]|[$-_@.&amp;+]|[!*\\(\\),]|(?:%[0-9a-f][0-9a-f]))+') # URLs\n",
    "regex_str.append(r'(?:(?:\\d+,?)+(?:\\.?\\d+)?)') # numbers\n",
    "regex_str.append(r\"(?:[a-z][a-z'\\-_]+[a-z])\") # words with - and '\n",
    "regex_str.append(r'(?:[\\w_]+)') # other words\n",
    "regex_str.append(r'(?:\\S)') # anything else\n",
    "\n",
    "tokens_re = re.compile(r'('+'|'.join(regex_str)+')', re.VERBOSE | re.IGNORECASE)\n",
    "emoticon_re = re.compile(r'^'+emoticons_str+'$', re.VERBOSE | re.IGNORECASE)"
   ]
  },
  {
   "cell_type": "code",
   "execution_count": null,
   "metadata": {
    "id": "fk2Z7i2KnsLY"
   },
   "outputs": [],
   "source": [
    "def tokenize(s):\n",
    "    tokens = tokens_re.findall(s)\n",
    "    return tokens"
   ]
  },
  {
   "cell_type": "code",
   "execution_count": null,
   "metadata": {
    "colab": {
     "base_uri": "https://localhost:8080/"
    },
    "id": "BtnrqVqSoF_U",
    "outputId": "1e4bfb2a-384c-4ed3-bc60-14f0c6decf17"
   },
   "outputs": [],
   "source": [
    "tokens = []\n",
    "for c in datacsv:\n",
    "    tokens.append(tokenize(c[4]))\n",
    "\n",
    "print(tokens[:5])"
   ]
  },
  {
   "cell_type": "markdown",
   "metadata": {
    "id": "b_s9uahoneyv"
   },
   "source": [
    "#### Stop Word Removal"
   ]
  },
  {
   "cell_type": "code",
   "execution_count": null,
   "metadata": {
    "id": "QLPbP-o2xzHf"
   },
   "outputs": [],
   "source": [
    "stopword = StopWord() "
   ]
  },
  {
   "cell_type": "code",
   "execution_count": null,
   "metadata": {
    "id": "iYQWhGLhxiXy"
   },
   "outputs": [],
   "source": [
    "punctuation = list(string.punctuation)\n",
    "stop = stopword.get_stopword() + punctuation + ['rt', 'via', '…','•','“']"
   ]
  },
  {
   "cell_type": "code",
   "execution_count": null,
   "metadata": {
    "id": "2RVT_JKWn6er"
   },
   "outputs": [],
   "source": [
    "# Fungsi untuk melakukan stop word removal\n",
    "def cleanTweet(token,regex):\n",
    "    terms_all = [emoji.demojize(term) for term in token if term.lower() not in stop and not regex.match(term)]\n",
    "    return terms_all"
   ]
  },
  {
   "cell_type": "code",
   "execution_count": null,
   "metadata": {
    "id": "8ScdIRJLaeg0"
   },
   "outputs": [],
   "source": [
    "exclude_str = []\n",
    "exclude_str.append(emoticons_str)\n",
    "exclude_str.append(r'<[^>]+>')# HTML tags\n",
    "exclude_str.append(r'(?:@[\\w_]+)')# @-mentions\n",
    "exclude_str.append(r'(?:&[\\w_]+)')\n",
    "exclude_str.append(r\"(?:\\#+[\\w_]+[\\w\\'_\\-]*[\\w_]+)\") # hash-tags\n",
    "exclude_str.append(r'http[s]?://(?:[a-z]|[0-9]|[$-_@.&amp;+]|[!*\\(\\),]|(?:%[0-9a-f][0-9a-f]))+') # URLs\n",
    "exclude_str.append(r'(?:(?:\\d+,?)+(?:\\.?\\d+)?)') # numbers\n",
    "exclude_str.append(r'(\\b[a-zA-Z0-9]{2,3}\\b)') # numbers\n",
    "\n",
    "exclude_re = re.compile(r'('+'|'.join(exclude_str)+')', re.VERBOSE | re.IGNORECASE)"
   ]
  },
  {
   "cell_type": "code",
   "execution_count": null,
   "metadata": {
    "colab": {
     "base_uri": "https://localhost:8080/"
    },
    "id": "2ELLqXEIaitR",
    "outputId": "85a0498e-2a5b-4959-8401-35a2f98307ba"
   },
   "outputs": [],
   "source": [
    "# Menghitung frekwensi kata\n",
    "all_word=[]\n",
    "from collections import Counter\n",
    "count_all = Counter()\n",
    "for token in tokens:\n",
    "    cleanToken = cleanTweet(token,exclude_re)\n",
    "    terms_all = [term.lower() for term in cleanToken]\n",
    "    count_all.update(terms_all)\n",
    "    for w in terms_all:\n",
    "        all_word.append(w)\n",
    "print(count_all.most_common(100))"
   ]
  },
  {
   "cell_type": "code",
   "execution_count": null,
   "metadata": {
    "colab": {
     "base_uri": "https://localhost:8080/"
    },
    "id": "BKNahtLAgC_Y",
    "outputId": "b4af250f-a243-4fc8-ca28-771030a2de23"
   },
   "outputs": [],
   "source": [
    "len(all_word)"
   ]
  },
  {
   "cell_type": "markdown",
   "metadata": {
    "id": "zhvk4H55qPc3"
   },
   "source": [
    "#### Lemmatisasi (Mengambil kata dasar)"
   ]
  },
  {
   "cell_type": "code",
   "execution_count": null,
   "metadata": {
    "id": "d3R1M8rSjAuA"
   },
   "outputs": [],
   "source": [
    "lemmatizer = Lemmatizer()"
   ]
  },
  {
   "cell_type": "code",
   "execution_count": null,
   "metadata": {
    "id": "dferDa2yjQqM"
   },
   "outputs": [],
   "source": [
    "all_stmword = [lemmatizer.lemmatize(w) for w in all_word]"
   ]
  },
  {
   "cell_type": "code",
   "execution_count": null,
   "metadata": {
    "colab": {
     "base_uri": "https://localhost:8080/"
    },
    "id": "MvwOEI9dkHgZ",
    "outputId": "2162ad1c-63af-4fbe-e3cd-aaadb0e1a4db"
   },
   "outputs": [],
   "source": [
    "print(all_stmword[:100])"
   ]
  },
  {
   "cell_type": "code",
   "execution_count": null,
   "metadata": {
    "colab": {
     "base_uri": "https://localhost:8080/"
    },
    "id": "6sAi3U5QhRIX",
    "outputId": "6645df09-26fa-4937-afae-df2492c6ec45"
   },
   "outputs": [],
   "source": [
    "print(lemmatizer.lemmatize('menyejukan'))"
   ]
  },
  {
   "cell_type": "code",
   "execution_count": null,
   "metadata": {
    "colab": {
     "base_uri": "https://localhost:8080/"
    },
    "id": "e0zrxAiSRiQl",
    "outputId": "62dddac0-9071-40cc-b517-794c6edaf44b"
   },
   "outputs": [],
   "source": [
    "len(all_stmword)"
   ]
  },
  {
   "cell_type": "markdown",
   "metadata": {
    "id": "rtwKHLhkqw3e"
   },
   "source": [
    "#### POS Tagging"
   ]
  },
  {
   "cell_type": "code",
   "execution_count": null,
   "metadata": {
    "colab": {
     "base_uri": "https://localhost:8080/"
    },
    "id": "vm4Ozs47qf7z",
    "outputId": "e284a04d-af7e-4e38-a66a-114cb2ca4df3"
   },
   "outputs": [],
   "source": [
    "postagger = PosTag() "
   ]
  },
  {
   "cell_type": "code",
   "execution_count": null,
   "metadata": {
    "id": "563___NHo0P0"
   },
   "outputs": [],
   "source": [
    "pos = [postagger.get_pos_tag(w)[0] for w in all_stmword if len(postagger.get_pos_tag(w))>0]"
   ]
  },
  {
   "cell_type": "code",
   "execution_count": null,
   "metadata": {
    "colab": {
     "base_uri": "https://localhost:8080/"
    },
    "id": "9erizIZypKK_",
    "outputId": "393a815f-b58f-4629-e02e-8e2a6cab0acf"
   },
   "outputs": [],
   "source": [
    "print(pos[:10])"
   ]
  },
  {
   "cell_type": "code",
   "execution_count": null,
   "metadata": {
    "id": "QBM8LJfNphaX"
   },
   "outputs": [],
   "source": [
    "allowed_word_types = [\"ADV\",\"JJ\",\"ADJP\",\"VB\"]\n",
    "allowed_words=[w[0] for w in pos if w[1] in allowed_word_types]"
   ]
  },
  {
   "cell_type": "code",
   "execution_count": null,
   "metadata": {
    "colab": {
     "base_uri": "https://localhost:8080/"
    },
    "id": "1kqj8_x_p40o",
    "outputId": "335c9328-0640-48ad-cd89-c80e57b7801a"
   },
   "outputs": [],
   "source": [
    "print(allowed_words[:100])"
   ]
  },
  {
   "cell_type": "code",
   "execution_count": null,
   "metadata": {
    "colab": {
     "base_uri": "https://localhost:8080/"
    },
    "id": "l3gX1utsRxJl",
    "outputId": "5feabdfb-0fa7-486f-f089-af1e2db01fea"
   },
   "outputs": [],
   "source": [
    "len(allowed_words)"
   ]
  },
  {
   "cell_type": "markdown",
   "metadata": {
    "id": "2ottxSG0rBaH"
   },
   "source": [
    "### Bag of Words"
   ]
  },
  {
   "cell_type": "markdown",
   "metadata": {
    "id": "W1tFC494rOhQ"
   },
   "source": [
    "#### Frekwensi Kemunculan Kata"
   ]
  },
  {
   "cell_type": "code",
   "execution_count": null,
   "metadata": {
    "colab": {
     "base_uri": "https://localhost:8080/"
    },
    "id": "OiXyl9lrsA4i",
    "outputId": "2aac877d-6a86-4203-ddc2-0428a3e88332"
   },
   "outputs": [],
   "source": [
    "#Menyusun distribusi kata berdasarkan kemunculannya\n",
    "allwords = nltk.FreqDist(allowed_words)\n",
    "\n",
    "#Mengambil 1000 pertama dari distribusi kata berdasarkan frekwensi kemunculannya \n",
    "tuple_features = list(allwords.most_common())[:1000]\n",
    "word_features = [k for (k,v) in tuple_features]\n",
    "#Memeriksa word_features\n",
    "print(word_features[:100])"
   ]
  },
  {
   "cell_type": "code",
   "execution_count": null,
   "metadata": {
    "colab": {
     "base_uri": "https://localhost:8080/"
    },
    "id": "_Nyb2ejt9QMF",
    "outputId": "f250dc15-dcc5-4c78-a35f-35c445be5a12"
   },
   "outputs": [],
   "source": [
    "tuple_features"
   ]
  },
  {
   "cell_type": "markdown",
   "metadata": {
    "id": "RKc0CTQdSkTN"
   },
   "source": [
    "#### Membentuk Featureset"
   ]
  },
  {
   "cell_type": "code",
   "execution_count": null,
   "metadata": {
    "id": "55ccM5iSsPhs"
   },
   "outputs": [],
   "source": [
    "# Membentuk list dokumen dan labelnya\n",
    "document=[]\n",
    "for w in datacsv:\n",
    "  document.append((w[4],w[1]))"
   ]
  },
  {
   "cell_type": "code",
   "execution_count": null,
   "metadata": {
    "id": "ehox-Si5svCq"
   },
   "outputs": [],
   "source": [
    "# Fungsi untuk membentuk bag of words\n",
    "def find_features(document):\n",
    "    words = tokenize(document)\n",
    "    words = cleanTweet(words,exclude_re)\n",
    "    words = [lemmatizer.lemmatize(w) for w in words]\n",
    "    features = {}\n",
    "    for w in word_features:\n",
    "        features[w] = (w in words)\n",
    "    return features"
   ]
  },
  {
   "cell_type": "code",
   "execution_count": null,
   "metadata": {
    "colab": {
     "base_uri": "https://localhost:8080/"
    },
    "id": "sP57NoPOszke",
    "outputId": "eba5604e-cf37-48d3-f2b9-7a99ef448a63"
   },
   "outputs": [],
   "source": [
    "nltk.download('punkt')\n",
    "featuresets = [(find_features(rev), category) for (rev, category) in document]"
   ]
  },
  {
   "cell_type": "code",
   "execution_count": null,
   "metadata": {
    "colab": {
     "base_uri": "https://localhost:8080/"
    },
    "id": "9Qoi4JVetAur",
    "outputId": "4266932f-8552-42f1-de45-37fa6b7992de"
   },
   "outputs": [],
   "source": [
    "print(featuresets[3])"
   ]
  },
  {
   "cell_type": "markdown",
   "metadata": {
    "id": "-3lSaCxxu4bx"
   },
   "source": [
    "### Distribusi Dataset"
   ]
  },
  {
   "cell_type": "code",
   "execution_count": null,
   "metadata": {
    "id": "a66a6CN-tYBf"
   },
   "outputs": [],
   "source": [
    "lsclass = [category for (rev, category) in document]\n",
    "df_alltrain = pd.DataFrame(lsclass, columns=['class'])"
   ]
  },
  {
   "cell_type": "code",
   "execution_count": null,
   "metadata": {
    "colab": {
     "base_uri": "https://localhost:8080/",
     "height": 384
    },
    "id": "RZP3CxG0uDkF",
    "outputId": "480c4137-97e1-4d68-b970-9b7c26df3ff8"
   },
   "outputs": [],
   "source": [
    "sns.barplot(df_alltrain['class'].unique(),df_alltrain['class'].value_counts())\n",
    "plt.title('Class Label Distribution')\n",
    "plt.xlabel('Class Label')\n",
    "plt.ylabel('Count')\n",
    "plt.show()\n",
    "\n",
    "print('Jumlah baris kelas positif: ',df_alltrain['class'].value_counts()['positive'])\n",
    "print('Jumlah baris kelas negatif: ',df_alltrain['class'].value_counts()['negative'])"
   ]
  },
  {
   "cell_type": "markdown",
   "metadata": {
    "id": "VGQEvfpByl89"
   },
   "source": [
    "### Membagi Data Training dan Testing"
   ]
  },
  {
   "cell_type": "code",
   "execution_count": null,
   "metadata": {
    "id": "lwWP74-0tORc"
   },
   "outputs": [],
   "source": [
    "# menyusun data training dan testing \n",
    "trainsize = round(len(featuresets)*0.7)\n",
    "\n",
    "random.shuffle(featuresets)\n",
    "training_set = featuresets[:trainsize]\n",
    "testing_set = featuresets[trainsize:]\n"
   ]
  },
  {
   "cell_type": "code",
   "execution_count": null,
   "metadata": {
    "colab": {
     "base_uri": "https://localhost:8080/"
    },
    "id": "EddeIBGIAH2p",
    "outputId": "32e59d48-b797-48ad-fa19-7a7e600d3a20"
   },
   "outputs": [],
   "source": [
    "len(testing_set)"
   ]
  },
  {
   "cell_type": "markdown",
   "metadata": {
    "id": "HvV_h42C8q3H"
   },
   "source": [
    "### Melatih Model Klasifikasi dengan Library NLTK"
   ]
  },
  {
   "cell_type": "markdown",
   "metadata": {
    "id": "Wbt294-1TeqB"
   },
   "source": [
    "#### Naive Bayes"
   ]
  },
  {
   "cell_type": "markdown",
   "metadata": {
    "id": "GMb2HGFVUOQQ"
   },
   "source": [
    "##### Melatih Model"
   ]
  },
  {
   "cell_type": "code",
   "execution_count": null,
   "metadata": {
    "colab": {
     "base_uri": "https://localhost:8080/"
    },
    "id": "eqrKZSkHtTQz",
    "outputId": "6818cbf0-69b7-4f3c-ce78-2061f7e732c0"
   },
   "outputs": [],
   "source": [
    "classifier = nltk.NaiveBayesClassifier.train(training_set)\n",
    "\n",
    "print(\"Classifier accuracy percent:\",(nltk.classify.accuracy(classifier, testing_set))*100)\n",
    "classifier.show_most_informative_features(25)"
   ]
  },
  {
   "cell_type": "markdown",
   "metadata": {
    "id": "fsatV3_-UYL9"
   },
   "source": [
    "##### Mengukur kinerja model"
   ]
  },
  {
   "cell_type": "code",
   "execution_count": null,
   "metadata": {
    "colab": {
     "base_uri": "https://localhost:8080/"
    },
    "id": "Q3mfV9NXtstF",
    "outputId": "4ce385f3-dfb4-41d6-b2ac-3a4d7e2f2c76"
   },
   "outputs": [],
   "source": [
    "from nltk.metrics.scores import (precision, recall)\n",
    "import collections\n",
    "\n",
    "refsets = collections.defaultdict(set)\n",
    "testsets = collections.defaultdict(set)\n",
    "\n",
    "for i, (feats, label) in enumerate(testing_set):\n",
    "    refsets[label].add(i)\n",
    "    observed = classifier.classify(feats)\n",
    "    testsets[observed].add(i)\n",
    "\n",
    "print('Recall:', recall(refsets['positive'], testsets['positive']))\n",
    "print('Precision:', precision(refsets['positive'], testsets['positive']))"
   ]
  },
  {
   "cell_type": "code",
   "execution_count": null,
   "metadata": {
    "id": "SG-bFAVdUtJO"
   },
   "outputs": [],
   "source": [
    "from sklearn.model_selection import KFold\n",
    "cv = KFold(n_splits=5, shuffle=False, random_state=None)"
   ]
  },
  {
   "cell_type": "code",
   "execution_count": null,
   "metadata": {
    "colab": {
     "base_uri": "https://localhost:8080/"
    },
    "id": "Yaedb6mvUvtX",
    "outputId": "4dce3ea9-8001-402e-ecee-b464a2a12c09"
   },
   "outputs": [],
   "source": [
    "k=1\n",
    "for traincv, testcv in cv.split(featuresets):\n",
    "    training_sets = featuresets[traincv[0]:traincv[len(traincv)-1]]\n",
    "    testing_sets = featuresets[testcv[0]:testcv[len(testcv)-1]]\n",
    "    classifier = nltk.NaiveBayesClassifier.train(featuresets[traincv[0]:traincv[len(traincv)-1]])\n",
    "    refsets = collections.defaultdict(set)\n",
    "    testsets = collections.defaultdict(set)\n",
    " \n",
    "    for i, (feats, label) in enumerate(testing_sets):\n",
    "        refsets[label].add(i)\n",
    "        observed = classifier.classify(feats)\n",
    "        testsets[observed].add(i)\n",
    "    print (\"Fold - \"+str(k))\n",
    "    print(\"Accuracy:\",(nltk.classify.accuracy(classifier, testing_sets))*100)\n",
    "    print('Recall:', recall(refsets['positive'], testsets['positive'])*100)\n",
    "    print('Precision:', precision(refsets['positive'], testsets['positive'])*100)\n",
    "    k+=1"
   ]
  },
  {
   "cell_type": "markdown",
   "metadata": {
    "id": "oN2rPZ5VX7Z-"
   },
   "source": [
    "##### Menyimpan model ke dalam bentuk file"
   ]
  },
  {
   "cell_type": "code",
   "execution_count": null,
   "metadata": {
    "id": "mVIxcwd_tXw6"
   },
   "outputs": [],
   "source": [
    "#menyimpan model yang telah ditrainning ke file sav\n",
    "filename = '/content/gdrive/My Drive/PRAKTIKUM_AMSD/model/ppkm_nb_model.sav'\n",
    "pickle.dump(classifier, open(filename, 'wb'))"
   ]
  },
  {
   "cell_type": "code",
   "execution_count": null,
   "metadata": {
    "id": "pDvI8orlYJG5"
   },
   "outputs": [],
   "source": [
    "#load model classifier nb dari file\n",
    "loaded_model = pickle.load(open(filename, 'rb'))"
   ]
  },
  {
   "cell_type": "code",
   "execution_count": null,
   "metadata": {
    "id": "poqep_PdYQIt"
   },
   "outputs": [],
   "source": [
    "#melakukan prediksi data menggunakan model classifier nb yang telah diload\n",
    "lsPrediksi = []\n",
    "for (rev, category) in document[trainsize:]:\n",
    "    result=loaded_model.classify(find_features(rev))\n",
    "    lsPrediksi.append([rev, result, category])"
   ]
  },
  {
   "cell_type": "code",
   "execution_count": null,
   "metadata": {
    "colab": {
     "base_uri": "https://localhost:8080/"
    },
    "id": "dNeTjwTWYWS2",
    "outputId": "1a522600-58ab-466a-d57d-1ebdd44d9426"
   },
   "outputs": [],
   "source": [
    "print(lsPrediksi[:10])"
   ]
  },
  {
   "cell_type": "code",
   "execution_count": null,
   "metadata": {
    "id": "XjaBKNMtnZIu"
   },
   "outputs": [],
   "source": [
    "act=[]\n",
    "pred=[]\n",
    "\n",
    "for i, (feats, label) in enumerate(testing_set):\n",
    "    observed = classifier.classify(feats)\n",
    "    act.append(label)\n",
    "    pred.append(observed)"
   ]
  },
  {
   "cell_type": "markdown",
   "metadata": {
    "id": "-YQqYMCwYJZG"
   },
   "source": [
    "##### Confusion Matrix"
   ]
  },
  {
   "cell_type": "code",
   "execution_count": null,
   "metadata": {
    "id": "ivNl9T0GnZIu"
   },
   "outputs": [],
   "source": [
    "from nltk.metrics import ConfusionMatrix"
   ]
  },
  {
   "cell_type": "code",
   "execution_count": null,
   "metadata": {
    "id": "MqDIXdKXnZIw"
   },
   "outputs": [],
   "source": [
    "matrix = ConfusionMatrix(act,pred)"
   ]
  },
  {
   "cell_type": "code",
   "execution_count": null,
   "metadata": {
    "colab": {
     "base_uri": "https://localhost:8080/"
    },
    "id": "BtdCHQg4nZIw",
    "outputId": "da51c63b-5e64-4e57-f3d7-8f3a4c556e50"
   },
   "outputs": [],
   "source": [
    "print(matrix)"
   ]
  },
  {
   "cell_type": "markdown",
   "metadata": {
    "id": "reqVQBFVTn7l"
   },
   "source": [
    "#### Support Vector Machine"
   ]
  },
  {
   "cell_type": "code",
   "execution_count": null,
   "metadata": {
    "colab": {
     "base_uri": "https://localhost:8080/"
    },
    "id": "pvRRwK8cnZIx",
    "outputId": "2331f294-5de2-4046-abc3-0c3257641e0c"
   },
   "outputs": [],
   "source": [
    "classifier2 = nltk.classify.SklearnClassifier(LinearSVC())\n",
    "classifier2.train(training_set)"
   ]
  },
  {
   "cell_type": "code",
   "execution_count": null,
   "metadata": {
    "colab": {
     "base_uri": "https://localhost:8080/"
    },
    "id": "16YkuLxfnZIx",
    "outputId": "3e957561-40e0-48ec-e36d-637d4eac34bb"
   },
   "outputs": [],
   "source": [
    "print(\"Classifier accuracy percent:\",(nltk.classify.accuracy(classifier2, testing_set))*100)"
   ]
  },
  {
   "cell_type": "markdown",
   "metadata": {
    "id": "eECPpfrQTv38"
   },
   "source": [
    "#### Decision Tree"
   ]
  },
  {
   "cell_type": "code",
   "execution_count": null,
   "metadata": {
    "colab": {
     "base_uri": "https://localhost:8080/"
    },
    "id": "5DQ4c-TfCbhW",
    "outputId": "fb0cd9ea-21bf-4c51-897a-44032617741e"
   },
   "outputs": [],
   "source": [
    "classifier3 = nltk.classify.SklearnClassifier(DecisionTreeClassifier())\n",
    "classifier3.train(training_set)"
   ]
  },
  {
   "cell_type": "code",
   "execution_count": null,
   "metadata": {
    "colab": {
     "base_uri": "https://localhost:8080/"
    },
    "id": "5OkPxyBkD-IA",
    "outputId": "817350c5-8760-46e0-a894-e052420fb898"
   },
   "outputs": [],
   "source": [
    "print(\"Classifier accuracy percent:\",(nltk.classify.accuracy(classifier3, testing_set))*100)"
   ]
  },
  {
   "cell_type": "markdown",
   "metadata": {
    "id": "QRm3BjgvT0Rk"
   },
   "source": [
    "#### AdaBoost\n"
   ]
  },
  {
   "cell_type": "code",
   "execution_count": null,
   "metadata": {
    "colab": {
     "base_uri": "https://localhost:8080/"
    },
    "id": "P3QU_qvcDyje",
    "outputId": "91e979de-f9b5-4d5f-b920-23a49eee7bd9"
   },
   "outputs": [],
   "source": [
    "classifier4 = nltk.classify.SklearnClassifier(AdaBoostClassifier())\n",
    "classifier4.train(training_set)"
   ]
  },
  {
   "cell_type": "code",
   "execution_count": null,
   "metadata": {
    "colab": {
     "base_uri": "https://localhost:8080/"
    },
    "id": "xjETwsZcDYu1",
    "outputId": "7b39b6e9-db51-4f57-a6ae-235ca88a3d4e"
   },
   "outputs": [],
   "source": [
    "print(\"Classifier accuracy percent:\",(nltk.classify.accuracy(classifier4, testing_set))*100)"
   ]
  },
  {
   "cell_type": "markdown",
   "metadata": {
    "id": "ZatWickcT65h"
   },
   "source": [
    "#### Random Forest\n"
   ]
  },
  {
   "cell_type": "code",
   "execution_count": null,
   "metadata": {
    "colab": {
     "base_uri": "https://localhost:8080/"
    },
    "id": "Eg6wWXnHFhJF",
    "outputId": "09eafd1a-d286-446d-91bb-1b5dfaef9192"
   },
   "outputs": [],
   "source": [
    "classifier5 = nltk.classify.SklearnClassifier(RandomForestClassifier())\n",
    "classifier5.train(training_set)"
   ]
  },
  {
   "cell_type": "code",
   "execution_count": null,
   "metadata": {
    "colab": {
     "base_uri": "https://localhost:8080/"
    },
    "id": "dIKDXL73FsnY",
    "outputId": "8f03e306-ad6c-4ded-c503-9d8f7c737144"
   },
   "outputs": [],
   "source": [
    "print(\"Classifier accuracy percent:\",(nltk.classify.accuracy(classifier5, testing_set))*100)"
   ]
  },
  {
   "cell_type": "markdown",
   "metadata": {
    "id": "zQkS1JWaUArb"
   },
   "source": [
    "#### Gradient Boosting"
   ]
  },
  {
   "cell_type": "code",
   "execution_count": null,
   "metadata": {
    "colab": {
     "base_uri": "https://localhost:8080/"
    },
    "id": "2BjlbcUYGoNv",
    "outputId": "ebdbfdeb-ba0b-48cd-fc1a-fa8259632899"
   },
   "outputs": [],
   "source": [
    "classifier6 = nltk.classify.SklearnClassifier(GradientBoostingClassifier())\n",
    "classifier6.train(training_set)"
   ]
  },
  {
   "cell_type": "code",
   "execution_count": null,
   "metadata": {
    "colab": {
     "base_uri": "https://localhost:8080/"
    },
    "id": "u6GiKbRkG6cn",
    "outputId": "b03142ca-ff10-4c77-c469-82139c12888c"
   },
   "outputs": [],
   "source": [
    "print(\"Classifier accuracy percent:\",(nltk.classify.accuracy(classifier6, testing_set))*100)"
   ]
  },
  {
   "cell_type": "markdown",
   "metadata": {
    "id": "6aKmjjpkER4h"
   },
   "source": [
    "### Melatih Model dengan Sklearn dan Vektorisasi"
   ]
  },
  {
   "cell_type": "code",
   "execution_count": null,
   "metadata": {
    "id": "AWp8AKWFZF78"
   },
   "outputs": [],
   "source": [
    "#Pengolahan data\n",
    "import pandas as pd\n",
    "import numpy as np\n",
    "\n",
    "from sklearn.ensemble import RandomForestClassifier\n",
    "from sklearn.linear_model import RidgeClassifier ,LogisticRegression, Ridge\n",
    "from sklearn.naive_bayes import GaussianNB\n",
    "from sklearn.tree import DecisionTreeClassifier\n",
    "from sklearn.neighbors import KNeighborsClassifier\n",
    "from sklearn.svm import SVC, LinearSVC\n",
    "from sklearn.ensemble import VotingClassifier, StackingClassifier, RandomForestClassifier, AdaBoostClassifier\n",
    "from xgboost import XGBClassifier\n",
    "from sklearn.preprocessing import MinMaxScaler\n",
    "from lightgbm import LGBMClassifier\n",
    "\n",
    "import joblib\n",
    "from sklearn.model_selection import RandomizedSearchCV\n",
    "from sklearn.model_selection import GridSearchCV, KFold, cross_validate, LeaveOneOut\n",
    "from sklearn.metrics import confusion_matrix,f1_score,log_loss,roc_curve,recall_score,precision_recall_curve,precision_score,fbeta_score,auc, roc_auc_score, accuracy_score, classification_report, ConfusionMatrixDisplay, RocCurveDisplay\n",
    "from sklearn.feature_selection import RFE, SelectKBest, SelectPercentile, chi2, SelectFromModel\n",
    "from sklearn.decomposition import PCA\n",
    "\n",
    "#Visualization\n",
    "import matplotlib.pyplot as plt\n",
    "import seaborn as sns"
   ]
  },
  {
   "cell_type": "code",
   "execution_count": null,
   "metadata": {
    "id": "fneB1ERJ9Hq7"
   },
   "outputs": [],
   "source": [
    "def cleanText(text):\n",
    "  regex = re.compile('[' + re.escape(string.punctuation) + '0-9\\\\r\\\\t\\\\n]')\n",
    "  text = regex.sub(\" \", text.lower())\n",
    "  return text"
   ]
  },
  {
   "cell_type": "code",
   "execution_count": null,
   "metadata": {
    "id": "zsPcKz4AK8_V"
   },
   "outputs": [],
   "source": [
    "def get_cltext2(document):\n",
    "    words = tokenize(document)\n",
    "    words = cleanTweet(words,exclude_re)\n",
    "    words = [lemmatizer.lemmatize(w) for w in words]\n",
    "    pos = [postagger.get_pos_tag(w)[0] for w in words if len(postagger.get_pos_tag(w))>0]\n",
    "    allowed_word_types = [\"ADV\",\"JJ\",\"ADJP\",\"VB\"]\n",
    "    allowed_words=[w[0] for w in pos if w[1] in allowed_word_types]\n",
    "    cltext = ' '.join(allowed_words)\n",
    "    return cltext"
   ]
  },
  {
   "cell_type": "code",
   "execution_count": null,
   "metadata": {
    "id": "RPhxpUmDyydg"
   },
   "outputs": [],
   "source": [
    "def get_cltext(document):\n",
    "    words = tokenize(document)\n",
    "    words = cleanTweet(words,exclude_re)\n",
    "    words = [lemmatizer.lemmatize(w) for w in words]\n",
    "    cltext = ' '.join(words)\n",
    "    return cltext"
   ]
  },
  {
   "cell_type": "code",
   "execution_count": null,
   "metadata": {
    "id": "jm27FaIoAJbj"
   },
   "outputs": [],
   "source": [
    "#Melatih Model k-NN\n",
    "x_train = [];\n",
    "y_train = [];\n",
    "for (rev, category) in document[:trainsize]:\n",
    "  #text = cleanText(rev)\n",
    "  text = get_cltext(rev)\n",
    "  #lmz_train = lemmatizer.lemmatize(text);\n",
    "  x_train.append(text);\n",
    "  y_train.append(category);"
   ]
  },
  {
   "cell_type": "code",
   "execution_count": null,
   "metadata": {
    "id": "M-X7iTo0ssbb"
   },
   "outputs": [],
   "source": [
    "def set_numeric_label(y):\n",
    "  dfy = pd.DataFrame(y)\n",
    "  nmy = dfy.replace(['negative','positive'],[0,1])\n",
    "  return nmy[0].values.tolist()"
   ]
  },
  {
   "cell_type": "code",
   "execution_count": null,
   "metadata": {
    "id": "ie8jqDRhtyV8"
   },
   "outputs": [],
   "source": [
    "y_train = set_numeric_label(y_train)"
   ]
  },
  {
   "cell_type": "code",
   "execution_count": null,
   "metadata": {
    "colab": {
     "base_uri": "https://localhost:8080/"
    },
    "id": "YjqiTx2kBKjB",
    "outputId": "07148cb3-b0c3-4b02-f172-f1d97cfbcdac"
   },
   "outputs": [],
   "source": [
    "print(y_train[:100])"
   ]
  },
  {
   "cell_type": "code",
   "execution_count": null,
   "metadata": {
    "id": "rwPjkwLUBSkS"
   },
   "outputs": [],
   "source": [
    "from sklearn.feature_extraction.text import CountVectorizer\n",
    "bow_vectorizer = CountVectorizer(max_features=50000, stop_words=set(stop))"
   ]
  },
  {
   "cell_type": "code",
   "execution_count": null,
   "metadata": {
    "colab": {
     "base_uri": "https://localhost:8080/"
    },
    "id": "2xRuVyvRBsyG",
    "outputId": "b8f6d507-1452-4d1d-ffdf-b0603429ec68"
   },
   "outputs": [],
   "source": [
    "bowVect = bow_vectorizer.fit(x_train)"
   ]
  },
  {
   "cell_type": "code",
   "execution_count": null,
   "metadata": {
    "id": "JJe_zEAzHcbS"
   },
   "outputs": [],
   "source": [
    "bowTrain = bowVect.transform(x_train)"
   ]
  },
  {
   "cell_type": "code",
   "execution_count": null,
   "metadata": {
    "colab": {
     "base_uri": "https://localhost:8080/"
    },
    "id": "nZuy77t16wWb",
    "outputId": "f661439f-42b7-4d20-da0a-e25674004560"
   },
   "outputs": [],
   "source": [
    "feat = bow_vectorizer.get_feature_names()\n",
    "feat"
   ]
  },
  {
   "cell_type": "code",
   "execution_count": null,
   "metadata": {
    "id": "5kdFH5AHa_XK"
   },
   "outputs": [],
   "source": [
    "x_test=[]\n",
    "for (rev, category) in document[trainsize:]:\n",
    "  text = get_cltext(rev)\n",
    "  lmz_test = lemmatizer.lemmatize(text);\n",
    "  x_test.append(lmz_test);"
   ]
  },
  {
   "cell_type": "code",
   "execution_count": null,
   "metadata": {
    "id": "0bKWvHMfbBMv"
   },
   "outputs": [],
   "source": [
    "bowTest = bowVect.transform(x_test)"
   ]
  },
  {
   "cell_type": "code",
   "execution_count": null,
   "metadata": {
    "id": "Pwg_TBgyfNau"
   },
   "outputs": [],
   "source": [
    "# Nilai label dari data test\n",
    "y_act=[]\n",
    "for (rev, category) in document[trainsize:]:\n",
    "  y_act.append(category)\n",
    "\n",
    "y_act = set_numeric_label(y_act)"
   ]
  },
  {
   "cell_type": "code",
   "execution_count": null,
   "metadata": {
    "id": "14civyCed63G"
   },
   "outputs": [],
   "source": [
    "#Mendefinisikan fungsi untuk menghitung metrik evaluasi kinerja model\n",
    "def calculateMetric(lspred, y_test):\n",
    "  lsres = []\n",
    "  for prd in lspred:\n",
    "    acc = accuracy_score(y_test, prd[1], normalize = True)\n",
    "    prs = precision_score(y_test, prd[1], pos_label=1, average='binary')\n",
    "    rcl =recall_score(y_test, prd[1], pos_label=1, average='binary')\n",
    "    f1 = f1_score(y_test, prd[1], pos_label=1, average='binary')\n",
    "    auc = roc_auc_score(y_test, prd[1])\n",
    "    lsres.append([prd[0],acc,prs,rcl,f1,auc])\n",
    "  return lsres"
   ]
  },
  {
   "cell_type": "markdown",
   "metadata": {
    "id": "U2TKeOlNZzz_"
   },
   "source": [
    "##### K Nearest Neighbor"
   ]
  },
  {
   "cell_type": "code",
   "execution_count": null,
   "metadata": {
    "colab": {
     "base_uri": "https://localhost:8080/"
    },
    "id": "VRAehuQTH7Wv",
    "outputId": "8bddeeb9-e726-44a5-a06d-cd300ded7f61"
   },
   "outputs": [],
   "source": [
    "knn = KNeighborsClassifier(n_neighbors = 3)\n",
    "knn.fit(bowTrain, y_train )"
   ]
  },
  {
   "cell_type": "code",
   "execution_count": null,
   "metadata": {
    "id": "oHT9B_oGM-oS"
   },
   "outputs": [],
   "source": [
    "knpred = knn.predict(bowTest)"
   ]
  },
  {
   "cell_type": "code",
   "execution_count": null,
   "metadata": {
    "id": "3thJB5ubJevQ"
   },
   "outputs": [],
   "source": [
    "from sklearn.metrics import classification_report"
   ]
  },
  {
   "cell_type": "code",
   "execution_count": null,
   "metadata": {
    "id": "CyBw4az-NNC1"
   },
   "outputs": [],
   "source": [
    "target_names = [1, 0]"
   ]
  },
  {
   "cell_type": "code",
   "execution_count": null,
   "metadata": {
    "colab": {
     "base_uri": "https://localhost:8080/"
    },
    "id": "c3B7dLJANUP2",
    "outputId": "6cc23a9c-f9c0-4441-a33c-d8d9789f6a2b"
   },
   "outputs": [],
   "source": [
    "print(classification_report(y_act, knpred))"
   ]
  },
  {
   "cell_type": "markdown",
   "metadata": {
    "id": "pr2qtmHjZvG2"
   },
   "source": [
    "##### Decision Tree"
   ]
  },
  {
   "cell_type": "code",
   "execution_count": null,
   "metadata": {
    "id": "2zml3IFe4Dyx"
   },
   "outputs": [],
   "source": [
    "dtree = DecisionTreeClassifier()\n",
    "\n",
    "dtclf = dtree.fit(bowTrain, y_train) \n",
    "dtpred = dtclf.predict(bowTest)\n"
   ]
  },
  {
   "cell_type": "code",
   "execution_count": null,
   "metadata": {
    "colab": {
     "base_uri": "https://localhost:8080/"
    },
    "id": "98xgkztS4NzQ",
    "outputId": "5aeefab9-766b-477c-f9f2-c1e47c9d5613"
   },
   "outputs": [],
   "source": [
    "print(\"Decission Tree accuracy : \",accuracy_score(y_act, dtpred, normalize = True))"
   ]
  },
  {
   "cell_type": "markdown",
   "metadata": {
    "id": "WgdUIDUzcK0o"
   },
   "source": [
    "##### Logistic Regression"
   ]
  },
  {
   "cell_type": "code",
   "execution_count": null,
   "metadata": {
    "id": "9ncVcwFYcR1j"
   },
   "outputs": [],
   "source": [
    "lr = LogisticRegression()\n",
    "lrclf = lr.fit(bowTrain, y_train)\n",
    "lrpred = lrclf.predict(bowTest)"
   ]
  },
  {
   "cell_type": "code",
   "execution_count": null,
   "metadata": {
    "colab": {
     "base_uri": "https://localhost:8080/"
    },
    "id": "A8R8buygdUrO",
    "outputId": "74c08e4f-b040-4817-fefc-b5d1d97481ea"
   },
   "outputs": [],
   "source": [
    "print(\"Logistic regression accuracy : \",accuracy_score(y_act, lrpred, normalize = True))"
   ]
  },
  {
   "cell_type": "markdown",
   "metadata": {
    "id": "6UiuvVMlaFI1"
   },
   "source": [
    "##### Naive Bayes"
   ]
  },
  {
   "cell_type": "code",
   "execution_count": null,
   "metadata": {
    "colab": {
     "base_uri": "https://localhost:8080/"
    },
    "id": "wezvKtjR5DR9",
    "outputId": "0300658d-8436-4a69-ce65-38d70f4331f4"
   },
   "outputs": [],
   "source": [
    "gnb = GaussianNB()\n",
    "# latih classifier dengan data train dan lakukan prediksi\n",
    "nbclf = gnb.fit(bowTrain.toarray(), y_train) \n",
    "nbpred = nbclf.predict(bowTest.toarray())\n",
    "print(\"Naive-Bayes accuracy : \",accuracy_score(y_act, nbpred, normalize = True))"
   ]
  },
  {
   "cell_type": "markdown",
   "metadata": {
    "id": "Dw6I7K5qaMuH"
   },
   "source": [
    "##### Random Forest"
   ]
  },
  {
   "cell_type": "code",
   "execution_count": null,
   "metadata": {
    "colab": {
     "base_uri": "https://localhost:8080/"
    },
    "id": "WbEcVrCQSBfI",
    "outputId": "015e7ac7-7f03-4943-a0c3-e10b26373414"
   },
   "outputs": [],
   "source": [
    "# Random Forest\n",
    "rf = RandomForestClassifier(n_estimators=1000,max_depth=100,random_state=1, n_jobs=-1)\n",
    "rfclf = rf.fit(bowTrain.toarray(), y_train)\n",
    "rf_pred = rfclf.predict(bowTest.toarray())\n",
    "print(\"random forest accuracy : \",accuracy_score(y_act, rf_pred, normalize = True))"
   ]
  },
  {
   "cell_type": "code",
   "execution_count": null,
   "metadata": {
    "colab": {
     "base_uri": "https://localhost:8080/"
    },
    "id": "d9tc-a5bZ7B6",
    "outputId": "d3a39154-7b27-4201-fdaf-ca7135c4277f"
   },
   "outputs": [],
   "source": [
    "print(classification_report(y_act, rf_pred))"
   ]
  },
  {
   "cell_type": "markdown",
   "metadata": {
    "id": "vOnQlt9laWtR"
   },
   "source": [
    "##### LGBM"
   ]
  },
  {
   "cell_type": "code",
   "execution_count": null,
   "metadata": {
    "id": "NaKlAFwybCwd"
   },
   "outputs": [],
   "source": [
    "#LGBMBoost\n",
    "lgb = LGBMClassifier()\n",
    "\n",
    "lgbclf = lgb.fit(bowTrain.toarray(), y_train) \n",
    "lgb_pred = lgbclf.predict(bowTest.toarray())"
   ]
  },
  {
   "cell_type": "code",
   "execution_count": null,
   "metadata": {
    "colab": {
     "base_uri": "https://localhost:8080/"
    },
    "id": "cyGrp77qberL",
    "outputId": "8bc0196c-6476-4f19-c00e-4ef427b22b7d"
   },
   "outputs": [],
   "source": [
    "print(classification_report(y_act, lgb_pred))"
   ]
  },
  {
   "cell_type": "markdown",
   "metadata": {
    "id": "gftAqNXEaeZ-"
   },
   "source": [
    "##### XGBoost"
   ]
  },
  {
   "cell_type": "code",
   "execution_count": null,
   "metadata": {
    "id": "qCYQy-VFbvZs"
   },
   "outputs": [],
   "source": [
    "#XGBoost\n",
    "xgb = XGBClassifier()\n",
    "\n",
    "xgbclf = xgb.fit(bowTrain, y_train) \n",
    "xgb_pred = xgbclf.predict(bowTest)"
   ]
  },
  {
   "cell_type": "code",
   "execution_count": null,
   "metadata": {
    "colab": {
     "base_uri": "https://localhost:8080/"
    },
    "id": "PDaxqCsgcTxD",
    "outputId": "701790d7-8d4a-4e6f-bd37-7fdadc0395b9"
   },
   "outputs": [],
   "source": [
    "print(classification_report(y_act, xgb_pred))"
   ]
  },
  {
   "cell_type": "markdown",
   "metadata": {
    "id": "nqZfWeVTajwY"
   },
   "source": [
    "##### AdaBoost"
   ]
  },
  {
   "cell_type": "code",
   "execution_count": null,
   "metadata": {
    "id": "J1vM2QsF2eNs"
   },
   "outputs": [],
   "source": [
    "#AdaBoost\n",
    "ada = AdaBoostClassifier(n_estimators=10, random_state=1)\n",
    "adaclf = ada.fit(bowTrain, y_train)\n",
    "ada_pred = adaclf.predict(bowTest)"
   ]
  },
  {
   "cell_type": "code",
   "execution_count": null,
   "metadata": {
    "colab": {
     "base_uri": "https://localhost:8080/"
    },
    "id": "jef_gMpG2vlK",
    "outputId": "b2a6ee8e-ca2d-4e6a-b42f-17ffec2b18b5"
   },
   "outputs": [],
   "source": [
    "print(classification_report(y_act, ada_pred))"
   ]
  },
  {
   "cell_type": "markdown",
   "metadata": {
    "id": "iuIqE5Msapu2"
   },
   "source": [
    "##### Stacking - Voting Classifier"
   ]
  },
  {
   "cell_type": "code",
   "execution_count": null,
   "metadata": {
    "id": "apKli84y3rIE"
   },
   "outputs": [],
   "source": [
    "models = [\n",
    "    ('knn', knn),\n",
    "    ('lr', lr),\n",
    "    ('ada', ada),\n",
    "    ('rf', rf)]\n",
    "\n",
    "model_voting = VotingClassifier(estimators=models, n_jobs=-1)\n",
    "model_voting.fit(bowTrain.toarray(), y_train)\n",
    "vot_pred = model_voting.predict(bowTest.toarray())"
   ]
  },
  {
   "cell_type": "code",
   "execution_count": null,
   "metadata": {
    "colab": {
     "base_uri": "https://localhost:8080/"
    },
    "id": "Gyr9KNqK4UqR",
    "outputId": "04d4aad1-db1c-47aa-c9b1-b5b49f1ccb92"
   },
   "outputs": [],
   "source": [
    "print(classification_report(y_act, vot_pred))"
   ]
  },
  {
   "cell_type": "markdown",
   "metadata": {
    "id": "uJZp_Gijefpw"
   },
   "source": [
    "### Evaluasi Kinerja Model"
   ]
  },
  {
   "cell_type": "markdown",
   "metadata": {
    "id": "NTN1WPELei3G"
   },
   "source": [
    "#### Hold Out"
   ]
  },
  {
   "cell_type": "code",
   "execution_count": null,
   "metadata": {
    "colab": {
     "base_uri": "https://localhost:8080/",
     "height": 300
    },
    "id": "2SzmgEsUemQJ",
    "outputId": "2caf1f7d-5e32-441c-afa3-73364ed48fbb"
   },
   "outputs": [],
   "source": [
    "#menjalankan evaluasi model\n",
    "lspred = []\n",
    "lspred.append(['knn',knpred])\n",
    "lspred.append(['dt',dtpred])\n",
    "lspred.append(['lr',lrpred])\n",
    "lspred.append(['rf',rf_pred])\n",
    "lspred.append(['lgbm',lgb_pred])\n",
    "lspred.append(['xgb',xgb_pred])\n",
    "lspred.append(['adaboost',ada_pred])\n",
    "lspred.append(['vot',vot_pred])\n",
    "\n",
    "dfeval = pd.DataFrame(calculateMetric(lspred, y_act), columns=['Classifier','Accuracy','Precision','Recall','F1-Score', 'AUC Score'])\n",
    "dfeval.sort_values(['F1-Score'], ascending=False)"
   ]
  },
  {
   "cell_type": "markdown",
   "metadata": {
    "id": "IX6IQ5Prh4cz"
   },
   "source": [
    "#### Cross Validation\n"
   ]
  },
  {
   "cell_type": "code",
   "execution_count": null,
   "metadata": {
    "id": "EDofeitgh-j_"
   },
   "outputs": [],
   "source": [
    "x_cvtrain = [];\n",
    "y_cvtrain = [];\n",
    "for (rev, category) in document:\n",
    "  #text = cleanText(rev)\n",
    "  text = get_cltext(rev)\n",
    "  #lmz_train = lemmatizer.lemmatize(text);\n",
    "  x_cvtrain.append(text);\n",
    "  y_cvtrain.append(category);"
   ]
  },
  {
   "cell_type": "code",
   "execution_count": null,
   "metadata": {
    "id": "hVd4YjGtiZSv"
   },
   "outputs": [],
   "source": [
    "bow_cvtrain = bowVect.transform(x_cvtrain)"
   ]
  },
  {
   "cell_type": "code",
   "execution_count": null,
   "metadata": {
    "id": "eackWOWfm3Ij"
   },
   "outputs": [],
   "source": [
    "#Mendefinisikan fungsi untuk membandingkan hasil cross validation dari setiap classifier\n",
    "def recCrossval(lsclf, xtrain, ytrain, k):\n",
    "  lsCvResult = []\n",
    "  for clf in lsclf:\n",
    "    cvreport = cross_validate(clf[1], xtrain, ytrain, scoring=['accuracy','precision_macro','recall_macro','f1_macro'], cv=k,n_jobs= -1, return_train_score= True)\n",
    "    lsCvResult.append([clf[0],np.average(cvreport['fit_time']),np.average(cvreport['test_accuracy']),np.average(cvreport['test_precision_macro']),np.average(cvreport['test_recall_macro']),np.average(cvreport['test_f1_macro'])])\n",
    "  return lsCvResult"
   ]
  },
  {
   "cell_type": "code",
   "execution_count": null,
   "metadata": {
    "colab": {
     "base_uri": "https://localhost:8080/",
     "height": 175
    },
    "id": "jd5gGDPjnDBb",
    "outputId": "b69506f4-0edd-467f-a9c2-fed597b224d4"
   },
   "outputs": [],
   "source": [
    "res = recCrossval(models,bow_cvtrain, y_cvtrain, 5)\n",
    "dfcvresult = pd.DataFrame(res, columns=['classifier','avg fit time','avg accuracy','avg precision macro','avg recall macro','avg f1 macro'])\n",
    "dfcvresult.sort_values(['avg f1 macro'], ascending=False)"
   ]
  },
  {
   "cell_type": "markdown",
   "metadata": {
    "id": "TbFtKkwBZbYe"
   },
   "source": [
    "### Model Goodfitness\n",
    "* Overfitting : Hal ini terjadi ketika model bekerja sangat baik dengan data-train namun memiliki performa kurang baik saat diberikan data-validation dan data-test, biasanya disebabkan karena model terlalu kompleks sehingga menangkap setiap data noise yang ada (Bias yang rendah dan Variance yang tinggi)\n",
    "\n",
    "* Underfitting : Hal ini terjadi ketika model tidak dapat menangkap pola yang kompleks pada data sehingga memiliki performa yang buruk saat train , test , dan validation. Biasanya terjadi pada model yang cenderung sederhana. (Bias yang tinggi dan Variance yang rendah)."
   ]
  },
  {
   "cell_type": "markdown",
   "metadata": {
    "id": "0wuVCkhKZrWm"
   },
   "source": [
    "#### Kompleksitas Model"
   ]
  },
  {
   "cell_type": "code",
   "execution_count": null,
   "metadata": {
    "colab": {
     "base_uri": "https://localhost:8080/",
     "height": 312
    },
    "id": "bmY1elkKZxdU",
    "outputId": "f1b57eaf-d241-4a9b-f455-858e12d5b3cd"
   },
   "outputs": [],
   "source": [
    "p = list(range(1, 10))\n",
    "lst_test =[]\n",
    "lst_train =[]\n",
    "for i in p:\n",
    "    knn = KNeighborsClassifier(n_neighbors = i)\n",
    "    knn.fit(bowTrain, y_train)\n",
    "    z = knn.score(bowTest, y_act)\n",
    "    t = knn.score(bowTrain, y_train)\n",
    "    lst_test.append(z)\n",
    "    lst_train.append(t)\n",
    "      \n",
    "plt.plot(p, lst_test, color ='red', label ='Test Accuracy')\n",
    "plt.plot(p, lst_train, color ='b', label ='Train Accuracy')\n",
    "plt.xlabel('K VALUES --->')\n",
    "plt.title('FINDING BEST VALUE FOR K')\n",
    "plt.legend()"
   ]
  },
  {
   "cell_type": "markdown",
   "metadata": {
    "id": "LUr5yKGgaIsj"
   },
   "source": [
    "#### Model Tunning"
   ]
  },
  {
   "cell_type": "markdown",
   "metadata": {
    "id": "jfOzswAMhVJd"
   },
   "source": [
    "##### Feature Reduction"
   ]
  },
  {
   "cell_type": "markdown",
   "metadata": {
    "id": "pXeYynAbpG_u"
   },
   "source": [
    "###### Select From Model"
   ]
  },
  {
   "cell_type": "code",
   "execution_count": null,
   "metadata": {
    "colab": {
     "base_uri": "https://localhost:8080/"
    },
    "id": "gtJkLKEkSldq",
    "outputId": "d1abd7c0-6f9f-4772-bcf7-f5b1f7ca51da"
   },
   "outputs": [],
   "source": [
    "feature_select = SelectFromModel(lr, prefit=True)\n",
    "x_mdltrain = feature_select.transform(bow_cvtrain)\n",
    "x_mdltrain.shape"
   ]
  },
  {
   "cell_type": "code",
   "execution_count": null,
   "metadata": {
    "id": "mVA7aA02lN-s"
   },
   "outputs": [],
   "source": [
    "mask = feature_select.get_support()\n",
    "mdlfeat = []\n",
    "for bool, feature in zip(mask, bowVect.get_feature_names()):\n",
    "    if bool :\n",
    "        mdlfeat.append(feature)"
   ]
  },
  {
   "cell_type": "code",
   "execution_count": null,
   "metadata": {
    "colab": {
     "base_uri": "https://localhost:8080/",
     "height": 317
    },
    "id": "DvikEH1Yl55K",
    "outputId": "f0fc7a54-4315-4e9f-a4d9-263322af7985"
   },
   "outputs": [],
   "source": [
    "# Coba data baru\n",
    "score_dt = cross_validate(lr, x_mdltrain, y_cvtrain, scoring='accuracy', cv=10, return_train_score= True)\n",
    "column = {'LR Train': score_dt['train_score'], 'LR Test': score_dt['test_score']}\n",
    "df = pd.DataFrame(data=column)\n",
    "plot = sns.boxplot(data = df, linewidth=2.5)\n",
    "df.mean()"
   ]
  },
  {
   "cell_type": "markdown",
   "metadata": {
    "id": "COq-oI7Tqi7I"
   },
   "source": [
    "##### Hyper Parameter Tuning"
   ]
  },
  {
   "cell_type": "code",
   "execution_count": null,
   "metadata": {
    "id": "Vhk2xWO0qyJx"
   },
   "outputs": [],
   "source": [
    "# Mendefinisikan fungsi untuk melakukan tunning dengan Grid Search Cross Validation\n",
    "def tuning( x , y , model , params , cv=10 ,verbose=10 ):\n",
    "    clf = GridSearchCV(estimator= model,\n",
    "                       param_grid= params,\n",
    "                       scoring= 'f1_macro',\n",
    "                       cv= cv,                         \n",
    "                       verbose= verbose, return_train_score=True,\n",
    "                       n_jobs= -1)\n",
    "    \n",
    "    clf.fit( x , y )\n",
    "    return clf.best_params_ , clf.best_score_, clf.cv_results_"
   ]
  },
  {
   "cell_type": "code",
   "execution_count": null,
   "metadata": {
    "colab": {
     "base_uri": "https://localhost:8080/"
    },
    "id": "-dzpo6k6qELo",
    "outputId": "c205200f-b486-4dad-ed7a-41aa3af2e053"
   },
   "outputs": [],
   "source": [
    "# Tunning max depth\n",
    "# Mendefinisikan parameter untuk tunning\n",
    "params =  {\"max_depth\": range(1,100,2)}\n",
    "\n",
    "# Menemukan hyperparameters terbaik\n",
    "best_params , best_score, cv_result = tuning(bow_cvtrain,\n",
    "                                        y_cvtrain,\n",
    "                                        DecisionTreeClassifier(),\n",
    "                                        params,\n",
    "                                        cv=10,\n",
    "                                        verbose=2)\n",
    "\n",
    "\n",
    "print(\" Best Parameters:\",best_params,\"with score of:\",best_score)"
   ]
  },
  {
   "cell_type": "code",
   "execution_count": null,
   "metadata": {
    "colab": {
     "base_uri": "https://localhost:8080/",
     "height": 405
    },
    "id": "AIfJ27f1q57j",
    "outputId": "28a4c055-34ea-4052-83e8-3327e2d859c2"
   },
   "outputs": [],
   "source": [
    "result = cv_result\n",
    "grid_result = {\"params\":[d['max_depth'] for d in result['params']]}\n",
    "for key, value in result.items():\n",
    "    if key.find('split') >= 0 :\n",
    "        grid_result[key] = value\n",
    "    \n",
    "plt.figure(figsize=(16, 6))\n",
    "grids = pd.DataFrame(grid_result).melt(id_vars='params')\n",
    "grids['variable'] = grids.variable.str[7:-6]\n",
    "sns.boxplot(data=grids, x='params', y='value', hue='variable')"
   ]
  }
 ],
 "metadata": {
  "colab": {
   "collapsed_sections": [],
   "name": "SentimenAnalysis-Bhs-Genap22V1.ipynb",
   "provenance": []
  },
  "kernelspec": {
   "display_name": "Python 3 (ipykernel)",
   "language": "python",
   "name": "python3"
  },
  "language_info": {
   "codemirror_mode": {
    "name": "ipython",
    "version": 3
   },
   "file_extension": ".py",
   "mimetype": "text/x-python",
   "name": "python",
   "nbconvert_exporter": "python",
   "pygments_lexer": "ipython3",
   "version": "3.9.7"
  }
 },
 "nbformat": 4,
 "nbformat_minor": 1
}
