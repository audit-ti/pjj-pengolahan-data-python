{
  "nbformat": 4,
  "nbformat_minor": 0,
  "metadata": {
    "colab": {
      "name": "SentimenAnalysis-Bhs-Genap22V1.ipynb",
      "provenance": [],
      "collapsed_sections": []
    },
    "kernelspec": {
      "name": "python3",
      "display_name": "Python 3"
    },
    "language_info": {
      "name": "python"
    }
  },
  "cells": [
    {
      "cell_type": "markdown",
      "metadata": {
        "id": "gk4hlmX2X4qE"
      },
      "source": [
        "#Tutorial Sentiment Analysis\n",
        "Pengajar :\n",
        "1. Aris Budi Santoso\n",
        "2. Prabu Kresna Putra\n",
        "\n",
        "Tutorial ini merupakan panduan dalam melakukan sentiment analysis.\n",
        "\n",
        "Data yang digunakan dalam sesi praktikum ini merupakan data yang telah berlabel dalam format csv yang telah digunakan dalam penelitian yang dilakukan oleh Simanungkalit, Tiarma dalam Tugas Mata Kuliah Analitika Media Sosial dan Digital dengan Tema Sentimen Analisis atas Kebijakan PPKM pada Program MTI Universitas Indonesia."
      ]
    },
    {
      "cell_type": "markdown",
      "metadata": {
        "id": "crRW-m1YfX-z"
      },
      "source": [
        "## 1. Persiapan\n",
        "\n",
        "Install dan import library yang dibutuhkan"
      ]
    },
    {
      "cell_type": "markdown",
      "metadata": {
        "id": "4GLz-oKuiJog"
      },
      "source": [
        "### Install Library"
      ]
    },
    {
      "cell_type": "code",
      "metadata": {
        "colab": {
          "base_uri": "https://localhost:8080/"
        },
        "id": "oPNEoVNYgJ7v",
        "outputId": "81b5fcd9-32dc-4145-bb43-0f48064c7036"
      },
      "source": [
        "!pip install nlp-id"
      ],
      "execution_count": null,
      "outputs": [
        {
          "output_type": "stream",
          "name": "stdout",
          "text": [
            "Collecting nlp-id\n",
            "  Downloading nlp_id-0.1.12.0.tar.gz (7.9 MB)\n",
            "\u001b[K     |████████████████████████████████| 7.9 MB 5.1 MB/s \n",
            "\u001b[?25hCollecting scikit-learn==0.22\n",
            "  Downloading scikit_learn-0.22-cp37-cp37m-manylinux1_x86_64.whl (7.0 MB)\n",
            "\u001b[K     |████████████████████████████████| 7.0 MB 19.3 MB/s \n",
            "\u001b[?25hCollecting nltk==3.4.5\n",
            "  Downloading nltk-3.4.5.zip (1.5 MB)\n",
            "\u001b[K     |████████████████████████████████| 1.5 MB 37.4 MB/s \n",
            "\u001b[?25hCollecting wget==3.2\n",
            "  Downloading wget-3.2.zip (10 kB)\n",
            "Requirement already satisfied: six in /usr/local/lib/python3.7/dist-packages (from nltk==3.4.5->nlp-id) (1.15.0)\n",
            "Requirement already satisfied: scipy>=0.17.0 in /usr/local/lib/python3.7/dist-packages (from scikit-learn==0.22->nlp-id) (1.4.1)\n",
            "Requirement already satisfied: numpy>=1.11.0 in /usr/local/lib/python3.7/dist-packages (from scikit-learn==0.22->nlp-id) (1.21.5)\n",
            "Requirement already satisfied: joblib>=0.11 in /usr/local/lib/python3.7/dist-packages (from scikit-learn==0.22->nlp-id) (1.1.0)\n",
            "Building wheels for collected packages: nlp-id, nltk, wget\n",
            "  Building wheel for nlp-id (setup.py) ... \u001b[?25l\u001b[?25hdone\n",
            "  Created wheel for nlp-id: filename=nlp_id-0.1.12.0-py3-none-any.whl size=8074104 sha256=5dfa4376bbdaadb1ff644910d603722063abc65908e2e5839cbee49cd02a92f1\n",
            "  Stored in directory: /root/.cache/pip/wheels/b2/50/48/da59531125bd94f48dfe66140f41d8fd8a4f04062050375013\n",
            "  Building wheel for nltk (setup.py) ... \u001b[?25l\u001b[?25hdone\n",
            "  Created wheel for nltk: filename=nltk-3.4.5-py3-none-any.whl size=1449925 sha256=536993797d913dc3ee14d5262d9d4e4c7be93af850976f8ee1256aebc7e005b4\n",
            "  Stored in directory: /root/.cache/pip/wheels/48/8b/7f/473521e0c731c6566d631b281f323842bbda9bd819eb9a3ead\n",
            "  Building wheel for wget (setup.py) ... \u001b[?25l\u001b[?25hdone\n",
            "  Created wheel for wget: filename=wget-3.2-py3-none-any.whl size=9675 sha256=7dc145dbf0dd8e5a5af08bcec33c52833bf48cdd5a4b87f02b5ed5372356599b\n",
            "  Stored in directory: /root/.cache/pip/wheels/a1/b6/7c/0e63e34eb06634181c63adacca38b79ff8f35c37e3c13e3c02\n",
            "Successfully built nlp-id nltk wget\n",
            "Installing collected packages: wget, scikit-learn, nltk, nlp-id\n",
            "  Attempting uninstall: scikit-learn\n",
            "    Found existing installation: scikit-learn 1.0.2\n",
            "    Uninstalling scikit-learn-1.0.2:\n",
            "      Successfully uninstalled scikit-learn-1.0.2\n",
            "  Attempting uninstall: nltk\n",
            "    Found existing installation: nltk 3.2.5\n",
            "    Uninstalling nltk-3.2.5:\n",
            "      Successfully uninstalled nltk-3.2.5\n",
            "\u001b[31mERROR: pip's dependency resolver does not currently take into account all the packages that are installed. This behaviour is the source of the following dependency conflicts.\n",
            "yellowbrick 1.4 requires scikit-learn>=1.0.0, but you have scikit-learn 0.22 which is incompatible.\n",
            "imbalanced-learn 0.8.1 requires scikit-learn>=0.24, but you have scikit-learn 0.22 which is incompatible.\u001b[0m\n",
            "Successfully installed nlp-id-0.1.12.0 nltk-3.4.5 scikit-learn-0.22 wget-3.2\n"
          ]
        }
      ]
    },
    {
      "cell_type": "code",
      "metadata": {
        "colab": {
          "base_uri": "https://localhost:8080/"
        },
        "id": "lGuQge4slDfX",
        "outputId": "f817c207-e710-4416-fb5e-b5bb6779899f"
      },
      "source": [
        "!pip install emoji"
      ],
      "execution_count": null,
      "outputs": [
        {
          "output_type": "stream",
          "name": "stdout",
          "text": [
            "Collecting emoji\n",
            "  Downloading emoji-1.7.0.tar.gz (175 kB)\n",
            "\u001b[?25l\r\u001b[K     |█▉                              | 10 kB 19.8 MB/s eta 0:00:01\r\u001b[K     |███▊                            | 20 kB 8.2 MB/s eta 0:00:01\r\u001b[K     |█████▋                          | 30 kB 9.5 MB/s eta 0:00:01\r\u001b[K     |███████▌                        | 40 kB 4.3 MB/s eta 0:00:01\r\u001b[K     |█████████▍                      | 51 kB 4.3 MB/s eta 0:00:01\r\u001b[K     |███████████▏                    | 61 kB 5.0 MB/s eta 0:00:01\r\u001b[K     |█████████████                   | 71 kB 4.8 MB/s eta 0:00:01\r\u001b[K     |███████████████                 | 81 kB 5.3 MB/s eta 0:00:01\r\u001b[K     |████████████████▉               | 92 kB 5.8 MB/s eta 0:00:01\r\u001b[K     |██████████████████▊             | 102 kB 3.7 MB/s eta 0:00:01\r\u001b[K     |████████████████████▌           | 112 kB 3.7 MB/s eta 0:00:01\r\u001b[K     |██████████████████████▍         | 122 kB 3.7 MB/s eta 0:00:01\r\u001b[K     |████████████████████████▎       | 133 kB 3.7 MB/s eta 0:00:01\r\u001b[K     |██████████████████████████▏     | 143 kB 3.7 MB/s eta 0:00:01\r\u001b[K     |████████████████████████████    | 153 kB 3.7 MB/s eta 0:00:01\r\u001b[K     |█████████████████████████████▉  | 163 kB 3.7 MB/s eta 0:00:01\r\u001b[K     |███████████████████████████████▊| 174 kB 3.7 MB/s eta 0:00:01\r\u001b[K     |████████████████████████████████| 175 kB 3.7 MB/s \n",
            "\u001b[?25hBuilding wheels for collected packages: emoji\n",
            "  Building wheel for emoji (setup.py) ... \u001b[?25l\u001b[?25hdone\n",
            "  Created wheel for emoji: filename=emoji-1.7.0-py3-none-any.whl size=171046 sha256=06d61a490e738abeb372cd62abae75d5665d415967ad0857f44a6c6412b8cb67\n",
            "  Stored in directory: /root/.cache/pip/wheels/8a/4e/b6/57b01db010d17ef6ea9b40300af725ef3e210cb1acfb7ac8b6\n",
            "Successfully built emoji\n",
            "Installing collected packages: emoji\n",
            "Successfully installed emoji-1.7.0\n"
          ]
        }
      ]
    },
    {
      "cell_type": "markdown",
      "metadata": {
        "id": "cwjCU_9SicjQ"
      },
      "source": [
        "### Import Library"
      ]
    },
    {
      "cell_type": "code",
      "metadata": {
        "colab": {
          "base_uri": "https://localhost:8080/"
        },
        "id": "qMk9tfRNUSB3",
        "outputId": "90549e5b-5a88-4e20-f701-ce065c7d1c43"
      },
      "source": [
        "# Library untuk akses Google Drive dari Colabs\n",
        "from google.colab import drive\n",
        "drive.mount(\"/content/gdrive\")"
      ],
      "execution_count": null,
      "outputs": [
        {
          "output_type": "stream",
          "name": "stdout",
          "text": [
            "Mounted at /content/gdrive\n"
          ]
        }
      ]
    },
    {
      "cell_type": "code",
      "metadata": {
        "id": "8X5IyE8vlOpb",
        "colab": {
          "base_uri": "https://localhost:8080/"
        },
        "outputId": "25daf1ff-56b7-473f-c586-e43287d3ee41"
      },
      "source": [
        "# Library NLP\n",
        "import nltk\n",
        "from nltk.tokenize import word_tokenize\n",
        "from nltk.corpus import stopwords\n",
        "nltk.download('punkt')\n",
        "#nltk.download('stopwords')\n",
        "from nlp_id.stopword import StopWord\n",
        "from nlp_id.postag import PosTag\n",
        "from nlp_id.lemmatizer import Lemmatizer \n",
        "\n",
        "# Library Preprocessing\n",
        "import pandas as pd\n",
        "import re\n",
        "import csv\n",
        "import random\n",
        "import string\n",
        "import emoji\n",
        "import operator\n",
        "from sklearn.feature_extraction.text import CountVectorizer, TfidfTransformer\n",
        "\n",
        "# Library untuk Melatih dan Evaluasi Model\n",
        "from sklearn.model_selection import train_test_split\n",
        "from nltk.classify.scikitlearn import SklearnClassifier\n",
        "from sklearn.naive_bayes import MultinomialNB, BernoulliNB\n",
        "from sklearn.linear_model import LogisticRegression, SGDClassifier\n",
        "from sklearn.svm import SVC, LinearSVC, NuSVC\n",
        "from sklearn.tree import DecisionTreeClassifier\n",
        "from sklearn.ensemble import RandomForestClassifier\n",
        "from sklearn.ensemble import AdaBoostClassifier\n",
        "from sklearn.ensemble import GradientBoostingClassifier\n",
        "from nltk.classify import ClassifierI\n",
        "from statistics import mode\n",
        "import pickle"
      ],
      "execution_count": null,
      "outputs": [
        {
          "output_type": "stream",
          "name": "stderr",
          "text": [
            "[nltk_data] Downloading package punkt to /root/nltk_data...\n",
            "[nltk_data]   Unzipping tokenizers/punkt.zip.\n"
          ]
        }
      ]
    },
    {
      "cell_type": "code",
      "source": [
        "#Visualization\n",
        "import matplotlib.pyplot as plt\n",
        "import seaborn as sns"
      ],
      "metadata": {
        "id": "zHVMh8lYuVdb"
      },
      "execution_count": null,
      "outputs": []
    },
    {
      "cell_type": "markdown",
      "metadata": {
        "id": "pbq_Wpjbm29V"
      },
      "source": [
        "## Data Preprocessing"
      ]
    },
    {
      "cell_type": "markdown",
      "metadata": {
        "id": "2_jc9M5nm_aZ"
      },
      "source": [
        "### Load Data"
      ]
    },
    {
      "cell_type": "code",
      "source": [
        "import csv"
      ],
      "metadata": {
        "id": "Gdu5pMnUAYZE"
      },
      "execution_count": null,
      "outputs": []
    },
    {
      "cell_type": "code",
      "metadata": {
        "id": "gTWbIuVbqAX_"
      },
      "source": [
        "with open('/content/gdrive/My Drive/PRAKTIKUM_AMSD/dataset/dataset-sentimen.csv', 'r', encoding=\"utf8\") as nodecsv: # Buka file                       \n",
        "    csvreader = csv.reader(nodecsv) # membaca data\n",
        "    # Menyusun data dalam list dan menghilangkan header data\n",
        "    datacsv = [n for n in csvreader][1:]"
      ],
      "execution_count": null,
      "outputs": []
    },
    {
      "cell_type": "code",
      "metadata": {
        "colab": {
          "base_uri": "https://localhost:8080/"
        },
        "id": "jd8YKNdpqc8l",
        "outputId": "bc6f7d60-815c-446c-a9f9-7add466a14e0"
      },
      "source": [
        "print(datacsv[:10])"
      ],
      "execution_count": null,
      "outputs": [
        {
          "output_type": "stream",
          "name": "stdout",
          "text": [
            "[['1.47E+18', 'positive', 'Tue Nov 30 00:00:14 +0000 2021', '31', 'RT @HanifahAndini96: Jakarta blm bebas pandemi meski masuk kategori PPKM Level 1. Kondisi Natal n tahun baru 2022 serta penurunan level DKI…'], ['1.47E+18', 'positive', 'Tue Nov 30 00:01:39 +0000 2021', '0', 'Status PPKM DKI Jakarta Naik ke Level 2 https://t.co/VHC8wZewEr'], ['1.47E+18', 'negative', 'Tue Nov 30 00:01:40 +0000 2021', '0', 'Org² kaya lu nih yg bikin ppkm suka diperpanjang. Parno kebodohan pala Lo, liat berapa banyak org yg udah meninggal gara² nih virus. Kmrin² bukan perkara sepele njir. Vaksin gak ngejamin lo ga kena, bangga bgt Lo ngomong gini?? https://t.co/3ebS0mDThN https://t.co/YjWYcQhUXY'], ['1.47E+18', 'negative', 'Tue Nov 30 00:01:41 +0000 2021', '1549', 'RT @msaid_didu: Sangat lucu alasan mewajibkan PCR utk hambat mobilisasi. Wajibkan PCR jelas utk : 1) memaksa rakyat membeli produk pengusah…'], ['1.47E+18', 'positive', 'Tue Nov 30 00:02:34 +0000 2021', '7', 'RT @Bisniscom: Kasus Covid-19 Rendah, Ini Alasan Pemerintah Perpanjang PPKM Jawa-Bali sampai 13 Desember https://t.co/8gj27Z9KQe'], ['1.47E+18', 'positive', 'Tue Nov 30 00:03:25 +0000 2021', '15', 'RT @CNNIndonesia: Status PPKM DKI Jakarta Naik ke Level 2 https://t.co/WjEY1pp6rm'], ['1.47E+18', 'negative', 'Tue Nov 30 00:04:37 +0000 2021', '0', 'Kita??? Sorry gue mah pake ya. Pake masker udah jadi kebiasaan. Ya pantes aja kalau ppkm di indo ga habis² wong masyarakatnya aja gini. Gamau pake masker tapi gamau ppkm. Puncak komedi https://t.co/vxpdgSoJHb https://t.co/dRAzUNeF9m'], ['1.47E+18', 'negative', 'Tue Nov 30 00:05:28 +0000 2021', '0', '@cintarenjun Aduhh tapi bau bau ppkm'], ['1.47E+18', 'positive', 'Tue Nov 30 00:05:35 +0000 2021', '18', 'RT @kalla_jengking: Wagub DKI Jakarta Ahmad Riza Patria meminta PA 212 mempertimbangkan lagi rencana reuni 212 tersebut meski Jakarta sudah…'], ['1.47E+18', 'positive', 'Tue Nov 30 00:05:58 +0000 2021', '7', 'RT @Bisniscom: Kasus Covid-19 Rendah, Ini Alasan Pemerintah Perpanjang PPKM Jawa-Bali sampai 13 Desember https://t.co/8gj27Z9KQe']]\n"
          ]
        }
      ]
    },
    {
      "cell_type": "markdown",
      "metadata": {
        "id": "2oY616QunJu_"
      },
      "source": [
        "### Tokenisasi"
      ]
    },
    {
      "cell_type": "markdown",
      "metadata": {
        "id": "wOOhnJ20nYAI"
      },
      "source": [
        "#### Regex untuk tokenisasi"
      ]
    },
    {
      "cell_type": "code",
      "source": [
        "import re"
      ],
      "metadata": {
        "id": "R0-CNjFPBuvF"
      },
      "execution_count": null,
      "outputs": []
    },
    {
      "cell_type": "code",
      "metadata": {
        "id": "rUID60DQqstb"
      },
      "source": [
        "emoticons_str = r\"\"\"\n",
        "    (?:\n",
        "        [:=;] # Eyes\n",
        "        [oO\\-]? # Nose (optional)\n",
        "        [D\\)\\]\\(\\]/\\\\OpP] # Mouth\n",
        "    )\"\"\"\n",
        "regex_str = []\n",
        "regex_str.append(emoticons_str)\n",
        "regex_str.append(r'<[^>]+>')# HTML tags\n",
        "regex_str.append(r'(?:@[\\w_]+)')# @-mentions\n",
        "regex_str.append(r'(?:&[\\w_]+)')\n",
        "regex_str.append(r\"(?:\\#+[\\w_]+[\\w\\'_\\-]*[\\w_]+)\") # hash-tags\n",
        "regex_str.append(r'http[s]?://(?:[a-z]|[0-9]|[$-_@.&amp;+]|[!*\\(\\),]|(?:%[0-9a-f][0-9a-f]))+') # URLs\n",
        "regex_str.append(r'(?:(?:\\d+,?)+(?:\\.?\\d+)?)') # numbers\n",
        "regex_str.append(r\"(?:[a-z][a-z'\\-_]+[a-z])\") # words with - and '\n",
        "regex_str.append(r'(?:[\\w_]+)') # other words\n",
        "regex_str.append(r'(?:\\S)') # anything else\n",
        "\n",
        "tokens_re = re.compile(r'('+'|'.join(regex_str)+')', re.VERBOSE | re.IGNORECASE)\n",
        "emoticon_re = re.compile(r'^'+emoticons_str+'$', re.VERBOSE | re.IGNORECASE)"
      ],
      "execution_count": null,
      "outputs": []
    },
    {
      "cell_type": "code",
      "metadata": {
        "id": "fk2Z7i2KnsLY"
      },
      "source": [
        "def tokenize(s):\n",
        "    tokens = tokens_re.findall(s)\n",
        "    return tokens"
      ],
      "execution_count": null,
      "outputs": []
    },
    {
      "cell_type": "code",
      "metadata": {
        "colab": {
          "base_uri": "https://localhost:8080/"
        },
        "id": "BtnrqVqSoF_U",
        "outputId": "1e4bfb2a-384c-4ed3-bc60-14f0c6decf17"
      },
      "source": [
        "tokens = []\n",
        "for c in datacsv:\n",
        "    tokens.append(tokenize(c[4]))\n",
        "\n",
        "print(tokens[:5])"
      ],
      "execution_count": null,
      "outputs": [
        {
          "output_type": "stream",
          "name": "stdout",
          "text": [
            "[['RT', '@HanifahAndini96', ':', 'Jakarta', 'blm', 'bebas', 'pandemi', 'meski', 'masuk', 'kategori', 'PPKM', 'Level', '1', '.', 'Kondisi', 'Natal', 'n', 'tahun', 'baru', '2022', 'serta', 'penurunan', 'level', 'DKI', '…'], ['Status', 'PPKM', 'DKI', 'Jakarta', 'Naik', 'ke', 'Level', '2', 'https://t.co/VHC8wZewEr'], ['Org', '²', 'kaya', 'lu', 'nih', 'yg', 'bikin', 'ppkm', 'suka', 'diperpanjang', '.', 'Parno', 'kebodohan', 'pala', 'Lo', ',', 'liat', 'berapa', 'banyak', 'org', 'yg', 'udah', 'meninggal', 'gara', '²', 'nih', 'virus', '.', 'Kmrin', '²', 'bukan', 'perkara', 'sepele', 'njir', '.', 'Vaksin', 'gak', 'ngejamin', 'lo', 'ga', 'kena', ',', 'bangga', 'bgt', 'Lo', 'ngomong', 'gini', '?', '?', 'https://t.co/3ebS0mDThN', 'https://t.co/YjWYcQhUXY'], ['RT', '@msaid_didu', ':', 'Sangat', 'lucu', 'alasan', 'mewajibkan', 'PCR', 'utk', 'hambat', 'mobilisasi', '.', 'Wajibkan', 'PCR', 'jelas', 'utk', ':', '1', ')', 'memaksa', 'rakyat', 'membeli', 'produk', 'pengusah', '…'], ['RT', '@Bisniscom', ':', 'Kasus', 'Covid', '-', '19', 'Rendah', ',', 'Ini', 'Alasan', 'Pemerintah', 'Perpanjang', 'PPKM', 'Jawa-Bali', 'sampai', '13', 'Desember', 'https://t.co/8gj27Z9KQe']]\n"
          ]
        }
      ]
    },
    {
      "cell_type": "markdown",
      "metadata": {
        "id": "b_s9uahoneyv"
      },
      "source": [
        "#### Stop Word Removal"
      ]
    },
    {
      "cell_type": "code",
      "metadata": {
        "id": "QLPbP-o2xzHf"
      },
      "source": [
        "stopword = StopWord() "
      ],
      "execution_count": null,
      "outputs": []
    },
    {
      "cell_type": "code",
      "metadata": {
        "id": "iYQWhGLhxiXy"
      },
      "source": [
        "punctuation = list(string.punctuation)\n",
        "stop = stopword.get_stopword() + punctuation + ['rt', 'via', '…','•','“']"
      ],
      "execution_count": null,
      "outputs": []
    },
    {
      "cell_type": "code",
      "metadata": {
        "id": "2RVT_JKWn6er"
      },
      "source": [
        "# Fungsi untuk melakukan stop word removal\n",
        "def cleanTweet(token,regex):\n",
        "    terms_all = [emoji.demojize(term) for term in token if term.lower() not in stop and not regex.match(term)]\n",
        "    return terms_all"
      ],
      "execution_count": null,
      "outputs": []
    },
    {
      "cell_type": "code",
      "metadata": {
        "id": "8ScdIRJLaeg0"
      },
      "source": [
        "exclude_str = []\n",
        "exclude_str.append(emoticons_str)\n",
        "exclude_str.append(r'<[^>]+>')# HTML tags\n",
        "exclude_str.append(r'(?:@[\\w_]+)')# @-mentions\n",
        "exclude_str.append(r'(?:&[\\w_]+)')\n",
        "exclude_str.append(r\"(?:\\#+[\\w_]+[\\w\\'_\\-]*[\\w_]+)\") # hash-tags\n",
        "exclude_str.append(r'http[s]?://(?:[a-z]|[0-9]|[$-_@.&amp;+]|[!*\\(\\),]|(?:%[0-9a-f][0-9a-f]))+') # URLs\n",
        "exclude_str.append(r'(?:(?:\\d+,?)+(?:\\.?\\d+)?)') # numbers\n",
        "exclude_str.append(r'(\\b[a-zA-Z0-9]{2,3}\\b)') # numbers\n",
        "\n",
        "exclude_re = re.compile(r'('+'|'.join(exclude_str)+')', re.VERBOSE | re.IGNORECASE)"
      ],
      "execution_count": null,
      "outputs": []
    },
    {
      "cell_type": "code",
      "metadata": {
        "colab": {
          "base_uri": "https://localhost:8080/"
        },
        "id": "2ELLqXEIaitR",
        "outputId": "85a0498e-2a5b-4959-8401-35a2f98307ba"
      },
      "source": [
        "# Menghitung frekwensi kata\n",
        "all_word=[]\n",
        "from collections import Counter\n",
        "count_all = Counter()\n",
        "for token in tokens:\n",
        "    cleanToken = cleanTweet(token,exclude_re)\n",
        "    terms_all = [term.lower() for term in cleanToken]\n",
        "    count_all.update(terms_all)\n",
        "    for w in terms_all:\n",
        "        all_word.append(w)\n",
        "print(count_all.most_common(100))"
      ],
      "execution_count": null,
      "outputs": [
        {
          "output_type": "stream",
          "name": "stdout",
          "text": [
            "[('ppkm', 414), ('level', 139), ('covid', 101), ('dukung', 85), ('jalan', 82), ('keselamatan', 79), ('rangka', 70), ('kampanye', 66), ('subang', 64), ('pembagian', 60), ('giat', 58), ('prokes', 52), ('nggak', 51), ('pemerintah', 50), ('mendukung', 45), ('masker', 44), ('kebijakan', 39), ('pengguna', 35), ('vaksinasi', 33), ('masyarakat', 31), ('libur', 30), ('kalo', 29), ('pandemi', 28), ('otista', 28), ('setuju', 27), ('lonjakan', 26), ('penerapan', 24), ('lintas', 24), ('penanganan', 24), ('natal', 23), ('anak', 23), ('aturan', 23), ('desember', 22), ('menerapkan', 22), ('upaya', 22), ('penuh', 21), ('kasih', 21), ('k', 20), ('lawan', 20), (':loudly_crying_face:', 19), ('tertib', 18), ('sepeda', 18), ('motor', 18), ('bersatu', 18), ('menghalau', 18), ('helm', 17), ('indonesia', 17), ('tutup', 17), ('omicron', 17), ('seneng', 15), ('mencegah', 15), ('kebodohan', 14), ('nataru', 14), ('gila', 14), ('snack', 14), ('gratis', 14), ('dibonceng', 14), ('orang', 13), ('gelombang', 13), ('kesehatan', 12), ('hakim', 12), ('²', 11), ('diperpanjang', 11), ('daerah', 11), ('paket', 11), ('border', 11), ('perketat', 11), ('perbatasan', 11), ('tingkatkan', 11), ('teruslah', 11), ('smntr', 11), ('jakarta', 10), ('biar', 10), ('kegiatan', 10), ('sekolah', 10), ('arief', 10), ('rahman', 10), ('pertigaan', 10), ('pablo', 10), ('masuk', 9), ('kerja', 9), ('dukungan', 9), ('t', 9), ('herd', 9), ('vaksin', 8), ('aman', 8), (':face_with_tears_of_joy:', 8), ('ekonomi', 8), ('varian', 8), ('kesel', 8), ('bagus', 8), ('enggak', 8), ('liburan', 8), ('wisma', 8), ('karya', 8), ('perpanjangan', 8), ('', 7), ('melaksanakan', 7), ('pemberlakuan', 7), ('penyebaran', 7)]\n"
          ]
        }
      ]
    },
    {
      "cell_type": "code",
      "metadata": {
        "colab": {
          "base_uri": "https://localhost:8080/"
        },
        "id": "BKNahtLAgC_Y",
        "outputId": "b4af250f-a243-4fc8-ca28-771030a2de23"
      },
      "source": [
        "len(all_word)"
      ],
      "execution_count": null,
      "outputs": [
        {
          "output_type": "execute_result",
          "data": {
            "text/plain": [
              "4802"
            ]
          },
          "metadata": {},
          "execution_count": 22
        }
      ]
    },
    {
      "cell_type": "markdown",
      "metadata": {
        "id": "zhvk4H55qPc3"
      },
      "source": [
        "#### Lemmatisasi (Mengambil kata dasar)"
      ]
    },
    {
      "cell_type": "code",
      "metadata": {
        "id": "d3R1M8rSjAuA"
      },
      "source": [
        "lemmatizer = Lemmatizer()"
      ],
      "execution_count": null,
      "outputs": []
    },
    {
      "cell_type": "code",
      "metadata": {
        "id": "dferDa2yjQqM"
      },
      "source": [
        "all_stmword = [lemmatizer.lemmatize(w) for w in all_word]"
      ],
      "execution_count": null,
      "outputs": []
    },
    {
      "cell_type": "code",
      "metadata": {
        "colab": {
          "base_uri": "https://localhost:8080/"
        },
        "id": "MvwOEI9dkHgZ",
        "outputId": "2162ad1c-63af-4fbe-e3cd-aaadb0e1a4db"
      },
      "source": [
        "print(all_stmword[:100])"
      ],
      "execution_count": null,
      "outputs": [
        {
          "output_type": "stream",
          "name": "stdout",
          "text": [
            "['jakarta', 'bebas', 'pandemi', 'masuk', 'kategori', 'ppkm', 'level', 'kondisi', 'natal', 'n', 'turun', 'level', 'status', 'ppkm', 'jakarta', 'level', '', 'kaya', 'bikin', 'ppkm', 'suka', 'panjang', 'parno', 'bodoh', 'pala', 'liat', 'tinggal', 'gara', '', 'virus', 'kmrin', '', 'perkara', 'sepele', 'njir', 'vaksin', 'ngejamin', 'kena', 'bangga', 'ngomong', 'gin', 'lucu', 'alas', 'wajib', 'hambat', 'mobilisasi', 'wajib', 'paksa', 'rakyat', 'beli', 'produk', 'usah', 'covid', 'rendah', 'alas', 'perintah', 'panjang', 'ppkm', 'jawa-bali', 'desember', 'status', 'ppkm', 'jakarta', 'level', 'sorry', 'pake', 'pake', 'masker', 'biasa', 'pantes', 'ppkm', 'indo', 'habis', '', 'wong', 'masyarakat', 'gin', 'gamau', 'pake', 'masker', 'gamau', 'ppkm', 'puncak', 'komedi', 'aduhh', 'ppkm', 'wagub', 'jakarta', 'ahmad', 'riza', 'patria', 'timbang', 'rencana', 'reuni', 'jakarta', 'covid', 'rendah', 'alas', 'perintah', 'panjang']\n"
          ]
        }
      ]
    },
    {
      "cell_type": "code",
      "metadata": {
        "colab": {
          "base_uri": "https://localhost:8080/"
        },
        "id": "6sAi3U5QhRIX",
        "outputId": "6645df09-26fa-4937-afae-df2492c6ec45"
      },
      "source": [
        "print(lemmatizer.lemmatize('menyejukan'))"
      ],
      "execution_count": null,
      "outputs": [
        {
          "output_type": "stream",
          "name": "stdout",
          "text": [
            "sejuk\n"
          ]
        }
      ]
    },
    {
      "cell_type": "code",
      "metadata": {
        "colab": {
          "base_uri": "https://localhost:8080/"
        },
        "id": "e0zrxAiSRiQl",
        "outputId": "62dddac0-9071-40cc-b517-794c6edaf44b"
      },
      "source": [
        "len(all_stmword)"
      ],
      "execution_count": null,
      "outputs": [
        {
          "output_type": "execute_result",
          "data": {
            "text/plain": [
              "4802"
            ]
          },
          "metadata": {},
          "execution_count": 28
        }
      ]
    },
    {
      "cell_type": "markdown",
      "metadata": {
        "id": "rtwKHLhkqw3e"
      },
      "source": [
        "#### POS Tagging"
      ]
    },
    {
      "cell_type": "code",
      "metadata": {
        "id": "vm4Ozs47qf7z",
        "colab": {
          "base_uri": "https://localhost:8080/"
        },
        "outputId": "e284a04d-af7e-4e38-a66a-114cb2ca4df3"
      },
      "source": [
        "postagger = PosTag() "
      ],
      "execution_count": null,
      "outputs": [
        {
          "output_type": "stream",
          "name": "stdout",
          "text": [
            "No model removed\n"
          ]
        },
        {
          "output_type": "stream",
          "name": "stderr",
          "text": [
            "/usr/local/lib/python3.7/dist-packages/nlp_id/postag.py:39: UserWarning: Downloading model ..\n",
            "  warnings.warn(\"Downloading model ..\")\n"
          ]
        }
      ]
    },
    {
      "cell_type": "code",
      "metadata": {
        "id": "563___NHo0P0"
      },
      "source": [
        "pos = [postagger.get_pos_tag(w)[0] for w in all_stmword if len(postagger.get_pos_tag(w))>0]"
      ],
      "execution_count": null,
      "outputs": []
    },
    {
      "cell_type": "code",
      "metadata": {
        "colab": {
          "base_uri": "https://localhost:8080/"
        },
        "id": "9erizIZypKK_",
        "outputId": "393a815f-b58f-4629-e02e-8e2a6cab0acf"
      },
      "source": [
        "print(pos[:10])"
      ],
      "execution_count": null,
      "outputs": [
        {
          "output_type": "stream",
          "name": "stdout",
          "text": [
            "[('jakarta', 'NNP'), ('bebas', 'JJ'), ('pandemi', 'VB'), ('masuk', 'VB'), ('kategori', 'NN'), ('ppkm', 'NN'), ('level', 'NN'), ('kondisi', 'NN'), ('natal', 'NN'), ('n', 'NN')]\n"
          ]
        }
      ]
    },
    {
      "cell_type": "code",
      "metadata": {
        "id": "QBM8LJfNphaX"
      },
      "source": [
        "allowed_word_types = [\"ADV\",\"JJ\",\"ADJP\",\"VB\"]\n",
        "allowed_words=[w[0] for w in pos if w[1] in allowed_word_types]"
      ],
      "execution_count": null,
      "outputs": []
    },
    {
      "cell_type": "code",
      "metadata": {
        "colab": {
          "base_uri": "https://localhost:8080/"
        },
        "id": "1kqj8_x_p40o",
        "outputId": "335c9328-0640-48ad-cd89-c80e57b7801a"
      },
      "source": [
        "print(allowed_words[:100])"
      ],
      "execution_count": null,
      "outputs": [
        {
          "output_type": "stream",
          "name": "stdout",
          "text": [
            "['bebas', 'pandemi', 'masuk', 'turun', 'kaya', 'bikin', 'suka', 'panjang', 'liat', 'tinggal', 'sepele', 'kena', 'bangga', 'ngomong', 'lucu', 'wajib', 'wajib', 'paksa', 'beli', 'usah', 'rendah', 'panjang', 'jawa-bali', 'biasa', 'habis', 'rendah', 'panjang', 'jawa-bali', 'bebas', 'pandemi', 'masuk', 'turun', 'bebas', 'pandemi', 'masuk', 'turun', 'jawa-bali', 'panjang', 'tertib', 'tuju', 'biar', 'rendah', 'panjang', 'jawa-bali', 'turun', 'tenang', 'aman', 'nikah', 'sederhana', 'dekat', 'dianjurinnya', 'sederhana', 'tentu', 'dukung', 'keras', 'umum', 'bijak', 'super', 'ketat', 'bilang', 'bilang', 'bilang', 'sampe', 'terima', 'turun', 'tenang', 'aman', 'turun', 'tenang', 'aman', 'turun', 'tenang', 'aman', 'muktamar', 'optimal', 'dukung', 'terap', 'selamat', 'selamat', 'selamat', 'selamat', 'selamat', 'selamat', 'selamat', 'selamat', 'selamat', 'selamat', 'tertib', 'main', 'selamat', 'tertib', 'main', 'selamat', 'selamat', 'selamat', 'selamat', 'selamat', 'selamat', 'selamat', 'selamat']\n"
          ]
        }
      ]
    },
    {
      "cell_type": "code",
      "metadata": {
        "colab": {
          "base_uri": "https://localhost:8080/"
        },
        "id": "l3gX1utsRxJl",
        "outputId": "5feabdfb-0fa7-486f-f089-af1e2db01fea"
      },
      "source": [
        "len(allowed_words)"
      ],
      "execution_count": null,
      "outputs": [
        {
          "output_type": "execute_result",
          "data": {
            "text/plain": [
              "1168"
            ]
          },
          "metadata": {},
          "execution_count": 34
        }
      ]
    },
    {
      "cell_type": "markdown",
      "metadata": {
        "id": "2ottxSG0rBaH"
      },
      "source": [
        "### Bag of Words"
      ]
    },
    {
      "cell_type": "markdown",
      "metadata": {
        "id": "W1tFC494rOhQ"
      },
      "source": [
        "#### Frekwensi Kemunculan Kata"
      ]
    },
    {
      "cell_type": "code",
      "metadata": {
        "colab": {
          "base_uri": "https://localhost:8080/"
        },
        "id": "OiXyl9lrsA4i",
        "outputId": "2aac877d-6a86-4203-ddc2-0428a3e88332"
      },
      "source": [
        "#Menyusun distribusi kata berdasarkan kemunculannya\n",
        "allwords = nltk.FreqDist(allowed_words)\n",
        "\n",
        "#Mengambil 1000 pertama dari distribusi kata berdasarkan frekwensi kemunculannya \n",
        "tuple_features = list(allwords.most_common())[:1000]\n",
        "word_features = [k for (k,v) in tuple_features]\n",
        "#Memeriksa word_features\n",
        "print(word_features[:100])"
      ],
      "execution_count": null,
      "outputs": [
        {
          "output_type": "stream",
          "name": "stdout",
          "text": [
            "['dukung', 'selamat', 'terap', 'bijak', 'tuju', 'pandemi', 'atur', 'panjang', 'penuh', 'lawan', 'tertib', 'tutup', 'ketat', 'gila', 'gratis', 'masuk', 'sehat', 'turun', 'tuslah', 'biar', 'main', 'bagus', 'jaga', 'aman', 'butuh', 'cepat', 'sukses', 'januari', 'cuti', 'sampe', 'salah', 'nasional', 'tetep', 'bikin', 'kena', 'jawa-bali', 'pulih', 'jelang', 'takut', 'beaming', 'enak', 'sedih', 'mari', 'bebas', 'liat', 'tenang', 'bilang', 'muktamar', 'coba', 'kendali', 'tekan', 'pergi', 'kuat', 'polri', 'patroli', 'tetap', 'kaya', 'beli', 'rendah', 'optimal', 'putus', 'mulu', 'ajak', 'resmi', 'nongki', 'tahan', 'trus', 'pulang', 'bener', 'misuh', 'mending', 'tunai', 'jenuh', 'darurat', 'sumpah', 'makan', 'masak', 'senang', 'alami', 'terminal', 'transit', 'sesuai', 'ungkap', 'besar', 'sekitar', 'menghimbau', 'rilis', 'suka', 'tinggal', 'ngomong', 'wajib', 'habis', 'sederhana', 'satlantas', 'berlalulintas', 'mudah', 'cari', 'sambut', 'ambil', 'asli']\n"
          ]
        }
      ]
    },
    {
      "cell_type": "code",
      "metadata": {
        "colab": {
          "base_uri": "https://localhost:8080/"
        },
        "id": "_Nyb2ejt9QMF",
        "outputId": "f250dc15-dcc5-4c78-a35f-35c445be5a12"
      },
      "source": [
        "tuple_features"
      ],
      "execution_count": null,
      "outputs": [
        {
          "output_type": "execute_result",
          "data": {
            "text/plain": [
              "[('dukung', 142),\n",
              " ('selamat', 80),\n",
              " ('terap', 48),\n",
              " ('bijak', 39),\n",
              " ('tuju', 29),\n",
              " ('pandemi', 28),\n",
              " ('atur', 27),\n",
              " ('panjang', 24),\n",
              " ('penuh', 21),\n",
              " ('lawan', 21),\n",
              " ('tertib', 18),\n",
              " ('tutup', 17),\n",
              " ('ketat', 15),\n",
              " ('gila', 15),\n",
              " ('gratis', 14),\n",
              " ('masuk', 12),\n",
              " ('sehat', 12),\n",
              " ('turun', 11),\n",
              " ('tuslah', 11),\n",
              " ('biar', 10),\n",
              " ('main', 10),\n",
              " ('bagus', 9),\n",
              " ('jaga', 9),\n",
              " ('aman', 8),\n",
              " ('butuh', 8),\n",
              " ('cepat', 8),\n",
              " ('sukses', 7),\n",
              " ('januari', 7),\n",
              " ('cuti', 7),\n",
              " ('sampe', 6),\n",
              " ('salah', 6),\n",
              " ('nasional', 6),\n",
              " ('tetep', 6),\n",
              " ('bikin', 5),\n",
              " ('kena', 5),\n",
              " ('jawa-bali', 5),\n",
              " ('pulih', 5),\n",
              " ('jelang', 5),\n",
              " ('takut', 5),\n",
              " ('beaming', 5),\n",
              " ('enak', 5),\n",
              " ('sedih', 5),\n",
              " ('mari', 5),\n",
              " ('bebas', 4),\n",
              " ('liat', 4),\n",
              " ('tenang', 4),\n",
              " ('bilang', 4),\n",
              " ('muktamar', 4),\n",
              " ('coba', 4),\n",
              " ('kendali', 4),\n",
              " ('tekan', 4),\n",
              " ('pergi', 4),\n",
              " ('kuat', 4),\n",
              " ('polri', 4),\n",
              " ('patroli', 4),\n",
              " ('tetap', 4),\n",
              " ('kaya', 3),\n",
              " ('beli', 3),\n",
              " ('rendah', 3),\n",
              " ('optimal', 3),\n",
              " ('putus', 3),\n",
              " ('mulu', 3),\n",
              " ('ajak', 3),\n",
              " ('resmi', 3),\n",
              " ('nongki', 3),\n",
              " ('tahan', 3),\n",
              " ('trus', 3),\n",
              " ('pulang', 3),\n",
              " ('bener', 3),\n",
              " ('misuh', 3),\n",
              " ('mending', 3),\n",
              " ('tunai', 3),\n",
              " ('jenuh', 3),\n",
              " ('darurat', 3),\n",
              " ('sumpah', 3),\n",
              " ('makan', 3),\n",
              " ('masak', 3),\n",
              " ('senang', 3),\n",
              " ('alami', 3),\n",
              " ('terminal', 3),\n",
              " ('transit', 3),\n",
              " ('sesuai', 3),\n",
              " ('ungkap', 3),\n",
              " ('besar', 3),\n",
              " ('sekitar', 3),\n",
              " ('menghimbau', 3),\n",
              " ('rilis', 3),\n",
              " ('suka', 2),\n",
              " ('tinggal', 2),\n",
              " ('ngomong', 2),\n",
              " ('wajib', 2),\n",
              " ('habis', 2),\n",
              " ('sederhana', 2),\n",
              " ('satlantas', 2),\n",
              " ('berlalulintas', 2),\n",
              " ('mudah', 2),\n",
              " ('cari', 2),\n",
              " ('sambut', 2),\n",
              " ('ambil', 2),\n",
              " ('asli', 2),\n",
              " ('adil', 2),\n",
              " ('kristiani', 2),\n",
              " ('melulu', 2),\n",
              " ('timbul', 2),\n",
              " ('gimana', 2),\n",
              " ('pendek', 2),\n",
              " ('selesai', 2),\n",
              " ('uji', 2),\n",
              " ('online', 2),\n",
              " ('tunggu', 2),\n",
              " ('dibatasin', 2),\n",
              " ('susah', 2),\n",
              " ('lempar', 2),\n",
              " ('pikir', 2),\n",
              " ('juli', 2),\n",
              " ('sibuk', 2),\n",
              " ('papa', 2),\n",
              " ('efektif', 2),\n",
              " ('suruh', 2),\n",
              " ('tptpu', 2),\n",
              " ('bingung', 2),\n",
              " ('ganti', 2),\n",
              " ('seri', 2),\n",
              " ('reaktif', 2),\n",
              " ('sepakat', 2),\n",
              " ('rantai', 2),\n",
              " ('gampang', 2),\n",
              " ('harap', 2),\n",
              " ('serius', 2),\n",
              " ('suai', 2),\n",
              " ('capai', 2),\n",
              " ('baik', 2),\n",
              " ('dorong', 2),\n",
              " ('kurang', 2),\n",
              " ('ragu', 2),\n",
              " ('kritis', 2),\n",
              " ('sepele', 1),\n",
              " ('bangga', 1),\n",
              " ('lucu', 1),\n",
              " ('paksa', 1),\n",
              " ('usah', 1),\n",
              " ('biasa', 1),\n",
              " ('nikah', 1),\n",
              " ('dekat', 1),\n",
              " ('dianjurinnya', 1),\n",
              " ('tentu', 1),\n",
              " ('keras', 1),\n",
              " ('umum', 1),\n",
              " ('super', 1),\n",
              " ('terima', 1),\n",
              " ('sangkut', 1),\n",
              " ('lupa', 1),\n",
              " ('tayang', 1),\n",
              " ('diem', 1),\n",
              " ('nonton', 1),\n",
              " ('jauh', 1),\n",
              " ('smoga', 1),\n",
              " ('etapi', 1),\n",
              " ('tabung', 1),\n",
              " ('pasca', 1),\n",
              " ('sendiri', 1),\n",
              " ('normal', 1),\n",
              " ('mbak', 1),\n",
              " ('ramai', 1),\n",
              " ('lepas', 1),\n",
              " ('lelah', 1),\n",
              " ('pindah', 1),\n",
              " ('miss', 1),\n",
              " ('pangkas', 1),\n",
              " ('tantang', 1),\n",
              " ('rangkum', 1),\n",
              " ('mentungi', 1),\n",
              " ('tindak', 1),\n",
              " ('depan', 1),\n",
              " ('esensi', 1),\n",
              " ('gerak', 1),\n",
              " ('surut', 1),\n",
              " ('terget', 1),\n",
              " ('murah', 1),\n",
              " ('serasa', 1),\n",
              " ('mnghargai', 1),\n",
              " ('muslim', 1),\n",
              " ('balik', 1),\n",
              " ('fitri', 1),\n",
              " ('diginiin', 1),\n",
              " ('sblmnya', 1),\n",
              " ('musisi', 1),\n",
              " ('manggung', 1),\n",
              " ('silah', 1),\n",
              " ('etdah', 1),\n",
              " ('dada', 1),\n",
              " ('dibubarin', 1),\n",
              " ('ngerti', 1),\n",
              " ('woiii', 1),\n",
              " ('sudab', 1),\n",
              " ('gaada', 1),\n",
              " ('mean', 1),\n",
              " ('dipikirin', 1),\n",
              " ('brbagai', 1),\n",
              " ('kerjasama', 1),\n",
              " ('trutama', 1),\n",
              " ('hebat', 1),\n",
              " ('september', 1),\n",
              " ('ngajakin', 1),\n",
              " ('teori', 1),\n",
              " ('utama', 1),\n",
              " ('mallnya', 1),\n",
              " ('berlakuin', 1),\n",
              " ('diapus', 1),\n",
              " ('sinergi', 1),\n",
              " ('takenya', 1),\n",
              " ('mutasi', 1),\n",
              " ('bisa', 1),\n",
              " ('disekolahin', 1),\n",
              " ('surah', 1),\n",
              " ('simak', 1),\n",
              " ('benci', 1),\n",
              " ('kecewa', 1),\n",
              " ('dapet', 1),\n",
              " ('maksod', 1),\n",
              " ('bejibun', 1),\n",
              " ('juni', 1),\n",
              " ('terbang', 1),\n",
              " ('mamak', 1),\n",
              " ('preventif', 1),\n",
              " ('muncul', 1),\n",
              " ('datang', 1),\n",
              " ('pasif', 1),\n",
              " ('metik', 1),\n",
              " ('tunjukin', 1),\n",
              " ('bayar', 1),\n",
              " ('baksinasi', 1),\n",
              " ('jarak', 1),\n",
              " ('digituin', 1),\n",
              " ('produktif', 1),\n",
              " ('tumpuk', 1),\n",
              " ('pas', 1),\n",
              " ('this', 1),\n",
              " ('happiness', 1),\n",
              " ('memories', 1),\n",
              " ('mateng', 1),\n",
              " ('gagal', 1),\n",
              " ('adakan', 1),\n",
              " ('kepri', 1),\n",
              " ('inget', 1),\n",
              " ('suzuki', 1),\n",
              " ('ngopi', 1),\n",
              " ('setiabudi', 1),\n",
              " ('belah', 1),\n",
              " ('metong', 1),\n",
              " ('basi', 1),\n",
              " ('internal', 1),\n",
              " ('banci', 1),\n",
              " ('sering', 1),\n",
              " ('lanjut', 1),\n",
              " ('negatif', 1),\n",
              " ('sadar', 1),\n",
              " ('dibhongin', 1),\n",
              " ('marah', 1),\n",
              " ('langka', 1),\n",
              " ('walafiat', 1),\n",
              " ('rusak', 1),\n",
              " ('cahari', 1),\n",
              " ('hidup', 1),\n",
              " ('logistik', 1),\n",
              " ('jokowi', 1),\n",
              " ('keluar', 1),\n",
              " ('ringan', 1),\n",
              " ('bener-bener', 1),\n",
              " ('muntah', 1),\n",
              " ('nyuri', 1),\n",
              " ('haram', 1),\n",
              " ('ngiri', 1),\n",
              " ('duka', 1),\n",
              " ('lambat', 1),\n",
              " ('phri', 1),\n",
              " ('longgar', 1),\n",
              " ('pakai', 1),\n",
              " ('lansung', 1),\n",
              " ('ubah', 1),\n",
              " ('peduli', 1),\n",
              " ('tawangsari', 1),\n",
              " ('tanggulang', 1),\n",
              " ('ditingkatin', 1),\n",
              " ('sama', 1),\n",
              " ('dikmas', 1),\n",
              " ('menko', 1),\n",
              " ('muhadjir', 1),\n",
              " ('mensukseskan', 1),\n",
              " ('gada', 1),\n",
              " ('seengganya', 1),\n",
              " ('deket', 1),\n",
              " ('tahu', 1),\n",
              " ('daki', 1),\n",
              " ('maksimal', 1),\n",
              " ('siap', 1),\n",
              " ('mundur', 1),\n",
              " ('meminimalisir', 1),\n",
              " ('optimis', 1),\n",
              " ('nyata', 1),\n",
              " ('miskin', 1),\n",
              " ('lapar', 1),\n",
              " ('disetting', 1),\n",
              " ('seriously', 1),\n",
              " ('waspada', 1),\n",
              " ('diketatin', 1),\n",
              " ('jahat', 1),\n",
              " ('bunuh', 1),\n",
              " ('aneh', 1),\n",
              " ('jual', 1),\n",
              " ('maldini', 1),\n",
              " ('mensesneg', 1),\n",
              " ('dengar', 1),\n",
              " ('manusiawi', 1),\n",
              " ('percaya', 1),\n",
              " ('holideiiii', 1),\n",
              " ('biarin', 1),\n",
              " ('ngeri', 1),\n",
              " ('parah', 1),\n",
              " ('lawong', 1)]"
            ]
          },
          "metadata": {},
          "execution_count": 36
        }
      ]
    },
    {
      "cell_type": "markdown",
      "metadata": {
        "id": "RKc0CTQdSkTN"
      },
      "source": [
        "#### Membentuk Featureset"
      ]
    },
    {
      "cell_type": "code",
      "metadata": {
        "id": "55ccM5iSsPhs"
      },
      "source": [
        "# Membentuk list dokumen dan labelnya\n",
        "document=[]\n",
        "for w in datacsv:\n",
        "  document.append((w[4],w[1]))"
      ],
      "execution_count": null,
      "outputs": []
    },
    {
      "cell_type": "code",
      "metadata": {
        "id": "ehox-Si5svCq"
      },
      "source": [
        "# Fungsi untuk membentuk bag of words\n",
        "def find_features(document):\n",
        "    words = tokenize(document)\n",
        "    words = cleanTweet(words,exclude_re)\n",
        "    words = [lemmatizer.lemmatize(w) for w in words]\n",
        "    features = {}\n",
        "    for w in word_features:\n",
        "        features[w] = (w in words)\n",
        "    return features"
      ],
      "execution_count": null,
      "outputs": []
    },
    {
      "cell_type": "code",
      "metadata": {
        "colab": {
          "base_uri": "https://localhost:8080/"
        },
        "id": "sP57NoPOszke",
        "outputId": "eba5604e-cf37-48d3-f2b9-7a99ef448a63"
      },
      "source": [
        "nltk.download('punkt')\n",
        "featuresets = [(find_features(rev), category) for (rev, category) in document]"
      ],
      "execution_count": null,
      "outputs": [
        {
          "output_type": "stream",
          "name": "stderr",
          "text": [
            "[nltk_data] Downloading package punkt to /root/nltk_data...\n",
            "[nltk_data]   Package punkt is already up-to-date!\n"
          ]
        }
      ]
    },
    {
      "cell_type": "code",
      "metadata": {
        "colab": {
          "base_uri": "https://localhost:8080/"
        },
        "id": "9Qoi4JVetAur",
        "outputId": "4266932f-8552-42f1-de45-37fa6b7992de"
      },
      "source": [
        "print(featuresets[3])"
      ],
      "execution_count": null,
      "outputs": [
        {
          "output_type": "stream",
          "name": "stdout",
          "text": [
            "({'dukung': False, 'selamat': False, 'terap': False, 'bijak': False, 'tuju': False, 'pandemi': False, 'atur': False, 'panjang': False, 'penuh': False, 'lawan': False, 'tertib': False, 'tutup': False, 'ketat': False, 'gila': False, 'gratis': False, 'masuk': False, 'sehat': False, 'turun': False, 'tuslah': False, 'biar': False, 'main': False, 'bagus': False, 'jaga': False, 'aman': False, 'butuh': False, 'cepat': False, 'sukses': False, 'januari': False, 'cuti': False, 'sampe': False, 'salah': False, 'nasional': False, 'tetep': False, 'bikin': False, 'kena': False, 'jawa-bali': False, 'pulih': False, 'jelang': False, 'takut': False, 'beaming': False, 'enak': False, 'sedih': False, 'mari': False, 'bebas': False, 'liat': False, 'tenang': False, 'bilang': False, 'muktamar': False, 'coba': False, 'kendali': False, 'tekan': False, 'pergi': False, 'kuat': False, 'polri': False, 'patroli': False, 'tetap': False, 'kaya': False, 'beli': True, 'rendah': False, 'optimal': False, 'putus': False, 'mulu': False, 'ajak': False, 'resmi': False, 'nongki': False, 'tahan': False, 'trus': False, 'pulang': False, 'bener': False, 'misuh': False, 'mending': False, 'tunai': False, 'jenuh': False, 'darurat': False, 'sumpah': False, 'makan': False, 'masak': False, 'senang': False, 'alami': False, 'terminal': False, 'transit': False, 'sesuai': False, 'ungkap': False, 'besar': False, 'sekitar': False, 'menghimbau': False, 'rilis': False, 'suka': False, 'tinggal': False, 'ngomong': False, 'wajib': True, 'habis': False, 'sederhana': False, 'satlantas': False, 'berlalulintas': False, 'mudah': False, 'cari': False, 'sambut': False, 'ambil': False, 'asli': False, 'adil': False, 'kristiani': False, 'melulu': False, 'timbul': False, 'gimana': False, 'pendek': False, 'selesai': False, 'uji': False, 'online': False, 'tunggu': False, 'dibatasin': False, 'susah': False, 'lempar': False, 'pikir': False, 'juli': False, 'sibuk': False, 'papa': False, 'efektif': False, 'suruh': False, 'tptpu': False, 'bingung': False, 'ganti': False, 'seri': False, 'reaktif': False, 'sepakat': False, 'rantai': False, 'gampang': False, 'harap': False, 'serius': False, 'suai': False, 'capai': False, 'baik': False, 'dorong': False, 'kurang': False, 'ragu': False, 'kritis': False, 'sepele': False, 'bangga': False, 'lucu': True, 'paksa': True, 'usah': True, 'biasa': False, 'nikah': False, 'dekat': False, 'dianjurinnya': False, 'tentu': False, 'keras': False, 'umum': False, 'super': False, 'terima': False, 'sangkut': False, 'lupa': False, 'tayang': False, 'diem': False, 'nonton': False, 'jauh': False, 'smoga': False, 'etapi': False, 'tabung': False, 'pasca': False, 'sendiri': False, 'normal': False, 'mbak': False, 'ramai': False, 'lepas': False, 'lelah': False, 'pindah': False, 'miss': False, 'pangkas': False, 'tantang': False, 'rangkum': False, 'mentungi': False, 'tindak': False, 'depan': False, 'esensi': False, 'gerak': False, 'surut': False, 'terget': False, 'murah': False, 'serasa': False, 'mnghargai': False, 'muslim': False, 'balik': False, 'fitri': False, 'diginiin': False, 'sblmnya': False, 'musisi': False, 'manggung': False, 'silah': False, 'etdah': False, 'dada': False, 'dibubarin': False, 'ngerti': False, 'woiii': False, 'sudab': False, 'gaada': False, 'mean': False, 'dipikirin': False, 'brbagai': False, 'kerjasama': False, 'trutama': False, 'hebat': False, 'september': False, 'ngajakin': False, 'teori': False, 'utama': False, 'mallnya': False, 'berlakuin': False, 'diapus': False, 'sinergi': False, 'takenya': False, 'mutasi': False, 'bisa': False, 'disekolahin': False, 'surah': False, 'simak': False, 'benci': False, 'kecewa': False, 'dapet': False, 'maksod': False, 'bejibun': False, 'juni': False, 'terbang': False, 'mamak': False, 'preventif': False, 'muncul': False, 'datang': False, 'pasif': False, 'metik': False, 'tunjukin': False, 'bayar': False, 'baksinasi': False, 'jarak': False, 'digituin': False, 'produktif': False, 'tumpuk': False, 'pas': False, 'this': False, 'happiness': False, 'memories': False, 'mateng': False, 'gagal': False, 'adakan': False, 'kepri': False, 'inget': False, 'suzuki': False, 'ngopi': False, 'setiabudi': False, 'belah': False, 'metong': False, 'basi': False, 'internal': False, 'banci': False, 'sering': False, 'lanjut': False, 'negatif': False, 'sadar': False, 'dibhongin': False, 'marah': False, 'langka': False, 'walafiat': False, 'rusak': False, 'cahari': False, 'hidup': False, 'logistik': False, 'jokowi': False, 'keluar': False, 'ringan': False, 'bener-bener': False, 'muntah': False, 'nyuri': False, 'haram': False, 'ngiri': False, 'duka': False, 'lambat': False, 'phri': False, 'longgar': False, 'pakai': False, 'lansung': False, 'ubah': False, 'peduli': False, 'tawangsari': False, 'tanggulang': False, 'ditingkatin': False, 'sama': False, 'dikmas': False, 'menko': False, 'muhadjir': False, 'mensukseskan': False, 'gada': False, 'seengganya': False, 'deket': False, 'tahu': False, 'daki': False, 'maksimal': False, 'siap': False, 'mundur': False, 'meminimalisir': False, 'optimis': False, 'nyata': False, 'miskin': False, 'lapar': False, 'disetting': False, 'seriously': False, 'waspada': False, 'diketatin': False, 'jahat': False, 'bunuh': False, 'aneh': False, 'jual': False, 'maldini': False, 'mensesneg': False, 'dengar': False, 'manusiawi': False, 'percaya': False, 'holideiiii': False, 'biarin': False, 'ngeri': False, 'parah': False, 'lawong': False}, 'negative')\n"
          ]
        }
      ]
    },
    {
      "cell_type": "markdown",
      "source": [
        "### Distribusi Dataset"
      ],
      "metadata": {
        "id": "-3lSaCxxu4bx"
      }
    },
    {
      "cell_type": "code",
      "source": [
        "lsclass = [category for (rev, category) in document]\n",
        "df_alltrain = pd.DataFrame(lsclass, columns=['class'])"
      ],
      "metadata": {
        "id": "a66a6CN-tYBf"
      },
      "execution_count": null,
      "outputs": []
    },
    {
      "cell_type": "code",
      "source": [
        "sns.barplot(df_alltrain['class'].unique(),df_alltrain['class'].value_counts())\n",
        "plt.title('Class Label Distribution')\n",
        "plt.xlabel('Class Label')\n",
        "plt.ylabel('Count')\n",
        "plt.show()\n",
        "\n",
        "print('Jumlah baris kelas positif: ',df_alltrain['class'].value_counts()['positive'])\n",
        "print('Jumlah baris kelas negatif: ',df_alltrain['class'].value_counts()['negative'])"
      ],
      "metadata": {
        "colab": {
          "base_uri": "https://localhost:8080/",
          "height": 384
        },
        "id": "RZP3CxG0uDkF",
        "outputId": "480c4137-97e1-4d68-b970-9b7c26df3ff8"
      },
      "execution_count": null,
      "outputs": [
        {
          "output_type": "stream",
          "name": "stderr",
          "text": [
            "/usr/local/lib/python3.7/dist-packages/seaborn/_decorators.py:43: FutureWarning: Pass the following variables as keyword args: x, y. From version 0.12, the only valid positional argument will be `data`, and passing other arguments without an explicit keyword will result in an error or misinterpretation.\n",
            "  FutureWarning\n"
          ]
        },
        {
          "output_type": "display_data",
          "data": {
            "text/plain": [
              "<Figure size 432x288 with 1 Axes>"
            ],
            "image/png": "[encoded data removed]"
          },
          "metadata": {
            "needs_background": "light"
          }
        },
        {
          "output_type": "stream",
          "name": "stdout",
          "text": [
            "Jumlah baris kelas positif:  246\n",
            "Jumlah baris kelas negatif:  154\n"
          ]
        }
      ]
    },
    {
      "cell_type": "markdown",
      "metadata": {
        "id": "VGQEvfpByl89"
      },
      "source": [
        "### Membagi Data Training dan Testing"
      ]
    },
    {
      "cell_type": "code",
      "metadata": {
        "id": "lwWP74-0tORc"
      },
      "source": [
        "# menyusun data training dan testing \n",
        "trainsize = round(len(featuresets)*0.7)\n",
        "\n",
        "random.shuffle(featuresets)\n",
        "training_set = featuresets[:trainsize]\n",
        "testing_set = featuresets[trainsize:]\n"
      ],
      "execution_count": null,
      "outputs": []
    },
    {
      "cell_type": "code",
      "metadata": {
        "colab": {
          "base_uri": "https://localhost:8080/"
        },
        "id": "EddeIBGIAH2p",
        "outputId": "32e59d48-b797-48ad-fa19-7a7e600d3a20"
      },
      "source": [
        "len(testing_set)"
      ],
      "execution_count": null,
      "outputs": [
        {
          "output_type": "execute_result",
          "data": {
            "text/plain": [
              "120"
            ]
          },
          "metadata": {},
          "execution_count": 44
        }
      ]
    },
    {
      "cell_type": "markdown",
      "metadata": {
        "id": "HvV_h42C8q3H"
      },
      "source": [
        "### Melatih Model Klasifikasi dengan Library NLTK"
      ]
    },
    {
      "cell_type": "markdown",
      "metadata": {
        "id": "Wbt294-1TeqB"
      },
      "source": [
        "#### Naive Bayes"
      ]
    },
    {
      "cell_type": "markdown",
      "metadata": {
        "id": "GMb2HGFVUOQQ"
      },
      "source": [
        "##### Melatih Model"
      ]
    },
    {
      "cell_type": "code",
      "metadata": {
        "colab": {
          "base_uri": "https://localhost:8080/"
        },
        "id": "eqrKZSkHtTQz",
        "outputId": "6818cbf0-69b7-4f3c-ce78-2061f7e732c0"
      },
      "source": [
        "classifier = nltk.NaiveBayesClassifier.train(training_set)\n",
        "\n",
        "print(\"Classifier accuracy percent:\",(nltk.classify.accuracy(classifier, testing_set))*100)\n",
        "classifier.show_most_informative_features(25)"
      ],
      "execution_count": null,
      "outputs": [
        {
          "output_type": "stream",
          "name": "stdout",
          "text": [
            "Classifier accuracy percent: 79.16666666666666\n",
            "Most Informative Features\n",
            "                 selamat = True           positi : negati =     23.0 : 1.0\n",
            "                   tutup = True           negati : positi =     13.5 : 1.0\n",
            "                  dukung = True           positi : negati =     11.4 : 1.0\n",
            "                 pandemi = True           positi : negati =      9.1 : 1.0\n",
            "                   terap = True           positi : negati =      8.7 : 1.0\n",
            "                   penuh = True           positi : negati =      6.9 : 1.0\n",
            "                   butuh = True           negati : positi =      6.5 : 1.0\n",
            "                  tertib = True           positi : negati =      5.1 : 1.0\n",
            "                    biar = True           negati : positi =      4.5 : 1.0\n",
            "                   sampe = True           negati : positi =      4.5 : 1.0\n",
            "                    tuju = True           negati : positi =      3.7 : 1.0\n",
            "                    main = True           negati : positi =      3.5 : 1.0\n",
            "                   bijak = True           positi : negati =      3.2 : 1.0\n",
            "                    atur = True           positi : negati =      2.8 : 1.0\n",
            "                   bener = True           negati : positi =      2.5 : 1.0\n",
            "                   pergi = True           negati : positi =      2.5 : 1.0\n",
            "                   takut = True           negati : positi =      2.5 : 1.0\n",
            "                 januari = True           positi : negati =      2.5 : 1.0\n",
            "                   cepat = True           positi : negati =      2.5 : 1.0\n",
            "                  dukung = False          negati : positi =      2.1 : 1.0\n",
            "                 panjang = True           negati : positi =      1.8 : 1.0\n",
            "                   masuk = True           negati : positi =      1.8 : 1.0\n",
            "                   turun = True           negati : positi =      1.5 : 1.0\n",
            "                  jelang = True           negati : positi =      1.5 : 1.0\n",
            "                   susah = True           negati : positi =      1.5 : 1.0\n"
          ]
        }
      ]
    },
    {
      "cell_type": "markdown",
      "metadata": {
        "id": "fsatV3_-UYL9"
      },
      "source": [
        "##### Mengukur kinerja model"
      ]
    },
    {
      "cell_type": "code",
      "metadata": {
        "colab": {
          "base_uri": "https://localhost:8080/"
        },
        "id": "Q3mfV9NXtstF",
        "outputId": "4ce385f3-dfb4-41d6-b2ac-3a4d7e2f2c76"
      },
      "source": [
        "from nltk.metrics.scores import (precision, recall)\n",
        "import collections\n",
        "\n",
        "refsets = collections.defaultdict(set)\n",
        "testsets = collections.defaultdict(set)\n",
        "\n",
        "for i, (feats, label) in enumerate(testing_set):\n",
        "    refsets[label].add(i)\n",
        "    observed = classifier.classify(feats)\n",
        "    testsets[observed].add(i)\n",
        "\n",
        "print('Recall:', recall(refsets['positive'], testsets['positive']))\n",
        "print('Precision:', precision(refsets['positive'], testsets['positive']))"
      ],
      "execution_count": null,
      "outputs": [
        {
          "output_type": "stream",
          "name": "stdout",
          "text": [
            "Recall: 0.9102564102564102\n",
            "Precision: 0.797752808988764\n"
          ]
        }
      ]
    },
    {
      "cell_type": "code",
      "metadata": {
        "id": "SG-bFAVdUtJO"
      },
      "source": [
        "from sklearn.model_selection import KFold\n",
        "cv = KFold(n_splits=5, shuffle=False, random_state=None)"
      ],
      "execution_count": null,
      "outputs": []
    },
    {
      "cell_type": "code",
      "metadata": {
        "colab": {
          "base_uri": "https://localhost:8080/"
        },
        "id": "Yaedb6mvUvtX",
        "outputId": "4dce3ea9-8001-402e-ecee-b464a2a12c09"
      },
      "source": [
        "k=1\n",
        "for traincv, testcv in cv.split(featuresets):\n",
        "    training_sets = featuresets[traincv[0]:traincv[len(traincv)-1]]\n",
        "    testing_sets = featuresets[testcv[0]:testcv[len(testcv)-1]]\n",
        "    classifier = nltk.NaiveBayesClassifier.train(featuresets[traincv[0]:traincv[len(traincv)-1]])\n",
        "    refsets = collections.defaultdict(set)\n",
        "    testsets = collections.defaultdict(set)\n",
        " \n",
        "    for i, (feats, label) in enumerate(testing_sets):\n",
        "        refsets[label].add(i)\n",
        "        observed = classifier.classify(feats)\n",
        "        testsets[observed].add(i)\n",
        "    print (\"Fold - \"+str(k))\n",
        "    print(\"Accuracy:\",(nltk.classify.accuracy(classifier, testing_sets))*100)\n",
        "    print('Recall:', recall(refsets['positive'], testsets['positive'])*100)\n",
        "    print('Precision:', precision(refsets['positive'], testsets['positive'])*100)\n",
        "    k+=1"
      ],
      "execution_count": null,
      "outputs": [
        {
          "output_type": "stream",
          "name": "stdout",
          "text": [
            "Fold - 1\n",
            "Accuracy: 84.81012658227847\n",
            "Recall: 87.2340425531915\n",
            "Precision: 87.2340425531915\n",
            "Fold - 2\n",
            "Accuracy: 87.34177215189874\n",
            "Recall: 93.87755102040816\n",
            "Precision: 86.79245283018868\n",
            "Fold - 3\n",
            "Accuracy: 89.87341772151899\n",
            "Recall: 97.82608695652173\n",
            "Precision: 86.53846153846155\n",
            "Fold - 4\n",
            "Accuracy: 89.87341772151899\n",
            "Recall: 97.77777777777777\n",
            "Precision: 86.27450980392157\n",
            "Fold - 5\n",
            "Accuracy: 81.0126582278481\n",
            "Recall: 87.27272727272727\n",
            "Precision: 85.71428571428571\n"
          ]
        }
      ]
    },
    {
      "cell_type": "markdown",
      "metadata": {
        "id": "oN2rPZ5VX7Z-"
      },
      "source": [
        "##### Menyimpan model ke dalam bentuk file"
      ]
    },
    {
      "cell_type": "code",
      "metadata": {
        "id": "mVIxcwd_tXw6"
      },
      "source": [
        "#menyimpan model yang telah ditrainning ke file sav\n",
        "filename = '/content/gdrive/My Drive/PRAKTIKUM_AMSD/model/ppkm_nb_model.sav'\n",
        "pickle.dump(classifier, open(filename, 'wb'))"
      ],
      "execution_count": null,
      "outputs": []
    },
    {
      "cell_type": "code",
      "metadata": {
        "id": "pDvI8orlYJG5"
      },
      "source": [
        "#load model classifier nb dari file\n",
        "loaded_model = pickle.load(open(filename, 'rb'))"
      ],
      "execution_count": null,
      "outputs": []
    },
    {
      "cell_type": "code",
      "metadata": {
        "id": "poqep_PdYQIt"
      },
      "source": [
        "#melakukan prediksi data menggunakan model classifier nb yang telah diload\n",
        "lsPrediksi = []\n",
        "for (rev, category) in document[trainsize:]:\n",
        "    result=loaded_model.classify(find_features(rev))\n",
        "    lsPrediksi.append([rev, result, category])"
      ],
      "execution_count": null,
      "outputs": []
    },
    {
      "cell_type": "code",
      "metadata": {
        "colab": {
          "base_uri": "https://localhost:8080/"
        },
        "id": "dNeTjwTWYWS2",
        "outputId": "1a522600-58ab-466a-d57d-1ebdd44d9426"
      },
      "source": [
        "print(lsPrediksi[:10])"
      ],
      "execution_count": null,
      "outputs": [
        {
          "output_type": "stream",
          "name": "stdout",
          "text": [
            "[['@zafran_gema Dukung perpanjangan PPKM level 3', 'positive', 'positive'], ['@Anggita_lung @jokowi Dukung PPKM', 'positive', 'positive'], ['@Penyair_Berdiri Dukung PPKM', 'positive', 'positive'], ['RT @forjakeu: Kita harus mendukung penuh upaya pemerintah dalam penanganan Pandemi Covid-19 dengan menerapkan PPKM level 3.  Jangan kasih k…', 'positive', 'positive'], ['@chinta_chintata Dukung PPKM level 3', 'positive', 'positive'], ['@p4rwaty_rizky Dukung PPKM level 3', 'positive', 'positive'], ['@Widyarenee_ Dukung PPKM level 3', 'positive', 'positive'], ['RT @forjakeu: Kita harus mendukung penuh upaya pemerintah dalam penanganan Pandemi Covid-19 dengan menerapkan PPKM level 3.  Jangan kasih k…', 'positive', 'positive'], ['@p4rwaty_rizky Dukung PPKM level 3 💪💪', 'positive', 'positive'], ['Bersatu Lawan Covid!!!  Penerapan aturan PPKM Level 3 menjadi kebijakan tepat untuk menghalau Lonjakan Cov19.  Dukung!!! https://t.co/77DAZf3MqG', 'positive', 'positive']]\n"
          ]
        }
      ]
    },
    {
      "cell_type": "code",
      "metadata": {
        "id": "XjaBKNMtnZIu"
      },
      "source": [
        "act=[]\n",
        "pred=[]\n",
        "\n",
        "for i, (feats, label) in enumerate(testing_set):\n",
        "    observed = classifier.classify(feats)\n",
        "    act.append(label)\n",
        "    pred.append(observed)"
      ],
      "execution_count": null,
      "outputs": []
    },
    {
      "cell_type": "markdown",
      "metadata": {
        "id": "-YQqYMCwYJZG"
      },
      "source": [
        "##### Confusion Matrix"
      ]
    },
    {
      "cell_type": "code",
      "metadata": {
        "id": "ivNl9T0GnZIu"
      },
      "source": [
        "from nltk.metrics import ConfusionMatrix"
      ],
      "execution_count": null,
      "outputs": []
    },
    {
      "cell_type": "code",
      "metadata": {
        "id": "MqDIXdKXnZIw"
      },
      "source": [
        "matrix = ConfusionMatrix(act,pred)"
      ],
      "execution_count": null,
      "outputs": []
    },
    {
      "cell_type": "code",
      "metadata": {
        "colab": {
          "base_uri": "https://localhost:8080/"
        },
        "id": "BtdCHQg4nZIw",
        "outputId": "da51c63b-5e64-4e57-f3d7-8f3a4c556e50"
      },
      "source": [
        "print(matrix)"
      ],
      "execution_count": null,
      "outputs": [
        {
          "output_type": "stream",
          "name": "stdout",
          "text": [
            "         |  n  p |\n",
            "         |  e  o |\n",
            "         |  g  s |\n",
            "         |  a  i |\n",
            "         |  t  t |\n",
            "         |  i  i |\n",
            "         |  v  v |\n",
            "         |  e  e |\n",
            "---------+-------+\n",
            "negative |<29>13 |\n",
            "positive |  7<71>|\n",
            "---------+-------+\n",
            "(row = reference; col = test)\n",
            "\n"
          ]
        }
      ]
    },
    {
      "cell_type": "markdown",
      "metadata": {
        "id": "reqVQBFVTn7l"
      },
      "source": [
        "#### Support Vector Machine"
      ]
    },
    {
      "cell_type": "code",
      "metadata": {
        "colab": {
          "base_uri": "https://localhost:8080/"
        },
        "id": "pvRRwK8cnZIx",
        "outputId": "2331f294-5de2-4046-abc3-0c3257641e0c"
      },
      "source": [
        "classifier2 = nltk.classify.SklearnClassifier(LinearSVC())\n",
        "classifier2.train(training_set)"
      ],
      "execution_count": null,
      "outputs": [
        {
          "output_type": "execute_result",
          "data": {
            "text/plain": [
              "<SklearnClassifier(LinearSVC(C=1.0, class_weight=None, dual=True, fit_intercept=True,\n",
              "          intercept_scaling=1, loss='squared_hinge', max_iter=1000,\n",
              "          multi_class='ovr', penalty='l2', random_state=None, tol=0.0001,\n",
              "          verbose=0))>"
            ]
          },
          "metadata": {},
          "execution_count": 57
        }
      ]
    },
    {
      "cell_type": "code",
      "metadata": {
        "colab": {
          "base_uri": "https://localhost:8080/"
        },
        "id": "16YkuLxfnZIx",
        "outputId": "3e957561-40e0-48ec-e36d-637d4eac34bb"
      },
      "source": [
        "print(\"Classifier accuracy percent:\",(nltk.classify.accuracy(classifier2, testing_set))*100)"
      ],
      "execution_count": null,
      "outputs": [
        {
          "output_type": "stream",
          "name": "stdout",
          "text": [
            "Classifier accuracy percent: 86.66666666666667\n"
          ]
        }
      ]
    },
    {
      "cell_type": "markdown",
      "metadata": {
        "id": "eECPpfrQTv38"
      },
      "source": [
        "#### Decision Tree"
      ]
    },
    {
      "cell_type": "code",
      "metadata": {
        "colab": {
          "base_uri": "https://localhost:8080/"
        },
        "id": "5DQ4c-TfCbhW",
        "outputId": "fb0cd9ea-21bf-4c51-897a-44032617741e"
      },
      "source": [
        "classifier3 = nltk.classify.SklearnClassifier(DecisionTreeClassifier())\n",
        "classifier3.train(training_set)"
      ],
      "execution_count": null,
      "outputs": [
        {
          "output_type": "execute_result",
          "data": {
            "text/plain": [
              "<SklearnClassifier(DecisionTreeClassifier(ccp_alpha=0.0, class_weight=None, criterion='gini',\n",
              "                       max_depth=None, max_features=None, max_leaf_nodes=None,\n",
              "                       min_impurity_decrease=0.0, min_impurity_split=None,\n",
              "                       min_samples_leaf=1, min_samples_split=2,\n",
              "                       min_weight_fraction_leaf=0.0, presort='deprecated',\n",
              "                       random_state=None, splitter='best'))>"
            ]
          },
          "metadata": {},
          "execution_count": 59
        }
      ]
    },
    {
      "cell_type": "code",
      "metadata": {
        "colab": {
          "base_uri": "https://localhost:8080/"
        },
        "id": "5OkPxyBkD-IA",
        "outputId": "817350c5-8760-46e0-a894-e052420fb898"
      },
      "source": [
        "print(\"Classifier accuracy percent:\",(nltk.classify.accuracy(classifier3, testing_set))*100)"
      ],
      "execution_count": null,
      "outputs": [
        {
          "output_type": "stream",
          "name": "stdout",
          "text": [
            "Classifier accuracy percent: 87.5\n"
          ]
        }
      ]
    },
    {
      "cell_type": "markdown",
      "metadata": {
        "id": "QRm3BjgvT0Rk"
      },
      "source": [
        "#### AdaBoost\n"
      ]
    },
    {
      "cell_type": "code",
      "metadata": {
        "colab": {
          "base_uri": "https://localhost:8080/"
        },
        "id": "P3QU_qvcDyje",
        "outputId": "91e979de-f9b5-4d5f-b920-23a49eee7bd9"
      },
      "source": [
        "classifier4 = nltk.classify.SklearnClassifier(AdaBoostClassifier())\n",
        "classifier4.train(training_set)"
      ],
      "execution_count": null,
      "outputs": [
        {
          "output_type": "execute_result",
          "data": {
            "text/plain": [
              "<SklearnClassifier(AdaBoostClassifier(algorithm='SAMME.R', base_estimator=None, learning_rate=1.0,\n",
              "                   n_estimators=50, random_state=None))>"
            ]
          },
          "metadata": {},
          "execution_count": 61
        }
      ]
    },
    {
      "cell_type": "code",
      "metadata": {
        "colab": {
          "base_uri": "https://localhost:8080/"
        },
        "id": "xjETwsZcDYu1",
        "outputId": "7b39b6e9-db51-4f57-a6ae-235ca88a3d4e"
      },
      "source": [
        "print(\"Classifier accuracy percent:\",(nltk.classify.accuracy(classifier4, testing_set))*100)"
      ],
      "execution_count": null,
      "outputs": [
        {
          "output_type": "stream",
          "name": "stdout",
          "text": [
            "Classifier accuracy percent: 86.66666666666667\n"
          ]
        }
      ]
    },
    {
      "cell_type": "markdown",
      "metadata": {
        "id": "ZatWickcT65h"
      },
      "source": [
        "#### Random Forest\n"
      ]
    },
    {
      "cell_type": "code",
      "metadata": {
        "colab": {
          "base_uri": "https://localhost:8080/"
        },
        "id": "Eg6wWXnHFhJF",
        "outputId": "09eafd1a-d286-446d-91bb-1b5dfaef9192"
      },
      "source": [
        "classifier5 = nltk.classify.SklearnClassifier(RandomForestClassifier())\n",
        "classifier5.train(training_set)"
      ],
      "execution_count": null,
      "outputs": [
        {
          "output_type": "execute_result",
          "data": {
            "text/plain": [
              "<SklearnClassifier(RandomForestClassifier(bootstrap=True, ccp_alpha=0.0, class_weight=None,\n",
              "                       criterion='gini', max_depth=None, max_features='auto',\n",
              "                       max_leaf_nodes=None, max_samples=None,\n",
              "                       min_impurity_decrease=0.0, min_impurity_split=None,\n",
              "                       min_samples_leaf=1, min_samples_split=2,\n",
              "                       min_weight_fraction_leaf=0.0, n_estimators=100,\n",
              "                       n_jobs=None, oob_score=False, random_state=None,\n",
              "                       verbose=0, warm_start=False))>"
            ]
          },
          "metadata": {},
          "execution_count": 63
        }
      ]
    },
    {
      "cell_type": "code",
      "metadata": {
        "colab": {
          "base_uri": "https://localhost:8080/"
        },
        "id": "dIKDXL73FsnY",
        "outputId": "8f03e306-ad6c-4ded-c503-9d8f7c737144"
      },
      "source": [
        "print(\"Classifier accuracy percent:\",(nltk.classify.accuracy(classifier5, testing_set))*100)"
      ],
      "execution_count": null,
      "outputs": [
        {
          "output_type": "stream",
          "name": "stdout",
          "text": [
            "Classifier accuracy percent: 87.5\n"
          ]
        }
      ]
    },
    {
      "cell_type": "markdown",
      "metadata": {
        "id": "zQkS1JWaUArb"
      },
      "source": [
        "#### Gradient Boosting"
      ]
    },
    {
      "cell_type": "code",
      "metadata": {
        "colab": {
          "base_uri": "https://localhost:8080/"
        },
        "id": "2BjlbcUYGoNv",
        "outputId": "ebdbfdeb-ba0b-48cd-fc1a-fa8259632899"
      },
      "source": [
        "classifier6 = nltk.classify.SklearnClassifier(GradientBoostingClassifier())\n",
        "classifier6.train(training_set)"
      ],
      "execution_count": null,
      "outputs": [
        {
          "output_type": "execute_result",
          "data": {
            "text/plain": [
              "<SklearnClassifier(GradientBoostingClassifier(ccp_alpha=0.0, criterion='friedman_mse', init=None,\n",
              "                           learning_rate=0.1, loss='deviance', max_depth=3,\n",
              "                           max_features=None, max_leaf_nodes=None,\n",
              "                           min_impurity_decrease=0.0, min_impurity_split=None,\n",
              "                           min_samples_leaf=1, min_samples_split=2,\n",
              "                           min_weight_fraction_leaf=0.0, n_estimators=100,\n",
              "                           n_iter_no_change=None, presort='deprecated',\n",
              "                           random_state=None, subsample=1.0, tol=0.0001,\n",
              "                           validation_fraction=0.1, verbose=0,\n",
              "                           warm_start=False))>"
            ]
          },
          "metadata": {},
          "execution_count": 65
        }
      ]
    },
    {
      "cell_type": "code",
      "metadata": {
        "colab": {
          "base_uri": "https://localhost:8080/"
        },
        "id": "u6GiKbRkG6cn",
        "outputId": "b03142ca-ff10-4c77-c469-82139c12888c"
      },
      "source": [
        "print(\"Classifier accuracy percent:\",(nltk.classify.accuracy(classifier6, testing_set))*100)"
      ],
      "execution_count": null,
      "outputs": [
        {
          "output_type": "stream",
          "name": "stdout",
          "text": [
            "Classifier accuracy percent: 87.5\n"
          ]
        }
      ]
    },
    {
      "cell_type": "markdown",
      "metadata": {
        "id": "6aKmjjpkER4h"
      },
      "source": [
        "### Melatih Model dengan Sklearn dan Vektorisasi"
      ]
    },
    {
      "cell_type": "code",
      "metadata": {
        "id": "AWp8AKWFZF78"
      },
      "source": [
        "#Pengolahan data\n",
        "import pandas as pd\n",
        "import numpy as np\n",
        "\n",
        "from sklearn.ensemble import RandomForestClassifier\n",
        "from sklearn.linear_model import RidgeClassifier ,LogisticRegression, Ridge\n",
        "from sklearn.naive_bayes import GaussianNB\n",
        "from sklearn.tree import DecisionTreeClassifier\n",
        "from sklearn.neighbors import KNeighborsClassifier\n",
        "from sklearn.svm import SVC, LinearSVC\n",
        "from sklearn.ensemble import VotingClassifier, StackingClassifier, RandomForestClassifier, AdaBoostClassifier\n",
        "from xgboost import XGBClassifier\n",
        "from sklearn.preprocessing import MinMaxScaler\n",
        "from lightgbm import LGBMClassifier\n",
        "\n",
        "import joblib\n",
        "from sklearn.model_selection import RandomizedSearchCV\n",
        "from sklearn.model_selection import GridSearchCV, KFold, cross_validate, LeaveOneOut\n",
        "from sklearn.metrics import confusion_matrix,f1_score,log_loss,roc_curve,recall_score,precision_recall_curve,precision_score,fbeta_score,auc, roc_auc_score, accuracy_score, classification_report, ConfusionMatrixDisplay, RocCurveDisplay\n",
        "from sklearn.feature_selection import RFE, SelectKBest, SelectPercentile, chi2, SelectFromModel\n",
        "from sklearn.decomposition import PCA\n",
        "\n",
        "#Visualization\n",
        "import matplotlib.pyplot as plt\n",
        "import seaborn as sns"
      ],
      "execution_count": null,
      "outputs": []
    },
    {
      "cell_type": "code",
      "metadata": {
        "id": "fneB1ERJ9Hq7"
      },
      "source": [
        "def cleanText(text):\n",
        "  regex = re.compile('[' + re.escape(string.punctuation) + '0-9\\\\r\\\\t\\\\n]')\n",
        "  text = regex.sub(\" \", text.lower())\n",
        "  return text"
      ],
      "execution_count": null,
      "outputs": []
    },
    {
      "cell_type": "code",
      "metadata": {
        "id": "zsPcKz4AK8_V"
      },
      "source": [
        "def get_cltext2(document):\n",
        "    words = tokenize(document)\n",
        "    words = cleanTweet(words,exclude_re)\n",
        "    words = [lemmatizer.lemmatize(w) for w in words]\n",
        "    pos = [postagger.get_pos_tag(w)[0] for w in words if len(postagger.get_pos_tag(w))>0]\n",
        "    allowed_word_types = [\"ADV\",\"JJ\",\"ADJP\",\"VB\"]\n",
        "    allowed_words=[w[0] for w in pos if w[1] in allowed_word_types]\n",
        "    cltext = ' '.join(allowed_words)\n",
        "    return cltext"
      ],
      "execution_count": null,
      "outputs": []
    },
    {
      "cell_type": "code",
      "metadata": {
        "id": "RPhxpUmDyydg"
      },
      "source": [
        "def get_cltext(document):\n",
        "    words = tokenize(document)\n",
        "    words = cleanTweet(words,exclude_re)\n",
        "    words = [lemmatizer.lemmatize(w) for w in words]\n",
        "    cltext = ' '.join(words)\n",
        "    return cltext"
      ],
      "execution_count": null,
      "outputs": []
    },
    {
      "cell_type": "code",
      "metadata": {
        "id": "jm27FaIoAJbj"
      },
      "source": [
        "#Melatih Model k-NN\n",
        "x_train = [];\n",
        "y_train = [];\n",
        "for (rev, category) in document[:trainsize]:\n",
        "  #text = cleanText(rev)\n",
        "  text = get_cltext(rev)\n",
        "  #lmz_train = lemmatizer.lemmatize(text);\n",
        "  x_train.append(text);\n",
        "  y_train.append(category);"
      ],
      "execution_count": null,
      "outputs": []
    },
    {
      "cell_type": "code",
      "metadata": {
        "id": "M-X7iTo0ssbb"
      },
      "source": [
        "def set_numeric_label(y):\n",
        "  dfy = pd.DataFrame(y)\n",
        "  nmy = dfy.replace(['negative','positive'],[0,1])\n",
        "  return nmy[0].values.tolist()"
      ],
      "execution_count": null,
      "outputs": []
    },
    {
      "cell_type": "code",
      "metadata": {
        "id": "ie8jqDRhtyV8"
      },
      "source": [
        "y_train = set_numeric_label(y_train)"
      ],
      "execution_count": null,
      "outputs": []
    },
    {
      "cell_type": "code",
      "metadata": {
        "colab": {
          "base_uri": "https://localhost:8080/"
        },
        "id": "YjqiTx2kBKjB",
        "outputId": "07148cb3-b0c3-4b02-f172-f1d97cfbcdac"
      },
      "source": [
        "print(y_train[:100])"
      ],
      "execution_count": null,
      "outputs": [
        {
          "output_type": "stream",
          "name": "stdout",
          "text": [
            "[1, 1, 0, 0, 1, 1, 0, 0, 1, 1, 1, 1, 1, 0, 1, 1, 1, 0, 1, 1, 1, 1, 1, 1, 1, 1, 1, 1, 1, 1, 1, 1, 1, 1, 1, 1, 1, 1, 1, 1, 1, 1, 0, 1, 1, 1, 0, 0, 1, 0, 0, 1, 1, 1, 1, 1, 1, 1, 0, 1, 0, 1, 1, 1, 0, 1, 0, 1, 0, 1, 1, 0, 0, 1, 1, 1, 1, 1, 1, 1, 1, 1, 1, 0, 1, 1, 1, 1, 1, 1, 1, 1, 1, 0, 1, 0, 0, 0, 0, 0]\n"
          ]
        }
      ]
    },
    {
      "cell_type": "code",
      "metadata": {
        "id": "rwPjkwLUBSkS"
      },
      "source": [
        "from sklearn.feature_extraction.text import CountVectorizer\n",
        "bow_vectorizer = CountVectorizer(max_features=50000, stop_words=set(stop))"
      ],
      "execution_count": null,
      "outputs": []
    },
    {
      "cell_type": "code",
      "metadata": {
        "colab": {
          "base_uri": "https://localhost:8080/"
        },
        "id": "2xRuVyvRBsyG",
        "outputId": "b8f6d507-1452-4d1d-ffdf-b0603429ec68"
      },
      "source": [
        "bowVect = bow_vectorizer.fit(x_train)"
      ],
      "execution_count": null,
      "outputs": [
        {
          "output_type": "stream",
          "name": "stderr",
          "text": [
            "/usr/local/lib/python3.7/dist-packages/sklearn/feature_extraction/text.py:385: UserWarning: Your stop_words may be inconsistent with your preprocessing. Tokenizing the stop words generated tokens ['baiknya', 'batas', 'benarnya', 'bener', 'berulang', 'dalamnya', 'dibagi', 'galanya', 'gamblangnya', 'gini', 'gininya', 'harinya', 'kesini', 'kurangnya', 'mata', 'menerus', 'mereta', 'merta', 'musabab', 'musababnya', 'napa', 'nyata', 'olah', 'ratanya', 'reka', 'rupa', 'sebenar', 'sedalam', 'segamblang', 'segini', 'segmen', 'sejelas', 'sekurang', 'sempet', 'tama', 'yakinnya'] not in stop_words.\n",
            "  'stop_words.' % sorted(inconsistent))\n"
          ]
        }
      ]
    },
    {
      "cell_type": "code",
      "metadata": {
        "id": "JJe_zEAzHcbS"
      },
      "source": [
        "bowTrain = bowVect.transform(x_train)"
      ],
      "execution_count": null,
      "outputs": []
    },
    {
      "cell_type": "code",
      "metadata": {
        "colab": {
          "base_uri": "https://localhost:8080/"
        },
        "id": "nZuy77t16wWb",
        "outputId": "f661439f-42b7-4d20-da0a-e25674004560"
      },
      "source": [
        "feat = bow_vectorizer.get_feature_names()\n",
        "feat"
      ],
      "execution_count": null,
      "outputs": [
        {
          "output_type": "execute_result",
          "data": {
            "text/plain": [
              "['aamiin',\n",
              " 'abis',\n",
              " 'acara',\n",
              " 'adain',\n",
              " 'adakan',\n",
              " 'adil',\n",
              " 'adlh',\n",
              " 'aduh',\n",
              " 'aduhh',\n",
              " 'adukk',\n",
              " 'ahhh',\n",
              " 'ahmad',\n",
              " 'aing',\n",
              " 'ajah',\n",
              " 'ajak',\n",
              " 'ajar',\n",
              " 'akibat',\n",
              " 'akselerasi',\n",
              " 'aksi',\n",
              " 'aktivitas',\n",
              " 'alami',\n",
              " 'alas',\n",
              " 'album',\n",
              " 'alias',\n",
              " 'alim',\n",
              " 'allah',\n",
              " 'alun',\n",
              " 'aman',\n",
              " 'ambil',\n",
              " 'anak',\n",
              " 'anggar',\n",
              " 'anggota',\n",
              " 'angka',\n",
              " 'angkot',\n",
              " 'angkut',\n",
              " 'anies',\n",
              " 'anjgggg',\n",
              " 'anjir',\n",
              " 'anjr',\n",
              " 'antigen',\n",
              " 'antisipasi',\n",
              " 'anxious',\n",
              " 'anyinkk',\n",
              " 'anyinkkk',\n",
              " 'apalg',\n",
              " 'aparat',\n",
              " 'apasih',\n",
              " 'apbn',\n",
              " 'aplgi',\n",
              " 'april',\n",
              " 'arab',\n",
              " 'arief',\n",
              " 'arisan',\n",
              " 'asli',\n",
              " 'atur',\n",
              " 'awam',\n",
              " 'aware',\n",
              " 'axiata',\n",
              " 'babang',\n",
              " 'baca',\n",
              " 'backhand',\n",
              " 'bagong',\n",
              " 'bagus',\n",
              " 'bahaya',\n",
              " 'bakar',\n",
              " 'baksinasi',\n",
              " 'bal',\n",
              " 'bali',\n",
              " 'banci',\n",
              " 'bandung',\n",
              " 'bangga',\n",
              " 'bangsa',\n",
              " 'banjir',\n",
              " 'bansos',\n",
              " 'bantu',\n",
              " 'bapak',\n",
              " 'barang',\n",
              " 'bareng',\n",
              " 'basi',\n",
              " 'batal',\n",
              " 'batas',\n",
              " 'bayar',\n",
              " 'beaming',\n",
              " 'bebal',\n",
              " 'beban',\n",
              " 'bebas',\n",
              " 'bejibun',\n",
              " 'belah',\n",
              " 'beli',\n",
              " 'bencana',\n",
              " 'benci',\n",
              " 'bener',\n",
              " 'beneran',\n",
              " 'bensin',\n",
              " 'beras',\n",
              " 'berita',\n",
              " 'berkat',\n",
              " 'berlakuin',\n",
              " 'berlalulintas',\n",
              " 'besar',\n",
              " 'besok',\n",
              " 'bgtt',\n",
              " 'biar',\n",
              " 'biaya',\n",
              " 'bijak',\n",
              " 'bikin',\n",
              " 'bilang',\n",
              " 'bingung',\n",
              " 'bioskop',\n",
              " 'birthday',\n",
              " 'bisnis',\n",
              " 'bkal',\n",
              " 'blas',\n",
              " 'blitar',\n",
              " 'bnyk',\n",
              " 'bodoh',\n",
              " 'bogor',\n",
              " 'bonceng',\n",
              " 'booster',\n",
              " 'boy',\n",
              " 'brapa',\n",
              " 'brbagai',\n",
              " 'brng',\n",
              " 'broken',\n",
              " 'buah',\n",
              " 'bucin',\n",
              " 'buka',\n",
              " 'bukti',\n",
              " 'business',\n",
              " 'buta',\n",
              " 'button',\n",
              " 'butuh',\n",
              " 'bwat',\n",
              " 'cabang',\n",
              " 'cagak',\n",
              " 'cahari',\n",
              " 'campur',\n",
              " 'capai',\n",
              " 'cape',\n",
              " 'capee',\n",
              " 'capek',\n",
              " 'cari',\n",
              " 'catat',\n",
              " 'cebong',\n",
              " 'cegah',\n",
              " 'cekik',\n",
              " 'celaka',\n",
              " 'cepat',\n",
              " 'cerita',\n",
              " 'cholil',\n",
              " 'ciasem',\n",
              " 'cijambe',\n",
              " 'cirebon',\n",
              " 'coba',\n",
              " 'collapse',\n",
              " 'comeback',\n",
              " 'corona',\n",
              " 'countercylical',\n",
              " 'country',\n",
              " 'covid',\n",
              " 'cowok',\n",
              " 'crying',\n",
              " 'culek',\n",
              " 'cuman',\n",
              " 'cuti',\n",
              " 'dada',\n",
              " 'dadak',\n",
              " 'daerah',\n",
              " 'dampak',\n",
              " 'dapet',\n",
              " 'daring',\n",
              " 'darurat',\n",
              " 'dasar',\n",
              " 'debat',\n",
              " 'debsi',\n",
              " 'december',\n",
              " 'demo',\n",
              " 'denda',\n",
              " 'denger',\n",
              " 'dengerin',\n",
              " 'deobo',\n",
              " 'depok',\n",
              " 'derita',\n",
              " 'desa',\n",
              " 'desember',\n",
              " 'dianjurinnya',\n",
              " 'diapus',\n",
              " 'dibatasin',\n",
              " 'dibhongin',\n",
              " 'dibubarin',\n",
              " 'diem',\n",
              " 'diginiin',\n",
              " 'digituin',\n",
              " 'dikmas',\n",
              " 'dipikirin',\n",
              " 'disekolahin',\n",
              " 'disiplin',\n",
              " 'ditingkatin',\n",
              " 'doa',\n",
              " 'donefrid',\n",
              " 'dongo',\n",
              " 'double',\n",
              " 'down',\n",
              " 'dpet',\n",
              " 'dprd',\n",
              " 'drpd',\n",
              " 'duit',\n",
              " 'duka',\n",
              " 'dukung',\n",
              " 'dungu',\n",
              " 'edukasi',\n",
              " 'eehh',\n",
              " 'efektif',\n",
              " 'effendy',\n",
              " 'eggi',\n",
              " 'ehhhh',\n",
              " 'ekonomi',\n",
              " 'elus',\n",
              " 'emosi',\n",
              " 'enak',\n",
              " 'engga',\n",
              " 'enggak',\n",
              " 'entar',\n",
              " 'ente',\n",
              " 'entry',\n",
              " 'esensi',\n",
              " 'etapi',\n",
              " 'etdah',\n",
              " 'exclamation',\n",
              " 'expressionless',\n",
              " 'eyes',\n",
              " 'face',\n",
              " 'federasi',\n",
              " 'female',\n",
              " 'fenomena',\n",
              " 'film',\n",
              " 'fingers',\n",
              " 'fisik',\n",
              " 'fitri',\n",
              " 'floor',\n",
              " 'folded',\n",
              " 'formula',\n",
              " 'forum',\n",
              " 'foto',\n",
              " 'from',\n",
              " 'fuck',\n",
              " 'fullday',\n",
              " 'futsal',\n",
              " 'gaada',\n",
              " 'gabisa',\n",
              " 'gagal',\n",
              " 'gage',\n",
              " 'gaje',\n",
              " 'gajelas',\n",
              " 'gaji',\n",
              " 'gamau',\n",
              " 'gampang',\n",
              " 'ganggu',\n",
              " 'ganti',\n",
              " 'gapapa',\n",
              " 'gara',\n",
              " 'gausah',\n",
              " 'gaya',\n",
              " 'gede',\n",
              " 'gedung',\n",
              " 'gelar',\n",
              " 'gelombang',\n",
              " 'genting',\n",
              " 'gerak',\n",
              " 'gerombol',\n",
              " 'geser',\n",
              " 'ggra',\n",
              " 'giat',\n",
              " 'gigs',\n",
              " 'gila',\n",
              " 'gilak',\n",
              " 'gilir',\n",
              " 'gimana',\n",
              " 'gin',\n",
              " 'ginjal',\n",
              " 'give',\n",
              " 'gowa',\n",
              " 'gratis',\n",
              " 'green',\n",
              " 'growing',\n",
              " 'gubernur',\n",
              " 'guru',\n",
              " 'guys',\n",
              " 'habis',\n",
              " 'haha',\n",
              " 'hahaha',\n",
              " 'hakim',\n",
              " 'halang',\n",
              " 'halo',\n",
              " 'hambat',\n",
              " 'hand',\n",
              " 'handle',\n",
              " 'handoyo',\n",
              " 'hands',\n",
              " 'hang',\n",
              " 'happiness',\n",
              " 'happy',\n",
              " 'haram',\n",
              " 'harap',\n",
              " 'harga',\n",
              " 'hasil',\n",
              " 'heart',\n",
              " 'hebat',\n",
              " 'helm',\n",
              " 'herd',\n",
              " 'hidup',\n",
              " 'himbauan',\n",
              " 'himpun',\n",
              " 'hindar',\n",
              " 'hingga',\n",
              " 'holidays',\n",
              " 'home',\n",
              " 'hops',\n",
              " 'hotel',\n",
              " 'hubung',\n",
              " 'huhuhu',\n",
              " 'ibadah',\n",
              " 'idul',\n",
              " 'idulfitri',\n",
              " 'ijinkan',\n",
              " 'ikutin',\n",
              " 'ilang',\n",
              " 'immunity',\n",
              " 'implementasi',\n",
              " 'imunity',\n",
              " 'income',\n",
              " 'index',\n",
              " 'indo',\n",
              " 'indonesia',\n",
              " 'inget',\n",
              " 'internal',\n",
              " 'interpelasi',\n",
              " 'inti',\n",
              " 'investasi',\n",
              " 'islam',\n",
              " 'istilah',\n",
              " 'istirahat',\n",
              " 'istri',\n",
              " 'ituu',\n",
              " 'iyaaa',\n",
              " 'jadiin',\n",
              " 'jaga',\n",
              " 'jajan',\n",
              " 'jakarta',\n",
              " 'jalan',\n",
              " 'jaman',\n",
              " 'jamin',\n",
              " 'januari',\n",
              " 'jarak',\n",
              " 'jawa',\n",
              " 'jelang',\n",
              " 'jenuh',\n",
              " 'jidat',\n",
              " 'jilat',\n",
              " 'jiwa',\n",
              " 'jngn',\n",
              " 'jogja',\n",
              " 'jogjaaaa',\n",
              " 'jokowi',\n",
              " 'joy',\n",
              " 'juli',\n",
              " 'juni',\n",
              " 'kabar',\n",
              " 'kabupaten',\n",
              " 'kaga',\n",
              " 'kagak',\n",
              " 'kait',\n",
              " 'kalimantan',\n",
              " 'kalimat',\n",
              " 'kalo',\n",
              " 'kampanye',\n",
              " 'kamsel',\n",
              " 'kanigoro',\n",
              " 'kantor',\n",
              " 'kapolres',\n",
              " 'karanganyar',\n",
              " 'karantina',\n",
              " 'karma',\n",
              " 'karna',\n",
              " 'karo',\n",
              " 'karya',\n",
              " 'kasih',\n",
              " 'kasihan',\n",
              " 'kategori',\n",
              " 'kawan',\n",
              " 'kaya',\n",
              " 'kayak',\n",
              " 'kecewa',\n",
              " 'kejar',\n",
              " 'kek',\n",
              " 'kelar',\n",
              " 'kelas',\n",
              " 'kelompok',\n",
              " 'keluarga',\n",
              " 'keluh',\n",
              " 'keluyur',\n",
              " 'kemaren',\n",
              " 'kemarin',\n",
              " 'kembang',\n",
              " 'kemenhub',\n",
              " 'kena',\n",
              " 'kendali',\n",
              " 'kendor',\n",
              " 'kepri',\n",
              " 'keras',\n",
              " 'kerja',\n",
              " 'kerjasama',\n",
              " 'kerumun',\n",
              " 'kesanaa',\n",
              " 'kesel',\n",
              " 'keselamata',\n",
              " 'ketat',\n",
              " 'kgak',\n",
              " 'kick',\n",
              " 'kimchil',\n",
              " 'klubl',\n",
              " 'kmpret',\n",
              " 'kmrin',\n",
              " 'kocak',\n",
              " 'komedi',\n",
              " 'komisi',\n",
              " 'komunikasi',\n",
              " 'kondisi',\n",
              " 'kondusifitas',\n",
              " 'konferensi',\n",
              " 'konsep',\n",
              " 'konteks',\n",
              " 'koptu',\n",
              " 'koramil',\n",
              " 'korban',\n",
              " 'korona',\n",
              " 'kost',\n",
              " 'kota',\n",
              " 'kristiani',\n",
              " 'krng',\n",
              " 'ksll',\n",
              " 'kuah',\n",
              " 'kuat',\n",
              " 'kudu',\n",
              " 'kumpul',\n",
              " 'kurun',\n",
              " 'laksana',\n",
              " 'laku',\n",
              " 'lalang',\n",
              " 'lalulintas',\n",
              " 'lambat',\n",
              " 'lampung',\n",
              " 'langgar',\n",
              " 'langka',\n",
              " 'langkah',\n",
              " 'lanjutken',\n",
              " 'lansung',\n",
              " 'lantas',\n",
              " 'lapak',\n",
              " 'laptop',\n",
              " 'larang',\n",
              " 'laughing',\n",
              " 'lawan',\n",
              " 'layar',\n",
              " 'lebaran',\n",
              " 'lekas',\n",
              " 'lelah',\n",
              " 'lempar',\n",
              " 'lengkuas',\n",
              " 'lepas',\n",
              " 'level',\n",
              " 'liat',\n",
              " 'liatlag',\n",
              " 'libur',\n",
              " 'liburin',\n",
              " 'liburr',\n",
              " 'liga',\n",
              " 'light',\n",
              " 'lindung',\n",
              " 'lintas',\n",
              " 'liter',\n",
              " 'logistik',\n",
              " 'longgar',\n",
              " 'lonjak',\n",
              " 'lots',\n",
              " 'loudly',\n",
              " 'lucu',\n",
              " 'luncur',\n",
              " 'lupa',\n",
              " 'lusa',\n",
              " 'mabar',\n",
              " 'macem',\n",
              " 'macet',\n",
              " 'maen',\n",
              " 'main',\n",
              " 'makan',\n",
              " 'maksain',\n",
              " 'maksod',\n",
              " 'mall',\n",
              " 'mallnya',\n",
              " 'mamak',\n",
              " 'mampus',\n",
              " 'man',\n",
              " 'manggung',\n",
              " 'manusia',\n",
              " 'many',\n",
              " 'marah',\n",
              " 'margonda',\n",
              " 'mari',\n",
              " 'mark',\n",
              " 'masak',\n",
              " 'masker',\n",
              " 'masuk',\n",
              " 'masyarakat',\n",
              " 'masyaraket',\n",
              " 'mata',\n",
              " 'mateng',\n",
              " 'maybe',\n",
              " 'mbaa',\n",
              " 'mbak',\n",
              " 'mboyakkkk',\n",
              " 'mean',\n",
              " 'meanwhile',\n",
              " 'media',\n",
              " 'mekanisme',\n",
              " 'melulu',\n",
              " 'memories',\n",
              " 'mending',\n",
              " 'menghimbau',\n",
              " 'menko',\n",
              " 'mensukseskan',\n",
              " 'mental',\n",
              " 'mentungi',\n",
              " 'metik',\n",
              " 'metong',\n",
              " 'micyeoseo',\n",
              " 'mikir',\n",
              " 'mikirin',\n",
              " 'mikro',\n",
              " 'miss',\n",
              " 'misuh',\n",
              " 'mnding',\n",
              " 'mnghargai',\n",
              " 'mobil',\n",
              " 'mobilisasi',\n",
              " 'moga',\n",
              " 'momen',\n",
              " 'motor',\n",
              " 'mouth',\n",
              " 'mudah',\n",
              " 'mudik',\n",
              " 'muhadjir',\n",
              " 'muka',\n",
              " 'muktamar',\n",
              " 'mulu',\n",
              " 'muncul',\n",
              " 'muntah',\n",
              " 'murah',\n",
              " 'murid',\n",
              " 'musik',\n",
              " 'musisi',\n",
              " 'muslim',\n",
              " 'mutasi',\n",
              " 'nabung',\n",
              " 'naek',\n",
              " 'nahh',\n",
              " 'nantang',\n",
              " 'napasih',\n",
              " 'nasional',\n",
              " 'natal',\n",
              " 'nataru',\n",
              " 'negara',\n",
              " 'negatif',\n",
              " 'negeri',\n",
              " 'nehh',\n",
              " 'nekat',\n",
              " 'neng',\n",
              " 'ngab',\n",
              " 'ngacung',\n",
              " 'ngadain',\n",
              " 'ngahok',\n",
              " 'ngajak',\n",
              " 'ngajakin',\n",
              " 'nganggur',\n",
              " 'ngapain',\n",
              " 'ngeganggu',\n",
              " 'ngegigs',\n",
              " 'ngehe',\n",
              " 'ngejamin',\n",
              " 'ngelamar',\n",
              " 'ngelanggar',\n",
              " 'ngeliat',\n",
              " 'ngene',\n",
              " 'ngerasain',\n",
              " 'ngerayain',\n",
              " 'ngerjain',\n",
              " 'ngerti',\n",
              " 'ngewe',\n",
              " 'ngga',\n",
              " 'nggak',\n",
              " 'ngilangin',\n",
              " 'nginget',\n",
              " 'ngiri',\n",
              " 'ngomong',\n",
              " 'ngomongnya',\n",
              " 'ngopi',\n",
              " 'ngotot',\n",
              " 'ngumpul',\n",
              " 'ngundur',\n",
              " 'niat',\n",
              " 'nihhh',\n",
              " 'nikah',\n",
              " 'nikmatin',\n",
              " 'njir',\n",
              " 'no',\n",
              " 'nomor',\n",
              " 'nongki',\n",
              " 'nongkrong',\n",
              " 'nonton',\n",
              " 'normal',\n",
              " 'ntar',\n",
              " 'nunggu',\n",
              " 'nyebar',\n",
              " 'nyesel',\n",
              " 'nyuri',\n",
              " 'of',\n",
              " 'ofline',\n",
              " 'ojek',\n",
              " 'oklah',\n",
              " 'oknum',\n",
              " 'oktober',\n",
              " 'omicron',\n",
              " 'omnicron',\n",
              " 'omricon',\n",
              " 'on',\n",
              " 'online',\n",
              " 'opang',\n",
              " 'optimal',\n",
              " 'orang',\n",
              " 'otak',\n",
              " 'otista',\n",
              " 'otoriterin',\n",
              " 'over',\n",
              " 'pablo',\n",
              " 'paham',\n",
              " 'pajak',\n",
              " 'pakai',\n",
              " 'pake',\n",
              " 'paket',\n",
              " 'paksa',\n",
              " 'pala',\n",
              " 'pandemi',\n",
              " 'pangkal',\n",
              " 'pangkas',\n",
              " 'pantes',\n",
              " 'papa',\n",
              " 'pariwisata',\n",
              " 'parno',\n",
              " 'party',\n",
              " 'pasar',\n",
              " 'pasca',\n",
              " 'pasien',\n",
              " 'pasif',\n",
              " 'patria',\n",
              " 'patroli',\n",
              " 'patuh',\n",
              " 'pedes',\n",
              " 'peduli',\n",
              " 'pekan',\n",
              " 'pemanngilan',\n",
              " 'pematangsiantar',\n",
              " 'pemprov',\n",
              " 'penat',\n",
              " 'pendek',\n",
              " 'penuh',\n",
              " 'peran',\n",
              " 'pergi',\n",
              " 'perintah',\n",
              " 'perkara',\n",
              " 'pers',\n",
              " 'person',\n",
              " 'pesta',\n",
              " 'phri',\n",
              " 'piara',\n",
              " 'pijak',\n",
              " 'pijat',\n",
              " 'pikir',\n",
              " 'pimpin',\n",
              " 'pindah',\n",
              " 'pisah',\n",
              " 'pkonya',\n",
              " 'plan',\n",
              " 'planing',\n",
              " 'play',\n",
              " 'pleading',\n",
              " 'please',\n",
              " 'plis',\n",
              " 'pmberlakuan',\n",
              " 'pointing',\n",
              " 'pokoee',\n",
              " 'polisi',\n",
              " 'politik',\n",
              " 'poll',\n",
              " 'polrestro',\n",
              " 'polri',\n",
              " 'posisi',\n",
              " 'posko',\n",
              " 'ppkm',\n",
              " 'preventif',\n",
              " 'prewed',\n",
              " 'produk',\n",
              " 'produktif',\n",
              " 'profesional',\n",
              " 'program',\n",
              " 'prokes',\n",
              " 'proses',\n",
              " 'protes',\n",
              " 'protokol',\n",
              " 'provinsi',\n",
              " 'psbb',\n",
              " 'puasa',\n",
              " 'publik',\n",
              " 'pulang',\n",
              " 'pulih',\n",
              " 'puncak',\n",
              " 'purple',\n",
              " 'putus',\n",
              " 'pwnu',\n",
              " 'question',\n",
              " 'rahmad',\n",
              " 'rahman',\n",
              " 'raising',\n",
              " 'rakyat',\n",
              " 'ramai',\n",
              " 'rangka',\n",
              " 'rangkum',\n",
              " 'rantai',\n",
              " 'rantau',\n",
              " 'rawat',\n",
              " 'raya',\n",
              " 'ready',\n",
              " 'reaktif',\n",
              " 'rebah',\n",
              " 'refreshing',\n",
              " 'rekomendasi',\n",
              " 'rekrutmen',\n",
              " 'rencana',\n",
              " 'rendah',\n",
              " 'reposted',\n",
              " 'rese',\n",
              " 'resek',\n",
              " 'resign',\n",
              " 'resmi',\n",
              " 'rest',\n",
              " 'restoran',\n",
              " 'reuni',\n",
              " 'rezim',\n",
              " 'ribet',\n",
              " 'ringan',\n",
              " 'riza',\n",
              " 'roda',\n",
              " 'rolling',\n",
              " 'ruang',\n",
              " 'rumah',\n",
              " 'rumahh',\n",
              " 'rusak',\n",
              " 'rusuh',\n",
              " 'sadar',\n",
              " 'sakit',\n",
              " 'salah',\n",
              " 'saler',\n",
              " 'sambut',\n",
              " 'sampe',\n",
              " 'sangkut',\n",
              " 'sarang',\n",
              " 'satire',\n",
              " 'satlantas',\n",
              " 'satpol',\n",
              " 'sbar',\n",
              " 'sblm',\n",
              " 'sblmnya',\n",
              " 'sebar',\n",
              " 'sebentar',\n",
              " 'sederhana',\n",
              " 'sedih',\n",
              " 'sehat',\n",
              " 'sekat',\n",
              " 'sekolah',\n",
              " 'sekretaris',\n",
              " 'selamat',\n",
              " 'selesai',\n",
              " 'semesta',\n",
              " 'semester',\n",
              " 'sen',\n",
              " 'senang',\n",
              " 'sentil',\n",
              " 'sepakat',\n",
              " 'sepeda',\n",
              " 'sepele',\n",
              " 'september',\n",
              " 'serasa',\n",
              " 'serentak',\n",
              " 'seri',\n",
              " 'sesuai',\n",
              " 'setan',\n",
              " 'setiabudi',\n",
              " 'sgin',\n",
              " 'shock',\n",
              " 'siantar',\n",
              " 'siberat',\n",
              " 'sibuk',\n",
              " 'sigap',\n",
              " 'sign',\n",
              " 'sihh',\n",
              " 'sikap',\n",
              " 'silah',\n",
              " 'simak',\n",
              " 'simpang',\n",
              " 'sin',\n",
              " 'sinergi',\n",
              " 'sinta',\n",
              " 'sinting',\n",
              " 'sisi',\n",
              " 'sisir',\n",
              " 'sistem',\n",
              " 'siswa',\n",
              " 'situasi',\n",
              " 'situasiny',\n",
              " 'skin',\n",
              " 'skip',\n",
              " 'skrg',\n",
              " 'slama',\n",
              " 'smiling',\n",
              " 'smoga',\n",
              " 'smpe',\n",
              " 'snack',\n",
              " 'sneezing',\n",
              " 'soalna',\n",
              " 'solutions',\n",
              " 'someone',\n",
              " 'sorry',\n",
              " 'sosialisasi',\n",
              " 'spill',\n",
              " 'splayed',\n",
              " 'stabilitas',\n",
              " 'stagnan',\n",
              " 'staquf',\n",
              " 'status',\n",
              " 'stiker',\n",
              " 'stlh',\n",
              " 'stop',\n",
              " 'stres',\n",
              " 'stress',\n",
              " 'studytour',\n",
              " 'suai',\n",
              " 'suami',\n",
              " 'subandriyo',\n",
              " 'subang',\n",
              " 'subsidi',\n",
              " 'sudab',\n",
              " 'suka',\n",
              " 'sukamara',\n",
              " 'sukses',\n",
              " 'sumatera',\n",
              " 'sumpah',\n",
              " 'sumpek',\n",
              " 'sumut',\n",
              " 'suntik',\n",
              " 'super',\n",
              " 'surabaya',\n",
              " 'surah',\n",
              " 'surat',\n",
              " 'suruh',\n",
              " 'surut',\n",
              " 'susah',\n",
              " 'suzuki',\n",
              " 'sweat',\n",
              " 'syarat',\n",
              " 'taat',\n",
              " 'tabung',\n",
              " 'tahan',\n",
              " 'takenya',\n",
              " 'takut',\n",
              " 'taman',\n",
              " 'tamu',\n",
              " 'tangan',\n",
              " 'tanggal',\n",
              " 'tanggulang',\n",
              " 'tanggungjawab',\n",
              " 'tantang',\n",
              " 'target',\n",
              " 'tasikmadu',\n",
              " 'tau',\n",
              " 'taun',\n",
              " 'tawangsari',\n",
              " 'tayang',\n",
              " 'tear',\n",
              " 'tears',\n",
              " 'tegak',\n",
              " 'tekan',\n",
              " 'tell',\n",
              " 'teman',\n",
              " 'temen',\n",
              " 'tempel',\n",
              " 'tempo',\n",
              " 'temu',\n",
              " 'tenang',\n",
              " 'tenggat',\n",
              " 'tentrem',\n",
              " 'teori',\n",
              " 'tepok',\n",
              " 'terap',\n",
              " 'terbang',\n",
              " 'terget',\n",
              " 'terima',\n",
              " 'terminal',\n",
              " 'tertib',\n",
              " 'tetep',\n",
              " 'thanks',\n",
              " 'the',\n",
              " 'third',\n",
              " 'this',\n",
              " 'thumbs',\n",
              " 'tiada',\n",
              " 'timbang',\n",
              " 'timbul',\n",
              " 'tindak',\n",
              " 'tinggal',\n",
              " 'tingkat',\n",
              " 'tipe',\n",
              " 'tipping',\n",
              " 'tntng',\n",
              " 'tolak',\n",
              " 'tolol',\n",
              " 'tone',\n",
              " 'tonton',\n",
              " 'toyota',\n",
              " 'tptpu',\n",
              " 'transit',\n",
              " 'trimakasi',\n",
              " 'tros',\n",
              " 'trus',\n",
              " 'trutama',\n",
              " 'tugas',\n",
              " 'tuhan',\n",
              " 'tuju',\n",
              " 'tular',\n",
              " 'tumpuk',\n",
              " 'tunai',\n",
              " 'tunda',\n",
              " 'tunggu',\n",
              " 'tunjukin',\n",
              " 'turun',\n",
              " 'tutup',\n",
              " 'uang',\n",
              " 'ubah',\n",
              " 'uji',\n",
              " 'ujung',\n",
              " 'ultah',\n",
              " 'ultahnya',\n",
              " 'umat',\n",
              " 'umkm',\n",
              " 'ummat',\n",
              " 'unamused',\n",
              " 'undang',\n",
              " 'undur',\n",
              " 'unit',\n",
              " 'untung',\n",
              " 'up',\n",
              " 'upah',\n",
              " 'upaya',\n",
              " 'urus',\n",
              " 'usaha',\n",
              " 'utama',\n",
              " 'vaksin',\n",
              " 'vaksinasi',\n",
              " 'varian',\n",
              " 'versi',\n",
              " 'viru',\n",
              " 'virus',\n",
              " 'wabah',\n",
              " 'wabup',\n",
              " 'wagub',\n",
              " 'wajib',\n",
              " 'wake',\n",
              " 'walafiat',\n",
              " 'warga',\n",
              " 'wartawan',\n",
              " 'wave',\n",
              " 'webinar',\n",
              " 'welcome',\n",
              " 'what',\n",
              " 'wilayah',\n",
              " 'wisata',\n",
              " 'wisatawan',\n",
              " 'wish',\n",
              " 'wisma',\n",
              " 'wisuda',\n",
              " 'with',\n",
              " 'wktu',\n",
              " ...]"
            ]
          },
          "metadata": {},
          "execution_count": 79
        }
      ]
    },
    {
      "cell_type": "code",
      "metadata": {
        "id": "5kdFH5AHa_XK"
      },
      "source": [
        "x_test=[]\n",
        "for (rev, category) in document[trainsize:]:\n",
        "  text = get_cltext(rev)\n",
        "  lmz_test = lemmatizer.lemmatize(text);\n",
        "  x_test.append(lmz_test);"
      ],
      "execution_count": null,
      "outputs": []
    },
    {
      "cell_type": "code",
      "metadata": {
        "id": "0bKWvHMfbBMv"
      },
      "source": [
        "bowTest = bowVect.transform(x_test)"
      ],
      "execution_count": null,
      "outputs": []
    },
    {
      "cell_type": "code",
      "metadata": {
        "id": "Pwg_TBgyfNau"
      },
      "source": [
        "# Nilai label dari data test\n",
        "y_act=[]\n",
        "for (rev, category) in document[trainsize:]:\n",
        "  y_act.append(category)\n",
        "\n",
        "y_act = set_numeric_label(y_act)"
      ],
      "execution_count": null,
      "outputs": []
    },
    {
      "cell_type": "code",
      "metadata": {
        "id": "14civyCed63G"
      },
      "source": [
        "#Mendefinisikan fungsi untuk menghitung metrik evaluasi kinerja model\n",
        "def calculateMetric(lspred, y_test):\n",
        "  lsres = []\n",
        "  for prd in lspred:\n",
        "    acc = accuracy_score(y_test, prd[1], normalize = True)\n",
        "    prs = precision_score(y_test, prd[1], pos_label=1, average='binary')\n",
        "    rcl =recall_score(y_test, prd[1], pos_label=1, average='binary')\n",
        "    f1 = f1_score(y_test, prd[1], pos_label=1, average='binary')\n",
        "    auc = roc_auc_score(y_test, prd[1])\n",
        "    lsres.append([prd[0],acc,prs,rcl,f1,auc])\n",
        "  return lsres"
      ],
      "execution_count": null,
      "outputs": []
    },
    {
      "cell_type": "markdown",
      "metadata": {
        "id": "U2TKeOlNZzz_"
      },
      "source": [
        "##### K Nearest Neighbor"
      ]
    },
    {
      "cell_type": "code",
      "metadata": {
        "colab": {
          "base_uri": "https://localhost:8080/"
        },
        "id": "VRAehuQTH7Wv",
        "outputId": "8bddeeb9-e726-44a5-a06d-cd300ded7f61"
      },
      "source": [
        "knn = KNeighborsClassifier(n_neighbors = 3)\n",
        "knn.fit(bowTrain, y_train )"
      ],
      "execution_count": null,
      "outputs": [
        {
          "output_type": "execute_result",
          "data": {
            "text/plain": [
              "KNeighborsClassifier(algorithm='auto', leaf_size=30, metric='minkowski',\n",
              "                     metric_params=None, n_jobs=None, n_neighbors=3, p=2,\n",
              "                     weights='uniform')"
            ]
          },
          "metadata": {},
          "execution_count": 84
        }
      ]
    },
    {
      "cell_type": "code",
      "metadata": {
        "id": "oHT9B_oGM-oS"
      },
      "source": [
        "knpred = knn.predict(bowTest)"
      ],
      "execution_count": null,
      "outputs": []
    },
    {
      "cell_type": "code",
      "metadata": {
        "id": "3thJB5ubJevQ"
      },
      "source": [
        "from sklearn.metrics import classification_report"
      ],
      "execution_count": null,
      "outputs": []
    },
    {
      "cell_type": "code",
      "metadata": {
        "id": "CyBw4az-NNC1"
      },
      "source": [
        "target_names = [1, 0]"
      ],
      "execution_count": null,
      "outputs": []
    },
    {
      "cell_type": "code",
      "metadata": {
        "colab": {
          "base_uri": "https://localhost:8080/"
        },
        "id": "c3B7dLJANUP2",
        "outputId": "6cc23a9c-f9c0-4441-a33c-d8d9789f6a2b"
      },
      "source": [
        "print(classification_report(y_act, knpred))"
      ],
      "execution_count": null,
      "outputs": [
        {
          "output_type": "stream",
          "name": "stdout",
          "text": [
            "              precision    recall  f1-score   support\n",
            "\n",
            "           0       1.00      0.36      0.53        61\n",
            "           1       0.60      1.00      0.75        59\n",
            "\n",
            "    accuracy                           0.68       120\n",
            "   macro avg       0.80      0.68      0.64       120\n",
            "weighted avg       0.80      0.68      0.64       120\n",
            "\n"
          ]
        }
      ]
    },
    {
      "cell_type": "markdown",
      "metadata": {
        "id": "pr2qtmHjZvG2"
      },
      "source": [
        "##### Decision Tree"
      ]
    },
    {
      "cell_type": "code",
      "metadata": {
        "id": "2zml3IFe4Dyx"
      },
      "source": [
        "dtree = DecisionTreeClassifier()\n",
        "\n",
        "dtclf = dtree.fit(bowTrain, y_train) \n",
        "dtpred = dtclf.predict(bowTest)\n"
      ],
      "execution_count": null,
      "outputs": []
    },
    {
      "cell_type": "code",
      "metadata": {
        "colab": {
          "base_uri": "https://localhost:8080/"
        },
        "id": "98xgkztS4NzQ",
        "outputId": "5aeefab9-766b-477c-f9f2-c1e47c9d5613"
      },
      "source": [
        "print(\"Decission Tree accuracy : \",accuracy_score(y_act, dtpred, normalize = True))"
      ],
      "execution_count": null,
      "outputs": [
        {
          "output_type": "stream",
          "name": "stdout",
          "text": [
            "Decission Tree accuracy :  0.8166666666666667\n"
          ]
        }
      ]
    },
    {
      "cell_type": "markdown",
      "metadata": {
        "id": "WgdUIDUzcK0o"
      },
      "source": [
        "##### Logistic Regression"
      ]
    },
    {
      "cell_type": "code",
      "metadata": {
        "id": "9ncVcwFYcR1j"
      },
      "source": [
        "lr = LogisticRegression()\n",
        "lrclf = lr.fit(bowTrain, y_train)\n",
        "lrpred = lrclf.predict(bowTest)"
      ],
      "execution_count": null,
      "outputs": []
    },
    {
      "cell_type": "code",
      "metadata": {
        "colab": {
          "base_uri": "https://localhost:8080/"
        },
        "id": "A8R8buygdUrO",
        "outputId": "74c08e4f-b040-4817-fefc-b5d1d97481ea"
      },
      "source": [
        "print(\"Logistic regression accuracy : \",accuracy_score(y_act, lrpred, normalize = True))"
      ],
      "execution_count": null,
      "outputs": [
        {
          "output_type": "stream",
          "name": "stdout",
          "text": [
            "Logistic regression accuracy :  0.8416666666666667\n"
          ]
        }
      ]
    },
    {
      "cell_type": "markdown",
      "metadata": {
        "id": "6UiuvVMlaFI1"
      },
      "source": [
        "##### Naive Bayes"
      ]
    },
    {
      "cell_type": "code",
      "metadata": {
        "colab": {
          "base_uri": "https://localhost:8080/"
        },
        "id": "wezvKtjR5DR9",
        "outputId": "0300658d-8436-4a69-ce65-38d70f4331f4"
      },
      "source": [
        "gnb = GaussianNB()\n",
        "# latih classifier dengan data train dan lakukan prediksi\n",
        "nbclf = gnb.fit(bowTrain.toarray(), y_train) \n",
        "nbpred = nbclf.predict(bowTest.toarray())\n",
        "print(\"Naive-Bayes accuracy : \",accuracy_score(y_act, nbpred, normalize = True))"
      ],
      "execution_count": null,
      "outputs": [
        {
          "output_type": "stream",
          "name": "stdout",
          "text": [
            "Naive-Bayes accuracy :  0.625\n"
          ]
        }
      ]
    },
    {
      "cell_type": "markdown",
      "metadata": {
        "id": "Dw6I7K5qaMuH"
      },
      "source": [
        "##### Random Forest"
      ]
    },
    {
      "cell_type": "code",
      "metadata": {
        "colab": {
          "base_uri": "https://localhost:8080/"
        },
        "id": "WbEcVrCQSBfI",
        "outputId": "015e7ac7-7f03-4943-a0c3-e10b26373414"
      },
      "source": [
        "# Random Forest\n",
        "rf = RandomForestClassifier(n_estimators=1000,max_depth=100,random_state=1, n_jobs=-1)\n",
        "rfclf = rf.fit(bowTrain.toarray(), y_train)\n",
        "rf_pred = rfclf.predict(bowTest.toarray())\n",
        "print(\"random forest accuracy : \",accuracy_score(y_act, rf_pred, normalize = True))"
      ],
      "execution_count": null,
      "outputs": [
        {
          "output_type": "stream",
          "name": "stdout",
          "text": [
            "random forest accuracy :  0.825\n"
          ]
        }
      ]
    },
    {
      "cell_type": "code",
      "metadata": {
        "colab": {
          "base_uri": "https://localhost:8080/"
        },
        "id": "d9tc-a5bZ7B6",
        "outputId": "d3a39154-7b27-4201-fdaf-ca7135c4277f"
      },
      "source": [
        "print(classification_report(y_act, rf_pred))"
      ],
      "execution_count": null,
      "outputs": [
        {
          "output_type": "stream",
          "name": "stdout",
          "text": [
            "              precision    recall  f1-score   support\n",
            "\n",
            "           0       1.00      0.66      0.79        61\n",
            "           1       0.74      1.00      0.85        59\n",
            "\n",
            "    accuracy                           0.82       120\n",
            "   macro avg       0.87      0.83      0.82       120\n",
            "weighted avg       0.87      0.82      0.82       120\n",
            "\n"
          ]
        }
      ]
    },
    {
      "cell_type": "markdown",
      "metadata": {
        "id": "vOnQlt9laWtR"
      },
      "source": [
        "##### LGBM"
      ]
    },
    {
      "cell_type": "code",
      "metadata": {
        "id": "NaKlAFwybCwd"
      },
      "source": [
        "#LGBMBoost\n",
        "lgb = LGBMClassifier()\n",
        "\n",
        "lgbclf = lgb.fit(bowTrain.toarray(), y_train) \n",
        "lgb_pred = lgbclf.predict(bowTest.toarray())"
      ],
      "execution_count": null,
      "outputs": []
    },
    {
      "cell_type": "code",
      "metadata": {
        "colab": {
          "base_uri": "https://localhost:8080/"
        },
        "id": "cyGrp77qberL",
        "outputId": "8bc0196c-6476-4f19-c00e-4ef427b22b7d"
      },
      "source": [
        "print(classification_report(y_act, lgb_pred))"
      ],
      "execution_count": null,
      "outputs": [
        {
          "output_type": "stream",
          "name": "stdout",
          "text": [
            "              precision    recall  f1-score   support\n",
            "\n",
            "           0       0.98      0.89      0.93        61\n",
            "           1       0.89      0.98      0.94        59\n",
            "\n",
            "    accuracy                           0.93       120\n",
            "   macro avg       0.94      0.93      0.93       120\n",
            "weighted avg       0.94      0.93      0.93       120\n",
            "\n"
          ]
        }
      ]
    },
    {
      "cell_type": "markdown",
      "metadata": {
        "id": "gftAqNXEaeZ-"
      },
      "source": [
        "##### XGBoost"
      ]
    },
    {
      "cell_type": "code",
      "metadata": {
        "id": "qCYQy-VFbvZs"
      },
      "source": [
        "#XGBoost\n",
        "xgb = XGBClassifier()\n",
        "\n",
        "xgbclf = xgb.fit(bowTrain, y_train) \n",
        "xgb_pred = xgbclf.predict(bowTest)"
      ],
      "execution_count": null,
      "outputs": []
    },
    {
      "cell_type": "code",
      "metadata": {
        "colab": {
          "base_uri": "https://localhost:8080/"
        },
        "id": "PDaxqCsgcTxD",
        "outputId": "701790d7-8d4a-4e6f-bd37-7fdadc0395b9"
      },
      "source": [
        "print(classification_report(y_act, xgb_pred))"
      ],
      "execution_count": null,
      "outputs": [
        {
          "output_type": "stream",
          "name": "stdout",
          "text": [
            "              precision    recall  f1-score   support\n",
            "\n",
            "           0       0.98      0.84      0.90        61\n",
            "           1       0.85      0.98      0.91        59\n",
            "\n",
            "    accuracy                           0.91       120\n",
            "   macro avg       0.92      0.91      0.91       120\n",
            "weighted avg       0.92      0.91      0.91       120\n",
            "\n"
          ]
        }
      ]
    },
    {
      "cell_type": "markdown",
      "metadata": {
        "id": "nqZfWeVTajwY"
      },
      "source": [
        "##### AdaBoost"
      ]
    },
    {
      "cell_type": "code",
      "metadata": {
        "id": "J1vM2QsF2eNs"
      },
      "source": [
        "#AdaBoost\n",
        "ada = AdaBoostClassifier(n_estimators=10, random_state=1)\n",
        "adaclf = ada.fit(bowTrain, y_train)\n",
        "ada_pred = adaclf.predict(bowTest)"
      ],
      "execution_count": null,
      "outputs": []
    },
    {
      "cell_type": "code",
      "metadata": {
        "colab": {
          "base_uri": "https://localhost:8080/"
        },
        "id": "jef_gMpG2vlK",
        "outputId": "b2a6ee8e-ca2d-4e6a-b42f-17ffec2b18b5"
      },
      "source": [
        "print(classification_report(y_act, ada_pred))"
      ],
      "execution_count": null,
      "outputs": [
        {
          "output_type": "stream",
          "name": "stdout",
          "text": [
            "              precision    recall  f1-score   support\n",
            "\n",
            "           0       0.97      0.95      0.96        61\n",
            "           1       0.95      0.97      0.96        59\n",
            "\n",
            "    accuracy                           0.96       120\n",
            "   macro avg       0.96      0.96      0.96       120\n",
            "weighted avg       0.96      0.96      0.96       120\n",
            "\n"
          ]
        }
      ]
    },
    {
      "cell_type": "markdown",
      "metadata": {
        "id": "iuIqE5Msapu2"
      },
      "source": [
        "##### Stacking - Voting Classifier"
      ]
    },
    {
      "cell_type": "code",
      "metadata": {
        "id": "apKli84y3rIE"
      },
      "source": [
        "models = [\n",
        "    ('knn', knn),\n",
        "    ('lr', lr),\n",
        "    ('ada', ada),\n",
        "    ('rf', rf)]\n",
        "\n",
        "model_voting = VotingClassifier(estimators=models, n_jobs=-1)\n",
        "model_voting.fit(bowTrain.toarray(), y_train)\n",
        "vot_pred = model_voting.predict(bowTest.toarray())"
      ],
      "execution_count": null,
      "outputs": []
    },
    {
      "cell_type": "code",
      "metadata": {
        "colab": {
          "base_uri": "https://localhost:8080/"
        },
        "id": "Gyr9KNqK4UqR",
        "outputId": "04d4aad1-db1c-47aa-c9b1-b5b49f1ccb92"
      },
      "source": [
        "print(classification_report(y_act, vot_pred))"
      ],
      "execution_count": null,
      "outputs": [
        {
          "output_type": "stream",
          "name": "stdout",
          "text": [
            "              precision    recall  f1-score   support\n",
            "\n",
            "           0       1.00      0.70      0.83        61\n",
            "           1       0.77      1.00      0.87        59\n",
            "\n",
            "    accuracy                           0.85       120\n",
            "   macro avg       0.88      0.85      0.85       120\n",
            "weighted avg       0.89      0.85      0.85       120\n",
            "\n"
          ]
        }
      ]
    },
    {
      "cell_type": "markdown",
      "metadata": {
        "id": "uJZp_Gijefpw"
      },
      "source": [
        "### Evaluasi Kinerja Model"
      ]
    },
    {
      "cell_type": "markdown",
      "metadata": {
        "id": "NTN1WPELei3G"
      },
      "source": [
        "#### Hold Out"
      ]
    },
    {
      "cell_type": "code",
      "metadata": {
        "colab": {
          "base_uri": "https://localhost:8080/",
          "height": 300
        },
        "id": "2SzmgEsUemQJ",
        "outputId": "2caf1f7d-5e32-441c-afa3-73364ed48fbb"
      },
      "source": [
        "#menjalankan evaluasi model\n",
        "lspred = []\n",
        "lspred.append(['knn',knpred])\n",
        "lspred.append(['dt',dtpred])\n",
        "lspred.append(['lr',lrpred])\n",
        "lspred.append(['rf',rf_pred])\n",
        "lspred.append(['lgbm',lgb_pred])\n",
        "lspred.append(['xgb',xgb_pred])\n",
        "lspred.append(['adaboost',ada_pred])\n",
        "lspred.append(['vot',vot_pred])\n",
        "\n",
        "dfeval = pd.DataFrame(calculateMetric(lspred, y_act), columns=['Classifier','Accuracy','Precision','Recall','F1-Score', 'AUC Score'])\n",
        "dfeval.sort_values(['F1-Score'], ascending=False)"
      ],
      "execution_count": null,
      "outputs": [
        {
          "output_type": "execute_result",
          "data": {
            "text/plain": [
              "  Classifier  Accuracy  Precision    Recall  F1-Score  AUC Score\n",
              "6   adaboost  0.958333   0.950000  0.966102  0.957983   0.958461\n",
              "4       lgbm  0.933333   0.892308  0.983051  0.935484   0.934148\n",
              "5        xgb  0.908333   0.852941  0.983051  0.913386   0.909558\n",
              "7        vot  0.850000   0.766234  1.000000  0.867647   0.852459\n",
              "2         lr  0.841667   0.756410  1.000000  0.861314   0.844262\n",
              "3         rf  0.825000   0.737500  1.000000  0.848921   0.827869\n",
              "1         dt  0.816667   0.728395  1.000000  0.842857   0.819672\n",
              "0        knn  0.675000   0.602041  1.000000  0.751592   0.680328"
            ],
            "text/html": [
              "\n",
              "  <div id=\"df-70bb977a-32b7-45f8-bb9f-96c0561d1c0b\">\n",
              "    <div class=\"colab-df-container\">\n",
              "      <div>\n",
              "<style scoped>\n",
              "    .dataframe tbody tr th:only-of-type {\n",
              "        vertical-align: middle;\n",
              "    }\n",
              "\n",
              "    .dataframe tbody tr th {\n",
              "        vertical-align: top;\n",
              "    }\n",
              "\n",
              "    .dataframe thead th {\n",
              "        text-align: right;\n",
              "    }\n",
              "</style>\n",
              "<table border=\"1\" class=\"dataframe\">\n",
              "  <thead>\n",
              "    <tr style=\"text-align: right;\">\n",
              "      <th></th>\n",
              "      <th>Classifier</th>\n",
              "      <th>Accuracy</th>\n",
              "      <th>Precision</th>\n",
              "      <th>Recall</th>\n",
              "      <th>F1-Score</th>\n",
              "      <th>AUC Score</th>\n",
              "    </tr>\n",
              "  </thead>\n",
              "  <tbody>\n",
              "    <tr>\n",
              "      <th>6</th>\n",
              "      <td>adaboost</td>\n",
              "      <td>0.958333</td>\n",
              "      <td>0.950000</td>\n",
              "      <td>0.966102</td>\n",
              "      <td>0.957983</td>\n",
              "      <td>0.958461</td>\n",
              "    </tr>\n",
              "    <tr>\n",
              "      <th>4</th>\n",
              "      <td>lgbm</td>\n",
              "      <td>0.933333</td>\n",
              "      <td>0.892308</td>\n",
              "      <td>0.983051</td>\n",
              "      <td>0.935484</td>\n",
              "      <td>0.934148</td>\n",
              "    </tr>\n",
              "    <tr>\n",
              "      <th>5</th>\n",
              "      <td>xgb</td>\n",
              "      <td>0.908333</td>\n",
              "      <td>0.852941</td>\n",
              "      <td>0.983051</td>\n",
              "      <td>0.913386</td>\n",
              "      <td>0.909558</td>\n",
              "    </tr>\n",
              "    <tr>\n",
              "      <th>7</th>\n",
              "      <td>vot</td>\n",
              "      <td>0.850000</td>\n",
              "      <td>0.766234</td>\n",
              "      <td>1.000000</td>\n",
              "      <td>0.867647</td>\n",
              "      <td>0.852459</td>\n",
              "    </tr>\n",
              "    <tr>\n",
              "      <th>2</th>\n",
              "      <td>lr</td>\n",
              "      <td>0.841667</td>\n",
              "      <td>0.756410</td>\n",
              "      <td>1.000000</td>\n",
              "      <td>0.861314</td>\n",
              "      <td>0.844262</td>\n",
              "    </tr>\n",
              "    <tr>\n",
              "      <th>3</th>\n",
              "      <td>rf</td>\n",
              "      <td>0.825000</td>\n",
              "      <td>0.737500</td>\n",
              "      <td>1.000000</td>\n",
              "      <td>0.848921</td>\n",
              "      <td>0.827869</td>\n",
              "    </tr>\n",
              "    <tr>\n",
              "      <th>1</th>\n",
              "      <td>dt</td>\n",
              "      <td>0.816667</td>\n",
              "      <td>0.728395</td>\n",
              "      <td>1.000000</td>\n",
              "      <td>0.842857</td>\n",
              "      <td>0.819672</td>\n",
              "    </tr>\n",
              "    <tr>\n",
              "      <th>0</th>\n",
              "      <td>knn</td>\n",
              "      <td>0.675000</td>\n",
              "      <td>0.602041</td>\n",
              "      <td>1.000000</td>\n",
              "      <td>0.751592</td>\n",
              "      <td>0.680328</td>\n",
              "    </tr>\n",
              "  </tbody>\n",
              "</table>\n",
              "</div>\n",
              "      <button class=\"colab-df-convert\" onclick=\"convertToInteractive('df-70bb977a-32b7-45f8-bb9f-96c0561d1c0b')\"\n",
              "              title=\"Convert this dataframe to an interactive table.\"\n",
              "              style=\"display:none;\">\n",
              "        \n",
              "  <svg xmlns=\"http://www.w3.org/2000/svg\" height=\"24px\"viewBox=\"0 0 24 24\"\n",
              "       width=\"24px\">\n",
              "    <path d=\"M0 0h24v24H0V0z\" fill=\"none\"/>\n",
              "    <path d=\"M18.56 5.44l.94 2.06.94-2.06 2.06-.94-2.06-.94-.94-2.06-.94 2.06-2.06.94zm-11 1L8.5 8.5l.94-2.06 2.06-.94-2.06-.94L8.5 2.5l-.94 2.06-2.06.94zm10 10l.94 2.06.94-2.06 2.06-.94-2.06-.94-.94-2.06-.94 2.06-2.06.94z\"/><path d=\"M17.41 7.96l-1.37-1.37c-.4-.4-.92-.59-1.43-.59-.52 0-1.04.2-1.43.59L10.3 9.45l-7.72 7.72c-.78.78-.78 2.05 0 2.83L4 21.41c.39.39.9.59 1.41.59.51 0 1.02-.2 1.41-.59l7.78-7.78 2.81-2.81c.8-.78.8-2.07 0-2.86zM5.41 20L4 18.59l7.72-7.72 1.47 1.35L5.41 20z\"/>\n",
              "  </svg>\n",
              "      </button>\n",
              "      \n",
              "  <style>\n",
              "    .colab-df-container {\n",
              "      display:flex;\n",
              "      flex-wrap:wrap;\n",
              "      gap: 12px;\n",
              "    }\n",
              "\n",
              "    .colab-df-convert {\n",
              "      background-color: #E8F0FE;\n",
              "      border: none;\n",
              "      border-radius: 50%;\n",
              "      cursor: pointer;\n",
              "      display: none;\n",
              "      fill: #1967D2;\n",
              "      height: 32px;\n",
              "      padding: 0 0 0 0;\n",
              "      width: 32px;\n",
              "    }\n",
              "\n",
              "    .colab-df-convert:hover {\n",
              "      background-color: #E2EBFA;\n",
              "      box-shadow: 0px 1px 2px rgba(60, 64, 67, 0.3), 0px 1px 3px 1px rgba(60, 64, 67, 0.15);\n",
              "      fill: #174EA6;\n",
              "    }\n",
              "\n",
              "    [theme=dark] .colab-df-convert {\n",
              "      background-color: #3B4455;\n",
              "      fill: #D2E3FC;\n",
              "    }\n",
              "\n",
              "    [theme=dark] .colab-df-convert:hover {\n",
              "      background-color: #434B5C;\n",
              "      box-shadow: 0px 1px 3px 1px rgba(0, 0, 0, 0.15);\n",
              "      filter: drop-shadow(0px 1px 2px rgba(0, 0, 0, 0.3));\n",
              "      fill: #FFFFFF;\n",
              "    }\n",
              "  </style>\n",
              "\n",
              "      <script>\n",
              "        const buttonEl =\n",
              "          document.querySelector('#df-70bb977a-32b7-45f8-bb9f-96c0561d1c0b button.colab-df-convert');\n",
              "        buttonEl.style.display =\n",
              "          google.colab.kernel.accessAllowed ? 'block' : 'none';\n",
              "\n",
              "        async function convertToInteractive(key) {\n",
              "          const element = document.querySelector('#df-70bb977a-32b7-45f8-bb9f-96c0561d1c0b');\n",
              "          const dataTable =\n",
              "            await google.colab.kernel.invokeFunction('convertToInteractive',\n",
              "                                                     [key], {});\n",
              "          if (!dataTable) return;\n",
              "\n",
              "          const docLinkHtml = 'Like what you see? Visit the ' +\n",
              "            '<a target=\"_blank\" href=https://colab.research.google.com/notebooks/data_table.ipynb>data table notebook</a>'\n",
              "            + ' to learn more about interactive tables.';\n",
              "          element.innerHTML = '';\n",
              "          dataTable['output_type'] = 'display_data';\n",
              "          await google.colab.output.renderOutput(dataTable, element);\n",
              "          const docLink = document.createElement('div');\n",
              "          docLink.innerHTML = docLinkHtml;\n",
              "          element.appendChild(docLink);\n",
              "        }\n",
              "      </script>\n",
              "    </div>\n",
              "  </div>\n",
              "  "
            ]
          },
          "metadata": {},
          "execution_count": 104
        }
      ]
    },
    {
      "cell_type": "markdown",
      "metadata": {
        "id": "IX6IQ5Prh4cz"
      },
      "source": [
        "#### Cross Validation\n"
      ]
    },
    {
      "cell_type": "code",
      "metadata": {
        "id": "EDofeitgh-j_"
      },
      "source": [
        "x_cvtrain = [];\n",
        "y_cvtrain = [];\n",
        "for (rev, category) in document:\n",
        "  #text = cleanText(rev)\n",
        "  text = get_cltext(rev)\n",
        "  #lmz_train = lemmatizer.lemmatize(text);\n",
        "  x_cvtrain.append(text);\n",
        "  y_cvtrain.append(category);"
      ],
      "execution_count": null,
      "outputs": []
    },
    {
      "cell_type": "code",
      "metadata": {
        "id": "hVd4YjGtiZSv"
      },
      "source": [
        "bow_cvtrain = bowVect.transform(x_cvtrain)"
      ],
      "execution_count": null,
      "outputs": []
    },
    {
      "cell_type": "code",
      "metadata": {
        "id": "eackWOWfm3Ij"
      },
      "source": [
        "#Mendefinisikan fungsi untuk membandingkan hasil cross validation dari setiap classifier\n",
        "def recCrossval(lsclf, xtrain, ytrain, k):\n",
        "  lsCvResult = []\n",
        "  for clf in lsclf:\n",
        "    cvreport = cross_validate(clf[1], xtrain, ytrain, scoring=['accuracy','precision_macro','recall_macro','f1_macro'], cv=k,n_jobs= -1, return_train_score= True)\n",
        "    lsCvResult.append([clf[0],np.average(cvreport['fit_time']),np.average(cvreport['test_accuracy']),np.average(cvreport['test_precision_macro']),np.average(cvreport['test_recall_macro']),np.average(cvreport['test_f1_macro'])])\n",
        "  return lsCvResult"
      ],
      "execution_count": null,
      "outputs": []
    },
    {
      "cell_type": "code",
      "metadata": {
        "colab": {
          "base_uri": "https://localhost:8080/",
          "height": 175
        },
        "id": "jd5gGDPjnDBb",
        "outputId": "b69506f4-0edd-467f-a9c2-fed597b224d4"
      },
      "source": [
        "res = recCrossval(models,bow_cvtrain, y_cvtrain, 5)\n",
        "dfcvresult = pd.DataFrame(res, columns=['classifier','avg fit time','avg accuracy','avg precision macro','avg recall macro','avg f1 macro'])\n",
        "dfcvresult.sort_values(['avg f1 macro'], ascending=False)"
      ],
      "execution_count": null,
      "outputs": [
        {
          "output_type": "execute_result",
          "data": {
            "text/plain": [
              "  classifier  avg fit time  avg accuracy  avg precision macro  \\\n",
              "3         rf      3.617704        0.8750             0.876806   \n",
              "1         lr      0.031137        0.8750             0.880722   \n",
              "2        ada      0.043371        0.8750             0.869436   \n",
              "0        knn      0.001984        0.8775             0.880137   \n",
              "\n",
              "   avg recall macro  avg f1 macro  \n",
              "3          0.878252      0.871138  \n",
              "1          0.875882      0.870774  \n",
              "2          0.868068      0.868445  \n",
              "0          0.861276      0.867671  "
            ],
            "text/html": [
              "\n",
              "  <div id=\"df-bf7798ed-f59b-4cda-baaa-a8b3ab3d87a1\">\n",
              "    <div class=\"colab-df-container\">\n",
              "      <div>\n",
              "<style scoped>\n",
              "    .dataframe tbody tr th:only-of-type {\n",
              "        vertical-align: middle;\n",
              "    }\n",
              "\n",
              "    .dataframe tbody tr th {\n",
              "        vertical-align: top;\n",
              "    }\n",
              "\n",
              "    .dataframe thead th {\n",
              "        text-align: right;\n",
              "    }\n",
              "</style>\n",
              "<table border=\"1\" class=\"dataframe\">\n",
              "  <thead>\n",
              "    <tr style=\"text-align: right;\">\n",
              "      <th></th>\n",
              "      <th>classifier</th>\n",
              "      <th>avg fit time</th>\n",
              "      <th>avg accuracy</th>\n",
              "      <th>avg precision macro</th>\n",
              "      <th>avg recall macro</th>\n",
              "      <th>avg f1 macro</th>\n",
              "    </tr>\n",
              "  </thead>\n",
              "  <tbody>\n",
              "    <tr>\n",
              "      <th>3</th>\n",
              "      <td>rf</td>\n",
              "      <td>3.617704</td>\n",
              "      <td>0.8750</td>\n",
              "      <td>0.876806</td>\n",
              "      <td>0.878252</td>\n",
              "      <td>0.871138</td>\n",
              "    </tr>\n",
              "    <tr>\n",
              "      <th>1</th>\n",
              "      <td>lr</td>\n",
              "      <td>0.031137</td>\n",
              "      <td>0.8750</td>\n",
              "      <td>0.880722</td>\n",
              "      <td>0.875882</td>\n",
              "      <td>0.870774</td>\n",
              "    </tr>\n",
              "    <tr>\n",
              "      <th>2</th>\n",
              "      <td>ada</td>\n",
              "      <td>0.043371</td>\n",
              "      <td>0.8750</td>\n",
              "      <td>0.869436</td>\n",
              "      <td>0.868068</td>\n",
              "      <td>0.868445</td>\n",
              "    </tr>\n",
              "    <tr>\n",
              "      <th>0</th>\n",
              "      <td>knn</td>\n",
              "      <td>0.001984</td>\n",
              "      <td>0.8775</td>\n",
              "      <td>0.880137</td>\n",
              "      <td>0.861276</td>\n",
              "      <td>0.867671</td>\n",
              "    </tr>\n",
              "  </tbody>\n",
              "</table>\n",
              "</div>\n",
              "      <button class=\"colab-df-convert\" onclick=\"convertToInteractive('df-bf7798ed-f59b-4cda-baaa-a8b3ab3d87a1')\"\n",
              "              title=\"Convert this dataframe to an interactive table.\"\n",
              "              style=\"display:none;\">\n",
              "        \n",
              "  <svg xmlns=\"http://www.w3.org/2000/svg\" height=\"24px\"viewBox=\"0 0 24 24\"\n",
              "       width=\"24px\">\n",
              "    <path d=\"M0 0h24v24H0V0z\" fill=\"none\"/>\n",
              "    <path d=\"M18.56 5.44l.94 2.06.94-2.06 2.06-.94-2.06-.94-.94-2.06-.94 2.06-2.06.94zm-11 1L8.5 8.5l.94-2.06 2.06-.94-2.06-.94L8.5 2.5l-.94 2.06-2.06.94zm10 10l.94 2.06.94-2.06 2.06-.94-2.06-.94-.94-2.06-.94 2.06-2.06.94z\"/><path d=\"M17.41 7.96l-1.37-1.37c-.4-.4-.92-.59-1.43-.59-.52 0-1.04.2-1.43.59L10.3 9.45l-7.72 7.72c-.78.78-.78 2.05 0 2.83L4 21.41c.39.39.9.59 1.41.59.51 0 1.02-.2 1.41-.59l7.78-7.78 2.81-2.81c.8-.78.8-2.07 0-2.86zM5.41 20L4 18.59l7.72-7.72 1.47 1.35L5.41 20z\"/>\n",
              "  </svg>\n",
              "      </button>\n",
              "      \n",
              "  <style>\n",
              "    .colab-df-container {\n",
              "      display:flex;\n",
              "      flex-wrap:wrap;\n",
              "      gap: 12px;\n",
              "    }\n",
              "\n",
              "    .colab-df-convert {\n",
              "      background-color: #E8F0FE;\n",
              "      border: none;\n",
              "      border-radius: 50%;\n",
              "      cursor: pointer;\n",
              "      display: none;\n",
              "      fill: #1967D2;\n",
              "      height: 32px;\n",
              "      padding: 0 0 0 0;\n",
              "      width: 32px;\n",
              "    }\n",
              "\n",
              "    .colab-df-convert:hover {\n",
              "      background-color: #E2EBFA;\n",
              "      box-shadow: 0px 1px 2px rgba(60, 64, 67, 0.3), 0px 1px 3px 1px rgba(60, 64, 67, 0.15);\n",
              "      fill: #174EA6;\n",
              "    }\n",
              "\n",
              "    [theme=dark] .colab-df-convert {\n",
              "      background-color: #3B4455;\n",
              "      fill: #D2E3FC;\n",
              "    }\n",
              "\n",
              "    [theme=dark] .colab-df-convert:hover {\n",
              "      background-color: #434B5C;\n",
              "      box-shadow: 0px 1px 3px 1px rgba(0, 0, 0, 0.15);\n",
              "      filter: drop-shadow(0px 1px 2px rgba(0, 0, 0, 0.3));\n",
              "      fill: #FFFFFF;\n",
              "    }\n",
              "  </style>\n",
              "\n",
              "      <script>\n",
              "        const buttonEl =\n",
              "          document.querySelector('#df-bf7798ed-f59b-4cda-baaa-a8b3ab3d87a1 button.colab-df-convert');\n",
              "        buttonEl.style.display =\n",
              "          google.colab.kernel.accessAllowed ? 'block' : 'none';\n",
              "\n",
              "        async function convertToInteractive(key) {\n",
              "          const element = document.querySelector('#df-bf7798ed-f59b-4cda-baaa-a8b3ab3d87a1');\n",
              "          const dataTable =\n",
              "            await google.colab.kernel.invokeFunction('convertToInteractive',\n",
              "                                                     [key], {});\n",
              "          if (!dataTable) return;\n",
              "\n",
              "          const docLinkHtml = 'Like what you see? Visit the ' +\n",
              "            '<a target=\"_blank\" href=https://colab.research.google.com/notebooks/data_table.ipynb>data table notebook</a>'\n",
              "            + ' to learn more about interactive tables.';\n",
              "          element.innerHTML = '';\n",
              "          dataTable['output_type'] = 'display_data';\n",
              "          await google.colab.output.renderOutput(dataTable, element);\n",
              "          const docLink = document.createElement('div');\n",
              "          docLink.innerHTML = docLinkHtml;\n",
              "          element.appendChild(docLink);\n",
              "        }\n",
              "      </script>\n",
              "    </div>\n",
              "  </div>\n",
              "  "
            ]
          },
          "metadata": {},
          "execution_count": 108
        }
      ]
    },
    {
      "cell_type": "markdown",
      "metadata": {
        "id": "TbFtKkwBZbYe"
      },
      "source": [
        "### Model Goodfitness\n",
        "* Overfitting : Hal ini terjadi ketika model bekerja sangat baik dengan data-train namun memiliki performa kurang baik saat diberikan data-validation dan data-test, biasanya disebabkan karena model terlalu kompleks sehingga menangkap setiap data noise yang ada (Bias yang rendah dan Variance yang tinggi)\n",
        "\n",
        "* Underfitting : Hal ini terjadi ketika model tidak dapat menangkap pola yang kompleks pada data sehingga memiliki performa yang buruk saat train , test , dan validation. Biasanya terjadi pada model yang cenderung sederhana. (Bias yang tinggi dan Variance yang rendah)."
      ]
    },
    {
      "cell_type": "markdown",
      "metadata": {
        "id": "0wuVCkhKZrWm"
      },
      "source": [
        "#### Kompleksitas Model"
      ]
    },
    {
      "cell_type": "code",
      "metadata": {
        "colab": {
          "base_uri": "https://localhost:8080/",
          "height": 312
        },
        "id": "bmY1elkKZxdU",
        "outputId": "f1b57eaf-d241-4a9b-f455-858e12d5b3cd"
      },
      "source": [
        "p = list(range(1, 10))\n",
        "lst_test =[]\n",
        "lst_train =[]\n",
        "for i in p:\n",
        "    knn = KNeighborsClassifier(n_neighbors = i)\n",
        "    knn.fit(bowTrain, y_train)\n",
        "    z = knn.score(bowTest, y_act)\n",
        "    t = knn.score(bowTrain, y_train)\n",
        "    lst_test.append(z)\n",
        "    lst_train.append(t)\n",
        "      \n",
        "plt.plot(p, lst_test, color ='red', label ='Test Accuracy')\n",
        "plt.plot(p, lst_train, color ='b', label ='Train Accuracy')\n",
        "plt.xlabel('K VALUES --->')\n",
        "plt.title('FINDING BEST VALUE FOR K')\n",
        "plt.legend()"
      ],
      "execution_count": null,
      "outputs": [
        {
          "output_type": "execute_result",
          "data": {
            "text/plain": [
              "<matplotlib.legend.Legend at 0x7f1410a8ded0>"
            ]
          },
          "metadata": {},
          "execution_count": 110
        },
        {
          "output_type": "display_data",
          "data": {
            "text/plain": [
              "<Figure size 432x288 with 1 Axes>"
            ],
            "image/png": "[encoded data removed]"
          },
          "metadata": {
            "needs_background": "light"
          }
        }
      ]
    },
    {
      "cell_type": "markdown",
      "metadata": {
        "id": "LUr5yKGgaIsj"
      },
      "source": [
        "#### Model Tunning"
      ]
    },
    {
      "cell_type": "markdown",
      "metadata": {
        "id": "jfOzswAMhVJd"
      },
      "source": [
        "##### Feature Reduction"
      ]
    },
    {
      "cell_type": "markdown",
      "metadata": {
        "id": "pXeYynAbpG_u"
      },
      "source": [
        "###### Select From Model"
      ]
    },
    {
      "cell_type": "code",
      "metadata": {
        "colab": {
          "base_uri": "https://localhost:8080/"
        },
        "id": "gtJkLKEkSldq",
        "outputId": "d1abd7c0-6f9f-4772-bcf7-f5b1f7ca51da"
      },
      "source": [
        "feature_select = SelectFromModel(lr, prefit=True)\n",
        "x_mdltrain = feature_select.transform(bow_cvtrain)\n",
        "x_mdltrain.shape"
      ],
      "execution_count": null,
      "outputs": [
        {
          "output_type": "execute_result",
          "data": {
            "text/plain": [
              "(400, 347)"
            ]
          },
          "metadata": {},
          "execution_count": 111
        }
      ]
    },
    {
      "cell_type": "code",
      "metadata": {
        "id": "mVA7aA02lN-s"
      },
      "source": [
        "mask = feature_select.get_support()\n",
        "mdlfeat = []\n",
        "for bool, feature in zip(mask, bowVect.get_feature_names()):\n",
        "    if bool :\n",
        "        mdlfeat.append(feature)"
      ],
      "execution_count": null,
      "outputs": []
    },
    {
      "cell_type": "code",
      "metadata": {
        "colab": {
          "base_uri": "https://localhost:8080/",
          "height": 317
        },
        "id": "DvikEH1Yl55K",
        "outputId": "f0fc7a54-4315-4e9f-a4d9-263322af7985"
      },
      "source": [
        "# Coba data baru\n",
        "score_dt = cross_validate(lr, x_mdltrain, y_cvtrain, scoring='accuracy', cv=10, return_train_score= True)\n",
        "column = {'LR Train': score_dt['train_score'], 'LR Test': score_dt['test_score']}\n",
        "df = pd.DataFrame(data=column)\n",
        "plot = sns.boxplot(data = df, linewidth=2.5)\n",
        "df.mean()"
      ],
      "execution_count": null,
      "outputs": [
        {
          "output_type": "execute_result",
          "data": {
            "text/plain": [
              "LR Train    0.986667\n",
              "LR Test     0.867500\n",
              "dtype: float64"
            ]
          },
          "metadata": {},
          "execution_count": 113
        },
        {
          "output_type": "display_data",
          "data": {
            "text/plain": [
              "<Figure size 432x288 with 1 Axes>"
            ],
            "image/png": "[encoded data removed]"
          },
          "metadata": {
            "needs_background": "light"
          }
        }
      ]
    },
    {
      "cell_type": "markdown",
      "metadata": {
        "id": "COq-oI7Tqi7I"
      },
      "source": [
        "##### Hyper Parameter Tuning"
      ]
    },
    {
      "cell_type": "code",
      "metadata": {
        "id": "Vhk2xWO0qyJx"
      },
      "source": [
        "# Mendefinisikan fungsi untuk melakukan tunning dengan Grid Search Cross Validation\n",
        "def tuning( x , y , model , params , cv=10 ,verbose=10 ):\n",
        "    clf = GridSearchCV(estimator= model,\n",
        "                       param_grid= params,\n",
        "                       scoring= 'f1_macro',\n",
        "                       cv= cv,                         \n",
        "                       verbose= verbose, return_train_score=True,\n",
        "                       n_jobs= -1)\n",
        "    \n",
        "    clf.fit( x , y )\n",
        "    return clf.best_params_ , clf.best_score_, clf.cv_results_"
      ],
      "execution_count": null,
      "outputs": []
    },
    {
      "cell_type": "code",
      "metadata": {
        "colab": {
          "base_uri": "https://localhost:8080/"
        },
        "id": "-dzpo6k6qELo",
        "outputId": "c205200f-b486-4dad-ed7a-41aa3af2e053"
      },
      "source": [
        "# Tunning max depth\n",
        "# Mendefinisikan parameter untuk tunning\n",
        "params =  {\"max_depth\": range(1,100,2)}\n",
        "\n",
        "# Menemukan hyperparameters terbaik\n",
        "best_params , best_score, cv_result = tuning(bow_cvtrain,\n",
        "                                        y_cvtrain,\n",
        "                                        DecisionTreeClassifier(),\n",
        "                                        params,\n",
        "                                        cv=10,\n",
        "                                        verbose=2)\n",
        "\n",
        "\n",
        "print(\" Best Parameters:\",best_params,\"with score of:\",best_score)"
      ],
      "execution_count": null,
      "outputs": [
        {
          "output_type": "stream",
          "name": "stdout",
          "text": [
            "Fitting 10 folds for each of 50 candidates, totalling 500 fits\n"
          ]
        },
        {
          "output_type": "stream",
          "name": "stderr",
          "text": [
            "[Parallel(n_jobs=-1)]: Using backend LokyBackend with 2 concurrent workers.\n",
            "[Parallel(n_jobs=-1)]: Done 228 tasks      | elapsed:    2.1s\n"
          ]
        },
        {
          "output_type": "stream",
          "name": "stdout",
          "text": [
            " Best Parameters: {'max_depth': 3} with score of: 0.851437096583609\n"
          ]
        },
        {
          "output_type": "stream",
          "name": "stderr",
          "text": [
            "[Parallel(n_jobs=-1)]: Done 500 out of 500 | elapsed:    4.4s finished\n"
          ]
        }
      ]
    },
    {
      "cell_type": "code",
      "metadata": {
        "colab": {
          "base_uri": "https://localhost:8080/",
          "height": 405
        },
        "id": "AIfJ27f1q57j",
        "outputId": "28a4c055-34ea-4052-83e8-3327e2d859c2"
      },
      "source": [
        "result = cv_result\n",
        "grid_result = {\"params\":[d['max_depth'] for d in result['params']]}\n",
        "for key, value in result.items():\n",
        "    if key.find('split') >= 0 :\n",
        "        grid_result[key] = value\n",
        "    \n",
        "plt.figure(figsize=(16, 6))\n",
        "grids = pd.DataFrame(grid_result).melt(id_vars='params')\n",
        "grids['variable'] = grids.variable.str[7:-6]\n",
        "sns.boxplot(data=grids, x='params', y='value', hue='variable')"
      ],
      "execution_count": null,
      "outputs": [
        {
          "output_type": "execute_result",
          "data": {
            "text/plain": [
              "<matplotlib.axes._subplots.AxesSubplot at 0x7f141096e450>"
            ]
          },
          "metadata": {},
          "execution_count": 116
        },
        {
          "output_type": "display_data",
          "data": {
            "text/plain": [
              "<Figure size 1152x432 with 1 Axes>"
            ],
            "image/png": "[encoded data removed]"
          },
          "metadata": {
            "needs_background": "light"
          }
        }
      ]
    }
  ]
}