{
 "cells": [
  {
   "cell_type": "markdown",
   "id": "467d5800",
   "metadata": {},
   "source": [
    "<h4><center><font color=\"1F4690\">PJJ PENGOLAHAN DATA MENGGUNAKAN PYTHON <br> <br> Selasa, 14 Juni 2022</font></center></h4>\n",
    "<div class=\"alert alert-info\"><h1 align=\"center\"><font color=\"1F4690\">Pengantar Pengolahan Data dan Python (Part 1)</font></h4></div> "
   ]
  },
  {
   "cell_type": "markdown",
   "id": "4ddd7a18",
   "metadata": {},
   "source": [
    "# <font color=\"#53BF9D\">1. Pengolahan Data</font>\n",
    "\n",
    "## 1.1 Pengantar Pengolahan Data\n",
    "<mark> Pengolahan Data </mark> bukanlah suatu ilmu yang baru ada di abad ke 20. Cikal bakal data analytics sudah ada ratusan tahun yang lalu.\n",
    "* Kepler menemukan bentuk orbit planet-planet berbentuk elips dan luasan gerak edar planet. \n",
    "* Kepler tidak mengunjungi satu per satu planet, dia juga tidak mempunyai instrumen astronomi moderen. Satu-satunya data yang dapat diukur pada jaman itu adalah sudut antara matahari, bumi, dan mars dan periode waktu.\n",
    "* Data-data empiris tersebut digunakan untuk menghasilkan persamaan kepler. Apa yang dilakukan kepler adalah mencari fungsi dengan parameter yang tidak diketahui nilai dari fungsi tersebut di dapat dari data — singkatnya dia menemukan suatu model.\n",
    "\n",
    "<div>\n",
    "<img src=\"https://cdn.britannica.com/42/196742-050-C74B43FA/law-Kepler-motion-radius-vector-planet-lengths.jpg\" width=\"600\">\n",
    "</div>\n"
   ]
  },
  {
   "cell_type": "markdown",
   "id": "fcc83bec",
   "metadata": {},
   "source": [
    "## 1.2 Berbagai Terminologi Dalam Pengolahan Data\n",
    "\n",
    "Banyak terminologi dalam pengolahan data yang bersifat *content-free expression* (tiap orang memiliki pengertiannya masing-masing). Hal ini disebabkan juga karena banyaknya tumpang tindih antara definisi satu dengan lainnya.</br>\n",
    "Contoh: Data Analytics - Data Analysis - Data Science - Data Engineer - Data Mining\n",
    "\n",
    "\n",
    "<font color=blue>&#11177;</font>  <mark>Data Analytics</mark> didefinisikan sebagai proses untuk memperoleh, membersihkan, menganalisis dan menambang data, menginterpretasikan hasil dan melaporkan temuan-temuannya. Di sini, IBM membatasi perbedaan Data Analytics dengan Data Analysis hanya sebatas instrumen analisis saja. Data Analysis bisa menggunakan instrumen apapun untuk menganalisis datanya misalkan Psikoanalisis, dsb. Adapun Data Analytics menggunakan analisis komputasional. Dengan demikian, menurut IBM kedua terminologi itu dapat saja disamakan.\n",
    "\n",
    "<font color=blue>&#11177;</font> Pendapat lain mengatakan <mark>Data Analytics</mark> merupakan suatu disiplin ilmu yang melingkupi manajemen data secara total, tidak hanya terkait dengan analisis tetapi pengumpulan, pengorganisasian, penyimpanan beserta seluruh alat dan teknik yang dipergunakan untuk itu.</br> Adapun data analysis merupakan bagin dari data analytics itu sendiri.\n",
    "\n",
    "Dari definisi di atas, dapat dilihat bahwa data analytics mempelajari keseluruhan bagian yang terdapat dalam <mark>data pipeline</mark> (proses dan alat yang digunakan untuk memperoleh data mentah dari berbagai macam sumber, melakukan analisis, dan menyajikannya dalam format yang dapat dipahami).\n",
    "![Data Pipeline](https://ec.europa.eu/eurostat/statistics-explained/images/1/18/Data-pipeline.png)\n",
    "\n",
    "\n",
    "<font color=blue>&#11177;</font>  <mark>Data Mining</mark> disebut juga sebagai *Knowledge Discovery in Databases*  merupakkan proses menemukan pola dan relasi yang menarik dan berguna dalam data yang bervolume besar. (Encyclopædia Britannica). Data Mining adalah cara yang digunakan 'ordinary businessman' untuk mengungkap informasi dari data dan menggunakan informasi tersebut dalam pengambilan keputusan bisnis. Software yang digunakan biasanya Rapidminer, Knime, Orange, etc.\n",
    "\n",
    "<font color=blue>&#11177;</font>  <mark>Data Science</mark> Data Science melingkupi seperangkat prinsip-prinsip, permasalahan, algoritma, dan proses untuk mengekstrak pola yang tidak jelas dan berguna dari set-set data yang besar. (Kelleher, 2018). Software yang digunakan biasanya R/Python/Julia.\n",
    "\n",
    "\n",
    "Data science didominasi oleh dua \"komunitas/*school of thought*\" besar. \n",
    "* Komunitas machine learning - didominasi kalangan ilmuan komputer yang berpusat pada kualitas prediksi, skalabilitas, dan algoritma.\n",
    "* Komunitas statistical learning - didominasi kalangan dari departemen statistika berfokus pada inferensi terhadap pemodelan.\n",
    "\n",
    "## 1.3 Data Engineer, Data Scientist, dan Data Analyst\n",
    "\n",
    "Di dalam pengolahan data terdapat beberapa profesi yang memiliki karakteristik berbeda satu sama lain yakni `Data Engineer`, `Data Scientist`, `Data Analyst`. \n",
    "\n",
    "<div>\n",
    "<img src=\"https://pbs.twimg.com/media/FBlstfBXoAAuJWz.jpg:large\" width=\"600\"/>\n",
    "</div>"
   ]
  },
  {
   "cell_type": "markdown",
   "id": "152bd1e5",
   "metadata": {},
   "source": [
    "### Terminologi Big Data\n",
    "\n",
    "Big data sering diasosiasikan dengan karakteristik **3Vs** Variety (Structured, Unstructured, Semi-Structured), Volume (Terabyte, Petabyte, Zetabyte), Velocity (Speed of generation, rate of analysis). Sumber utamanya berasal dari web site, postingan media sosial, data dari lalu lintas, sensor, atau cuaca.\n",
    "\n",
    "The Australian Square Kilometre Array of radio telescopes project, CERN’s Large Hadron Collider (LHC), teleskop selestial Pan-STARRS5 mampu menghasilkan beberapa Petabyte data setiap hari, tetapi saat ini dibatasi agar data bisa dikelola. Untuk [LHC](https://en.wikipedia.org/wiki/Large_Hadron_Collider) dari CERN misalkan saat ini dibatasi untuk memproduksi 15 petabytes per tahun."
   ]
  },
  {
   "cell_type": "markdown",
   "id": "8c3bd090",
   "metadata": {},
   "source": [
    "# 1.4 Data Science Dalam Irisan Berbagai Ilmu"
   ]
  },
  {
   "cell_type": "markdown",
   "id": "908c29eb",
   "metadata": {},
   "source": [
    "Diagram Venn irisan bidang keilmuan yang membentuk data science.</br>\n",
    "Versi: Steven Geringer, 2014"
   ]
  },
  {
   "cell_type": "markdown",
   "id": "11cf6556",
   "metadata": {},
   "source": [
    "<div>\n",
    "<img src=\"https://thomaselove.github.io/431-notes/figures/data-science-venn20.png\" width=\"500\"/>\n",
    "</div>"
   ]
  },
  {
   "cell_type": "markdown",
   "id": "16f96c3b",
   "metadata": {},
   "source": [
    "Diagram Venn irisan bidang keilmuan yang membentuk data science.</br>\n",
    "Versi: [Conway](http://drewconway.com/zia/2013/3/26/the-data-science-venn-diagram), 2010"
   ]
  },
  {
   "cell_type": "markdown",
   "id": "9b1cf876",
   "metadata": {},
   "source": [
    "<div>\n",
    "<img src=\"https://raw.githubusercontent.com/ansyaku/asset/main/conway.png\" width=\"700\"/>\n",
    "</div>"
   ]
  },
  {
   "cell_type": "markdown",
   "id": "c6520d6a",
   "metadata": {},
   "source": [
    "# <font color=\"#53BF9D\"> 2. Python</font>\n",
    "***"
   ]
  },
  {
   "cell_type": "markdown",
   "id": "bd3ad5c9",
   "metadata": {},
   "source": [
    "## 2.1. Bahasa Pemrograman Python\n",
    "* Python adalah suatu bahasa pemrograman tingkat tinggi, interpreter, dan berorientasi-obyek.\n",
    " * tingkat tinggi - bahasa pemrograman yang lebih dekat ke bahasa manusia, bukan bahasa mesin \n",
    " * interpreter - mengeksekusi program baris per baris tanpa harus perlu dikompilasi seluruhnya terlebih dahulu\n",
    " * berorientasi obyek - semua data dan fungsi diklasifikasikan menjadi kelas dan objek\n",
    "</br>\n",
    "* Python dibangun oleh **Guido van Rossum** dari *National Research Institute for Mathematics and Computer Science in Amsterdam*. Dirilis pertama kali tahun 1991."
   ]
  },
  {
   "cell_type": "markdown",
   "id": "980f9344",
   "metadata": {},
   "source": [
    "## 2.2. Mengapa Python?\n",
    "\n",
    "* Mudah dipelajari, dibandingkan dengan bahasa pemrograman lain seperti Java/C.\n",
    "* Sintaks yang rapi dan mudah dibaca.\n",
    "* Bisa dijalankan di berbagai operating system.\n",
    "* Banyak digunakan dalam berbagai projek khususnya dalam analisis data.\n",
    "* Memiliki dokumentasi yang lengkap dan komunitas yang aktif. Orang yang melakukan coding Python disebut `Pythonista`.\n",
    "* Memiliki banyak library untuk pengolahan data."
   ]
  },
  {
   "cell_type": "markdown",
   "id": "1f314e04",
   "metadata": {},
   "source": [
    "## 2.3 Trend Penggunaan Bahasa Pemrograman Untuk Data Science\n",
    "\n",
    "### Bahasa Pemrograman yang dipakai pekerja data\n",
    "![Variable is Variable](https://raw.githubusercontent.com/ansyaku/asset/main/Responden1.jpg)\n",
    "Sumber : (Kaggle)\n",
    "\n",
    "### Bahasa Pemrograman yang disarankan\n",
    "![Variable is Variable](https://raw.githubusercontent.com/ansyaku/asset/main/Responden2.jpg)\n",
    "Sumber : (Kaggle)"
   ]
  },
  {
   "cell_type": "markdown",
   "id": "ddb4e19b",
   "metadata": {},
   "source": [
    "## 2.4. Anaconda\n",
    "\n",
    "Anaconda merupakan suatu distro dari python dan R yang dibangun khusus untuk data science. Tujuannya adalah menyediakan segala yang kita butuhkan (untuk data science) di satu tempat dan mempermudah manajemen paket dan deployment. Anaconda bersifat [**freemium**](https://en.wikipedia.org/wiki/Freemium). </br>\n",
    "Anaconda berisi :\n",
    "- The core Python language\n",
    "- conda, manajer paket dari Anaconda itu sendiri\n",
    "- 100+ Python \"packages\" (libraries)\n",
    "- Spyder (IDE/editor - like PyCharm) dan Jupyter\n",
    "- Anaconda Navigator (etalase GUI dari apa saja yang ada di anaconda itu)\n",
    "\n",
    "### Anaconda vs Miniconda\n",
    "\n",
    "Perbedaan paling mendasar :\n",
    "* Jumlah paket: Saat menginstalas Anaconda Anaconda, ini sekalian menginstal 150an paket, untuk miniconda hanya beberapa paket yang benar-benar penting saja.\n",
    "* Antarmuka: Anaconda memiliki antarmuka (graphical user interface - GUI) yang disebut sebagai Navigator, miniconda tidak ada hanya menggunakan command line interface.\n",
    "* Ukuran : Anaconda 600-an MB, sedangkan Miniconda hanya 50-an MB."
   ]
  },
  {
   "cell_type": "markdown",
   "id": "afa1255f",
   "metadata": {},
   "source": [
    "### Package/Library untuk Python\n",
    "\n",
    "* Library adalah sekumpulan kode yang memiliki fungsi-fungsi tertentu dan dapat dipanggil kedalam program lain. Digunakan untuk menghindari 'reinventing the wheel'. </br>\n",
    "* Kita tidak merakit mesin grinder kopi untuk membuat segelas kopi. Grinder kopinya dibuat orang lain, kita membeli mesinnya. Kita tinggal membuat kopi saja. Untungnya di python librarynya banyak yang bersifat [**Permissive License**](https://en.wikipedia.org/wiki/Permissive_software_license).\n",
    "* Beberapa contoh library :\n",
    " * Python Standard Library\n",
    " `csv`, `datetime`,`re`\n",
    " * Scientific Computing and Statistics\n",
    " `NumPy` (Numerical Python), `SciPy` (Scientific Python), `StatsModels`\n",
    " * Data Manipulation and Analysis\n",
    " `Pandas`\n",
    " * Visualization\n",
    " `Matplotlib`, `Seaborn`\n",
    " * Machine Learning, Deep Learning and Reinforcement Learning\n",
    " `scikit-learn`, `Keras,`TensorFlow`"
   ]
  },
  {
   "cell_type": "markdown",
   "id": "a8506779",
   "metadata": {},
   "source": [
    "Kita bisa menggunakan berbagai macam IDE (Integrated Development Environtment) untuk menuliskan kode di Python. Misalnya, PyCharm,\n",
    "Visual Studio Code. Selain itu, kita bisa juga menggunakan Jupyter Notebook. \n",
    "Namun, di PJJ ini kita akan menggunakan Google Colabs saja untuk menghindari kerumitan dalam menginstal Anaconda."
   ]
  },
  {
   "cell_type": "markdown",
   "id": "dbe4cd94",
   "metadata": {},
   "source": [
    "## 2.5 Standar Formating Untuk Python\n",
    "\n",
    "`PEP (Python Enhancement Proposal) 8` adalah dokumen yang menyediakan pedoman dan praktik-praktik terbaik untuk menulis kode python. Ditulis pada tahun 2001 oleh Guido van Rossum, Barry Warsaw, and Nick Coghlan. </br>\n",
    "Link : [PEP 8](https://peps.python.org/pep-0008/)"
   ]
  },
  {
   "cell_type": "markdown",
   "id": "3be39b66",
   "metadata": {},
   "source": [
    "## Appendix: The Joy of Data\n",
    "\n",
    "Silahkan tonton video di bawah ini untuk menambah insisght anda tentang data science."
   ]
  },
  {
   "cell_type": "code",
   "execution_count": 1,
   "id": "e2e1b73a",
   "metadata": {},
   "outputs": [
    {
     "data": {
      "image/jpeg": "[encoded data removed]",
      "text/html": [
       "\n",
       "        <iframe\n",
       "            width=\"400\"\n",
       "            height=\"300\"\n",
       "            src=\"https://www.youtube.com/embed/l6oKriR-RjM\"\n",
       "            frameborder=\"0\"\n",
       "            allowfullscreen\n",
       "            \n",
       "        ></iframe>\n",
       "        "
      ],
      "text/plain": [
       "<IPython.lib.display.YouTubeVideo at 0x1ecf96f0c70>"
      ]
     },
     "execution_count": 1,
     "metadata": {},
     "output_type": "execute_result"
    }
   ],
   "source": [
    "from IPython.display import YouTubeVideo\n",
    "YouTubeVideo('l6oKriR-RjM')"
   ]
  },
  {
   "cell_type": "markdown",
   "id": "976fbf54",
   "metadata": {},
   "source": [
    "# Daftar Referensi :\n",
    "***\n",
    "\n",
    "1. Hey, Tony. 2009. **The Fourth Paradigm - Data-Intensive Scientific Discovery**. Microsoft Research.\n",
    "2. Kelleher, John.2018. **Data Science**. Massachusetts: MIT Press\n",
    "3. Sharda, Rames. 2020. **Analytics, Data Science, and Artificial Intelligence 11e**. Pearson"
   ]
  }
 ],
 "metadata": {
  "kernelspec": {
   "display_name": "Python 3 (ipykernel)",
   "language": "python",
   "name": "python3"
  },
  "language_info": {
   "codemirror_mode": {
    "name": "ipython",
    "version": 3
   },
   "file_extension": ".py",
   "mimetype": "text/x-python",
   "name": "python",
   "nbconvert_exporter": "python",
   "pygments_lexer": "ipython3",
   "version": "3.9.7"
  }
 },
 "nbformat": 4,
 "nbformat_minor": 5
}
