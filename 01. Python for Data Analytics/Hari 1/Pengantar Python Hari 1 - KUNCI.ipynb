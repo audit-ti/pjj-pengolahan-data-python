{
 "cells": [
  {
   "cell_type": "markdown",
   "id": "be2f3fa0",
   "metadata": {},
   "source": [
    "<h4><center><font color=\"1F4690\">PJJ PENGOLAHAN DATA MENGGUNAKAN PYTHON <br> <br> Selasa, 14 Juni 2022</font></center></h4>\n",
    "<div class=\"alert alert-info\"><h1 align=\"center\"><font color=\"1F4690\">Pemrograman Python (Part 1)</font></h4></div> "
   ]
  },
  {
   "cell_type": "markdown",
   "id": "70a81a5f",
   "metadata": {},
   "source": [
    "=====================================================\n",
    "# TUGAS UNTUK ASYNCHRONOUS 1 \n",
    "=====================================================\n",
    "\n",
    "## Tugas 1\n",
    "\n",
    "Buatlah sebuah program yang mendapatkan angka menit dari user. Kemudian program akan melakukan perhitungan dan menghasilkan keluaran berupa jam dan menit sisanya bila ada. \n",
    "\n",
    "**Contoh keluaran bila input dari user 121:<br>**\n",
    "Hours</br>\n",
    "2</br>\n",
    "Minutes</br>\n",
    "1</br>"
   ]
  },
  {
   "cell_type": "code",
   "execution_count": 51,
   "id": "a123c4ac",
   "metadata": {},
   "outputs": [
    {
     "name": "stdout",
     "output_type": "stream",
     "text": [
      "Masukkan Menit yang Ingin Anda Konversi----87\n"
     ]
    }
   ],
   "source": [
    "total_minutes=int(input('Masukkan Menit yang Ingin Anda Konversi----'))"
   ]
  },
  {
   "cell_type": "code",
   "execution_count": 53,
   "id": "d5a5028f",
   "metadata": {},
   "outputs": [
    {
     "name": "stdout",
     "output_type": "stream",
     "text": [
      "1 jam 27 menit\n"
     ]
    }
   ],
   "source": [
    "jam = total_minutes // 60\n",
    "menit = total_minutes % 60\n",
    "print(jam,'jam',  menit, 'menit')"
   ]
  },
  {
   "cell_type": "markdown",
   "id": "f07b43b8",
   "metadata": {},
   "source": [
    "## Tugas 2\n",
    "\n",
    "Berikut adalah suatu string\n",
    "**str = ’X-DSPAM-Confidence:0.8475’**</br>\n",
    "Gunakan 'find' dan 'string slicing' untuk mengekstrak porsi dari karakter setelah tanda kolon, kemudian gunakan ubahlah menjadi data float."
   ]
  },
  {
   "cell_type": "code",
   "execution_count": 54,
   "id": "9e43464e",
   "metadata": {},
   "outputs": [],
   "source": [
    "str = 'X-DSPAM-Confidence:0.8475'"
   ]
  },
  {
   "cell_type": "code",
   "execution_count": 55,
   "id": "fa8f0eec",
   "metadata": {},
   "outputs": [
    {
     "data": {
      "text/plain": [
       "18"
      ]
     },
     "execution_count": 55,
     "metadata": {},
     "output_type": "execute_result"
    }
   ],
   "source": [
    "temukanX=str.find(\":\")\n",
    "temukanX"
   ]
  },
  {
   "cell_type": "code",
   "execution_count": 57,
   "id": "cb9b0e4c",
   "metadata": {},
   "outputs": [
    {
     "name": "stdout",
     "output_type": "stream",
     "text": [
      "0.8475\n"
     ]
    },
    {
     "data": {
      "text/plain": [
       "float"
      ]
     },
     "execution_count": 57,
     "metadata": {},
     "output_type": "execute_result"
    }
   ],
   "source": [
    "ambil_angka=str[19:len(str)]\n",
    "konvert_float=float(ambil_angka)\n",
    "print(konvert_float)\n",
    "type(konvert_float)"
   ]
  },
  {
   "cell_type": "markdown",
   "id": "dda1256d",
   "metadata": {},
   "source": [
    "=====================================================\n",
    "# TUGAS UNTUK ASYNCHRONOUS 2\n",
    "=====================================================\n",
    "\n",
    "## Latihan 3:\n",
    "Banyaknya hari dalam satu bulan bervariasi dari 28 hingga 31. Buatlah program yang memasukkan\n",
    "nama bulan dari user (string). Kemudian program harus melakukan perhitungan jumlah hari dalam bulan tersebut. \n",
    "Untuk bulan februari keluaran berupa string **“28 atau 29 hari”** agar berlaku juga untuk bulan kabisat."
   ]
  },
  {
   "cell_type": "code",
   "execution_count": 49,
   "id": "3cb6930a",
   "metadata": {},
   "outputs": [
    {
     "name": "stdout",
     "output_type": "stream",
     "text": [
      "Enter the name of a month: Januari\n"
     ]
    }
   ],
   "source": [
    "##\n",
    "# Display the number of days in a month.\n",
    "#\n",
    "# Read the month name from the user\n",
    "month = input(\"Enter the name of a month: \")"
   ]
  },
  {
   "cell_type": "code",
   "execution_count": 50,
   "id": "f5631653",
   "metadata": {},
   "outputs": [
    {
     "name": "stdout",
     "output_type": "stream",
     "text": [
      "Januari has 31 days in it.\n"
     ]
    }
   ],
   "source": [
    "# Compute the number of days in the month\n",
    "days = 31\n",
    "if month == \"April\" or month == \"Juni\" or month == \"September\" or month == \"November\":\n",
    "    days = 30\n",
    "elif month == \"Februari\":\n",
    "    days = \"28 or 29\"\n",
    "# Display the result\n",
    "print(month, \"has\", days, \"days in it.\")"
   ]
  },
  {
   "cell_type": "markdown",
   "id": "5b56cdbe",
   "metadata": {},
   "source": [
    "## Latihan 4:\n",
    "\n",
    "Skala Richter \n",
    "Magnitude Descriptor\n",
    "Less than 2.0 Micro\n",
    "2.0 to less than 3.0 Very Minor\n",
    "3.0 to less than 4.0 Minor\n",
    "4.0 to less than 5.0 Light\n",
    "5.0 to less than 6.0 Moderate\n",
    "6.0 to less than 7.0 Strong\n",
    "7.0 to less than 8.0 Major\n",
    "8.0 to less than 10.0 Great\n",
    "10.0 or more Meteoric\n",
    "\n",
    "* Buatlah program yang membaca besarnya magnitude dari user dan memberikan keluaran terkait grade dari kekuatan gempa.\n",
    "* Contoh keluaran :\n",
    "  **'Gempa berskala 5,5 berkategori Moderat'**  "
   ]
  },
  {
   "cell_type": "code",
   "execution_count": null,
   "id": "92e508fd",
   "metadata": {},
   "outputs": [],
   "source": []
  },
  {
   "cell_type": "markdown",
   "id": "5655e597",
   "metadata": {},
   "source": [
    "## Latihan 5:\n",
    "* Buatlah script yang menerima input berupa lima digit angka dari user.</br>\n",
    "* Pisahkan angka menjadi digit indivual. Print secara terpisah dengan separator berupa tiga spasi\n",
    "* Contoh: Jika user memasukkan 42339, maka hasil print</br> \n",
    "4   2   3   3   9</br>\n",
    "* Asumsikan bahwa user selalu menginput angka dalam panjang yang tepat. \n",
    "* Use both the floor division and remainder operations to “pick off ” each digit."
   ]
  },
  {
   "cell_type": "markdown",
   "id": "b6825183",
   "metadata": {},
   "source": [
    "## Latihan 8 :\n",
    "Pak Joni memiliki rencana untuk membeli sebuah rumah, tetapi sayangnya dia tidak punya banyak uang. Dia berencana untuk membeli tetapi dengan cicilan ke bank saja. Namun, sayangnya lagi-lagi untuk membayar DP pinjaman bankpun ia tidak punya. Oleh karena itu, dia berencana untuk menabung setiap bulan agar bisa membayar DP. Tugas anda : tentukan berapa lama dia harus menabung agar dia bisa membayar cicilan rumah tersebut.\n",
    "1.\tMintalah pak joni untuk membuat harga perkiraan rumah yang dia inginkan simpan pada variable, total_cost.\n",
    "2.\tBiasanya untuk DP rumah, bank akan mensyaratkan pembayaran DP sebesar 25%, simpan pada variabel portion_down_payment = 0.25.\n",
    "3.\tTanyakan pak joni berapa uang yang sudah dia punya selama ini yang dicadangkan untuk membayar DP, simpan pada variable current_savings nilai defaultnya boleh anda set 0. \n",
    "4.\tAsumsikan bahwa pak joni menginvestasikan tabungan dengan bijak, sehingga memperoleh bunga 5 % per tahun. \n",
    "5.\tSimpan gaji tahunan pak joni dalam variabel annual_salary.\n",
    "6.\tTanyakan pak Joni persen dari gaji pak joni yang dia sisishkan untuk menabung simpan pada variable portion_saved. Variabel ini berbentuk decimal (contoh 0.1 untuk persentase 10%). \n",
    "7.\tPada akhir tiap bulan bulan, tabungan anda akan meningkat sesuai dengan besarnya investasi  ditambah dengan porsi gaji yang ditabungkan (gaji tahunan/ 12)."
   ]
  },
  {
   "cell_type": "markdown",
   "id": "70d68f60",
   "metadata": {},
   "source": [
    "## Pengayaan\n",
    "Write a program that converts a binary (base 2) number to decimal (base 10). Your\n",
    "program should begin by reading the binary number from the user as a string. Then\n",
    "it should compute the equivalent decimal number by processing each digit in the\n",
    "binary number. Finally, your program should display the equivalent decimal number\n",
    "with an appropriate message."
   ]
  },
  {
   "cell_type": "markdown",
   "id": "18fa2954",
   "metadata": {},
   "source": [
    "## Latihan 7 :\n",
    "Konversi derajat celcius ke fahrenheit diatur oleh persamaan berikut :\n",
    "$F = (\\frac{9}{5}) * C + 32$\n",
    "Gunakan fungsi ini untuk memprint suatu daftar konversi temperatur dari celcius untuk range 0–100.\n",
    "Gunakan presisi 1 digit."
   ]
  },
  {
   "cell_type": "code",
   "execution_count": 26,
   "id": "2a6396ec",
   "metadata": {},
   "outputs": [
    {
     "name": "stdout",
     "output_type": "stream",
     "text": [
      "Celsius:  0 , Farenheit:  32.0\n",
      "Celsius:  1 , Farenheit:  33.8\n",
      "Celsius:  2 , Farenheit:  35.6\n",
      "Celsius:  3 , Farenheit:  37.4\n",
      "Celsius:  4 , Farenheit:  39.2\n",
      "Celsius:  5 , Farenheit:  41.0\n",
      "Celsius:  6 , Farenheit:  42.8\n",
      "Celsius:  7 , Farenheit:  44.6\n",
      "Celsius:  8 , Farenheit:  46.4\n",
      "Celsius:  9 , Farenheit:  48.2\n",
      "Celsius:  10 , Farenheit:  50.0\n",
      "Celsius:  11 , Farenheit:  51.8\n",
      "Celsius:  12 , Farenheit:  53.6\n",
      "Celsius:  13 , Farenheit:  55.400000000000006\n",
      "Celsius:  14 , Farenheit:  57.2\n",
      "Celsius:  15 , Farenheit:  59.0\n",
      "Celsius:  16 , Farenheit:  60.8\n",
      "Celsius:  17 , Farenheit:  62.6\n",
      "Celsius:  18 , Farenheit:  64.4\n",
      "Celsius:  19 , Farenheit:  66.2\n",
      "Celsius:  20 , Farenheit:  68.0\n",
      "Celsius:  21 , Farenheit:  69.80000000000001\n",
      "Celsius:  22 , Farenheit:  71.6\n",
      "Celsius:  23 , Farenheit:  73.4\n",
      "Celsius:  24 , Farenheit:  75.2\n",
      "Celsius:  25 , Farenheit:  77.0\n",
      "Celsius:  26 , Farenheit:  78.80000000000001\n",
      "Celsius:  27 , Farenheit:  80.6\n",
      "Celsius:  28 , Farenheit:  82.4\n",
      "Celsius:  29 , Farenheit:  84.2\n",
      "Celsius:  30 , Farenheit:  86.0\n",
      "Celsius:  31 , Farenheit:  87.80000000000001\n",
      "Celsius:  32 , Farenheit:  89.6\n",
      "Celsius:  33 , Farenheit:  91.4\n",
      "Celsius:  34 , Farenheit:  93.2\n",
      "Celsius:  35 , Farenheit:  95.0\n",
      "Celsius:  36 , Farenheit:  96.8\n",
      "Celsius:  37 , Farenheit:  98.60000000000001\n",
      "Celsius:  38 , Farenheit:  100.4\n",
      "Celsius:  39 , Farenheit:  102.2\n",
      "Celsius:  40 , Farenheit:  104.0\n",
      "Celsius:  41 , Farenheit:  105.8\n",
      "Celsius:  42 , Farenheit:  107.60000000000001\n",
      "Celsius:  43 , Farenheit:  109.4\n",
      "Celsius:  44 , Farenheit:  111.2\n",
      "Celsius:  45 , Farenheit:  113.0\n",
      "Celsius:  46 , Farenheit:  114.8\n",
      "Celsius:  47 , Farenheit:  116.60000000000001\n",
      "Celsius:  48 , Farenheit:  118.4\n",
      "Celsius:  49 , Farenheit:  120.2\n",
      "Celsius:  50 , Farenheit:  122.0\n",
      "Celsius:  51 , Farenheit:  123.8\n",
      "Celsius:  52 , Farenheit:  125.60000000000001\n",
      "Celsius:  53 , Farenheit:  127.4\n",
      "Celsius:  54 , Farenheit:  129.2\n",
      "Celsius:  55 , Farenheit:  131.0\n",
      "Celsius:  56 , Farenheit:  132.8\n",
      "Celsius:  57 , Farenheit:  134.60000000000002\n",
      "Celsius:  58 , Farenheit:  136.4\n",
      "Celsius:  59 , Farenheit:  138.2\n",
      "Celsius:  60 , Farenheit:  140.0\n",
      "Celsius:  61 , Farenheit:  141.8\n",
      "Celsius:  62 , Farenheit:  143.60000000000002\n",
      "Celsius:  63 , Farenheit:  145.4\n",
      "Celsius:  64 , Farenheit:  147.2\n",
      "Celsius:  65 , Farenheit:  149.0\n",
      "Celsius:  66 , Farenheit:  150.8\n",
      "Celsius:  67 , Farenheit:  152.60000000000002\n",
      "Celsius:  68 , Farenheit:  154.4\n",
      "Celsius:  69 , Farenheit:  156.2\n",
      "Celsius:  70 , Farenheit:  158.0\n",
      "Celsius:  71 , Farenheit:  159.8\n",
      "Celsius:  72 , Farenheit:  161.6\n",
      "Celsius:  73 , Farenheit:  163.4\n",
      "Celsius:  74 , Farenheit:  165.20000000000002\n",
      "Celsius:  75 , Farenheit:  167.0\n",
      "Celsius:  76 , Farenheit:  168.8\n",
      "Celsius:  77 , Farenheit:  170.6\n",
      "Celsius:  78 , Farenheit:  172.4\n",
      "Celsius:  79 , Farenheit:  174.20000000000002\n",
      "Celsius:  80 , Farenheit:  176.0\n",
      "Celsius:  81 , Farenheit:  177.8\n",
      "Celsius:  82 , Farenheit:  179.6\n",
      "Celsius:  83 , Farenheit:  181.4\n",
      "Celsius:  84 , Farenheit:  183.20000000000002\n",
      "Celsius:  85 , Farenheit:  185.0\n",
      "Celsius:  86 , Farenheit:  186.8\n",
      "Celsius:  87 , Farenheit:  188.6\n",
      "Celsius:  88 , Farenheit:  190.4\n",
      "Celsius:  89 , Farenheit:  192.20000000000002\n",
      "Celsius:  90 , Farenheit:  194.0\n",
      "Celsius:  91 , Farenheit:  195.8\n",
      "Celsius:  92 , Farenheit:  197.6\n",
      "Celsius:  93 , Farenheit:  199.4\n",
      "Celsius:  94 , Farenheit:  201.20000000000002\n",
      "Celsius:  95 , Farenheit:  203.0\n",
      "Celsius:  96 , Farenheit:  204.8\n",
      "Celsius:  97 , Farenheit:  206.6\n",
      "Celsius:  98 , Farenheit:  208.4\n",
      "Celsius:  99 , Farenheit:  210.20000000000002\n"
     ]
    }
   ],
   "source": [
    "celcius=0\n",
    "def celcius_fahrenheit_converter(celcius):\n",
    "    f=(9/5)*celcius+32\n",
    "    return f\n",
    "\n",
    "for y in range(0,100):\n",
    "    print(\"Celsius: \", y, \", Farenheit: \", celcius_fahrenheit_converter(y))"
   ]
  },
  {
   "cell_type": "markdown",
   "id": "e25a572f",
   "metadata": {},
   "source": [
    "## Latihan 6:\n",
    "Sebuah bilangan palindrom adalah angka yang jika dibaca dari depan kebelakang sama. Contoh:\n",
    "12321, 55555, 45554 and 11611.\n",
    "Tulislah sebuah program yang membaca lima digit bilangan bulat untuk menentukan apakah mereka palindrome atau bukan.\n",
    "[Hint: Use the // and % operators to separate the number into its digits.]"
   ]
  }
 ],
 "metadata": {
  "kernelspec": {
   "display_name": "Python 3 (ipykernel)",
   "language": "python",
   "name": "python3"
  },
  "language_info": {
   "codemirror_mode": {
    "name": "ipython",
    "version": 3
   },
   "file_extension": ".py",
   "mimetype": "text/x-python",
   "name": "python",
   "nbconvert_exporter": "python",
   "pygments_lexer": "ipython3",
   "version": "3.9.7"
  }
 },
 "nbformat": 4,
 "nbformat_minor": 5
}
