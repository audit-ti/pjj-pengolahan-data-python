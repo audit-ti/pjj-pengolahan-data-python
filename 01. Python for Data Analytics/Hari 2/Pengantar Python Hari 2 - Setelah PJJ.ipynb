{
 "cells": [
  {
   "cell_type": "markdown",
   "id": "3224ab2b",
   "metadata": {},
   "source": [
    "<h4><center><font color=\"1F4690\">PJJ PENGOLAHAN DATA MENGGUNAKAN PYTHON <br> <br> Rabu, 15 Juni 2022</font></center></h4>\n",
    "<div class=\"alert alert-info\"><h1 align=\"center\"><font color=\"1F4690\">Pemrograman Python (Part 2)</font></h4></div> "
   ]
  },
  {
   "cell_type": "markdown",
   "id": "8b9feb23",
   "metadata": {},
   "source": [
    "# Beberapa Metode Operasi String Tambahan\n",
    "\n",
    "## Split\n",
    "\n",
    "split sangat berguna digunakan untuk memecah string berdasarkan kriteria yang kita mau. Formatnya adalah `string.split(separator)`\n",
    "\n",
    "\n",
    "## Join\n",
    "join berguna untuk menyatukan item-item yang ada dalam suatu sequence."
   ]
  },
  {
   "cell_type": "code",
   "execution_count": 9,
   "id": "843f3a71",
   "metadata": {},
   "outputs": [
    {
     "name": "stdout",
     "output_type": "stream",
     "text": [
      "['Sarimin', 'Pergi', 'ke', 'Pasar', 'Sore']\n",
      "['Sarimin', ' Pergi', ' ke Pasar', ' Sore']\n"
     ]
    }
   ],
   "source": [
    "string1=\"Sarimin Pergi ke Pasar Sore\"\n",
    "string2=\"Sarimin, Pergi, ke Pasar, Sore\"\n",
    "print(string1.split())\n",
    "print(string2.split(\",\"))"
   ]
  },
  {
   "cell_type": "code",
   "execution_count": 18,
   "id": "7170e466",
   "metadata": {},
   "outputs": [
    {
     "name": "stdout",
     "output_type": "stream",
     "text": [
      "Soekarno Soeharto Habibie Megawati SBY Jokowi\n",
      "Garuda dan Batik dan Air Asia dan Lion Air dan Super Air Jet dan Wings Air\n"
     ]
    }
   ],
   "source": [
    "presiden=[\"Soekarno\", \"Soeharto\", \"Habibie\", \"Megawati\", \"SBY\", \"Jokowi\"]\n",
    "pesawat=(\"Garuda\", \"Batik\", \"Air Asia\", \"Lion Air\", \"Super Air Jet\", \"Wings Air\")\n",
    "penghubung1=\" \"\n",
    "penghubung2=\" dan \"\n",
    "after_join1=penghubung1.join(presiden)\n",
    "after_join2=penghubung2.join(pesawat)\n",
    "print(after_join1)\n",
    "print(after_join2)"
   ]
  },
  {
   "cell_type": "markdown",
   "id": "5bfd5b27",
   "metadata": {},
   "source": [
    "# 1. Python Files\n",
    "***\n",
    "Python juga bisa mengambil data yang tersimpan di dalam csv atau txt untuk diolah lebih lanjut. Adapun mekanisme untuk membacanya adalah dengan menggunakan `open()`, adapun `r` memaksudkan kita hanya bisa `read`."
   ]
  },
  {
   "cell_type": "code",
   "execution_count": 6,
   "id": "fa02dd42",
   "metadata": {},
   "outputs": [
    {
     "name": "stdout",
     "output_type": "stream",
     "text": [
      "tahun,kota_kab,jenis_museum,jumlah\n",
      "2020,Jakarta Selatan,Seni Rupa,0\n",
      "2020,Jakarta Selatan,Arkeologi dan Sejarah,0\n",
      "2020,Jakarta Selatan,IPTEK,0\n",
      "2020,Jakarta Selatan,Khusus,0\n",
      "2020,Jakarta Selatan,Umum (Pusat),0\n",
      "2020,Jakarta Selatan,Kebun Binatang dan Aquaria,0\n",
      "2020,Jakarta Timur,Seni Rupa,0\n",
      "2020,Jakarta Timur,Arkeologi dan Sejarah,0\n",
      "2020,Jakarta Timur,IPTEK,0\n",
      "2020,Jakarta Timur,Khusus,0\n",
      "2020,Jakarta Timur,Umum (Pusat),0\n",
      "2020,Jakarta Timur,Kebun Binatang dan Aquaria,0\n",
      "2020,Jakarta Pusat,Seni Rupa,0\n",
      "2020,Jakarta Pusat,Arkeologi dan Sejarah,3\n",
      "2020,Jakarta Pusat,IPTEK,0\n",
      "2020,Jakarta Pusat,Khusus,0\n",
      "2020,Jakarta Pusat,Umum (Pusat),0\n",
      "2020,Jakarta Pusat,Kebun Binatang dan Aquaria,0\n",
      "2020,Jakarta Barat,Seni Rupa,3\n",
      "2020,Jakarta Barat,Arkeologi dan Sejarah,1\n",
      "2020,Jakarta Barat,IPTEK,0\n",
      "2020,Jakarta Barat,Khusus,0\n",
      "2020,Jakarta Barat,Umum (Pusat),0\n",
      "2020,Jakarta Barat,Kebun Binatang dan Aquaria,0\n",
      "2020,Jakarta Utara,Seni Rupa,0\n",
      "2020,Jakarta Utara,Arkeologi dan Sejarah,1\n",
      "2020,Jakarta Utara,IPTEK,0\n",
      "2020,Jakarta Utara,Khusus,0\n",
      "2020,Jakarta Utara,Umum (Pusat),0\n",
      "2020,Jakarta Utara,Kebun Binatang dan Aquaria,0\n",
      "\n"
     ]
    }
   ],
   "source": [
    "#open and read the file after the appending:\n",
    "f = open(\"museum.csv\", \"r\")\n",
    "print(f.read())"
   ]
  },
  {
   "cell_type": "markdown",
   "id": "e26ee41b",
   "metadata": {},
   "source": [
    "# 2. Sequence Data Type di Python "
   ]
  },
  {
   "cell_type": "markdown",
   "id": "58a7881b",
   "metadata": {},
   "source": [
    "Terdapat empat built-in data types yang digunakan untuk menyimpan data di Python \n",
    "1. List,\n",
    "2. Tuple, \n",
    "3. Set,\n",
    "4. Dictionary\n",
    "\n",
    "Perbedaan dari keempat tipe data di atas adalah :\n",
    "\n",
    "| **Pembeda**           | **List**          | **Tuple**              | **Set**                 | **Dictonary**                                |\n",
    "|:------------------|:--------------|:-------------------|:--------------------|:-----------------------------------------|\n",
    "| Bentuk            | [a,b,c]       | (a,b,c)            | {a,b,c}             | {a:x, b:y, c:z}                          |\n",
    "| Duplikasi Item    | Diperbolehkan | Diperbolehkan      | Tidak diperbolehkan | Tidak diperbolehkan (kunci maupun nilai) |\n",
    "| Order/Unordered   | Ordered       | Ordered            | Unordered           | Unordered                                  |\n",
    "| Keterubahan Nilai | Dapat Diubah  | Tidak Dapat Diubah | Dapat Diubah        | Dapat Diubah                             |"
   ]
  },
  {
   "cell_type": "markdown",
   "id": "26e1d55b",
   "metadata": {},
   "source": [
    "# Mutabillity (Keterubahan Nilai)\n",
    "\n",
    "Terdapat objek yang ada di python yang bisa diubah nilainya. Namun, ada juga yang tidak.\n",
    "Perhatikan contoh berikut."
   ]
  },
  {
   "cell_type": "code",
   "execution_count": 14,
   "id": "f24ed1b3",
   "metadata": {},
   "outputs": [
    {
     "data": {
      "text/plain": [
       "2572103273072"
      ]
     },
     "execution_count": 14,
     "metadata": {},
     "output_type": "execute_result"
    }
   ],
   "source": [
    "obyek1='MAKANAN'\n",
    "id(obyek1)"
   ]
  },
  {
   "cell_type": "code",
   "execution_count": 15,
   "id": "b71ef6b5",
   "metadata": {},
   "outputs": [
    {
     "data": {
      "text/plain": [
       "2572103273648"
      ]
     },
     "execution_count": 15,
     "metadata": {},
     "output_type": "execute_result"
    }
   ],
   "source": [
    "obyek1='MINUMAN'\n",
    "id(obyek1)"
   ]
  },
  {
   "cell_type": "code",
   "execution_count": 8,
   "id": "33609631",
   "metadata": {},
   "outputs": [
    {
     "data": {
      "text/plain": [
       "3122212473856"
      ]
     },
     "execution_count": 8,
     "metadata": {},
     "output_type": "execute_result"
    }
   ],
   "source": [
    "daftar_rs=['rspad', 'rscm', 'rsudsenen', 'rsudcempakaputih']\n",
    "id(daftar_rs)"
   ]
  },
  {
   "cell_type": "code",
   "execution_count": 9,
   "id": "bc3e5d02",
   "metadata": {},
   "outputs": [
    {
     "data": {
      "text/plain": [
       "['rspad', 'rsui', 'rsudsenen', 'rsudcempakaputih']"
      ]
     },
     "execution_count": 9,
     "metadata": {},
     "output_type": "execute_result"
    }
   ],
   "source": [
    "daftar_rs[1]='rsui'\n",
    "daftar_rs"
   ]
  },
  {
   "cell_type": "code",
   "execution_count": 10,
   "id": "c6f073b3",
   "metadata": {},
   "outputs": [
    {
     "data": {
      "text/plain": [
       "3122212473856"
      ]
     },
     "execution_count": 10,
     "metadata": {},
     "output_type": "execute_result"
    }
   ],
   "source": [
    "id(daftar_rs)"
   ]
  },
  {
   "cell_type": "markdown",
   "id": "e122551b",
   "metadata": {},
   "source": [
    "**MUTABLE/IMMUTABLE** \n",
    "* Obyek bertipe string pada contoh di atas bersifat IMMUTABLE (tidak dapat diubah) - perhatikan idnya BERUBAH. \n",
    "* Obyek bertipe list pada contoh di atas bersifat MUTABLE (dapat diubah) - perhatikan idnya TETAP"
   ]
  },
  {
   "cell_type": "markdown",
   "id": "bafc9574",
   "metadata": {},
   "source": [
    "# Ordered vs Unordered\n",
    "\n",
    "Terdapat sequence data type yang setiap anggotanya memiliki urutan letak dalam data type tersebut. Artinya, kita bisa mengindeks setiap anggotanya.\n",
    "* List, Tuple, merupakan sequence yang anggotanya memiliki urutan letak\n",
    "* Set, Dictionary anggotanya tidak memiliki urutan letak, sehingga tidak bisa dipanggil urutan ke-n nya."
   ]
  },
  {
   "cell_type": "code",
   "execution_count": 22,
   "id": "919c1181",
   "metadata": {},
   "outputs": [
    {
     "name": "stdout",
     "output_type": "stream",
     "text": [
      "dia\n",
      "dia\n"
     ]
    }
   ],
   "source": [
    "l_list=[\"aku\", \"dia\", \"kamu\", \"mereka\"]\n",
    "t_tuple=(\"aku\", \"dia\", \"kamu\", \"mereka\")\n",
    "print(l_list[1])\n",
    "print(t_tuple[1])"
   ]
  },
  {
   "cell_type": "code",
   "execution_count": 23,
   "id": "f561208f",
   "metadata": {},
   "outputs": [
    {
     "ename": "TypeError",
     "evalue": "'set' object is not subscriptable",
     "output_type": "error",
     "traceback": [
      "\u001b[1;31m---------------------------------------------------------------------------\u001b[0m",
      "\u001b[1;31mTypeError\u001b[0m                                 Traceback (most recent call last)",
      "\u001b[1;32mC:\\Users\\ANDREA~1.KUR\\AppData\\Local\\Temp/ipykernel_13416/2976529705.py\u001b[0m in \u001b[0;36m<module>\u001b[1;34m\u001b[0m\n\u001b[0;32m      1\u001b[0m \u001b[0ms_set\u001b[0m\u001b[1;33m=\u001b[0m\u001b[1;33m{\u001b[0m\u001b[1;34m\"aku\"\u001b[0m\u001b[1;33m,\u001b[0m \u001b[1;34m\"dia\"\u001b[0m\u001b[1;33m,\u001b[0m \u001b[1;34m\"kamu\"\u001b[0m\u001b[1;33m,\u001b[0m \u001b[1;34m\"mereka\"\u001b[0m\u001b[1;33m}\u001b[0m\u001b[1;33m\u001b[0m\u001b[1;33m\u001b[0m\u001b[0m\n\u001b[0;32m      2\u001b[0m \u001b[0md_dictionary\u001b[0m\u001b[1;33m=\u001b[0m\u001b[1;33m{\u001b[0m\u001b[1;34m\"aku\"\u001b[0m\u001b[1;33m:\u001b[0m\u001b[1;34m\"dia\"\u001b[0m\u001b[1;33m,\u001b[0m \u001b[1;34m\"kamu\"\u001b[0m\u001b[1;33m:\u001b[0m\u001b[1;34m\"mereka\"\u001b[0m\u001b[1;33m}\u001b[0m\u001b[1;33m\u001b[0m\u001b[1;33m\u001b[0m\u001b[0m\n\u001b[1;32m----> 3\u001b[1;33m \u001b[0mprint\u001b[0m\u001b[1;33m(\u001b[0m\u001b[0ms_set\u001b[0m\u001b[1;33m[\u001b[0m\u001b[1;36m1\u001b[0m\u001b[1;33m]\u001b[0m\u001b[1;33m)\u001b[0m\u001b[1;33m\u001b[0m\u001b[1;33m\u001b[0m\u001b[0m\n\u001b[0m\u001b[0;32m      4\u001b[0m \u001b[0mprint\u001b[0m\u001b[1;33m(\u001b[0m\u001b[0md_dictionary\u001b[0m\u001b[1;33m[\u001b[0m\u001b[1;36m1\u001b[0m\u001b[1;33m]\u001b[0m\u001b[1;33m)\u001b[0m\u001b[1;33m\u001b[0m\u001b[1;33m\u001b[0m\u001b[0m\n",
      "\u001b[1;31mTypeError\u001b[0m: 'set' object is not subscriptable"
     ]
    }
   ],
   "source": [
    "s_set={\"aku\", \"dia\", \"kamu\", \"mereka\"}\n",
    "d_dictionary={\"aku\":\"dia\", \"kamu\":\"mereka\"}\n",
    "print(s_set[1])\n",
    "print(d_dictionary[1])"
   ]
  },
  {
   "cell_type": "markdown",
   "id": "c577c73d",
   "metadata": {},
   "source": [
    "# Aliasing\n",
    "\n",
    "Aliasing adalah memberi nama lain dari untuk objek tertentu. Perhatikan id dari list awal dan list yang menjadi aliasnya SAMA."
   ]
  },
  {
   "cell_type": "code",
   "execution_count": 33,
   "id": "011fe36e",
   "metadata": {},
   "outputs": [
    {
     "name": "stdout",
     "output_type": "stream",
     "text": [
      "ID daftar_rs 2550452347392\n",
      "['rspad', 'rscm', 'rsudsenen', 'rsudcempakaputih']\n",
      "ID daftar_rumkit 2550452347392\n"
     ]
    }
   ],
   "source": [
    "daftar_rs=['rspad', 'rscm', 'rsudsenen', 'rsudcempakaputih']\n",
    "print('ID daftar_rs', id(daftar_rs))\n",
    "daftar_rumkit=daftar_rs\n",
    "print(daftar_rumkit)\n",
    "print('ID daftar_rumkit', id(daftar_rumkit))"
   ]
  },
  {
   "cell_type": "markdown",
   "id": "8566e978",
   "metadata": {},
   "source": [
    "# Cloning\n",
    "Cloning adalah mengkopi suatu objek, kemudian objek itu menjadi objek baru tidak berkaitan dengan objek lama. Perhatikan id dari list awal dan list yang menjadi aliasnya BERBEDA."
   ]
  },
  {
   "cell_type": "code",
   "execution_count": 32,
   "id": "ef1f9b7b",
   "metadata": {},
   "outputs": [
    {
     "name": "stdout",
     "output_type": "stream",
     "text": [
      "ID daftar_rumah sakit 2550452294080\n"
     ]
    }
   ],
   "source": [
    "daftar_rumah_sakit=daftar_rs[:]\n",
    "print('ID daftar_rumah sakit', id(daftar_rumah_sakit))"
   ]
  },
  {
   "cell_type": "markdown",
   "id": "5081b533",
   "metadata": {},
   "source": [
    "# 2. Python List"
   ]
  },
  {
   "cell_type": "code",
   "execution_count": 16,
   "id": "1a3add84",
   "metadata": {},
   "outputs": [],
   "source": [
    "klaim_bpjs = [\"Askariasis\", \"Taeniasis\", \"Insomnia\", \"Vertigo\", \"Hiperurisemia\", \n",
    "     \"Obesitas\", \"Skrufuloderma\", \"Scabies\", \"Miliaria\", \"Lepra\", \"Gastroentritis\"]"
   ]
  },
  {
   "cell_type": "code",
   "execution_count": 13,
   "id": "f3028b0a",
   "metadata": {},
   "outputs": [],
   "source": [
    "klaim_bpjs2= [1, \"Taeniasis\", 2.0, True, \n",
    "     \"Obesitas\", \"Skrufuloderma\", \"Scabies\", \"Miliaria\", \"Lepra\", \"Gastroentritis\"]"
   ]
  },
  {
   "cell_type": "code",
   "execution_count": 14,
   "id": "2beb4dcc",
   "metadata": {},
   "outputs": [
    {
     "data": {
      "text/plain": [
       "[1,\n",
       " 'Taeniasis',\n",
       " 2.0,\n",
       " True,\n",
       " 'Obesitas',\n",
       " 'Skrufuloderma',\n",
       " 'Scabies',\n",
       " 'Miliaria',\n",
       " 'Lepra',\n",
       " 'Gastroentritis']"
      ]
     },
     "execution_count": 14,
     "metadata": {},
     "output_type": "execute_result"
    }
   ],
   "source": [
    "klaim_bpjs2"
   ]
  },
  {
   "cell_type": "markdown",
   "id": "410d3a4f",
   "metadata": {},
   "source": [
    "## 2.1 Membuat  dan Menambahkan Item di  List\n",
    "\n",
    "Untuk membuat list, kita bisa memulai dengan suatu list kosong. Kemudian, kita tambahkan dengan `append()` atau `insert()`."
   ]
  },
  {
   "cell_type": "code",
   "execution_count": 17,
   "id": "50758b2b",
   "metadata": {},
   "outputs": [
    {
     "data": {
      "text/plain": [
       "['Askariasis',\n",
       " 'Taeniasis',\n",
       " 'Insomnia',\n",
       " 'Vertigo',\n",
       " 'Hiperurisemia',\n",
       " 'Obesitas',\n",
       " 'Skrufuloderma',\n",
       " 'Scabies',\n",
       " 'Miliaria',\n",
       " 'Lepra',\n",
       " 'Gastroentritis',\n",
       " 'KURANG DARAH']"
      ]
     },
     "execution_count": 17,
     "metadata": {},
     "output_type": "execute_result"
    }
   ],
   "source": [
    "klaim_bpjs.append('KURANG DARAH')\n",
    "klaim_bpjs"
   ]
  },
  {
   "cell_type": "code",
   "execution_count": 18,
   "id": "6fd5dc4e",
   "metadata": {},
   "outputs": [
    {
     "data": {
      "text/plain": [
       "['Askariasis',\n",
       " 'Taeniasis',\n",
       " 'Insomnia',\n",
       " 'Vertigo',\n",
       " 'Hiperurisemia',\n",
       " 'Obesitas',\n",
       " 'Skrufuloderma',\n",
       " 'Scabies',\n",
       " 'Miliaria',\n",
       " 'Lepra',\n",
       " 'Gastroentritis',\n",
       " 'KURANG DARAH',\n",
       " 'KURANG TIDUR']"
      ]
     },
     "execution_count": 18,
     "metadata": {},
     "output_type": "execute_result"
    }
   ],
   "source": [
    "klaim_bpjs.append('KURANG TIDUR')\n",
    "klaim_bpjs"
   ]
  },
  {
   "cell_type": "code",
   "execution_count": 19,
   "id": "d3f10dde",
   "metadata": {},
   "outputs": [
    {
     "data": {
      "text/plain": [
       "['Askariasis',\n",
       " 'Taeniasis',\n",
       " 'Insomnia',\n",
       " 'KURANG HATI HATI',\n",
       " 'Vertigo',\n",
       " 'Hiperurisemia',\n",
       " 'Obesitas',\n",
       " 'Skrufuloderma',\n",
       " 'Scabies',\n",
       " 'Miliaria',\n",
       " 'Lepra',\n",
       " 'Gastroentritis',\n",
       " 'KURANG DARAH',\n",
       " 'KURANG TIDUR']"
      ]
     },
     "execution_count": 19,
     "metadata": {},
     "output_type": "execute_result"
    }
   ],
   "source": [
    "klaim_bpjs.insert(3, 'KURANG HATI HATI')\n",
    "klaim_bpjs"
   ]
  },
  {
   "cell_type": "markdown",
   "id": "b244762b",
   "metadata": {},
   "source": [
    "## 2.2 Slicing"
   ]
  },
  {
   "cell_type": "markdown",
   "id": "1c03c00e",
   "metadata": {},
   "source": [
    "![Indexing](https://raw.githubusercontent.com/ansyaku/asset/main/indexing.jpg)"
   ]
  },
  {
   "cell_type": "markdown",
   "id": "9a53fc9a",
   "metadata": {},
   "source": [
    "[start:stop:step] #step default 1"
   ]
  },
  {
   "cell_type": "code",
   "execution_count": 20,
   "id": "55277bfe",
   "metadata": {},
   "outputs": [
    {
     "data": {
      "text/plain": [
       "['paris', 'london', 'munich', 'bratislava', 'dubrovnik', 'skopje']"
      ]
     },
     "execution_count": 20,
     "metadata": {},
     "output_type": "execute_result"
    }
   ],
   "source": [
    "city=['paris','london','munich','bratislava','dubrovnik','skopje', 'sofia']\n",
    "city[:-1]"
   ]
  },
  {
   "cell_type": "code",
   "execution_count": 2,
   "id": "d7b6f442",
   "metadata": {},
   "outputs": [
    {
     "name": "stdout",
     "output_type": "stream",
     "text": [
      "sofia\n",
      "['skopje', 'sofia']\n",
      "['paris', 'london', 'munich', 'bratislava', 'dubrovnik']\n"
     ]
    }
   ],
   "source": [
    "print(city[-1])    # Item terakhir\n",
    "print(city[-2:])   # Dua item terakhir\n",
    "print(city[:-2])   # Semuanya kecuali dua item terakhir"
   ]
  },
  {
   "cell_type": "code",
   "execution_count": 3,
   "id": "d8f7e5e7",
   "metadata": {},
   "outputs": [
    {
     "name": "stdout",
     "output_type": "stream",
     "text": [
      "['dubrovnik', 'skopje', 'sofia']\n",
      "['dubrovnik', 'skopje']\n"
     ]
    }
   ],
   "source": [
    "# python langsung menganggap akhirnya adalah posisi paling belakang\n",
    "# python langsung menganggap akhirnya -1\n",
    "print(city[-3:])\n",
    "print(city[-3:-1])"
   ]
  },
  {
   "cell_type": "code",
   "execution_count": 22,
   "id": "9f4365d2",
   "metadata": {},
   "outputs": [
    {
     "name": "stdout",
     "output_type": "stream",
     "text": [
      "['bratislava', 'skopje']\n"
     ]
    }
   ],
   "source": [
    "city=['paris','london','munich','bratislava','dubrovnik','skopje', 'sofia']\n",
    "print(city[3:7:2])"
   ]
  },
  {
   "cell_type": "code",
   "execution_count": 5,
   "id": "0eb29d53",
   "metadata": {},
   "outputs": [
    {
     "name": "stdout",
     "output_type": "stream",
     "text": [
      "['skopje', 'dubrovnik', 'bratislava']\n"
     ]
    }
   ],
   "source": [
    "print(city[-2:-5:-1])"
   ]
  },
  {
   "cell_type": "code",
   "execution_count": 23,
   "id": "c8749398",
   "metadata": {},
   "outputs": [
    {
     "name": "stdout",
     "output_type": "stream",
     "text": [
      "---Lokasi Indeks No-2:----------------------\n",
      "Insomnia\n",
      "---4 Indeks pertama :----------------------\n",
      "['Askariasis', 'Taeniasis', 'Insomnia', 'KURANG HATI HATI']\n",
      "['Askariasis', 'Taeniasis', 'Insomnia', 'KURANG HATI HATI']\n",
      "---Mulai dari indeks ke-2 hingga selesai---------------------------------\n",
      "['Insomnia', 'KURANG HATI HATI', 'Vertigo', 'Hiperurisemia', 'Obesitas', 'Skrufuloderma', 'Scabies', 'Miliaria', 'Lepra', 'Gastroentritis', 'KURANG DARAH', 'KURANG TIDUR']\n",
      "---Indeks negatif mulai dari belakang---------------\n",
      "['Askariasis', 'Taeniasis', 'Insomnia', 'KURANG HATI HATI', 'Vertigo', 'Hiperurisemia', 'Obesitas', 'Skrufuloderma', 'Scabies', 'Miliaria', 'Lepra', 'Gastroentritis']\n",
      "---Indeks ke 3 hingga ke 4 :----------------------\n",
      "['KURANG HATI HATI', 'Vertigo']\n"
     ]
    }
   ],
   "source": [
    "print('---Lokasi Indeks No-2:----------------------')\n",
    "print(klaim_bpjs[2])\n",
    "print('---4 Indeks pertama :----------------------')\n",
    "print(klaim_bpjs[0:4])\n",
    "print(klaim_bpjs[:4])\n",
    "print('---Mulai dari indeks ke-2 hingga selesai---------------------------------')\n",
    "print(klaim_bpjs[2:])\n",
    "print('---Indeks negatif mulai dari belakang---------------')\n",
    "print(klaim_bpjs[:-2])\n",
    "print('---Indeks ke 3 hingga ke 4 :----------------------')\n",
    "print(klaim_bpjs[3:5])"
   ]
  },
  {
   "cell_type": "markdown",
   "id": "5b85a1b7",
   "metadata": {},
   "source": [
    "## 2.3 Mengganti Isi List"
   ]
  },
  {
   "cell_type": "code",
   "execution_count": 24,
   "id": "92e6a1d7",
   "metadata": {},
   "outputs": [
    {
     "data": {
      "text/plain": [
       "['Askariasis',\n",
       " 'Taeniasis',\n",
       " 'Insomnia',\n",
       " 'KURANG HATI HATI',\n",
       " 'Vertigo',\n",
       " 'Hiperurisemia',\n",
       " 'Obesitas',\n",
       " 'Skrufuloderma',\n",
       " 'Scabies',\n",
       " 'Miliaria',\n",
       " 'Lepra',\n",
       " 'Gastroentritis',\n",
       " 'KURANG DARAH',\n",
       " 'KURANG TIDUR']"
      ]
     },
     "execution_count": 24,
     "metadata": {},
     "output_type": "execute_result"
    }
   ],
   "source": [
    "klaim_bpjs"
   ]
  },
  {
   "cell_type": "code",
   "execution_count": 25,
   "id": "a19b690d",
   "metadata": {},
   "outputs": [
    {
     "name": "stdout",
     "output_type": "stream",
     "text": [
      "['Askariasis', 'Taeniasis', 'Insomnia', 'KURANG HATI HATI', 'Vertigo', 'Hiperurisemia', 'Obesitas', 'Skrufuloderma', 'Scabies', 'Miliaria', 'KURANG CEKATAN', 'Gastroentritis', 'KURANG DARAH', 'KURANG TIDUR']\n"
     ]
    }
   ],
   "source": [
    "klaim_bpjs[10] = 'KURANG CEKATAN'\n",
    "print(klaim_bpjs)"
   ]
  },
  {
   "cell_type": "markdown",
   "id": "ba4fce40",
   "metadata": {},
   "source": [
    "## 2.4 Menghapus Isi List\n",
    "\n",
    "* Menghapus item list dengan indeks tertentu get its value: `pop()`\n",
    "* Menghapus item list dengan nilai tertentu `remove()`\n",
    "* Menghapus item list dengan indeks tertentu: `del()`\n",
    "* Menghapus semua isi list: `clear()`"
   ]
  },
  {
   "cell_type": "code",
   "execution_count": 26,
   "id": "6f92bdd9",
   "metadata": {},
   "outputs": [
    {
     "name": "stdout",
     "output_type": "stream",
     "text": [
      "['Askariasis', 'Taeniasis', 'KURANG HATI HATI', 'Vertigo', 'Hiperurisemia', 'Obesitas', 'Skrufuloderma', 'Scabies', 'Miliaria', 'KURANG CEKATAN', 'Gastroentritis', 'KURANG DARAH', 'KURANG TIDUR']\n"
     ]
    }
   ],
   "source": [
    "klaim_bpjs.pop(2)\n",
    "print(klaim_bpjs)"
   ]
  },
  {
   "cell_type": "code",
   "execution_count": 27,
   "id": "062b8a50",
   "metadata": {},
   "outputs": [
    {
     "name": "stdout",
     "output_type": "stream",
     "text": [
      "['Askariasis', 'Taeniasis', 'KURANG HATI HATI', 'Vertigo', 'Hiperurisemia', 'Skrufuloderma', 'Scabies', 'Miliaria', 'KURANG CEKATAN', 'Gastroentritis', 'KURANG DARAH', 'KURANG TIDUR']\n"
     ]
    }
   ],
   "source": [
    "klaim_bpjs.remove('Obesitas')\n",
    "print(klaim_bpjs)"
   ]
  },
  {
   "cell_type": "code",
   "execution_count": 28,
   "id": "2e549d09",
   "metadata": {},
   "outputs": [
    {
     "name": "stdout",
     "output_type": "stream",
     "text": [
      "['Taeniasis', 'KURANG HATI HATI', 'Vertigo', 'Hiperurisemia', 'Skrufuloderma', 'Scabies', 'Miliaria', 'KURANG CEKATAN', 'Gastroentritis', 'KURANG DARAH', 'KURANG TIDUR']\n"
     ]
    }
   ],
   "source": [
    "del klaim_bpjs[0]\n",
    "print(klaim_bpjs)"
   ]
  },
  {
   "cell_type": "code",
   "execution_count": 29,
   "id": "98c77bf9",
   "metadata": {},
   "outputs": [
    {
     "name": "stdout",
     "output_type": "stream",
     "text": [
      "[]\n"
     ]
    }
   ],
   "source": [
    "klaim_bpjs.clear()\n",
    "print(klaim_bpjs)"
   ]
  },
  {
   "cell_type": "markdown",
   "id": "483df8d3",
   "metadata": {},
   "source": [
    "## 2.5 Sorting List\n",
    "\n",
    "Ada dua cara untuk melakukan sorting list.\n",
    "* `sort` \n",
    "* `sorted` "
   ]
  },
  {
   "cell_type": "code",
   "execution_count": 30,
   "id": "4a4cc0f3",
   "metadata": {},
   "outputs": [
    {
     "name": "stdout",
     "output_type": "stream",
     "text": [
      "None\n",
      "['Askariasis', 'Gastroentritis', 'Hiperurisemia', 'Insomnia', 'Lepra', 'Miliaria', 'Obesitas', 'Scabies', 'Skrufuloderma', 'Taeniasis', 'Vertigo']\n"
     ]
    }
   ],
   "source": [
    "# SORT\n",
    "klaim_bpjs2 = [\"Askariasis\", \"Taeniasis\", \"Insomnia\", \"Vertigo\", \"Hiperurisemia\", \n",
    "     \"Obesitas\", \"Skrufuloderma\", \"Scabies\", \"Miliaria\", \"Lepra\", \"Gastroentritis\"]\n",
    "print(klaim_bpjs2.sort())\n",
    "print(klaim_bpjs2)"
   ]
  },
  {
   "cell_type": "code",
   "execution_count": 90,
   "id": "6bfe1f9f",
   "metadata": {},
   "outputs": [
    {
     "name": "stdout",
     "output_type": "stream",
     "text": [
      "['Askariasis', 'Gastroentritis', 'Hiperurisemia', 'Insomnia', 'Lepra', 'Miliaria', 'Obesitas', 'Scabies', 'Skrufuloderma', 'Taeniasis', 'Vertigo']\n",
      "['Askariasis', 'Taeniasis', 'Insomnia', 'Vertigo', 'Hiperurisemia', 'Obesitas', 'Skrufuloderma', 'Scabies', 'Miliaria', 'Lepra', 'Gastroentritis']\n"
     ]
    }
   ],
   "source": [
    "# SORTED\n",
    "klaim_bpjs1 = [\"Askariasis\", \"Taeniasis\", \"Insomnia\", \"Vertigo\", \"Hiperurisemia\", \n",
    "     \"Obesitas\", \"Skrufuloderma\", \"Scabies\", \"Miliaria\", \"Lepra\", \"Gastroentritis\"]\n",
    "print(sorted(klaim_bpjs1))\n",
    "print(klaim_bpjs1)"
   ]
  },
  {
   "cell_type": "code",
   "execution_count": 32,
   "id": "5d312343",
   "metadata": {},
   "outputs": [
    {
     "ename": "TypeError",
     "evalue": "'<' not supported between instances of 'bool' and 'str'",
     "output_type": "error",
     "traceback": [
      "\u001b[1;31m---------------------------------------------------------------------------\u001b[0m",
      "\u001b[1;31mTypeError\u001b[0m                                 Traceback (most recent call last)",
      "\u001b[1;32mC:\\Users\\ANDREA~1.KUR\\AppData\\Local\\Temp/ipykernel_16532/2923961105.py\u001b[0m in \u001b[0;36m<module>\u001b[1;34m\u001b[0m\n\u001b[0;32m      1\u001b[0m klaim_bpjs1 = [\"Askariasis\", False, \"Insomnia\", 100, \"Hiperurisemia\", \n\u001b[0;32m      2\u001b[0m      \"Obesitas\", \"Skrufuloderma\", 5, \"Miliaria\", 69, True]\n\u001b[1;32m----> 3\u001b[1;33m \u001b[0mprint\u001b[0m\u001b[1;33m(\u001b[0m\u001b[0msorted\u001b[0m\u001b[1;33m(\u001b[0m\u001b[0mklaim_bpjs1\u001b[0m\u001b[1;33m)\u001b[0m\u001b[1;33m)\u001b[0m\u001b[1;33m\u001b[0m\u001b[1;33m\u001b[0m\u001b[0m\n\u001b[0m",
      "\u001b[1;31mTypeError\u001b[0m: '<' not supported between instances of 'bool' and 'str'"
     ]
    }
   ],
   "source": [
    "klaim_bpjs1 = [\"Askariasis\", False, \"Insomnia\", 100, \"Hiperurisemia\", \n",
    "     \"Obesitas\", \"Skrufuloderma\", 5, \"Miliaria\", 69, True]\n",
    "print(sorted(klaim_bpjs1))"
   ]
  },
  {
   "cell_type": "code",
   "execution_count": 33,
   "id": "4c69b158",
   "metadata": {},
   "outputs": [
    {
     "name": "stdout",
     "output_type": "stream",
     "text": [
      "[23, 34, 67, 68, 84]\n"
     ]
    }
   ],
   "source": [
    "urutan = [34,67,84,68,23]\n",
    "print(sorted(urutan))"
   ]
  },
  {
   "cell_type": "markdown",
   "id": "de1ca701",
   "metadata": {},
   "source": [
    "# Mencari urutan di list\n",
    "\n",
    "menggunakan fungsi `index()`"
   ]
  },
  {
   "cell_type": "code",
   "execution_count": 70,
   "id": "82fc4559",
   "metadata": {},
   "outputs": [
    {
     "data": {
      "text/plain": [
       "2"
      ]
     },
     "execution_count": 70,
     "metadata": {},
     "output_type": "execute_result"
    }
   ],
   "source": [
    "urutan = [34,67,84,68,23]\n",
    "cari_index=urutan.index(84)\n",
    "cari_index"
   ]
  },
  {
   "cell_type": "markdown",
   "id": "ae6ebbe8",
   "metadata": {},
   "source": [
    "# Isi suatu list bisa berupa data sequence lain (tuple, list, set)"
   ]
  },
  {
   "cell_type": "code",
   "execution_count": 85,
   "id": "70323516",
   "metadata": {},
   "outputs": [
    {
     "data": {
      "text/plain": [
       "[['medan', 'surabaya', 'jakarta'],\n",
       " ['pontianak', 'makassar', 'menado'],\n",
       " ['jayapura', 'maluku', 'aceh']]"
      ]
     },
     "execution_count": 85,
     "metadata": {},
     "output_type": "execute_result"
    }
   ],
   "source": [
    "list_dalam_list=[['medan', 'surabaya', 'jakarta'],['pontianak', 'makassar', 'menado'],['jayapura', 'maluku', 'aceh']]\n",
    "list_dalam_list"
   ]
  },
  {
   "cell_type": "code",
   "execution_count": 86,
   "id": "d5ec8bca",
   "metadata": {},
   "outputs": [
    {
     "data": {
      "text/plain": [
       "[('medan', 'surabaya', 'jakarta'),\n",
       " ('pontianak', 'makassar', 'menado'),\n",
       " ('jayapura', 'maluku', 'aceh')]"
      ]
     },
     "execution_count": 86,
     "metadata": {},
     "output_type": "execute_result"
    }
   ],
   "source": [
    "tuple_dalam_list=[('medan', 'surabaya', 'jakarta'),('pontianak', 'makassar', 'menado'),('jayapura', 'maluku', 'aceh')]\n",
    "tuple_dalam_list"
   ]
  },
  {
   "cell_type": "markdown",
   "id": "f6436a30",
   "metadata": {},
   "source": [
    "# 3. Python Set"
   ]
  },
  {
   "cell_type": "code",
   "execution_count": 91,
   "id": "4744f315",
   "metadata": {},
   "outputs": [],
   "source": [
    "klaim_bpjs = {\"Askariasis\", \"Taeniasis\", \"Insomnia\", \"Vertigo\", \"Hiperurisemia\", \n",
    "     \"Obesitas\", \"Skrufuloderma\", \"Scabies\", \"Miliaria\", \"Lepra\", \"Gastroentritis\"}"
   ]
  },
  {
   "cell_type": "code",
   "execution_count": 92,
   "id": "242b7b45",
   "metadata": {},
   "outputs": [
    {
     "data": {
      "text/plain": [
       "{'Askariasis',\n",
       " 'Gastroentritis',\n",
       " 'Hiperurisemia',\n",
       " 'Insomnia',\n",
       " 'Lepra',\n",
       " 'Miliaria',\n",
       " 'Obesitas',\n",
       " 'Scabies',\n",
       " 'Skrufuloderma',\n",
       " 'Taeniasis',\n",
       " 'Vertigo'}"
      ]
     },
     "execution_count": 92,
     "metadata": {},
     "output_type": "execute_result"
    }
   ],
   "source": [
    "klaim_bpjs"
   ]
  },
  {
   "cell_type": "markdown",
   "id": "66af3429",
   "metadata": {},
   "source": [
    "## 3.1 Membuat, Mengganti, Menambahkan Isi Set\n",
    "\n",
    "\n",
    "Ingat kembali :\n",
    "Perbedaan dari tipe data ini adalah:\n",
    "\n",
    "| **Pembeda**           | **List**          | **Tuple**              | **Set**                 | **Dictonary**                                |\n",
    "|:------------------|:--------------|:-------------------|:--------------------|:-----------------------------------------|\n",
    "| Bentuk            | [a,b,c]       | (a,b,c)            | {a,b,c}             | {a:x, b:y, c:z}                          |\n",
    "| Duplikasi Item    | Diperbolehkan | Diperbolehkan      | Tidak diperbolehkan | Tidak diperbolehkan (kunci maupun nilai) |\n",
    "| Order/Unordered   | Ordered       | Ordered            | Unordered           | Unordered                                  |\n",
    "| Keterubahan Nilai | Dapat Diubah  | Tidak Dapat Diubah | Dapat Diubah        | Dapat Diubah                             |\n",
    "\n",
    "\n",
    "Kita bisa menambahkan elemen ke dalam set menggunakan dua metode :\n",
    "* `add()` untuk menambahkan satu elemen\n",
    "* `update()` untuk menambahkan banyak elemen, termasuk tuple, list, string, atau set lain\n",
    "\n",
    "Untuk mengganti elemen suatu set, kita perlu menghapus terlabih dahulu, kemudian menambahkan isi yang baru."
   ]
  },
  {
   "cell_type": "code",
   "execution_count": 63,
   "id": "bcab64f1",
   "metadata": {},
   "outputs": [
    {
     "name": "stdout",
     "output_type": "stream",
     "text": [
      "{'Skrufuloderma', 'Vertigo', 'Gastroentritis', 'Taeniasis', 'Lepra', 'Insomnia', 'Obesitas', 'Hiperurisemia', 'Scabies', 'Miliaria', 'Askariasis'}\n",
      "11\n"
     ]
    }
   ],
   "source": [
    "## SET tidak boleh dipulikat, bila duplikat akan disatukan oleh set \n",
    "klaim_bpjs3 = {\"Askariasis\", \"Taeniasis\", \"Insomnia\", \"Insomnia\", \"Vertigo\", \"Hiperurisemia\", \n",
    "     \"Obesitas\", \"Skrufuloderma\", \"Scabies\", \"Askariasis\", \"Miliaria\",\n",
    "               \"Lepra\", \"Gastroentritis\", \"Insomnia\"}\n",
    "print(klaim_bpjs3)\n",
    "print(len(klaim_bpjs3))"
   ]
  },
  {
   "cell_type": "code",
   "execution_count": 52,
   "id": "2f8814fa",
   "metadata": {},
   "outputs": [
    {
     "ename": "TypeError",
     "evalue": "'set' object is not subscriptable",
     "output_type": "error",
     "traceback": [
      "\u001b[1;31m---------------------------------------------------------------------------\u001b[0m",
      "\u001b[1;31mTypeError\u001b[0m                                 Traceback (most recent call last)",
      "\u001b[1;32mC:\\Users\\ANDREA~1.KUR\\AppData\\Local\\Temp/ipykernel_16532/1387357718.py\u001b[0m in \u001b[0;36m<module>\u001b[1;34m\u001b[0m\n\u001b[1;32m----> 1\u001b[1;33m \u001b[0mklaim_bpjs3\u001b[0m\u001b[1;33m[\u001b[0m\u001b[1;36m3\u001b[0m\u001b[1;33m]\u001b[0m\u001b[1;33m\u001b[0m\u001b[1;33m\u001b[0m\u001b[0m\n\u001b[0m",
      "\u001b[1;31mTypeError\u001b[0m: 'set' object is not subscriptable"
     ]
    }
   ],
   "source": [
    "klaim_bpjs3[3]"
   ]
  },
  {
   "cell_type": "code",
   "execution_count": 53,
   "id": "bf814301",
   "metadata": {},
   "outputs": [
    {
     "data": {
      "text/plain": [
       "{'Askariasis',\n",
       " 'DEMAM BERDARAH',\n",
       " 'Gastroentritis',\n",
       " 'Hiperurisemia',\n",
       " 'Insomnia',\n",
       " 'Lepra',\n",
       " 'Miliaria',\n",
       " 'Obesitas',\n",
       " 'Scabies',\n",
       " 'Skrufuloderma',\n",
       " 'Taeniasis',\n",
       " 'Vertigo'}"
      ]
     },
     "execution_count": 53,
     "metadata": {},
     "output_type": "execute_result"
    }
   ],
   "source": [
    "klaim_bpjs3.add('DEMAM BERDARAH')\n",
    "klaim_bpjs3"
   ]
  },
  {
   "cell_type": "code",
   "execution_count": 58,
   "id": "83bbf06e",
   "metadata": {},
   "outputs": [
    {
     "data": {
      "text/plain": [
       "{'Askariasis',\n",
       " 'DEMAM BERDARAH',\n",
       " 'GERD',\n",
       " 'Gastroentritis',\n",
       " 'Hiperurisemia',\n",
       " 'Insomnia',\n",
       " 'Lepra',\n",
       " 'Miliaria',\n",
       " 'Obesitas',\n",
       " 'SAKIT KANTONG',\n",
       " 'SAKIT KEPALA',\n",
       " 'Scabies',\n",
       " 'Skrufuloderma',\n",
       " 'Taeniasis',\n",
       " 'Vertigo'}"
      ]
     },
     "execution_count": 58,
     "metadata": {},
     "output_type": "execute_result"
    }
   ],
   "source": [
    "# UPDATE DIGUNAKAN UNTUK MENAMBAHKAN DATA SEQUENCE LAIN (SET, TUPLE, LIST) KE DALAM SET\n",
    "klaim_bpjs3.update(['GERD'])\n",
    "klaim_bpjs3"
   ]
  },
  {
   "cell_type": "code",
   "execution_count": 59,
   "id": "6ac7f284",
   "metadata": {},
   "outputs": [
    {
     "data": {
      "text/plain": [
       "{'Askariasis',\n",
       " 'DEMAM BERDARAH',\n",
       " 'GERD',\n",
       " 'Gastroentritis',\n",
       " 'Hiperurisemia',\n",
       " 'Insomnia',\n",
       " 'Lepra',\n",
       " 'Miliaria',\n",
       " 'Obesitas',\n",
       " 'SAKIT KANTONG',\n",
       " 'SAKIT KEPALA',\n",
       " 'Scabies',\n",
       " 'Skrufuloderma',\n",
       " 'Taeniasis',\n",
       " 'Vertigo'}"
      ]
     },
     "execution_count": 59,
     "metadata": {},
     "output_type": "execute_result"
    }
   ],
   "source": [
    "klaim_bpjs3.update(['SAKIT KANTONG','SAKIT KEPALA'])\n",
    "klaim_bpjs3"
   ]
  },
  {
   "cell_type": "code",
   "execution_count": 60,
   "id": "7528eea3",
   "metadata": {},
   "outputs": [
    {
     "data": {
      "text/plain": [
       "{'Askariasis',\n",
       " 'DARAH RENDAH',\n",
       " 'DARAH TINGGI',\n",
       " 'DEMAM BERDARAH',\n",
       " 'GERD',\n",
       " 'Gastroentritis',\n",
       " 'Hiperurisemia',\n",
       " 'Insomnia',\n",
       " 'Lepra',\n",
       " 'Miliaria',\n",
       " 'Obesitas',\n",
       " 'SAKIT KANTONG',\n",
       " 'SAKIT KEPALA',\n",
       " 'Scabies',\n",
       " 'Skrufuloderma',\n",
       " 'Taeniasis',\n",
       " 'Vertigo'}"
      ]
     },
     "execution_count": 60,
     "metadata": {},
     "output_type": "execute_result"
    }
   ],
   "source": [
    "klaim_bpjs3.update(('DARAH TINGGI','DARAH RENDAH'))\n",
    "klaim_bpjs3"
   ]
  },
  {
   "cell_type": "code",
   "execution_count": 61,
   "id": "0049417d",
   "metadata": {},
   "outputs": [
    {
     "data": {
      "text/plain": [
       "{11,\n",
       " 33,\n",
       " 'Askariasis',\n",
       " 'DARAH RENDAH',\n",
       " 'DARAH TINGGI',\n",
       " 'DEMAM BERDARAH',\n",
       " 'GERD',\n",
       " 'Gastroentritis',\n",
       " 'Hiperurisemia',\n",
       " 'Insomnia',\n",
       " 'Lepra',\n",
       " 'Miliaria',\n",
       " 'Obesitas',\n",
       " 'SAKIT KANTONG',\n",
       " 'SAKIT KEPALA',\n",
       " 'Scabies',\n",
       " 'Skrufuloderma',\n",
       " 'Taeniasis',\n",
       " 'Vertigo'}"
      ]
     },
     "execution_count": 61,
     "metadata": {},
     "output_type": "execute_result"
    }
   ],
   "source": [
    "klaim_bpjs3.update((11,33))\n",
    "klaim_bpjs3"
   ]
  },
  {
   "cell_type": "markdown",
   "id": "839bedae",
   "metadata": {},
   "source": [
    "## 3.2 Set Slicing\n",
    "Set itu mutable, tapi ingat set tidak berurutan, sehingga indexing tidak dapat dilakukan. Untuk mengakses anggota-anggotanya tidak bisa menggunakan indexing."
   ]
  },
  {
   "cell_type": "markdown",
   "id": "b58c2de8",
   "metadata": {},
   "source": [
    "## 3.3 Menghapus Isi Set\n",
    "\n",
    "Item tertentu dapat dihapus dari set menggunakan metode:\n",
    "* `discard()` jika item yang mau dihapus tidak ada, set tidak berubah\n",
    "* `remove()` jika item yang mau dihapus tidak ada, maka akan keluar error"
   ]
  },
  {
   "cell_type": "code",
   "execution_count": 65,
   "id": "d9d66229",
   "metadata": {},
   "outputs": [
    {
     "data": {
      "text/plain": [
       "{'Askariasis',\n",
       " 'Gastroentritis',\n",
       " 'Hiperurisemia',\n",
       " 'Insomnia',\n",
       " 'Lepra',\n",
       " 'Miliaria',\n",
       " 'Obesitas',\n",
       " 'Skrufuloderma',\n",
       " 'Taeniasis',\n",
       " 'Vertigo'}"
      ]
     },
     "execution_count": 65,
     "metadata": {},
     "output_type": "execute_result"
    }
   ],
   "source": [
    "klaim_bpjs3.discard('Scabies')\n",
    "klaim_bpjs3"
   ]
  },
  {
   "cell_type": "code",
   "execution_count": 66,
   "id": "66215c71",
   "metadata": {},
   "outputs": [
    {
     "data": {
      "text/plain": [
       "{'Askariasis',\n",
       " 'Gastroentritis',\n",
       " 'Hiperurisemia',\n",
       " 'Insomnia',\n",
       " 'Lepra',\n",
       " 'Miliaria',\n",
       " 'Obesitas',\n",
       " 'Skrufuloderma',\n",
       " 'Taeniasis',\n",
       " 'Vertigo'}"
      ]
     },
     "execution_count": 66,
     "metadata": {},
     "output_type": "execute_result"
    }
   ],
   "source": [
    "klaim_bpjs3.discard('Kanker Paru')\n",
    "klaim_bpjs3"
   ]
  },
  {
   "cell_type": "markdown",
   "id": "eda2cd6b",
   "metadata": {},
   "source": [
    "# 4. Python Tuple\n",
    "\n",
    "Perbedaan dari keempat tipe data di atas adalah :\n",
    "\n",
    "| **Pembeda**           | **List**          | **Tuple**              | **Set**                 | **Dictonary**                                |\n",
    "|:------------------|:--------------|:-------------------|:--------------------|:-----------------------------------------|\n",
    "| Bentuk            | [a,b,c]       | (a,b,c)            | {a,b,c}             | {a:x, b:y, c:z}                          |\n",
    "| Duplikasi Item    | Diperbolehkan | Diperbolehkan      | Tidak diperbolehkan | Tidak diperbolehkan (kunci maupun nilai) |\n",
    "| Order/Unordered   | Ordered       | Ordered            | Unordered           | Unordered                                  |\n",
    "| Keterubahan Nilai | Dapat Diubah  | Tidak Dapat Diubah | Dapat Diubah        | Dapat Diubah                             |"
   ]
  },
  {
   "cell_type": "code",
   "execution_count": 74,
   "id": "75ceaa38",
   "metadata": {},
   "outputs": [
    {
     "name": "stdout",
     "output_type": "stream",
     "text": [
      "('Askariasis', 'Taeniasis', 'Insomnia', 'Vertigo', 'Hiperurisemia', 'Obesitas', 'Skrufuloderma', 'Scabies', 'Miliaria', 'Lepra', 'Gastroentritis')\n"
     ]
    }
   ],
   "source": [
    "klaim_bpjs = (\"Askariasis\", \"Taeniasis\", \"Insomnia\", \"Vertigo\", \"Hiperurisemia\", \n",
    "     \"Obesitas\", \"Skrufuloderma\", \"Scabies\", \"Miliaria\", \"Lepra\", \"Gastroentritis\")\n",
    "print(klaim_bpjs)"
   ]
  },
  {
   "cell_type": "code",
   "execution_count": 75,
   "id": "06eb6e48",
   "metadata": {},
   "outputs": [
    {
     "name": "stdout",
     "output_type": "stream",
     "text": [
      "('Askariasis', 'Taeniasis', 'Insomnia', 'Insomnia', 'Vertigo', 'Hiperurisemia', 'Obesitas', 'Skrufuloderma', 'Scabies', 'Miliaria', 'Lepra', 'Lepra', 'Gastroentritis')\n"
     ]
    },
    {
     "data": {
      "text/plain": [
       "13"
      ]
     },
     "execution_count": 75,
     "metadata": {},
     "output_type": "execute_result"
    }
   ],
   "source": [
    "klaim_bpjs = (\"Askariasis\", \"Taeniasis\", \"Insomnia\", \"Insomnia\", \"Vertigo\", \"Hiperurisemia\", \n",
    "     \"Obesitas\", \"Skrufuloderma\", \"Scabies\", \"Miliaria\", \"Lepra\", \"Lepra\", \"Gastroentritis\")\n",
    "print(klaim_bpjs)\n",
    "len(klaim_bpjs)"
   ]
  },
  {
   "cell_type": "markdown",
   "id": "5281a90e",
   "metadata": {},
   "source": [
    "## 4.2 Tuple Slicing\n",
    "\n",
    "Untuk mengakses nilai dalam tupel, gunakan tanda kurung siku untuk mengiris beserta indeks atau indeks untuk mendapatkan nilai yang tersedia pada indeks tersebut. "
   ]
  },
  {
   "cell_type": "code",
   "execution_count": 76,
   "id": "9d1181d4",
   "metadata": {},
   "outputs": [
    {
     "data": {
      "text/plain": [
       "'Hiperurisemia'"
      ]
     },
     "execution_count": 76,
     "metadata": {},
     "output_type": "execute_result"
    }
   ],
   "source": [
    "klaim_bpjs = (\"Askariasis\", \"Taeniasis\", \"Insomnia\", \"Insomnia\", \"Vertigo\", \"Hiperurisemia\", \n",
    "     \"Obesitas\", \"Skrufuloderma\", \"Scabies\", \"Miliaria\", \"Lepra\", \"Lepra\", \"Gastroentritis\")\n",
    "klaim_bpjs[5]"
   ]
  },
  {
   "cell_type": "code",
   "execution_count": 78,
   "id": "38d30da1",
   "metadata": {},
   "outputs": [
    {
     "data": {
      "text/plain": [
       "('Insomnia',\n",
       " 'Insomnia',\n",
       " 'Vertigo',\n",
       " 'Hiperurisemia',\n",
       " 'Obesitas',\n",
       " 'Skrufuloderma',\n",
       " 'Scabies',\n",
       " 'Miliaria',\n",
       " 'Lepra',\n",
       " 'Lepra',\n",
       " 'Gastroentritis')"
      ]
     },
     "execution_count": 78,
     "metadata": {},
     "output_type": "execute_result"
    }
   ],
   "source": [
    "klaim_bpjs[2:]"
   ]
  },
  {
   "cell_type": "code",
   "execution_count": 79,
   "id": "f3cdb15a",
   "metadata": {},
   "outputs": [
    {
     "data": {
      "text/plain": [
       "('Askariasis', 'Taeniasis', 'Insomnia')"
      ]
     },
     "execution_count": 79,
     "metadata": {},
     "output_type": "execute_result"
    }
   ],
   "source": [
    "klaim_bpjs[:3]"
   ]
  },
  {
   "cell_type": "code",
   "execution_count": 81,
   "id": "56452853",
   "metadata": {},
   "outputs": [
    {
     "data": {
      "text/plain": [
       "('Taeniasis', 'Insomnia')"
      ]
     },
     "execution_count": 81,
     "metadata": {},
     "output_type": "execute_result"
    }
   ],
   "source": [
    "klaim_bpjs[1:3]"
   ]
  },
  {
   "cell_type": "markdown",
   "id": "02651420",
   "metadata": {},
   "source": [
    "## 4.3 Mengganti Isi Tuple\n",
    "Tuple tidak berubah, yang berarti Anda tidak dapat memperbarui atau mengubah nilai elemen tuple. Anda dapat mengambil bagian dari tupel yang ada untuk membuat tupel baru seperti ditunjukkan oleh contoh berikut."
   ]
  },
  {
   "cell_type": "code",
   "execution_count": 82,
   "id": "3aedc410",
   "metadata": {},
   "outputs": [
    {
     "ename": "AttributeError",
     "evalue": "'tuple' object has no attribute 'append'",
     "output_type": "error",
     "traceback": [
      "\u001b[1;31m---------------------------------------------------------------------------\u001b[0m",
      "\u001b[1;31mAttributeError\u001b[0m                            Traceback (most recent call last)",
      "\u001b[1;32mC:\\Users\\ANDREA~1.KUR\\AppData\\Local\\Temp/ipykernel_16532/1827685845.py\u001b[0m in \u001b[0;36m<module>\u001b[1;34m\u001b[0m\n\u001b[1;32m----> 1\u001b[1;33m \u001b[0mklaim_bpjs\u001b[0m\u001b[1;33m.\u001b[0m\u001b[0mappend\u001b[0m\u001b[1;33m(\u001b[0m\u001b[1;36m5\u001b[0m\u001b[1;33m)\u001b[0m\u001b[1;33m\u001b[0m\u001b[1;33m\u001b[0m\u001b[0m\n\u001b[0m\u001b[0;32m      2\u001b[0m \u001b[0mklaim_bpjs\u001b[0m\u001b[1;33m\u001b[0m\u001b[1;33m\u001b[0m\u001b[0m\n",
      "\u001b[1;31mAttributeError\u001b[0m: 'tuple' object has no attribute 'append'"
     ]
    }
   ],
   "source": [
    "klaim_bpjs.append(5)\n",
    "klaim_bpjs"
   ]
  },
  {
   "cell_type": "code",
   "execution_count": 83,
   "id": "bcf5182d",
   "metadata": {},
   "outputs": [
    {
     "data": {
      "text/plain": [
       "('Askariasis',\n",
       " 'Taeniasis',\n",
       " 'Insomnia',\n",
       " 'Insomnia',\n",
       " 'Vertigo',\n",
       " 'Hiperurisemia',\n",
       " 'Obesitas',\n",
       " 'Skrufuloderma',\n",
       " 'Scabies',\n",
       " 'Miliaria',\n",
       " 'Lepra',\n",
       " 'Lepra',\n",
       " 'Gastroentritis',\n",
       " 'KELOID')"
      ]
     },
     "execution_count": 83,
     "metadata": {},
     "output_type": "execute_result"
    }
   ],
   "source": [
    "klaim_bpjs=klaim_bpjs+('KELOID',)\n",
    "klaim_bpjs"
   ]
  },
  {
   "cell_type": "markdown",
   "id": "112ea952",
   "metadata": {},
   "source": [
    "## 4.4 Menghapus Isi Tuple\n",
    "Tuple tidak berubah sehingga tuple tidak bisa dihapus."
   ]
  },
  {
   "cell_type": "markdown",
   "id": "92f2597b",
   "metadata": {},
   "source": [
    "# 5. Python Dictionary\n",
    "\n",
    "| **Pembeda**           | **List**          | **Tuple**              | **Set**                 | **Dictonary**                                |\n",
    "|:------------------|:--------------|:-------------------|:--------------------|:-----------------------------------------|\n",
    "| Bentuk            | [a,b,c]       | (a,b,c)            | {a,b,c}             | {a:x, b:y, c:z}                          |\n",
    "| Duplikasi Item    | Diperbolehkan | Diperbolehkan      | Tidak diperbolehkan | Tidak diperbolehkan (kunci maupun nilai) |\n",
    "| Order/Unordered   | Ordered       | Ordered            | Unordered           | Unordered                                  |\n",
    "| Keterubahan Nilai | Dapat Diubah  | Tidak Dapat Diubah | Dapat Diubah        | Dapat Diubah                             |\n"
   ]
  },
  {
   "cell_type": "code",
   "execution_count": 87,
   "id": "aa7fa20f",
   "metadata": {},
   "outputs": [
    {
     "data": {
      "text/plain": [
       "{'kelas_1': 30, 'kelas_2': 25, 'kelas_3': 40}"
      ]
     },
     "execution_count": 87,
     "metadata": {},
     "output_type": "execute_result"
    }
   ],
   "source": [
    "jumlah_anak = {'kelas_1': 30, \n",
    "       'kelas_2': 25, \n",
    "       'kelas_3': 40}\n",
    "jumlah_anak"
   ]
  },
  {
   "cell_type": "code",
   "execution_count": 89,
   "id": "e2fc4aab",
   "metadata": {},
   "outputs": [
    {
     "data": {
      "text/plain": [
       "{'kelas_1': 30, 'kelas_2': 40}"
      ]
     },
     "execution_count": 89,
     "metadata": {},
     "output_type": "execute_result"
    }
   ],
   "source": [
    "# TIDAK BOLEH DUPLIKASI, KALAU DUPLIKASI MAKA YANG DUPLIKAT AKAN DIANGGAP SATU SAJA\n",
    "jumlah_anak = {'kelas_1': 30, \n",
    "       'kelas_2': 25, \n",
    "       'kelas_2': 40}\n",
    "jumlah_anak"
   ]
  },
  {
   "cell_type": "code",
   "execution_count": 88,
   "id": "5a0de924",
   "metadata": {},
   "outputs": [
    {
     "data": {
      "text/plain": [
       "{'capricious': 'berubah-ubah',\n",
       " 'enervate': 'lemah',\n",
       " 'prevaricate': 'berbohong',\n",
       " 'ostentation': 'kesombongan',\n",
       " 'cacophony': 'hiruk-pikuk',\n",
       " 'vacillate': 'bimbang',\n",
       " 'desiccate': 'mengering'}"
      ]
     },
     "execution_count": 88,
     "metadata": {},
     "output_type": "execute_result"
    }
   ],
   "source": [
    "gre = {'capricious': 'berubah-ubah', \n",
    "       'enervate': 'lemah', \n",
    "       'prevaricate': 'berbohong', \n",
    "       'ostentation': 'kesombongan', \n",
    "       'cacophony': 'hiruk-pikuk', \n",
    "       'vacillate': 'bimbang', \n",
    "       'desiccate': 'mengering'}\n",
    "gre"
   ]
  },
  {
   "cell_type": "markdown",
   "id": "80d82fe8",
   "metadata": {},
   "source": [
    "## 5.1 Mengakses Key dan Value dari Dictionary"
   ]
  },
  {
   "cell_type": "code",
   "execution_count": 98,
   "id": "62be6b51",
   "metadata": {},
   "outputs": [
    {
     "data": {
      "text/plain": [
       "'lemah'"
      ]
     },
     "execution_count": 98,
     "metadata": {},
     "output_type": "execute_result"
    }
   ],
   "source": [
    "# Mengakses Value dari Satu Key Unik \n",
    "gre['enervate']"
   ]
  },
  {
   "cell_type": "code",
   "execution_count": 96,
   "id": "66e5016b",
   "metadata": {},
   "outputs": [
    {
     "name": "stdout",
     "output_type": "stream",
     "text": [
      "bimbang\n"
     ]
    }
   ],
   "source": [
    "# Mencari Value dari Suatu Key\n",
    "kunci1 = gre.get('vacillate')\n",
    "print(kunci1)"
   ]
  },
  {
   "cell_type": "code",
   "execution_count": 99,
   "id": "b9950532",
   "metadata": {},
   "outputs": [
    {
     "data": {
      "text/plain": [
       "dict_keys(['capricious', 'enervate', 'prevaricate', 'ostentation', 'cacophony', 'vacillate', 'desiccate'])"
      ]
     },
     "execution_count": 99,
     "metadata": {},
     "output_type": "execute_result"
    }
   ],
   "source": [
    "# Mengakses Value dari Seluruh Key \n",
    "value1 = gre.keys()\n",
    "value1"
   ]
  },
  {
   "cell_type": "markdown",
   "id": "57582627",
   "metadata": {},
   "source": [
    "## 5.2 Membuat dan Menambahkan Isi Dictionary"
   ]
  },
  {
   "cell_type": "code",
   "execution_count": 101,
   "id": "3b80aec5",
   "metadata": {},
   "outputs": [
    {
     "name": "stdout",
     "output_type": "stream",
     "text": [
      "{'capricious': 'berubah-ubah', 'enervate': 'lemah', 'prevaricate': 'berbohong', 'ostentation': 'kesombongan', 'cacophony': 'hiruk-pikuk', 'vacillate': 'bimbang', 'desiccate': 'mengering', 'replace': 'mengganti', 'exagerated': 'melebih-lebihkan'}\n"
     ]
    }
   ],
   "source": [
    "gre['replace']='mengganti'\n",
    "gre['exagerated']='melebih-lebihkan'\n",
    "print(gre)"
   ]
  },
  {
   "cell_type": "markdown",
   "id": "a611be96",
   "metadata": {},
   "source": [
    "## 5.3 Mengganti Isi Dictionary"
   ]
  },
  {
   "cell_type": "code",
   "execution_count": null,
   "id": "50b83396",
   "metadata": {},
   "outputs": [],
   "source": [
    "gre\n",
    "gre['vacillate'] = \"terombang-ambing\"\n",
    "print(gre)"
   ]
  },
  {
   "cell_type": "markdown",
   "id": "daf963e3",
   "metadata": {},
   "source": [
    "## 5.4 Menghapus Isi Dictionary"
   ]
  },
  {
   "cell_type": "code",
   "execution_count": 102,
   "id": "cbe6ef5c",
   "metadata": {},
   "outputs": [
    {
     "name": "stdout",
     "output_type": "stream",
     "text": [
      "{'capricious': 'berubah-ubah', 'enervate': 'lemah', 'prevaricate': 'berbohong', 'cacophony': 'hiruk-pikuk', 'vacillate': 'bimbang', 'desiccate': 'mengering', 'replace': 'mengganti', 'exagerated': 'melebih-lebihkan'}\n",
      "{}\n"
     ]
    }
   ],
   "source": [
    "#Menghapus item dengan nama 'ostentation'\n",
    "del gre['ostentation']\n",
    "print(gre)\n",
    "#Menghapus semua item di dalam dictionary\n",
    "gre.clear()\n",
    "print(gre)"
   ]
  },
  {
   "cell_type": "code",
   "execution_count": 103,
   "id": "9cd4a181",
   "metadata": {},
   "outputs": [
    {
     "ename": "NameError",
     "evalue": "name 'dict' is not defined",
     "output_type": "error",
     "traceback": [
      "\u001b[1;31m---------------------------------------------------------------------------\u001b[0m",
      "\u001b[1;31mNameError\u001b[0m                                 Traceback (most recent call last)",
      "\u001b[1;32mC:\\Users\\ANDREA~1.KUR\\AppData\\Local\\Temp/ipykernel_16532/1845416383.py\u001b[0m in \u001b[0;36m<module>\u001b[1;34m\u001b[0m\n\u001b[0;32m      1\u001b[0m \u001b[1;31m#Menghapus dictionary\u001b[0m\u001b[1;33m\u001b[0m\u001b[1;33m\u001b[0m\u001b[0m\n\u001b[1;32m----> 2\u001b[1;33m \u001b[1;32mdel\u001b[0m \u001b[0mdict\u001b[0m\u001b[1;33m\u001b[0m\u001b[1;33m\u001b[0m\u001b[0m\n\u001b[0m\u001b[0;32m      3\u001b[0m \u001b[0mprint\u001b[0m\u001b[1;33m(\u001b[0m\u001b[0mgre\u001b[0m\u001b[1;33m)\u001b[0m\u001b[1;33m\u001b[0m\u001b[1;33m\u001b[0m\u001b[0m\n",
      "\u001b[1;31mNameError\u001b[0m: name 'dict' is not defined"
     ]
    }
   ],
   "source": [
    "#Menghapus dictionary\n",
    "del dict \n",
    "print(gre)"
   ]
  },
  {
   "cell_type": "markdown",
   "id": "7949c614",
   "metadata": {},
   "source": [
    "# 6. Konversi Antara Tuple, Set, List"
   ]
  },
  {
   "cell_type": "code",
   "execution_count": 107,
   "id": "e1518903",
   "metadata": {},
   "outputs": [],
   "source": [
    "list_rs=['rspad', 'rscm', 'rsudsenen', 'rsudcempakaputih']"
   ]
  },
  {
   "cell_type": "code",
   "execution_count": 108,
   "id": "3c4429e1",
   "metadata": {},
   "outputs": [
    {
     "name": "stdout",
     "output_type": "stream",
     "text": [
      "========HASIL KONVERSI==========\n",
      "Bentuk Set---------- {'rspad', 'rscm', 'rsudsenen', 'rsudcempakaputih'}\n",
      "Bentuk Tuple--------- ('rspad', 'rscm', 'rsudsenen', 'rsudcempakaputih')\n"
     ]
    }
   ],
   "source": [
    "# Set ke List\n",
    "set_rs=set(list_rs)\n",
    "# Set ke Tuple\n",
    "tuple_rs=tuple(list_rs)\n",
    "print(\"========HASIL KONVERSI==========\")\n",
    "print('Bentuk Set----------', set_rs)\n",
    "print('Bentuk Tuple---------', tuple_rs)"
   ]
  },
  {
   "cell_type": "code",
   "execution_count": null,
   "id": "a922b666",
   "metadata": {},
   "outputs": [],
   "source": [
    "# Silahkan coba untuk konversi lain (tuple->set, list, set->tuple, list)"
   ]
  },
  {
   "cell_type": "markdown",
   "id": "6183e37b",
   "metadata": {},
   "source": [
    "# 7. Panjang Tuple, Set, List\n",
    "\n",
    "Untuk menghitung panjang tuple, set, list kita bisa menggunakan fungsi `len()`"
   ]
  },
  {
   "cell_type": "code",
   "execution_count": 109,
   "id": "155590a9",
   "metadata": {},
   "outputs": [
    {
     "name": "stdout",
     "output_type": "stream",
     "text": [
      " Panjang Tuple 4 \n",
      " Panjang Set 4 \n",
      " Panjang List 4\n",
      " Adapun panjang gre 0\n"
     ]
    }
   ],
   "source": [
    "l_tuple=len(list_rs)\n",
    "l_set=len(set_rs)\n",
    "l_list=len(tuple_rs)\n",
    "print(' Panjang Tuple', l_tuple, '\\n Panjang Set', l_set, '\\n Panjang List', l_list)\n",
    "l_gre=len(gre)\n",
    "print(' Adapun panjang gre', l_gre)"
   ]
  },
  {
   "cell_type": "code",
   "execution_count": 111,
   "id": "f99b696f",
   "metadata": {},
   "outputs": [
    {
     "data": {
      "text/plain": [
       "7"
      ]
     },
     "execution_count": 111,
     "metadata": {},
     "output_type": "execute_result"
    }
   ],
   "source": [
    "gre = {'capricious': 'berubah-ubah', \n",
    "       'enervate': 'lemah', \n",
    "       'prevaricate': 'berbohong', \n",
    "       'ostentation': 'kesombongan', \n",
    "       'cacophony': 'hiruk-pikuk', \n",
    "       'vacillate': 'bimbang', \n",
    "       'desiccate': 'mengering'}\n",
    "l_dict=len(gre)\n",
    "l_dict"
   ]
  }
 ],
 "metadata": {
  "kernelspec": {
   "display_name": "Python 3 (ipykernel)",
   "language": "python",
   "name": "python3"
  },
  "language_info": {
   "codemirror_mode": {
    "name": "ipython",
    "version": 3
   },
   "file_extension": ".py",
   "mimetype": "text/x-python",
   "name": "python",
   "nbconvert_exporter": "python",
   "pygments_lexer": "ipython3",
   "version": "3.9.7"
  }
 },
 "nbformat": 4,
 "nbformat_minor": 5
}
