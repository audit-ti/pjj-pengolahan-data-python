{
 "cells": [
  {
   "cell_type": "markdown",
   "id": "2b88e83c",
   "metadata": {},
   "source": [
    "<h4><center><font color=\"1F4690\">PJJ PENGOLAHAN DATA MENGGUNAKAN PYTHON <br> <br> Rabu, 15 Juni 2022</font></center></h4>\n",
    "<div class=\"alert alert-info\"><h1 align=\"center\"><font color=\"1F4690\">Latihan Pagi Hari</font></h4></div> "
   ]
  },
  {
   "cell_type": "markdown",
   "id": "59484f80",
   "metadata": {},
   "source": [
    "## Latihan 1\n",
    "***\n",
    "\n",
    "At the halfway point during the Rio Olympics, the United States had 70 medals, Great Britain had 38 medals, China had 45 medals, Russia had 30 medals, and Germany had 17 medals. Create a dictionary assigned to the variable **medal_count** with the country names as the keys and the number of medals the country had as each key’s value"
   ]
  },
  {
   "cell_type": "markdown",
   "id": "f0f5964f",
   "metadata": {},
   "source": [
    "## Latihan 2\n",
    "***\n",
    "Given the dictionary swimmers, add an additional key-value pair to the dictionary with \"Phelps\" as the key and the integer 23 as the value. Do not rewrite the entire dictionary."
   ]
  },
  {
   "cell_type": "code",
   "execution_count": 1,
   "id": "8657bdb4",
   "metadata": {},
   "outputs": [],
   "source": [
    "swimmers = {'Manuel':4, 'Lochte':12, 'Adrian':7, 'Ledecky':5, 'Dirado':4}"
   ]
  },
  {
   "cell_type": "markdown",
   "id": "6bb5a3aa",
   "metadata": {},
   "source": [
    "## Latihan 3\n",
    "***"
   ]
  },
  {
   "cell_type": "markdown",
   "id": "935ecaf3",
   "metadata": {},
   "source": [
    "Write code that combines the following variables so that the sentence “You are doing a great job, keep it up!” is assigned to the **variable** message. Do not edit the values assigned to by, az, io, or qy."
   ]
  },
  {
   "cell_type": "code",
   "execution_count": 4,
   "id": "e069c4c1",
   "metadata": {},
   "outputs": [],
   "source": [
    "by = \"You are\"\n",
    "az = \"doing a great \"\n",
    "io = \"job\"\n",
    "qy = \"keep it up!\""
   ]
  },
  {
   "cell_type": "markdown",
   "id": "617febe7",
   "metadata": {},
   "source": [
    "## Latihan 4\n",
    "***\n",
    "\n",
    "Add the string “hockey” as a key to the dictionary sports_periods and assign it the value of 3. Do not rewrite the entire dictionary."
   ]
  },
  {
   "cell_type": "code",
   "execution_count": 2,
   "id": "6aad62f2",
   "metadata": {},
   "outputs": [],
   "source": [
    "sports_periods = {'baseball': 9, 'basketball': 4, 'soccer': 4, 'cricket': 2}"
   ]
  },
  {
   "cell_type": "markdown",
   "id": "0270ca5c",
   "metadata": {},
   "source": [
    "## Latihan 5\n",
    "***\n",
    "\n",
    "The dictionary golds contains information about how many gold medals each country won in the 2016 Olympics. But today, Spain won 2 more gold medals. Update golds to reflect this information."
   ]
  },
  {
   "cell_type": "code",
   "execution_count": 3,
   "id": "7bd0544c",
   "metadata": {},
   "outputs": [],
   "source": [
    "golds = {\"Italy\": 12, \"USA\": 33, \"Brazil\": 15, \"China\": 27, \n",
    "         \"Spain\": 19, \"Canada\": 22, \"Argentina\": 8, \"England\": 29}"
   ]
  },
  {
   "cell_type": "markdown",
   "id": "307666d6",
   "metadata": {},
   "source": [
    "## Latihan 6\n",
    "***\n",
    "\n",
    "Create a list of the countries that are in the dictionary golds, and assign that list to the variable name countries. Do not hard code this."
   ]
  },
  {
   "cell_type": "code",
   "execution_count": 3,
   "id": "f0c24d7b",
   "metadata": {},
   "outputs": [],
   "source": [
    "golds = {\"Italy\": 12, \"USA\": 33, \"Brazil\": 15, \"China\": 27, \n",
    "         \"Spain\": 19, \"Canada\": 22, \"Argentina\": 8, \"England\": 29}"
   ]
  },
  {
   "cell_type": "markdown",
   "id": "dd59c6e8",
   "metadata": {},
   "source": [
    "## Latihan 7\n",
    "***\n",
    "\n",
    "Assign the number of elements in lst to the variable **num_lst**."
   ]
  },
  {
   "cell_type": "code",
   "execution_count": 4,
   "id": "b46a76b0",
   "metadata": {},
   "outputs": [],
   "source": [
    "lst = [\"hi\", \"goodbye\", \"python\", \"106\", \"506\", \n",
    "       91, ['all', 'Paul', 'Jackie', \"UMSI\", 1, \"Stephen\", 4.5], 109, \n",
    "       \"chair\", \"pizza\", \"wolverine\", 2017, 3.92, 1817, \"account\", \"readings\", \n",
    "       \"papers\", 12, \"facebook\", \"twitter\", 193.2, \n",
    "       \"snapchat\", \"leaders and the best\", \"social\", \"1986\", 9, 29, \"holiday\", \n",
    "       [\"women\", \"olympics\", \"gold\", \"rio\", 21, \"2016\", \"men\"], \"26trombones\"]"
   ]
  },
  {
   "cell_type": "markdown",
   "id": "12a664ed",
   "metadata": {},
   "source": [
    "<h4><center><font color=\"1F4690\">PJJ PENGOLAHAN DATA MENGGUNAKAN PYTHON <br> <br> Rabu, 15 Juni 2022</font></center></h4>\n",
    "<div class=\"alert alert-info\"><h1 align=\"center\"><font color=\"1F4690\">Latihan Siang Hari</font></h4></div> "
   ]
  },
  {
   "cell_type": "markdown",
   "id": "5b39b7fd",
   "metadata": {},
   "source": [
    "## Latihan 1 :\n",
    "\n",
    "Dictionary **Junior** menampung informasi jadwal untuk anak kuliah tahun ini. Keynya adalah naman mata pelajaran dan angka dibelakangnya adalah angka kredit. Temukan jumlah kredit yang diambil dan assignlah ke variabel **credits**."
   ]
  },
  {
   "cell_type": "code",
   "execution_count": null,
   "id": "533cdf18",
   "metadata": {},
   "outputs": [],
   "source": [
    "Junior = {'SI 206':4, 'SI 310':4, 'BL 300':3, 'TO 313':3, 'BCOM 350':1, 'MO 300':3}"
   ]
  },
  {
   "cell_type": "markdown",
   "id": "8c68befd",
   "metadata": {},
   "source": [
    "## Latihan 2 :\n",
    "\n",
    "Buatlah suatu dictionary bernama **freq** yang isi dari keynya adalah alphabet yang ada dalam string itu dan nilainya adalah frekuensi kemunculan dari alphabet itu."
   ]
  },
  {
   "cell_type": "code",
   "execution_count": null,
   "id": "2b343b2a",
   "metadata": {},
   "outputs": [],
   "source": [
    "str1 = \"peter piper picked a peck of pickled peppers\""
   ]
  },
  {
   "cell_type": "markdown",
   "id": "dcc609da",
   "metadata": {},
   "source": [
    "## Latihan 3 :\n",
    "Buatlah suatu dictionary bernama **wrd_d** dari string dibawah, dimana key nya adalah kata dan valuenya adalah berapa kali anda menemukan value tersebut di string tersebut."
   ]
  },
  {
   "cell_type": "code",
   "execution_count": null,
   "id": "259823df",
   "metadata": {},
   "outputs": [],
   "source": [
    "sent = \"\"\"Singing in the rain and playing in the rain \n",
    "are two entirely different situations but both can be good\"\"\""
   ]
  },
  {
   "cell_type": "markdown",
   "id": "cb1d4f56",
   "metadata": {},
   "source": [
    "## Latihan 4\n",
    "\n",
    "Buatlah suatu dictionary bernama **letter_counts** yang menghitung frekuensi kemunculan dari suatu huruf di dalam string dan berapa kali huruf itu muncul. </br>\n",
    "\n",
    "**Perhatian:**\n",
    "Setiap huruf besar atau huruf kecil dalam alphabet yang sama harus dihitung sebagai huruf yang sama"
   ]
  },
  {
   "cell_type": "code",
   "execution_count": 2,
   "id": "73083a6d",
   "metadata": {},
   "outputs": [],
   "source": [
    "string1 = \"\"\"There is a tide in the affairs of men, Which taken at the flood, \n",
    "leads on to fortune. Omitted, all the voyage of their life is bound in shallows\n",
    "and in miseries. On such a full sea are we now afloat. \n",
    "And we must take the current when it serves, or lose our ventures.\"\"\""
   ]
  }
 ],
 "metadata": {
  "kernelspec": {
   "display_name": "Python 3 (ipykernel)",
   "language": "python",
   "name": "python3"
  },
  "language_info": {
   "codemirror_mode": {
    "name": "ipython",
    "version": 3
   },
   "file_extension": ".py",
   "mimetype": "text/x-python",
   "name": "python",
   "nbconvert_exporter": "python",
   "pygments_lexer": "ipython3",
   "version": "3.9.7"
  }
 },
 "nbformat": 4,
 "nbformat_minor": 5
}
