{
 "cells": [
  {
   "cell_type": "markdown",
   "id": "dd59c6e8",
   "metadata": {},
   "source": [
    "# Problem 1\n",
    "\n",
    "Berikut adalah potongan csv yang sudah dimodifikasi dari museum yang ada di Jakarta. Tugas anda adalah membuat list yang isinya jumlah museum di setiap kota di Jakarta Pusat.</br>\n",
    "Contoh keluaran :\n",
    "`[(Jakarta Selatan, 5),(Jakarta Pusat, 3)]`"
   ]
  },
  {
   "cell_type": "code",
   "execution_count": 73,
   "id": "632a12a4",
   "metadata": {},
   "outputs": [],
   "source": [
    "museum=\"\"\"tahun,kota_kab,jenis_museum,jumlah\\n\n",
    "2020,Jakarta Selatan,Seni,2\\n\n",
    "2020,Jakarta Selatan,Arkeologi,1\\n\n",
    "2020,Jakarta Selatan,IPTEK,1\\n\n",
    "2020,Jakarta Selatan,Khusus,0\\n\n",
    "2020,Jakarta Selatan,Umum,0\\n\n",
    "2020,Jakarta Selatan,Bonbin,1\\n\n",
    "2020,Jakarta Timur,Seni Rupa,4\\n\n",
    "2020,Jakarta Timur,Arkeologi,0\\n\n",
    "2020,Jakarta Timur,IPTEK,2\\n\n",
    "2020,Jakarta Timur,Khusus,0\\n\n",
    "2020,Jakarta Timur,Umum,0\\n\n",
    "2020,Jakarta Timur,Bonbin,0\\n\n",
    "2020,Jakarta Pusat,Seni,0\\n\n",
    "2020,Jakarta Pusat,Arkeologi,3\\n\n",
    "2020,Jakarta Pusat,IPTEK,5\\n\n",
    "2020,Jakarta Pusat,Khusus,0\\n\n",
    "2020,Jakarta Pusat,Umum,2\\n\n",
    "2020,Jakarta Pusat,Bonbin,0\\n\n",
    "2020,Jakarta Barat,Seni,3\\n\n",
    "2020,Jakarta Barat,Arkeologi,1\\n\n",
    "2020,Jakarta Barat,IPTEK,0\\n\n",
    "2020,Jakarta Barat,Khusus,1\\n\n",
    "2020,Jakarta Barat,Umum,0\n",
    "2020,Jakarta Barat,Bonbin,0\\n\n",
    "2020,Jakarta Utara,Seni,1\\n\n",
    "2020,Jakarta Utara,Arkeologi,1\\n\n",
    "2020,Jakarta Utara,IPTEK,0\\n\n",
    "2020,Jakarta Utara,Khusus,0\\n\n",
    "2020,Jakarta Utara,Umum,0\\n\n",
    "2020,Jakarta Utara,Bonbin,6\\n\"\"\""
   ]
  },
  {
   "cell_type": "code",
   "execution_count": 78,
   "id": "b652f8c9",
   "metadata": {},
   "outputs": [],
   "source": [
    "list_1=museum.split(\"\\n\")\n",
    "list_1.remove('')\n",
    "list_2=[]\n",
    "for u in list_1:\n",
    "    if len(u)>0:\n",
    "        list_2.append(list(u.split(\",\")))\n",
    "list_2\n",
    "del list_2[0]"
   ]
  },
  {
   "cell_type": "code",
   "execution_count": 80,
   "id": "5c7a07ec",
   "metadata": {},
   "outputs": [
    {
     "data": {
      "text/plain": [
       "[['2020', 'Jakarta Selatan', 'Seni', '2'],\n",
       " ['2020', 'Jakarta Selatan', 'Arkeologi', '1'],\n",
       " ['2020', 'Jakarta Selatan', 'IPTEK', '1'],\n",
       " ['2020', 'Jakarta Selatan', 'Khusus', '0'],\n",
       " ['2020', 'Jakarta Selatan', 'Umum', '0'],\n",
       " ['2020', 'Jakarta Selatan', 'Bonbin', '1'],\n",
       " ['2020', 'Jakarta Timur', 'Seni Rupa', '4'],\n",
       " ['2020', 'Jakarta Timur', 'Arkeologi', '0'],\n",
       " ['2020', 'Jakarta Timur', 'IPTEK', '2'],\n",
       " ['2020', 'Jakarta Timur', 'Khusus', '0'],\n",
       " ['2020', 'Jakarta Timur', 'Umum', '0'],\n",
       " ['2020', 'Jakarta Timur', 'Bonbin', '0'],\n",
       " ['2020', 'Jakarta Pusat', 'Seni', '0'],\n",
       " ['2020', 'Jakarta Pusat', 'Arkeologi', '3'],\n",
       " ['2020', 'Jakarta Pusat', 'IPTEK', '5'],\n",
       " ['2020', 'Jakarta Pusat', 'Khusus', '0'],\n",
       " ['2020', 'Jakarta Pusat', 'Umum', '2'],\n",
       " ['2020', 'Jakarta Pusat', 'Bonbin', '0'],\n",
       " ['2020', 'Jakarta Barat', 'Seni', '3'],\n",
       " ['2020', 'Jakarta Barat', 'Arkeologi', '1'],\n",
       " ['2020', 'Jakarta Barat', 'IPTEK', '0'],\n",
       " ['2020', 'Jakarta Barat', 'Khusus', '1'],\n",
       " ['2020', 'Jakarta Barat', 'Umum', '0'],\n",
       " ['2020', 'Jakarta Barat', 'Bonbin', '0'],\n",
       " ['2020', 'Jakarta Utara', 'Seni', '1'],\n",
       " ['2020', 'Jakarta Utara', 'Arkeologi', '1'],\n",
       " ['2020', 'Jakarta Utara', 'IPTEK', '0'],\n",
       " ['2020', 'Jakarta Utara', 'Khusus', '0'],\n",
       " ['2020', 'Jakarta Utara', 'Umum', '0'],\n",
       " ['2020', 'Jakarta Utara', 'Bonbin', '6']]"
      ]
     },
     "execution_count": 80,
     "metadata": {},
     "output_type": "execute_result"
    }
   ],
   "source": [
    "list_2"
   ]
  },
  {
   "cell_type": "code",
   "execution_count": 85,
   "id": "739e197a",
   "metadata": {},
   "outputs": [],
   "source": [
    "Jakarta_Utara=0\n",
    "Jakarta_Selatan=0\n",
    "Jakarta_Timur=0\n",
    "Jakarta_Pusat=0\n",
    "for g in list_2:\n",
    "    if g[1]==\"Jakarta Utara\":\n",
    "        Jakarta_Utara=Jakarta_Utara+int(g[3])\n",
    "    elif g[1]==\"Jakarta Selatan\":\n",
    "        Jakarta_Selatan=Jakarta_Selatan+int(g[3])\n",
    "    elif g[1]==\"Jakarta Timur\":\n",
    "        Jakarta_Timur=Jakarta_Timur+int(g[3])\n",
    "    else:\n",
    "        Jakarta_Pusat=Jakarta_Pusat+int(g[3])"
   ]
  },
  {
   "cell_type": "markdown",
   "id": "ee002a54",
   "metadata": {},
   "source": [
    "# Problem 2:\n",
    "Berikut adalah JSON dari sebuah timestamp cuaca :\n",
    "Dari data tersebut, buatlah suatu list di dalam list yang berisi jam cuaca, dan cuaca saja di tanggal-tanggal yang cuacanya hujan ringan saja."
   ]
  },
  {
   "cell_type": "code",
   "execution_count": 18,
   "id": "aa64272c",
   "metadata": {},
   "outputs": [],
   "source": [
    "#Berikut adalah JSON dari sebuah timestamp cuaca :\n",
    "weather=[{\"jamCuaca\":\"2022-06-14 00:00:00\",\"kodeCuaca\":\"60\",\"cuaca\":\"Hujan Ringan\",\"humidity\":\"85\",\"tempC\":\"23\",\"tempF\":\"73\"},\n",
    " {\"jamCuaca\":\"2022-06-14 06:00:00\",\"kodeCuaca\":\"60\",\"cuaca\":\"Hujan Ringan\",\"humidity\":\"55\",\"tempC\":\"33\",\"tempF\":\"91\"},\n",
    " {\"jamCuaca\":\"2022-06-14 12:00:00\",\"kodeCuaca\":\"60\",\"cuaca\":\"Hujan Ringan\",\"humidity\":\"85\",\"tempC\":\"23\",\"tempF\":\"73\"},\n",
    " {\"jamCuaca\":\"2022-06-14 18:00:00\",\"kodeCuaca\":\"3\",\"cuaca\":\"Berawan\",\"humidity\":\"90\",\"tempC\":\"23\",\"tempF\":\"73\"},\n",
    " {\"jamCuaca\":\"2022-06-15 00:00:00\",\"kodeCuaca\":\"1\",\"cuaca\":\"Cerah Berawan\",\"humidity\":\"80\",\"tempC\":\"25\",\"tempF\":\"77\"},\n",
    " {\"jamCuaca\":\"2022-06-15 06:00:00\",\"kodeCuaca\":\"60\",\"cuaca\":\"Hujan Ringan\",\"humidity\":\"65\",\"tempC\":\"32\",\"tempF\":\"90\"},\n",
    " {\"jamCuaca\":\"2022-06-15 12:00:00\",\"kodeCuaca\":\"60\",\"cuaca\":\"Hujan Ringan\",\"humidity\":\"80\",\"tempC\":\"25\",\"tempF\":\"77\"},\n",
    " {\"jamCuaca\":\"2022-06-15 18:00:00\",\"kodeCuaca\":\"3\",\"cuaca\":\"Berawan\",\"humidity\":\"90\",\"tempC\":\"23\",\"tempF\":\"73\"},\n",
    " {\"jamCuaca\":\"2022-06-16 00:00:00\",\"kodeCuaca\":\"60\",\"cuaca\":\"Hujan Ringan\",\"humidity\":\"80\",\"tempC\":\"25\",\"tempF\":\"77\"},\n",
    " {\"jamCuaca\":\"2022-06-16 06:00:00\",\"kodeCuaca\":\"60\",\"cuaca\":\"Hujan Ringan\",\"humidity\":\"55\",\"tempC\":\"32\",\"tempF\":\"90\"},\n",
    " {\"jamCuaca\":\"2022-06-16 12:00:00\",\"kodeCuaca\":\"60\",\"cuaca\":\"Hujan Ringan\",\"humidity\":\"80\",\"tempC\":\"25\",\"tempF\":\"77\"},\n",
    " {\"jamCuaca\":\"2022-06-16 18:00:00\",\"kodeCuaca\":\"3\",\"cuaca\":\"Berawan\",\"humidity\":\"90\",\"tempC\":\"23\",\"tempF\":\"73\"}]"
   ]
  },
  {
   "cell_type": "code",
   "execution_count": 43,
   "id": "48cf1237",
   "metadata": {},
   "outputs": [
    {
     "data": {
      "text/plain": [
       "[('2022-06-14 00:00:00', 'Hujan Ringan'),\n",
       " ('2022-06-14 06:00:00', 'Hujan Ringan'),\n",
       " ('2022-06-14 12:00:00', 'Hujan Ringan'),\n",
       " ('2022-06-14 18:00:00', 'Berawan'),\n",
       " ('2022-06-15 00:00:00', 'Cerah Berawan'),\n",
       " ('2022-06-15 06:00:00', 'Hujan Ringan'),\n",
       " ('2022-06-15 12:00:00', 'Hujan Ringan'),\n",
       " ('2022-06-15 18:00:00', 'Berawan'),\n",
       " ('2022-06-16 00:00:00', 'Hujan Ringan'),\n",
       " ('2022-06-16 06:00:00', 'Hujan Ringan'),\n",
       " ('2022-06-16 12:00:00', 'Hujan Ringan'),\n",
       " ('2022-06-16 18:00:00', 'Berawan')]"
      ]
     },
     "execution_count": 43,
     "metadata": {},
     "output_type": "execute_result"
    }
   ],
   "source": [
    "kumpulin=[]\n",
    "for y in weather:\n",
    "    kumpulin.append((y['jamCuaca'], y['cuaca']))\n",
    "\n",
    "kumpulin"
   ]
  },
  {
   "cell_type": "code",
   "execution_count": 44,
   "id": "bd429bc8",
   "metadata": {},
   "outputs": [
    {
     "data": {
      "text/plain": [
       "[('2022-06-14 00:00:00', 'Hujan Ringan'),\n",
       " ('2022-06-14 06:00:00', 'Hujan Ringan'),\n",
       " ('2022-06-14 12:00:00', 'Hujan Ringan'),\n",
       " ('2022-06-15 06:00:00', 'Hujan Ringan'),\n",
       " ('2022-06-15 12:00:00', 'Hujan Ringan'),\n",
       " ('2022-06-16 00:00:00', 'Hujan Ringan'),\n",
       " ('2022-06-16 06:00:00', 'Hujan Ringan'),\n",
       " ('2022-06-16 12:00:00', 'Hujan Ringan')]"
      ]
     },
     "execution_count": 44,
     "metadata": {},
     "output_type": "execute_result"
    }
   ],
   "source": [
    "sah=[]\n",
    "\n",
    "for x in kumpulin:\n",
    "    if x[1]=='Hujan Ringan':\n",
    "        sah.append(x)\n",
    "sah"
   ]
  },
  {
   "cell_type": "code",
   "execution_count": 39,
   "id": "733933bd",
   "metadata": {},
   "outputs": [
    {
     "name": "stdout",
     "output_type": "stream",
     "text": [
      "1997\n"
     ]
    }
   ],
   "source": [
    "tup1 = ('physics', 'chemistry', 1997, 2000)\n",
    "print(tup1[2])"
   ]
  },
  {
   "cell_type": "code",
   "execution_count": 29,
   "id": "7a6f7848",
   "metadata": {},
   "outputs": [
    {
     "data": {
      "text/plain": [
       "'2022-06-14 00:00:00'"
      ]
     },
     "execution_count": 29,
     "metadata": {},
     "output_type": "execute_result"
    }
   ],
   "source": [
    "y['jamCuaca']"
   ]
  },
  {
   "cell_type": "markdown",
   "id": "c9686bc7",
   "metadata": {},
   "source": [
    "# Problem 3:\n",
    "\n",
    "Berikut adalah potongan opini dari kompas 14 Juni 2022 :</br>\n",
    "\"Big data yang menjadi polemik dua bulan lalu menunjukkan bahwa big data lebih banyak dibahas aspek politiknya, seperti dalam wacana penundaan jadwal pemilu, bukan aspek ekonominya. Padahal kedua aspek ini sama berguna bagi masyarakat yang menjadi konsumen atau juga merangkap produsen potensial, bukan hanya target untuk kepentingan politik.\"\n",
    "\n",
    "Pada potongan di atas terdapat beberapa kata stopwords, seperti yang ada di list stopwords.</br>\n",
    "Tugas anda adalah untuk membuat suatu list baru, yang berisi seluruh kata tanpa ada stopword."
   ]
  },
  {
   "cell_type": "code",
   "execution_count": 11,
   "id": "702a404e",
   "metadata": {},
   "outputs": [],
   "source": [
    "stopwords = ['yang', 'lalu', 'bahwa', 'by', 'lebih', 'seperti', 'bukan', 'ini', 'bagi', 'atau', \n",
    "             \"hanya\", \"untuk\", \"juga\"]"
   ]
  },
  {
   "cell_type": "code",
   "execution_count": 10,
   "id": "7bd028c4",
   "metadata": {},
   "outputs": [
    {
     "data": {
      "text/plain": [
       "['Big',\n",
       " 'data',\n",
       " 'menjadi',\n",
       " 'polemik',\n",
       " 'dua',\n",
       " 'bulan',\n",
       " 'menunjukkan',\n",
       " 'big',\n",
       " 'data',\n",
       " 'banyak',\n",
       " 'dibahas',\n",
       " 'aspek',\n",
       " 'politiknya,',\n",
       " 'dalam',\n",
       " 'wacana',\n",
       " 'penundaan',\n",
       " 'jadwal',\n",
       " 'pemilu,',\n",
       " 'aspek',\n",
       " 'ekonominya.',\n",
       " 'Padahal',\n",
       " 'kedua',\n",
       " 'aspek',\n",
       " 'sama',\n",
       " 'berguna',\n",
       " 'masyarakat',\n",
       " 'menjadi',\n",
       " 'konsumen',\n",
       " 'merangkap',\n",
       " 'produsen',\n",
       " 'potensial,',\n",
       " 'target',\n",
       " 'kepentingan',\n",
       " 'politik.']"
      ]
     },
     "execution_count": 10,
     "metadata": {},
     "output_type": "execute_result"
    }
   ],
   "source": [
    "var_char=\"\"\"Big data yang menjadi polemik dua bulan lalu menunjukkan bahwa big data \n",
    "lebih banyak dibahas aspek politiknya, seperti dalam wacana penundaan\n",
    "jadwal pemilu, bukan aspek ekonominya. Padahal kedua aspek ini sama berguna \n",
    "bagi masyarakat yang menjadi konsumen atau juga merangkap produsen potensial, \n",
    "bukan hanya target untuk kepentingan politik.\"\"\"\n",
    "list_kata=var_char.split()\n",
    "words_without_stopword=[]\n",
    "for words in list_kata:\n",
    "    if words not in stopwords:\n",
    "        words_without_stopword.append(words)\n",
    "words_without_stopword    "
   ]
  }
 ],
 "metadata": {
  "kernelspec": {
   "display_name": "Python 3 (ipykernel)",
   "language": "python",
   "name": "python3"
  },
  "language_info": {
   "codemirror_mode": {
    "name": "ipython",
    "version": 3
   },
   "file_extension": ".py",
   "mimetype": "text/x-python",
   "name": "python",
   "nbconvert_exporter": "python",
   "pygments_lexer": "ipython3",
   "version": "3.9.7"
  }
 },
 "nbformat": 4,
 "nbformat_minor": 5
}
