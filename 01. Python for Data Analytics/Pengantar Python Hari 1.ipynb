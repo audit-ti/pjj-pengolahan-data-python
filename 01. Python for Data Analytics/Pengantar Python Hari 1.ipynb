{
 "cells": [
  {
   "cell_type": "markdown",
   "id": "be2f3fa0",
   "metadata": {},
   "source": [
    "<h4><center><font color=\"1F4690\">PJJ PENGOLAHAN DATA MENGGUNAKAN PYTHON <br> <br> Selasa, 14 Juni 2022</font></center></h4>\n",
    "<div class=\"alert alert-info\"><h1 align=\"center\"><font color=\"1F4690\">Pemrograman Python (Part 1)</font></h4></div> "
   ]
  },
  {
   "cell_type": "markdown",
   "id": "7f353e2a",
   "metadata": {},
   "source": [
    "# 1. Objek\n",
    "Setiap objek memiliki **TIPE** tipe ini menentukan nilai yang bisa dimilikinya. Tipenya berupa skalar atau non skalar.\n",
    "\n",
    "### Scalar \n",
    "objek yang tidak dapat dipecah-pecah (indivisible)\n",
    "* **int** untuk merepresentasikan bilang bulat, misalkan -123, 0, 28000, 1000500, etc.\n",
    "* **float** untuk merepresentasikan bilangan riil, misalkan 0.43, 2005.34, 12.25, etc.\n",
    "* **bool** untuk merepresentasikan nilai True atau False\n",
    "* **string** untuk merepresentasikan karakter\n",
    "* **none** untuk merepresentasikan ketiadaan nilai\n",
    "\n",
    "### Nonscalar\n",
    "objek dengan struktur internal.</br>\n",
    "Contoh: </br>\n",
    "lists, tuples, strings, instances of classes etc."
   ]
  },
  {
   "cell_type": "code",
   "execution_count": 1,
   "id": "25b60269",
   "metadata": {},
   "outputs": [
    {
     "data": {
      "text/plain": [
       "float"
      ]
     },
     "execution_count": 1,
     "metadata": {},
     "output_type": "execute_result"
    }
   ],
   "source": [
    "# Kita dapat melakukan cek ke tipe dari suatu data menggunakan fungsi type()\n",
    "a=23\n",
    "type(23)\n",
    "\n",
    "b='Ajaccio'\n",
    "type(b)\n",
    "\n",
    "c=234.56\n",
    "type(c)"
   ]
  },
  {
   "cell_type": "markdown",
   "id": "ef07ec9d",
   "metadata": {},
   "source": [
    "> Objek dan operator dapat dikombinasikan untuk menghasilkan ekspresi."
   ]
  },
  {
   "cell_type": "markdown",
   "id": "c8e1518e",
   "metadata": {},
   "source": [
    "# 2. Operator\n",
    "\n",
    "1. Operator standar  +, -, * \n",
    "2. Operator sisa hasil bagi **%**\n",
    "3. Operator perpangkatan ****** \n",
    "4. Operator pembanding \n",
    "* $==$(sama dengan), \n",
    "* $! =$(tidak sama dengan), \n",
    "* $<$(kurang dari), \n",
    "* $>$(lebih besar dari), \n",
    "* $<=$(kurang dari atau sama dengan), \n",
    "* $>=$(lebih dari atau sama dengan).\n",
    "\n",
    "> Ingat! tidak ada operator **<>** di PYTHON!"
   ]
  },
  {
   "cell_type": "markdown",
   "id": "ad058a4e",
   "metadata": {},
   "source": [
    "## 2.1. Operator Pembagian\n",
    "\n",
    "Terdapat dua operator untuk pembagian yakni **(/)** dan **(//)**.</br>\n",
    "**1. Pembagian Bilangan Bulat - sisa pembagian tidak dianggap.** </br>\n",
    "**Contoh :**\n",
    "* 16//2 akan menghasilkan 8  \n",
    "* 17//7 akan menghasilkan 2\n",
    "\n",
    "**2. Pembagian Bilangan Real** </br>\n",
    "**Contoh :**\n",
    "* 16/2 akan menghasilkan 8\n",
    "* 17/7 akan menghasilkan 2.4285714285714284"
   ]
  },
  {
   "cell_type": "markdown",
   "id": "21933095",
   "metadata": {},
   "source": [
    "## 2.2 Operator Inkremental \n",
    "\n",
    "Operator untuk melakukan penjumlahan **(+=)**, pengurangan**(-=)**, pembagian**(/=)**, perkalian **(*=)** secara inkremental. </br>\n",
    "Contoh :</br>\n",
    "* $A=+1$ sama artinya dengan $A=A+1$\n",
    "* $umur=-2$ sama artinya dengan $umur=umur-2$"
   ]
  },
  {
   "cell_type": "markdown",
   "id": "c1742a78",
   "metadata": {},
   "source": [
    "## 2.3. Operator Modulo (Sisa Hasil Bagi)\n",
    "\n",
    "> $a \\mod b \\equiv c$\n",
    "\n",
    "Di dalam perhitungan pecahan dengan hasil yang tidak bulat kita akan menemukan sisa pembagian. </br>\n",
    "Misalkan 31 roti dibagi tiga orang- masing-masing akan mendapatkan 9 roti dan sisa 4 roti : </br>\n",
    "$\\frac{31}{3}=9\\frac{4}{3}$\n",
    "\n",
    "| NOTASI MATEMATIS              | BAHASA\\_INDONESIA     | NOTASI PYTHON |\n",
    "| :---------------------------- | :-------------------- | :-----------: |\n",
    "| $$31 \\mod 3 \\equiv 4$$        | 31 dibagi 3 sisa 4    | 31%3          |\n",
    "| $$16 \\mod 2 \\equiv 0$$        | 16 dibagi 2 sisa 0    | 16%2          |\n",
    "| $$100 \\mod 37 \\equiv 26$$     | 100 dibagi 37 sisa 26 | 100%37        |"
   ]
  },
  {
   "cell_type": "code",
   "execution_count": 2,
   "id": "1fd4aec4",
   "metadata": {},
   "outputs": [],
   "source": [
    "###----TESTING"
   ]
  },
  {
   "cell_type": "markdown",
   "id": "42292891",
   "metadata": {},
   "source": [
    "> **Command/Statement** - menginstruksikan interpreter untuk melakukan sesuatu."
   ]
  },
  {
   "cell_type": "code",
   "execution_count": 3,
   "id": "dc77d5e5",
   "metadata": {},
   "outputs": [
    {
     "name": "stdout",
     "output_type": "stream",
     "text": [
      "Why did the British tea maker deliver the tea packages himself even though he was sick? \n",
      "He was trying to fulfill his due-tea.\n",
      "=========================================================================================\n",
      "If a British person is too relaxed during tea time they can get injured or die.\n",
      "One should avoid a casual -tea as much as possible.\n"
     ]
    }
   ],
   "source": [
    "# Sekumpulan command/statement\n",
    "print ('Why did the British tea maker deliver the tea packages himself even though he was sick? ')\n",
    "print ('He was trying to fulfill his due-tea.')\n",
    "print ('=========================================================================================')\n",
    "print ('If a British person is too relaxed during tea time', 'they can get injured or die.')\n",
    "print ('One should avoid a casual -tea as much as possible.')\n",
    "# interpreter akan menghasilkan output sebagai berikut. "
   ]
  },
  {
   "cell_type": "markdown",
   "id": "e7efbb25",
   "metadata": {},
   "source": [
    "# 3. Variabel dan Penugasan"
   ]
  },
  {
   "cell_type": "markdown",
   "id": "0d3d6e90",
   "metadata": {},
   "source": [
    "> Variable merupakan suatu lokasi dimana kita menyimpan data."
   ]
  },
  {
   "cell_type": "code",
   "execution_count": 4,
   "id": "5ab37c56",
   "metadata": {},
   "outputs": [],
   "source": [
    "#--------Deklarasi Variabel pada Bahasa Pemrograman C#---------------\n",
    "#string name = \"John\";\n",
    "#int myNum = 15;\n",
    "#Console.WriteLine(name);\n",
    "#Console.WriteLine(myNum);"
   ]
  },
  {
   "cell_type": "markdown",
   "id": "eb411b6d",
   "metadata": {},
   "source": [
    "![Variable is Variable](https://starecat.com/content/wp-content/uploads/c-plus-plus-can-not-compare-float-and-int-python-variable-is-variable.jpg)"
   ]
  },
  {
   "cell_type": "markdown",
   "id": "2e177a30",
   "metadata": {},
   "source": [
    "Python tidak memiliki perintah tersendiri untuk mendeklarasikan variabel. Variabel tercipta di saat sebuah nilai ditugaskan pada variabel tersebut."
   ]
  },
  {
   "cell_type": "code",
   "execution_count": 5,
   "id": "bd4f5aca",
   "metadata": {},
   "outputs": [
    {
     "data": {
      "text/plain": [
       "('Ada bebek 10 di kali 2 jadi berapa?', 8)"
      ]
     },
     "execution_count": 5,
     "metadata": {},
     "output_type": "execute_result"
    }
   ],
   "source": [
    "#--------Variabel pada Python---------------\n",
    "heyTayo = 'Ada bebek 10 di kali 2 jadi berapa?'\n",
    "heyToyo = 8\n",
    "heyTayo, heyToyo"
   ]
  },
  {
   "cell_type": "markdown",
   "id": "a135d377",
   "metadata": {},
   "source": [
    "## 3.1. Aturan penulisan variabel :\n",
    "\n",
    "1. Nama suatu variabel harus dimulai dengan HURUF atau GARISBAWAH.\n",
    "2. Nama variabel hanya boleh mengandung karakter ALFANUMERIK dan GARIS BAWAH\n",
    "3. Nama variabel menganut kepekaan kapital (case sensitivity). </br>\n",
    "umurBapak, umuRbapak, UmurBapak, UMURBAPAK adalah empat variabel yang berbeda satu sama lain"
   ]
  },
  {
   "cell_type": "markdown",
   "id": "d37d694d",
   "metadata": {},
   "source": [
    "### Cara Penulisan Variabel\n",
    "\n",
    "* **Camel Case** - semua suku kata menyatu, awalan kata-kata dimulai dengan huruf kapital kecuali kata pertama. </br>\n",
    "Contoh: alamatRumah, nomorKodePos, namaDepan\n",
    "</br>\n",
    "</br>\n",
    "* **Pascal Case** - semua suku kata menyatu, awalan kata-kata dimulai dengan huruf kapital kecuali kata pertama.</br>\n",
    "Contoh: AlamatRumah, NomorKodePos, NamaDepan\n",
    "</br>\n",
    "</br>\n",
    "* **Snake Case** - suku kata dipisahkan dengan garis bawah, kata disusun dengan huruf kecil semua atau hurufbesar semua.</br>\n",
    "Contoh: alamat_rumah, NOMOR_KODE_POS, nama_depan"
   ]
  },
  {
   "cell_type": "markdown",
   "id": "8af9961f",
   "metadata": {},
   "source": [
    "## 3.2. Melakukan Perbaruan atas Nilai Variable"
   ]
  },
  {
   "cell_type": "code",
   "execution_count": 6,
   "id": "56e615f1",
   "metadata": {},
   "outputs": [
    {
     "data": {
      "text/plain": [
       "2143612061808"
      ]
     },
     "execution_count": 6,
     "metadata": {},
     "output_type": "execute_result"
    }
   ],
   "source": [
    "jarakJktSby = 800\n",
    "id(jarakJktSby)"
   ]
  },
  {
   "cell_type": "code",
   "execution_count": 7,
   "id": "d933a75e",
   "metadata": {},
   "outputs": [
    {
     "data": {
      "text/plain": [
       "2143612061520"
      ]
     },
     "execution_count": 7,
     "metadata": {},
     "output_type": "execute_result"
    }
   ],
   "source": [
    "jarakJktSby = 812\n",
    "id(jarakJktSby)"
   ]
  },
  {
   "cell_type": "code",
   "execution_count": 8,
   "id": "0a69100a",
   "metadata": {},
   "outputs": [
    {
     "data": {
      "text/plain": [
       "812"
      ]
     },
     "execution_count": 8,
     "metadata": {},
     "output_type": "execute_result"
    }
   ],
   "source": [
    "jarakJktSby"
   ]
  },
  {
   "cell_type": "markdown",
   "id": "906f30a1",
   "metadata": {},
   "source": [
    "## 3.3. Multi Asssignment"
   ]
  },
  {
   "cell_type": "code",
   "execution_count": 9,
   "id": "46459bdd",
   "metadata": {},
   "outputs": [],
   "source": [
    "umurAyah,umurIbu,umurKakak,umurSaya,umurAdik=40,38,16,14,12"
   ]
  },
  {
   "cell_type": "code",
   "execution_count": 10,
   "id": "0003f10a",
   "metadata": {},
   "outputs": [
    {
     "data": {
      "text/plain": [
       "16"
      ]
     },
     "execution_count": 10,
     "metadata": {},
     "output_type": "execute_result"
    }
   ],
   "source": [
    "umurKakak"
   ]
  },
  {
   "cell_type": "markdown",
   "id": "96fad640",
   "metadata": {},
   "source": [
    "## 3.4. Konversi Tipe"
   ]
  },
  {
   "cell_type": "markdown",
   "id": "8565720e",
   "metadata": {},
   "source": [
    "### Konversi Implisit\n",
    "\n",
    "Python melakukan konversi data dari satu tipe ke tipe lain secara otomatis."
   ]
  },
  {
   "cell_type": "code",
   "execution_count": 11,
   "id": "4338f31d",
   "metadata": {},
   "outputs": [
    {
     "name": "stdout",
     "output_type": "stream",
     "text": [
      "Tipe Data num_int: <class 'int'>\n",
      "Tipe Data of num_flo: <class 'float'>\n",
      "Tipe Data setelah penjumlahan: <class 'float'>\n"
     ]
    }
   ],
   "source": [
    "num_int = 123\n",
    "num_flo = 1.23\n",
    "num_new = num_int + num_flo\n",
    "\n",
    "print(\"Tipe Data num_int:\",type(num_int))\n",
    "print(\"Tipe Data of num_flo:\",type(num_flo))\n",
    "print(\"Tipe Data setelah penjumlahan:\",type(num_new))"
   ]
  },
  {
   "cell_type": "markdown",
   "id": "94c14a36",
   "metadata": {},
   "source": [
    "### Konversi Eksplisit (Typecasting) \n",
    "\n",
    "User mengubah konversi tipe data dari tipe data awal ke tipe data yang diinginkan. Untuk melakukan hal ini, dengan fungsi awal `int()`, `float()`, `str()`."
   ]
  },
  {
   "cell_type": "code",
   "execution_count": 12,
   "id": "cc6fa6da",
   "metadata": {},
   "outputs": [
    {
     "name": "stdout",
     "output_type": "stream",
     "text": [
      "Tipe data saat ini <class 'str'>\n",
      "Tipe setelah konversi <class 'float'>\n",
      "Tipe setelah konversi <class 'float'>\n"
     ]
    }
   ],
   "source": [
    "# int variable\n",
    "var_char1 = '5'\n",
    "print ('Tipe data saat ini', type(var_char1))\n",
    "\n",
    "# typecast to float\n",
    "var_float1 = float(var_char1)\n",
    "print ('Tipe setelah konversi', type(var_float1))\n",
    "\n",
    "# typecast to int\n",
    "var_int1 = float(var_float1)\n",
    "print ('Tipe setelah konversi', type(var_int1))"
   ]
  },
  {
   "cell_type": "markdown",
   "id": "c51c0011",
   "metadata": {},
   "source": [
    "## Meminta User Memasukkan Masukan"
   ]
  },
  {
   "cell_type": "code",
   "execution_count": null,
   "id": "cce571d1",
   "metadata": {},
   "outputs": [],
   "source": [
    "hey=input()"
   ]
  },
  {
   "cell_type": "markdown",
   "id": "6f372dfd",
   "metadata": {},
   "source": [
    "# 4. Komentar dan Docstring\n",
    "\n",
    "Komentar di python dapat dibuat dengan mengawali suatu baris dengan tanda tagar **(#)**.\n",
    "Komentar dapat dibuat untuk membuat kode lebih dapat dibaca dan juga dapat digunakan sebagai alat bantu untuk mengeksekusi dalam melakukan pengetesan kode.\n",
    "\n",
    "Petik tiga (triple quotes) sesuai dengan Python documentation merupakan `docstrings` dan tidak dianggap komentar. Apapun didalam petik tiga akan dibaca oleh interpreter. Python's triple quotes comes to the rescue by allowing strings to span multiple lines, including verbatim NEWLINEs, TABs, and any other special characters.\n",
    "Similarly, single triple quotes can also be used for the same purpose as shown below: "
   ]
  },
  {
   "cell_type": "code",
   "execution_count": null,
   "id": "4551db60",
   "metadata": {},
   "outputs": [],
   "source": [
    "# KOMENTAR\n",
    "\n",
    "# KOMENTAR INI DIBUAT DALAM \n",
    "# BEBERAPA BARIS\n",
    "# JADI KALAU MAU BUAT BEBERAPA BARIS, TAGARNYA DI SETIAP BARIS YA\n",
    "\n",
    "\n",
    "a= \"\"\"Ini adalah suatu\n",
    "docstring yang digunakan untuk memfasilitasi \n",
    "adanya string di beberapa baris. Ingat, ini bukan komentar.\n",
    "Di sini, kita bisa juga masukkan spesial karakter seperti % $ & tanpa masalah\"\"\"\n",
    "print(a)"
   ]
  },
  {
   "cell_type": "markdown",
   "id": "8aab2685",
   "metadata": {},
   "source": [
    "# 5. Operasi String"
   ]
  },
  {
   "cell_type": "markdown",
   "id": "8f427d38",
   "metadata": {},
   "source": [
    "## 5.1 Slicing String"
   ]
  },
  {
   "cell_type": "code",
   "execution_count": null,
   "id": "e7267b2b",
   "metadata": {},
   "outputs": [],
   "source": [
    "word1='MISANTROPHE'\n",
    "len(word1)"
   ]
  },
  {
   "cell_type": "code",
   "execution_count": null,
   "id": "6dd45a2f",
   "metadata": {},
   "outputs": [],
   "source": [
    "print('Dua Huruf Pertama------', word1[0:2])\n",
    "print('Tiga Huruf Pertama------', word1[:3])\n",
    "print('Selain Tiga Huruf Pertama------', word1[:-3])\n",
    "print('Huruf Ketiga sampai Huruf Kelima------', word1[2:5])"
   ]
  },
  {
   "cell_type": "code",
   "execution_count": null,
   "id": "a405baeb",
   "metadata": {},
   "outputs": [],
   "source": [
    "'U' in word1"
   ]
  },
  {
   "cell_type": "code",
   "execution_count": null,
   "id": "b04b8ff9",
   "metadata": {},
   "outputs": [],
   "source": [
    "word1.find('OP')"
   ]
  },
  {
   "cell_type": "markdown",
   "id": "2355c049",
   "metadata": {},
   "source": [
    "# 5.2 Format Operators\n",
    "\n",
    "The format operator **(%)** "
   ]
  },
  {
   "cell_type": "code",
   "execution_count": null,
   "id": "b7686161",
   "metadata": {},
   "outputs": [],
   "source": [
    "psrt_dklat= 40\n",
    "print('Ada %d peserta di diklat ini.' %psrt_dklat)"
   ]
  },
  {
   "cell_type": "markdown",
   "id": "1387cf75",
   "metadata": {},
   "source": [
    "# 6. Pengandaian"
   ]
  },
  {
   "cell_type": "code",
   "execution_count": null,
   "id": "a8faa82f",
   "metadata": {},
   "outputs": [],
   "source": [
    "angka=int(input(\"Kuy masukkan angkamu: \")) "
   ]
  },
  {
   "cell_type": "code",
   "execution_count": null,
   "id": "0bbfc5bd",
   "metadata": {},
   "outputs": [],
   "source": [
    "if angka%2==1:\n",
    "    print(\"Angka\",angka,\"adalah angka ganjil\")\n",
    "print(\"Terimakasih, kamu sudah selesai periksa angka.\", \n",
    "      \"\\n Mohon maaf kalau angkamu tidak ganjil keluarannya gak ada ya!\")"
   ]
  },
  {
   "cell_type": "code",
   "execution_count": null,
   "id": "60294fb0",
   "metadata": {},
   "outputs": [],
   "source": [
    "if angka%2==1:\n",
    "    print(\"Angka\",angka,\"adalah angka genap\")\n",
    "else:\n",
    "    print(\"Angka\",angka,\"adalah angka genap\")"
   ]
  },
  {
   "cell_type": "markdown",
   "id": "9e7430dc",
   "metadata": {},
   "source": [
    "### ====================Notes====================================\n",
    "1. Pernyataaan setelah `if`, `elif` atau `else` harus diakhiri dengan tanda titik dua (:)\n",
    "2. Dalam satu paket `if - elif - else`, susunannya selalu segaris. </br>Jika tidak segaris maka bukanlah struktur utama dari pengandaian tersebut.\n",
    "3. Selalu terdapat **4 spasi indentasi** antara `if - elif - else` dengan konsekuensinya."
   ]
  },
  {
   "cell_type": "code",
   "execution_count": null,
   "id": "b129e6c0",
   "metadata": {},
   "outputs": [],
   "source": [
    "angka2=int(input(\"Kuy masukkan angka pertamamu: \")) "
   ]
  },
  {
   "cell_type": "code",
   "execution_count": null,
   "id": "a9ec34cf",
   "metadata": {},
   "outputs": [],
   "source": [
    "angka3=int(input(\"Kuy masukkan angka keduamu: \")) "
   ]
  },
  {
   "cell_type": "code",
   "execution_count": null,
   "id": "4ed88b13",
   "metadata": {},
   "outputs": [],
   "source": [
    "if angka2 > angka3:\n",
    "    print(angka2, 'LEBIH BESAR DARI',angka3 )\n",
    "elif angka2 < angka3:\n",
    "    print(angka2, 'LEBIH KECIL DARI',angka3 )\n",
    "else:\n",
    "    print(angka2, 'SAMA DENGAN',angka3 )"
   ]
  },
  {
   "cell_type": "markdown",
   "id": "76ff20cf",
   "metadata": {},
   "source": [
    ">> \" Jangan lupa bahwa operator **=** adalah untuk penugasan. Untuk perbandingan gunakan operator perbandingan **==** \""
   ]
  },
  {
   "cell_type": "markdown",
   "id": "70a81a5f",
   "metadata": {},
   "source": [
    "=====================================================\n",
    "# TUGAS UNTUK ASYNCHRONOUS 1 \n",
    "=====================================================\n",
    "\n",
    "## Tugas 1\n",
    "\n",
    "Buatlah sebuah program dengan masukan berupa tiga bilangan bulat dari user. Kemudian program akan melakukan perhitungan dan menghasilkan keluaran berupa jam dan menit sisanya bila ada. \n",
    "\n",
    "**Contoh keluaran bila input dari user 121:<br>**\n",
    "Hours</br>\n",
    "2</br>\n",
    "Minutes</br>\n",
    "1</br>\n",
    "\n",
    "## Tugas 2\n",
    "\n",
    "Berikut adalah suatu string\n",
    "**str = ’X-DSPAM-Confidence:0.8475’**</br>\n",
    "Gunakan 'find' dan 'string slicing' untuk mengekstrak porsi dari karakter setelah tanda kolon, kemudian gunakan ubahlah menjadi data float."
   ]
  },
  {
   "cell_type": "markdown",
   "id": "b9b912e3",
   "metadata": {},
   "source": [
    "## 6.1 Pengandaian Singkat"
   ]
  },
  {
   "cell_type": "markdown",
   "id": "f3b30b45",
   "metadata": {},
   "source": [
    "**KONSEKUENSI 1** `if` **PENGANDAIAN 1** `else` **KONSEKUENSI 2** "
   ]
  },
  {
   "cell_type": "code",
   "execution_count": null,
   "id": "33d99df5",
   "metadata": {},
   "outputs": [],
   "source": [
    "kondisi = 'Gak Punya Uang'\n",
    "print('Perut Kenyang') if kondisi =='Sudah Makan' else 'Masih Lapar'"
   ]
  },
  {
   "cell_type": "markdown",
   "id": "9d6bdac4",
   "metadata": {},
   "source": [
    "# 7. Perulangan (Iterasi)"
   ]
  },
  {
   "cell_type": "markdown",
   "id": "88db7d96",
   "metadata": {},
   "source": [
    "## 7.1. while Loops"
   ]
  },
  {
   "cell_type": "code",
   "execution_count": null,
   "id": "7aa44e65",
   "metadata": {},
   "outputs": [],
   "source": [
    "counter = 0\n",
    "while (counter<5):\n",
    "    counter = counter+1\n",
    "    print('Ini adalah hasil iterasi ke-',counter)"
   ]
  },
  {
   "cell_type": "markdown",
   "id": "a22ef1c5",
   "metadata": {},
   "source": [
    "## 7.2. for Loops"
   ]
  },
  {
   "cell_type": "code",
   "execution_count": null,
   "id": "473467b0",
   "metadata": {},
   "outputs": [],
   "source": [
    "kaunter=5\n",
    "for kaunter in range(0,kaunter):\n",
    "    print('Ini adalah hasil iterasi ke-', kaunter)"
   ]
  },
  {
   "cell_type": "markdown",
   "id": "339b4e59",
   "metadata": {},
   "source": [
    "## 7.3. Continue statement\n",
    "\n",
    "Apabila ketemu dengan suatu syarat, maka nilai ekspresi pada syarat itu tidak di evaluasi, evaluasi dilanjutkan langsung ke nilai berikutnya."
   ]
  },
  {
   "cell_type": "code",
   "execution_count": null,
   "id": "638e1d01",
   "metadata": {},
   "outputs": [],
   "source": [
    "for nilaiA in range(5):\n",
    "    if nilaiA == 3:\n",
    "        continue\n",
    "    print('Nilai saat ini', nilaiA)"
   ]
  },
  {
   "cell_type": "markdown",
   "id": "542924fd",
   "metadata": {},
   "source": [
    "## 7.4. Break Statement\n",
    "Apabila ketemu dengan suatu syarat, maka evaluasi dihentikan."
   ]
  },
  {
   "cell_type": "code",
   "execution_count": null,
   "id": "bd3a0777",
   "metadata": {},
   "outputs": [],
   "source": [
    "for nilaiB in range(5):\n",
    "    if nilaiB == 3:\n",
    "        break\n",
    "    print('Nilai saat ini', nilaiB)\n",
    "    \n",
    "print('Nilai terakhir hanya sampai', nilaiB)"
   ]
  },
  {
   "cell_type": "markdown",
   "id": "20d244f6",
   "metadata": {},
   "source": [
    "## 7.5. Pass Statement\n",
    "Apabila ketemu dengan suatu syarat, maka evaluasi dilanjutkan"
   ]
  },
  {
   "cell_type": "code",
   "execution_count": null,
   "id": "235ef66d",
   "metadata": {},
   "outputs": [],
   "source": [
    "for nilaiB in range(5):\n",
    "    if nilaiB == 3:\n",
    "        pass\n",
    "        print('Di sini ada pass')\n",
    "    print('Nilai saat ini', nilaiB)"
   ]
  },
  {
   "cell_type": "markdown",
   "id": "b6d5c5b3",
   "metadata": {},
   "source": [
    "# 8. Fungsi\n",
    "## 8.1 Build in Function\n",
    "\n",
    "Python memiliki fungsi-fungsi yang sudah didefinisikan sendiri oleh pembuat bahasa python. Seperti, \n",
    "`max()`, `round()`, `len()`, `sum()`. "
   ]
  },
  {
   "cell_type": "code",
   "execution_count": null,
   "id": "ad5e3c63",
   "metadata": {},
   "outputs": [],
   "source": [
    "print(max(123,8856, 21, 4, 756, 22))\n",
    "print(len('Honorificabilitudinitatibus'))"
   ]
  },
  {
   "cell_type": "markdown",
   "id": "adee095c",
   "metadata": {},
   "source": [
    "### 8.2 User Defined Function\n",
    "\n",
    "User dapat membuat sendiri fungsi di python sesuai dengan yang diinginkannya. Untuk membuat fungsi kita menggunakan reserved word `def`.\n",
    "Bentuk umum dari UDF :\n",
    "```python\n",
    "def NAMA_FUNGSI (PARAMETER_1,PARAMETER_2, ...,PARAMETER_N):\n",
    "    ALGORITMA_FUNGSI\n",
    "```"
   ]
  },
  {
   "cell_type": "code",
   "execution_count": null,
   "id": "951609c6",
   "metadata": {},
   "outputs": [],
   "source": [
    "def hitung_luas_lingkaran(jejari):\n",
    "    luas=22/7*jejari**2\n",
    "    return luas\n",
    "print (\"Luas Lingkaran\", hitung_luas_lingkaran2(33))"
   ]
  },
  {
   "cell_type": "code",
   "execution_count": null,
   "id": "b4622143",
   "metadata": {},
   "outputs": [],
   "source": [
    "def hitung_luas_lingkaran2(jejari2, pi=3.14):\n",
    "    luas2=pi*jejari2\n",
    "    return luas2\n",
    "print (\"Luas Lingkaran\", hitung_luas_lingkaran2(5, pi=3.14))"
   ]
  },
  {
   "cell_type": "code",
   "execution_count": null,
   "id": "9033646a",
   "metadata": {},
   "outputs": [],
   "source": [
    "def hitung_volume_balok(p,l,t):\n",
    "    volume=p*l*t\n",
    "    return volume\n",
    "print (\"Volume Balok\", hitung_luas_lingkaran2(5, pi=3.14))"
   ]
  },
  {
   "cell_type": "markdown",
   "id": "452602c5",
   "metadata": {},
   "source": [
    "#### Unpacking operator **(*)**\n",
    "digunakan untuk menerima masukan parameter sebanyak mungkin "
   ]
  },
  {
   "cell_type": "code",
   "execution_count": null,
   "id": "9c43c7b8",
   "metadata": {},
   "outputs": [],
   "source": [
    "def rata_rata(*args):\n",
    "    tot = 0\n",
    "    for a in args:\n",
    "        tot += a\n",
    "    return tot/len(args)"
   ]
  },
  {
   "cell_type": "code",
   "execution_count": null,
   "id": "ce881933",
   "metadata": {},
   "outputs": [],
   "source": [
    "print('Hasil rata-rata-1:', rata_rata(1,545,678,32,89,357,777,82,34,47))\n",
    "print('Hasil rata-rata-2:', rata_rata(23,55,45))\n",
    "print('Hasil rata-rata-3:', rata_rata(-11, -22, 89, 77))"
   ]
  },
  {
   "cell_type": "markdown",
   "id": "6db7039d",
   "metadata": {},
   "source": [
    "## 8.3 Ekspresi Lambda\n",
    "\n",
    "Python memfasilitasi pembuatan fungsi anonimus, tanpa harus memberikan nama dengan `lambda`. Fungsi lambda hanya boleh mengandung satu ekspresi. Bentuk umum dari ekspresi lambda adalah sebagai berikut :</br>\n",
    "`lambda arguments: expression`"
   ]
  },
  {
   "cell_type": "code",
   "execution_count": null,
   "id": "42ae8292",
   "metadata": {},
   "outputs": [],
   "source": [
    "hrg_akhir= lambda hrg_jual, pdiskon, ongkir : hrg_jual-(hrg_jual*pdiskon)+ongkir\n",
    "print(hrg_akhir(50000,0.05,10000))"
   ]
  },
  {
   "cell_type": "code",
   "execution_count": null,
   "id": "b5ec2948",
   "metadata": {},
   "outputs": [],
   "source": [
    "nama_singkat = lambda n_depan, n_tengah, n_belakang"
   ]
  },
  {
   "cell_type": "markdown",
   "id": "e1c0fbce",
   "metadata": {},
   "source": [
    "# Daftar Referensi :\n",
    "=============================================================================================\n",
    "1. Bell, Anna. 2018. **Get Programming Learn to Code With Python**. Manning\n",
    "2. Deitel, Paul and Deitel, Harvey. 2020. **Intro to Python for Computer Science and Data Science 3rd Edition**. Pearson Education\n",
    "3. Guttag, John V. 2021. **Introduction to Computation and Programming Using Python**. MIT Press\n",
    "4. Shaw, Zed.A. 2018. **Learn More Python 3 The Hard Way**. Addison-Weasley\n",
    "5. Severance, Charles. 2009. **Exploring Python 3**. Ann Arbor"
   ]
  },
  {
   "cell_type": "markdown",
   "id": "dda1256d",
   "metadata": {},
   "source": [
    "=====================================================\n",
    "# TUGAS UNTUK ASYNCHRONOUS 2\n",
    "=====================================================\n",
    "\n",
    "## Latihan 3:\n",
    "Banyaknya hari dalam satu bulan bervariasi dari 28 hingga 31. Buatlah program yang memasukkan\n",
    "nama bulan dari user (string). Kemudian program harus melakukan perhitungan jumlah hari dalam bulan tersebut. \n",
    "Untuk bulan februari keluaran berupa string **“28 atau 29 hari”** for agar berlaku juga untuk bulan kabisat.\n",
    "\n",
    "## Latihan 4:\n",
    "\n",
    "Skala Richter \n",
    "Magnitude Descriptor\n",
    "Less than 2.0 Micro\n",
    "2.0 to less than 3.0 Very Minor\n",
    "3.0 to less than 4.0 Minor\n",
    "4.0 to less than 5.0 Light\n",
    "5.0 to less than 6.0 Moderate\n",
    "6.0 to less than 7.0 Strong\n",
    "7.0 to less than 8.0 Major\n",
    "8.0 to less than 10.0 Great\n",
    "10.0 or more Meteoric\n",
    "\n",
    "* Buatlah program yang membaca besarnya magnitude dari user dan memberikan keluaran terkait grade dari kekuatan gempa.\n",
    "* Contoh keluaran :\n",
    "  **'Gempa berskala 5,5 berkategori Moderat'**  \n",
    "  \n",
    "\n",
    "## Latihan 5:\n",
    "* Buatlah script yang menerima input berupa lima digit angka dari user.</br>\n",
    "* Pisahkan angka menjadi digit indivual. Print secara terpisah dengan separator berupa tiga spasi\n",
    "* Contoh: Jika user memasukkan 42339, maka hasil print</br> \n",
    "4   2   3   3   9</br>\n",
    "* Asumsikan bahwa user selalu menginput angka dalam panjang yang tepat. \n",
    "* Use both the floor division and remainder operations to “pick off ” each digit.\n",
    "\n",
    "## Latihan 6:\n",
    "Sebuah bilangan palindrom adalah angka yang jika dibaca dari depan kebelakang sama. Contoh:\n",
    "12321, 55555, 45554 and 11611.\n",
    "Tulislah sebuah program yang membaca lima digit bilangan bulat untuk menentukan apakah mereka palindrome atau bukan.\n",
    "[Hint: Use the // and % operators to separate the number into its digits.]\n",
    "\n",
    "\n",
    "## Latihan 7 :\n",
    "Konversi derajat celcius ke fahrenheit diatur oleh persamaan berikut :\n",
    "$F = (\\frac{9}{5}) * C + 32$\n",
    "Gunakan fungsi ini untuk memprint suatu daftar konversi temperatur dari celcius untuk range 0–100.\n",
    "Gunakan presisi 1 digit.\n",
    "\n",
    "## Latihan 8 :\n",
    "Pak Joni memiliki rencana untuk membeli sebuah rumah, tetapi sayangnya dia tidak punya banyak uang. Dia berencana untuk membeli tetapi dengan cicilan ke bank saja. Namun, sayangnya lagi-lagi untuk membayar DP pinjaman bankpun ia tidak punya. Oleh karena itu, dia berencana untuk menabung setiap bulan agar bisa membayar DP. Tugas anda : tentukan berapa lama dia harus menabung agar dia bisa membayar cicilan rumah tersebut.\n",
    "1.\tMintalah pak joni untuk membuat harga perkiraan rumah yang dia inginkan simpan pada variable, total_cost.\n",
    "2.\tBiasanya untuk DP rumah, bank akan mensyaratkan pembayaran DP sebesar 25%, simpan pada variabel portion_down_payment = 0.25.\n",
    "3.\tTanyakan pak joni berapa uang yang sudah dia punya selama ini yang dicadangkan untuk membayar DP, simpan pada variable current_savings nilai defaultnya boleh anda set 0. \n",
    "4.\tAsumsikan bahwa pak joni menginvestasikan tabungan dengan bijak, sehingga memperoleh bunga 5 % per tahun. \n",
    "5.\tSimpan gaji tahunan pak joni dalam variabel annual_salary.\n",
    "6.\tTanyakan pak Joni persen dari gaji pak joni yang dia sisishkan untuk menabung simpan pada variable portion_saved. Variabel ini berbentuk decimal (contoh 0.1 untuk persentase 10%). \n",
    "7.\tPada akhir tiap bulan bulan, tabungan anda akan meningkat sesuai dengan besarnya investasi  ditambah dengan porsi gaji yang ditabungkan (gaji tahunan/ 12)."
   ]
  },
  {
   "cell_type": "markdown",
   "id": "70d68f60",
   "metadata": {},
   "source": [
    "## Pengayaan\n",
    "Write a program that converts a binary (base 2) number to decimal (base 10). Your\n",
    "program should begin by reading the binary number from the user as a string. Then\n",
    "it should compute the equivalent decimal number by processing each digit in the\n",
    "binary number. Finally, your program should display the equivalent decimal number\n",
    "with an appropriate message."
   ]
  }
 ],
 "metadata": {
  "kernelspec": {
   "display_name": "Python 3 (ipykernel)",
   "language": "python",
   "name": "python3"
  },
  "language_info": {
   "codemirror_mode": {
    "name": "ipython",
    "version": 3
   },
   "file_extension": ".py",
   "mimetype": "text/x-python",
   "name": "python",
   "nbconvert_exporter": "python",
   "pygments_lexer": "ipython3",
   "version": "3.9.7"
  }
 },
 "nbformat": 4,
 "nbformat_minor": 5
}
