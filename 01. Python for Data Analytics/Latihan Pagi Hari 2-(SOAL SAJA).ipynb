{
 "cells": [
  {
   "cell_type": "markdown",
   "id": "33171551",
   "metadata": {},
   "source": [
    "# Latihan Dictionary"
   ]
  },
  {
   "cell_type": "markdown",
   "id": "59484f80",
   "metadata": {},
   "source": [
    "# Latihan 1\n",
    "***\n",
    "\n",
    "At the halfway point during the Rio Olympics, the United States had 70 medals, Great Britain had 38 medals, China had 45 medals, Russia had 30 medals, and Germany had 17 medals. Create a dictionary assigned to the variable medal_count with the country names as the keys and the number of medals the country had as each key’s value.\n",
    "\n"
   ]
  },
  {
   "cell_type": "markdown",
   "id": "f0f5964f",
   "metadata": {},
   "source": [
    "# Latihan 2\n",
    "***\n",
    "Given the dictionary swimmers, add an additional key-value pair to the dictionary with \"Phelps\" as the key and the integer 23 as the value. Do not rewrite the entire dictionary."
   ]
  },
  {
   "cell_type": "code",
   "execution_count": 6,
   "id": "8657bdb4",
   "metadata": {},
   "outputs": [],
   "source": [
    "swimmers = {'Manuel':4, 'Lochte':12, 'Adrian':7, 'Ledecky':5, 'Dirado':4}"
   ]
  },
  {
   "cell_type": "markdown",
   "id": "617febe7",
   "metadata": {},
   "source": [
    "# Latihan 3\n",
    "***\n",
    "\n",
    "Write code that combines the following variables so that the sentence “You are doing a great job, keep it up!” is assigned to the variable **message**. Do not edit the values assigned to by, az, io, or qy.\n",
    "\n",
    "* by = \"You are\"\n",
    "* az = \"doing a great \"\n",
    "* io = \"job\"\n",
    "* qy = \"keep it up!\""
   ]
  },
  {
   "cell_type": "markdown",
   "id": "b3060e65",
   "metadata": {},
   "source": [
    "# Latihan 3"
   ]
  },
  {
   "cell_type": "markdown",
   "id": "5b40335c",
   "metadata": {},
   "source": [
    "Add the string “hockey” as a key to the dictionary sports_periods and assign it the value of 3. Do not rewrite the entire dictionary."
   ]
  },
  {
   "cell_type": "code",
   "execution_count": 12,
   "id": "3bdfe75e",
   "metadata": {},
   "outputs": [
    {
     "data": {
      "text/plain": [
       "{'baseball': 9, 'basketball': 4, 'soccer': 4, 'cricket': 2, 'hockey': 3}"
      ]
     },
     "execution_count": 12,
     "metadata": {},
     "output_type": "execute_result"
    }
   ],
   "source": [
    "sports_periods = {'baseball': 9, 'basketball': 4, 'soccer': 4, 'cricket': 2}\n",
    "sports_periods['hockey']=3\n",
    "sports_periods"
   ]
  },
  {
   "cell_type": "markdown",
   "id": "0270ca5c",
   "metadata": {},
   "source": [
    "# Latihan 4\n",
    "***\n",
    "\n",
    "The dictionary golds contains information about how many gold medals each country won in the 2016 Olympics. But today, Spain won 2 more gold medals. Update golds to reflect this information."
   ]
  },
  {
   "cell_type": "code",
   "execution_count": 1,
   "id": "9e2d6864",
   "metadata": {},
   "outputs": [],
   "source": [
    "golds = {\"Italy\": 12, \"USA\": 33, \"Brazil\": 15, \"China\": 27, \n",
    "         \"Spain\": 19, \"Canada\": 22, \"Argentina\": 8, \"England\": 29}"
   ]
  },
  {
   "cell_type": "markdown",
   "id": "307666d6",
   "metadata": {},
   "source": [
    "# Latihan 5\n",
    "***\n",
    "\n",
    "Create a list of the countries that are in the dictionary golds, and assign that list to the variable name countries. Do not hard code this.\n",
    "\n"
   ]
  },
  {
   "cell_type": "code",
   "execution_count": 2,
   "id": "493bf42e",
   "metadata": {},
   "outputs": [],
   "source": [
    "golds = {\"Italy\": 12, \"USA\": 33, \"Brazil\": 15, \n",
    "\"China\": 27, \"Spain\": 19, \"Canada\": 22, \"Argentina\": 8, \"England\": 29}"
   ]
  },
  {
   "cell_type": "markdown",
   "id": "dd59c6e8",
   "metadata": {},
   "source": [
    "# Latihan 6\n",
    "***\n",
    "\n",
    "Assign the number of elements in lst to the variable num_lst."
   ]
  },
  {
   "cell_type": "code",
   "execution_count": 19,
   "id": "b46a76b0",
   "metadata": {},
   "outputs": [],
   "source": [
    "lst = [\"hi\", \"goodbye\", \"python\", \"106\", \"506\", \n",
    "       91, ['all', 'Paul', 'Jackie', \"UMSI\", 1, \"Stephen\", 4.5], 109, \n",
    "       \"chair\", \"pizza\", \"wolverine\", 2017, 3.92, 1817, \"account\", \"readings\", \n",
    "       \"papers\", 12, \"facebook\", \"twitter\", 193.2, \n",
    "       \"snapchat\", \"leaders and the best\", \"social\", \"1986\", 9, 29, \"holiday\", \n",
    "       [\"women\", \"olympics\", \"gold\", \"rio\", 21, \"2016\", \"men\"], \"26trombones\"]"
   ]
  }
 ],
 "metadata": {
  "kernelspec": {
   "display_name": "Python 3 (ipykernel)",
   "language": "python",
   "name": "python3"
  },
  "language_info": {
   "codemirror_mode": {
    "name": "ipython",
    "version": 3
   },
   "file_extension": ".py",
   "mimetype": "text/x-python",
   "name": "python",
   "nbconvert_exporter": "python",
   "pygments_lexer": "ipython3",
   "version": "3.9.7"
  }
 },
 "nbformat": 4,
 "nbformat_minor": 5
}
