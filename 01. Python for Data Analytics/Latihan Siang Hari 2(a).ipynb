{
 "cells": [
  {
   "cell_type": "markdown",
   "id": "5c404b1d",
   "metadata": {},
   "source": [
    "## Latihan 1 :\n",
    "\n",
    "Dictionary **Junior** menampung informasi jadwal untuk anak kuliah tahun ini. Keynya adalah naman mata pelajaran dan angka dibelakangnya adalah angka kredit. Temukan jumlah kredit yang diambil dan assignlah ke variabel **credits**."
   ]
  },
  {
   "cell_type": "code",
   "execution_count": 1,
   "id": "f5066abb",
   "metadata": {},
   "outputs": [],
   "source": [
    "Junior = {'SI 206':4, 'SI 310':4, 'BL 300':3, 'TO 313':3, 'BCOM 350':1, 'MO 300':3}"
   ]
  },
  {
   "cell_type": "markdown",
   "id": "e03c9028",
   "metadata": {},
   "source": [
    "## Latihan 2 :\n",
    "\n",
    "Buatlah suatu dictionary bernama **freq** yang isi dari keynya adalah alphabet yang ada dalam string itu dan nilainya adalah frekuensi kemunculan dari alphabet itu."
   ]
  },
  {
   "cell_type": "code",
   "execution_count": null,
   "id": "199c77c5",
   "metadata": {},
   "outputs": [],
   "source": [
    "str1 = \"peter piper picked a peck of pickled peppers\""
   ]
  },
  {
   "cell_type": "markdown",
   "id": "41c851d9",
   "metadata": {},
   "source": [
    "## Latihan 3 :\n",
    "Buatlah suatu dictionary bernama **wrd_d** dari string dibawah, dimana key nya adalah kata dan valuenya adalah berapa kali anda menemukan value tersebut di string tersebut."
   ]
  },
  {
   "cell_type": "code",
   "execution_count": 11,
   "id": "7b42f699",
   "metadata": {},
   "outputs": [],
   "source": [
    "sent = \"\"\"Singing in the rain and playing in the rain \n",
    "are two entirely different situations but both can be good\"\"\""
   ]
  },
  {
   "cell_type": "markdown",
   "id": "9d135403",
   "metadata": {},
   "source": [
    "## Latihan 4\n",
    "\n",
    "Buatlah suatu dictionary bernama **letter_counts** yang menghitung frekuensi kemunculan dari suatu huruf di dalam string dan berapa kali huruf itu muncul. </br>\n",
    "\n",
    "**Perhatian:**\n",
    "Setiap huruf besar atau huruf kecil dalam alphabet yang sama harus dihitung sebagai huruf yang sama"
   ]
  },
  {
   "cell_type": "code",
   "execution_count": 10,
   "id": "f2a15329",
   "metadata": {},
   "outputs": [],
   "source": [
    "string1 = \"\"\"There is a tide in the affairs of men, Which taken at the flood, \n",
    "leads on to fortune. Omitted, all the voyage of their life is bound in shallows\n",
    "and in miseries. On such a full sea are we now afloat. \n",
    "And we must take the current when it serves, or lose our ventures.\"\"\""
   ]
  }
 ],
 "metadata": {
  "kernelspec": {
   "display_name": "Python 3 (ipykernel)",
   "language": "python",
   "name": "python3"
  },
  "language_info": {
   "codemirror_mode": {
    "name": "ipython",
    "version": 3
   },
   "file_extension": ".py",
   "mimetype": "text/x-python",
   "name": "python",
   "nbconvert_exporter": "python",
   "pygments_lexer": "ipython3",
   "version": "3.9.7"
  }
 },
 "nbformat": 4,
 "nbformat_minor": 5
}
