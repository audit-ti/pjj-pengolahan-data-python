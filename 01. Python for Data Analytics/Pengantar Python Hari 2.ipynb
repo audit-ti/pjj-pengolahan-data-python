{
 "cells": [
  {
   "cell_type": "markdown",
   "id": "3224ab2b",
   "metadata": {},
   "source": [
    "<h4><center><font color=\"1F4690\">PJJ PENGOLAHAN DATA MENGGUNAKAN PYTHON <br> <br> Rabu, 15 Juni 2022</font></center></h4>\n",
    "<div class=\"alert alert-info\"><h1 align=\"center\"><font color=\"1F4690\">Pemrograman Python (Part 2)</font></h4></div> "
   ]
  },
  {
   "cell_type": "markdown",
   "id": "5bfd5b27",
   "metadata": {},
   "source": [
    "# Python Files\n",
    "***\n",
    "Python juga bisa mengambil data yang tersimpan di dalam csv atau txt untuk diolah lebih lanjut. Adapun mekanisme untuk membacanya adalah dengan menggunakan `open()`, adapun `r` memaksudkan kita hanya bisa `read`."
   ]
  },
  {
   "cell_type": "code",
   "execution_count": 1,
   "id": "fa02dd42",
   "metadata": {},
   "outputs": [
    {
     "name": "stdout",
     "output_type": "stream",
     "text": [
      "tahun,kota_kab,jenis_museum,jumlah\n",
      "2020,Jakarta Selatan,Seni Rupa,0\n",
      "2020,Jakarta Selatan,Arkeologi dan Sejarah,0\n",
      "2020,Jakarta Selatan,IPTEK,0\n",
      "2020,Jakarta Selatan,Khusus,0\n",
      "2020,Jakarta Selatan,Umum (Pusat),0\n",
      "2020,Jakarta Selatan,Kebun Binatang dan Aquaria,0\n",
      "2020,Jakarta Timur,Seni Rupa,0\n",
      "2020,Jakarta Timur,Arkeologi dan Sejarah,0\n",
      "2020,Jakarta Timur,IPTEK,0\n",
      "2020,Jakarta Timur,Khusus,0\n",
      "2020,Jakarta Timur,Umum (Pusat),0\n",
      "2020,Jakarta Timur,Kebun Binatang dan Aquaria,0\n",
      "2020,Jakarta Pusat,Seni Rupa,0\n",
      "2020,Jakarta Pusat,Arkeologi dan Sejarah,3\n",
      "2020,Jakarta Pusat,IPTEK,0\n",
      "2020,Jakarta Pusat,Khusus,0\n",
      "2020,Jakarta Pusat,Umum (Pusat),0\n",
      "2020,Jakarta Pusat,Kebun Binatang dan Aquaria,0\n",
      "2020,Jakarta Barat,Seni Rupa,3\n",
      "2020,Jakarta Barat,Arkeologi dan Sejarah,1\n",
      "2020,Jakarta Barat,IPTEK,0\n",
      "2020,Jakarta Barat,Khusus,0\n",
      "2020,Jakarta Barat,Umum (Pusat),0\n",
      "2020,Jakarta Barat,Kebun Binatang dan Aquaria,0\n",
      "2020,Jakarta Utara,Seni Rupa,0\n",
      "2020,Jakarta Utara,Arkeologi dan Sejarah,1\n",
      "2020,Jakarta Utara,IPTEK,0\n",
      "2020,Jakarta Utara,Khusus,0\n",
      "2020,Jakarta Utara,Umum (Pusat),0\n",
      "2020,Jakarta Utara,Kebun Binatang dan Aquaria,0\n",
      "\n"
     ]
    }
   ],
   "source": [
    "#open and read the file after the appending:\n",
    "f = open(\"museum.csv\", \"r\")\n",
    "print(f.read())"
   ]
  },
  {
   "cell_type": "markdown",
   "id": "58a7881b",
   "metadata": {},
   "source": [
    "Terdapat empat built-in data types yang digunakan untuk menyimpan data di Python \n",
    "1. List,\n",
    "2. Tuple, \n",
    "3. Set,\n",
    "4. Dictionary\n",
    "\n",
    "Perbedaan dari keempat tipe data di atas adalah :\n",
    "\n",
    "| **Pembeda**           | **List**          | **Tuple**              | **Set**                 | **Dictonary**                                |\n",
    "|:------------------|:--------------|:-------------------|:--------------------|:-----------------------------------------|\n",
    "| Bentuk            | [a,b,c]       | (a,b,c)            | {a,b,c}             | {a:x, b:y, c:z}                          |\n",
    "| Duplikasi Item    | Diperbolehkan | Diperbolehkan      | Tidak diperbolehkan | Tidak diperbolehkan (kunci maupun nilai) |\n",
    "| Order/Unordered   | Ordered       | Ordered            | Unordered           | Ordered                                  |\n",
    "| Keterubahan Nilai | Dapat Diubah  | Tidak Dapat Diubah | Dapat Diubah        | Dapat Diubah                             |"
   ]
  },
  {
   "cell_type": "markdown",
   "id": "26e1d55b",
   "metadata": {},
   "source": [
    "# Mutabillity (Keterubahan Nilai)\n",
    "\n",
    "Terdapat objek yang ada di python yang bisa diubah nilainya. Namun, ada juga yang tidak.\n",
    "Perhatikan contoh berikut."
   ]
  },
  {
   "cell_type": "code",
   "execution_count": 14,
   "id": "f24ed1b3",
   "metadata": {},
   "outputs": [
    {
     "data": {
      "text/plain": [
       "2572103273072"
      ]
     },
     "execution_count": 14,
     "metadata": {},
     "output_type": "execute_result"
    }
   ],
   "source": [
    "obyek1='MAKANAN'\n",
    "id(obyek1)"
   ]
  },
  {
   "cell_type": "code",
   "execution_count": 15,
   "id": "b71ef6b5",
   "metadata": {},
   "outputs": [
    {
     "data": {
      "text/plain": [
       "2572103273648"
      ]
     },
     "execution_count": 15,
     "metadata": {},
     "output_type": "execute_result"
    }
   ],
   "source": [
    "obyek1='MINUMAN'\n",
    "id(obyek1)"
   ]
  },
  {
   "cell_type": "code",
   "execution_count": 17,
   "id": "33609631",
   "metadata": {},
   "outputs": [
    {
     "data": {
      "text/plain": [
       "2572102560576"
      ]
     },
     "execution_count": 17,
     "metadata": {},
     "output_type": "execute_result"
    }
   ],
   "source": [
    "daftar_rs=['rspad', 'rscm', 'rsudsenen', 'rsudcempakaputih']\n",
    "id(daftar_rs)"
   ]
  },
  {
   "cell_type": "code",
   "execution_count": 18,
   "id": "bc3e5d02",
   "metadata": {},
   "outputs": [
    {
     "data": {
      "text/plain": [
       "2572102560576"
      ]
     },
     "execution_count": 18,
     "metadata": {},
     "output_type": "execute_result"
    }
   ],
   "source": [
    "daftar_rs[1]='rsui'\n",
    "daftar_rs\n",
    "id(daftar_rs)"
   ]
  },
  {
   "cell_type": "markdown",
   "id": "e122551b",
   "metadata": {},
   "source": [
    "**MUTABLE/IMMUTABLE** \n",
    "* Obyek bertipe string pada contoh di atas bersifat IMMUTABLE (tidak dapat diubah) - perhatikan idnya BERUBAH. \n",
    "* Obyek bertipe list pada contoh di atas bersifat MUTABLE (dapat diubah) - perhatikan idnya TETAP"
   ]
  },
  {
   "cell_type": "markdown",
   "id": "c577c73d",
   "metadata": {},
   "source": [
    "# Aliasing"
   ]
  },
  {
   "cell_type": "code",
   "execution_count": 23,
   "id": "011fe36e",
   "metadata": {},
   "outputs": [
    {
     "name": "stdout",
     "output_type": "stream",
     "text": [
      "ID daftar_rs 2572102560576\n",
      "ID daftar_rumkit 2572103336768\n"
     ]
    }
   ],
   "source": [
    "print('ID daftar_rs', id(daftar_rs))\n",
    "daftar_rumkit=['rspad', 'rscm', 'rsudsenen', 'rsudcempakaputih']\n",
    "print('ID daftar_rumkit', id(daftar_rumkit))"
   ]
  },
  {
   "cell_type": "markdown",
   "id": "8566e978",
   "metadata": {},
   "source": [
    "# Cloning"
   ]
  },
  {
   "cell_type": "code",
   "execution_count": 24,
   "id": "ef1f9b7b",
   "metadata": {},
   "outputs": [
    {
     "name": "stdout",
     "output_type": "stream",
     "text": [
      "True\n",
      "False\n",
      "[81, 82, 83]\n",
      "[5, 82, 83]\n"
     ]
    }
   ],
   "source": [
    "a = [81, 82, 83]\n",
    "b = a[:]       # make a clone using slice\n",
    "print(a == b)\n",
    "print(a is b)\n",
    "\n",
    "b[0] = 5\n",
    "print(a)\n",
    "print(b)"
   ]
  },
  {
   "cell_type": "markdown",
   "id": "5081b533",
   "metadata": {},
   "source": [
    "# 1. Python List"
   ]
  },
  {
   "cell_type": "code",
   "execution_count": 30,
   "id": "1a3add84",
   "metadata": {},
   "outputs": [],
   "source": [
    "klaim_bpjs = [\"Askariasis\", \"Taeniasis\", \"Insomnia\", \"Vertigo\", \"Hiperurisemia\", \n",
    "     \"Obesitas\", \"Skrufuloderma\", \"Scabies\", \"Miliaria\", \"Lepra\", \"Gastroentritis\"]"
   ]
  },
  {
   "cell_type": "markdown",
   "id": "410d3a4f",
   "metadata": {},
   "source": [
    "## 1.1 Membuat  dan Menambahkan Item di  List\n",
    "\n",
    "Untuk membuat list, kita bisa memulai dengan suatu list kosong. Kemudian, kita tambahkan dengan `append()` atau `insert()`."
   ]
  },
  {
   "cell_type": "code",
   "execution_count": 3,
   "id": "50758b2b",
   "metadata": {},
   "outputs": [
    {
     "data": {
      "text/plain": [
       "['Askariasis',\n",
       " 'Taeniasis',\n",
       " 'Insomnia',\n",
       " 'Vertigo',\n",
       " 'Hiperurisemia',\n",
       " 'Obesitas',\n",
       " 'Skrufuloderma',\n",
       " 'Scabies',\n",
       " 'Miliaria',\n",
       " 'Lepra',\n",
       " 'Gastroentritis',\n",
       " 'KURANG DARAH']"
      ]
     },
     "execution_count": 3,
     "metadata": {},
     "output_type": "execute_result"
    }
   ],
   "source": [
    "klaim_bpjs.append('KURANG DARAH')\n",
    "klaim_bpjs"
   ]
  },
  {
   "cell_type": "code",
   "execution_count": 4,
   "id": "d3f10dde",
   "metadata": {},
   "outputs": [
    {
     "data": {
      "text/plain": [
       "['Askariasis',\n",
       " 'Taeniasis',\n",
       " 'Insomnia',\n",
       " 'KURANG HATI HATI',\n",
       " 'Vertigo',\n",
       " 'Hiperurisemia',\n",
       " 'Obesitas',\n",
       " 'Skrufuloderma',\n",
       " 'Scabies',\n",
       " 'Miliaria',\n",
       " 'Lepra',\n",
       " 'Gastroentritis',\n",
       " 'KURANG DARAH']"
      ]
     },
     "execution_count": 4,
     "metadata": {},
     "output_type": "execute_result"
    }
   ],
   "source": [
    "klaim_bpjs.insert(3, 'KURANG HATI HATI')\n",
    "klaim_bpjs"
   ]
  },
  {
   "cell_type": "markdown",
   "id": "b244762b",
   "metadata": {},
   "source": [
    "## 1.2 Slicing"
   ]
  },
  {
   "cell_type": "code",
   "execution_count": 5,
   "id": "c8749398",
   "metadata": {},
   "outputs": [
    {
     "name": "stdout",
     "output_type": "stream",
     "text": [
      "---Lokasi Indeks No-2:----------------------\n",
      "Insomnia\n",
      "---4 Indeks pertama :----------------------\n",
      "['Askariasis', 'Taeniasis', 'Insomnia', 'KURANG HATI HATI']\n",
      "['Askariasis', 'Taeniasis', 'Insomnia', 'KURANG HATI HATI']\n",
      "---Mulai dari indeks ke-2 hingga selesai---------------------------------\n",
      "['Insomnia', 'KURANG HATI HATI', 'Vertigo', 'Hiperurisemia', 'Obesitas', 'Skrufuloderma', 'Scabies', 'Miliaria', 'Lepra', 'Gastroentritis', 'KURANG DARAH']\n",
      "---Indeks negatif tidak bisa---------------\n",
      "[]\n",
      "---Indeks ke 3 hingga ke 4 :----------------------\n",
      "['KURANG HATI HATI', 'Vertigo']\n"
     ]
    }
   ],
   "source": [
    "print('---Lokasi Indeks No-2:----------------------')\n",
    "print(klaim_bpjs[2])\n",
    "print('---4 Indeks pertama :----------------------')\n",
    "print(klaim_bpjs[0:4])\n",
    "print(klaim_bpjs[:4])\n",
    "print('---Mulai dari indeks ke-2 hingga selesai---------------------------------')\n",
    "print(klaim_bpjs[2:])\n",
    "print('---Indeks negatif tidak bisa---------------')\n",
    "print(klaim_bpjs[-2:0])\n",
    "print('---Indeks ke 3 hingga ke 4 :----------------------')\n",
    "print(klaim_bpjs[3:5])"
   ]
  },
  {
   "cell_type": "markdown",
   "id": "5b85a1b7",
   "metadata": {},
   "source": [
    "## 1.2 Mengganti Isi List"
   ]
  },
  {
   "cell_type": "code",
   "execution_count": 6,
   "id": "a19b690d",
   "metadata": {},
   "outputs": [
    {
     "name": "stdout",
     "output_type": "stream",
     "text": [
      "['Askariasis', 'Taeniasis', 'Insomnia', 'KURANG HATI HATI', 'Vertigo', 'Hiperurisemia', 'Obesitas', 'Skrufuloderma', 'Scabies', 'Miliaria', 'MASUK ANGIN', 'Gastroentritis', 'KURANG DARAH']\n"
     ]
    }
   ],
   "source": [
    "klaim_bpjs[10] = 'MASUK ANGIN'\n",
    "print(klaim_bpjs)"
   ]
  },
  {
   "cell_type": "markdown",
   "id": "ba4fce40",
   "metadata": {},
   "source": [
    "## 1.3 Menghapus Isi List\n",
    "\n",
    "* Menghapus item list dengan indeks tertentu get its value: `pop()`\n",
    "* Menghapus item list dengan nilai tertentu `remove()`\n",
    "* Menghapus item list dengan indeks tertentu: `del()`\n",
    "* Menghapus semua isi list: `clear()`"
   ]
  },
  {
   "cell_type": "code",
   "execution_count": 7,
   "id": "6f92bdd9",
   "metadata": {},
   "outputs": [
    {
     "name": "stdout",
     "output_type": "stream",
     "text": [
      "['Askariasis', 'Insomnia', 'KURANG HATI HATI', 'Vertigo', 'Hiperurisemia', 'Obesitas', 'Skrufuloderma', 'Scabies', 'Miliaria', 'MASUK ANGIN', 'Gastroentritis', 'KURANG DARAH']\n"
     ]
    }
   ],
   "source": [
    "klaim_bpjs.pop(1)\n",
    "print(klaim_bpjs)"
   ]
  },
  {
   "cell_type": "code",
   "execution_count": 8,
   "id": "062b8a50",
   "metadata": {},
   "outputs": [
    {
     "name": "stdout",
     "output_type": "stream",
     "text": [
      "['Askariasis', 'Insomnia', 'KURANG HATI HATI', 'Vertigo', 'Hiperurisemia', 'Skrufuloderma', 'Scabies', 'Miliaria', 'MASUK ANGIN', 'Gastroentritis', 'KURANG DARAH']\n"
     ]
    }
   ],
   "source": [
    "klaim_bpjs.remove('Obesitas')\n",
    "print(klaim_bpjs)"
   ]
  },
  {
   "cell_type": "code",
   "execution_count": 9,
   "id": "2e549d09",
   "metadata": {},
   "outputs": [
    {
     "name": "stdout",
     "output_type": "stream",
     "text": [
      "['Insomnia', 'KURANG HATI HATI', 'Vertigo', 'Hiperurisemia', 'Skrufuloderma', 'Scabies', 'Miliaria', 'MASUK ANGIN', 'Gastroentritis', 'KURANG DARAH']\n"
     ]
    }
   ],
   "source": [
    "del klaim_bpjs[0]\n",
    "print(klaim_bpjs)"
   ]
  },
  {
   "cell_type": "code",
   "execution_count": 10,
   "id": "20081e1d",
   "metadata": {},
   "outputs": [
    {
     "ename": "ValueError",
     "evalue": "list.remove(x): x not in list",
     "output_type": "error",
     "traceback": [
      "\u001b[1;31m---------------------------------------------------------------------------\u001b[0m",
      "\u001b[1;31mValueError\u001b[0m                                Traceback (most recent call last)",
      "\u001b[1;32mC:\\Users\\ANDREA~1.KUR\\AppData\\Local\\Temp/ipykernel_13932/424772053.py\u001b[0m in \u001b[0;36m<module>\u001b[1;34m\u001b[0m\n\u001b[1;32m----> 1\u001b[1;33m \u001b[0mklaim_bpjs\u001b[0m\u001b[1;33m.\u001b[0m\u001b[0mremove\u001b[0m\u001b[1;33m(\u001b[0m\u001b[1;34m'Obesitas'\u001b[0m\u001b[1;33m)\u001b[0m\u001b[1;33m\u001b[0m\u001b[1;33m\u001b[0m\u001b[0m\n\u001b[0m\u001b[0;32m      2\u001b[0m \u001b[0mprint\u001b[0m\u001b[1;33m(\u001b[0m\u001b[0mklaim_bpjs\u001b[0m\u001b[1;33m)\u001b[0m\u001b[1;33m\u001b[0m\u001b[1;33m\u001b[0m\u001b[0m\n",
      "\u001b[1;31mValueError\u001b[0m: list.remove(x): x not in list"
     ]
    }
   ],
   "source": [
    "klaim_bpjs.remove('Obesitas')\n",
    "print(klaim_bpjs)"
   ]
  },
  {
   "cell_type": "code",
   "execution_count": 11,
   "id": "98c77bf9",
   "metadata": {},
   "outputs": [
    {
     "name": "stdout",
     "output_type": "stream",
     "text": [
      "[]\n"
     ]
    }
   ],
   "source": [
    "klaim_bpjs.clear()\n",
    "print(klaim_bpjs)"
   ]
  },
  {
   "cell_type": "markdown",
   "id": "483df8d3",
   "metadata": {},
   "source": [
    "## Sorting List"
   ]
  },
  {
   "cell_type": "code",
   "execution_count": 38,
   "id": "bb516f4b",
   "metadata": {},
   "outputs": [
    {
     "data": {
      "text/plain": [
       "['Askariasis',\n",
       " 'Gastroentritis',\n",
       " 'Hiperurisemia',\n",
       " 'Insomnia',\n",
       " 'Lepra',\n",
       " 'Miliaria',\n",
       " 'Obesitas',\n",
       " 'Scabies',\n",
       " 'Skrufuloderma',\n",
       " 'Taeniasis',\n",
       " 'Vertigo']"
      ]
     },
     "execution_count": 38,
     "metadata": {},
     "output_type": "execute_result"
    }
   ],
   "source": [
    "klaim_bpjs"
   ]
  },
  {
   "cell_type": "code",
   "execution_count": 39,
   "id": "9c755700",
   "metadata": {},
   "outputs": [
    {
     "name": "stdout",
     "output_type": "stream",
     "text": [
      "None\n"
     ]
    }
   ],
   "source": [
    "print(klaim_bpjs.sort())"
   ]
  },
  {
   "cell_type": "code",
   "execution_count": 34,
   "id": "7b65507a",
   "metadata": {},
   "outputs": [],
   "source": [
    "sort_klaim_bpjs1"
   ]
  },
  {
   "cell_type": "code",
   "execution_count": 32,
   "id": "6bfe1f9f",
   "metadata": {},
   "outputs": [
    {
     "name": "stdout",
     "output_type": "stream",
     "text": [
      "['Askariasis', 'Gastroentritis', 'Hiperurisemia', 'Insomnia', 'Lepra', 'Miliaria', 'Obesitas', 'Scabies', 'Skrufuloderma', 'Taeniasis', 'Vertigo']\n"
     ]
    }
   ],
   "source": [
    "sort_klaim_bpjs2=sorted(klaim_bpjs)\n",
    "print(sort_klaim_bpjs2)"
   ]
  },
  {
   "cell_type": "code",
   "execution_count": null,
   "id": "f321f2c4",
   "metadata": {},
   "outputs": [],
   "source": [
    "should be used whenever mutating the list is intended and retrieving the original order of the elements is not desired. "
   ]
  },
  {
   "cell_type": "markdown",
   "id": "f6436a30",
   "metadata": {},
   "source": [
    "# 2. Python Set"
   ]
  },
  {
   "cell_type": "code",
   "execution_count": 91,
   "id": "4744f315",
   "metadata": {},
   "outputs": [],
   "source": [
    "klaim_bpjs = {\"Askariasis\", \"Taeniasis\", \"Insomnia\", \"Vertigo\", \"Hiperurisemia\", \n",
    "     \"Obesitas\", \"Skrufuloderma\", \"Scabies\", \"Miliaria\", \"Lepra\", \"Gastroentritis\"}"
   ]
  },
  {
   "cell_type": "code",
   "execution_count": 92,
   "id": "242b7b45",
   "metadata": {},
   "outputs": [
    {
     "data": {
      "text/plain": [
       "{'Askariasis',\n",
       " 'Gastroentritis',\n",
       " 'Hiperurisemia',\n",
       " 'Insomnia',\n",
       " 'Lepra',\n",
       " 'Miliaria',\n",
       " 'Obesitas',\n",
       " 'Scabies',\n",
       " 'Skrufuloderma',\n",
       " 'Taeniasis',\n",
       " 'Vertigo'}"
      ]
     },
     "execution_count": 92,
     "metadata": {},
     "output_type": "execute_result"
    }
   ],
   "source": [
    "klaim_bpjs"
   ]
  },
  {
   "cell_type": "markdown",
   "id": "66af3429",
   "metadata": {},
   "source": [
    "# 2.1 Membuat, Mengganti, Menambahkan Isi Set\n",
    "\n",
    "\n",
    "Kita bisa menambahkan elemen ke dalam set menggunakan dua metode :\n",
    "* `add()` untuk menambahkan satu elemen\n",
    "* `update()` untuk menambahkan banyak elemen, termasuk tuple, list, string, atau set lain\n",
    "\n",
    "Untuk mengganti elemen suatu set, kita perlu menghapus terlabih dahulu, kemudian menambahkan isi yang baru."
   ]
  },
  {
   "cell_type": "code",
   "execution_count": 93,
   "id": "bf814301",
   "metadata": {},
   "outputs": [
    {
     "data": {
      "text/plain": [
       "{'Askariasis',\n",
       " 'DEMAM BERDARAH',\n",
       " 'Gastroentritis',\n",
       " 'Hiperurisemia',\n",
       " 'Insomnia',\n",
       " 'Lepra',\n",
       " 'Miliaria',\n",
       " 'Obesitas',\n",
       " 'Scabies',\n",
       " 'Skrufuloderma',\n",
       " 'Taeniasis',\n",
       " 'Vertigo'}"
      ]
     },
     "execution_count": 93,
     "metadata": {},
     "output_type": "execute_result"
    }
   ],
   "source": [
    "klaim_bpjs.add('DEMAM BERDARAH')\n",
    "klaim_bpjs"
   ]
  },
  {
   "cell_type": "code",
   "execution_count": 95,
   "id": "83bbf06e",
   "metadata": {},
   "outputs": [
    {
     "data": {
      "text/plain": [
       "{'Askariasis',\n",
       " 'D',\n",
       " 'DEMAM BERDARAH',\n",
       " 'E',\n",
       " 'G',\n",
       " 'GERD',\n",
       " 'Gastroentritis',\n",
       " 'Hiperurisemia',\n",
       " 'Insomnia',\n",
       " 'Lepra',\n",
       " 'Miliaria',\n",
       " 'Obesitas',\n",
       " 'R',\n",
       " 'Scabies',\n",
       " 'Skrufuloderma',\n",
       " 'Taeniasis',\n",
       " 'Vertigo'}"
      ]
     },
     "execution_count": 95,
     "metadata": {},
     "output_type": "execute_result"
    }
   ],
   "source": [
    "klaim_bpjs.update(['GERD'])\n",
    "klaim_bpjs"
   ]
  },
  {
   "cell_type": "markdown",
   "id": "839bedae",
   "metadata": {},
   "source": [
    "# 2.2 Set Slicing\n",
    "Set itu mutable, tapi ingat set tidak berurutan, sehingga indexing tidak dapat dilakukan. Untuk mengakses anggota-anggotanya tidak bisa menggunakan indexing."
   ]
  },
  {
   "cell_type": "markdown",
   "id": "b58c2de8",
   "metadata": {},
   "source": [
    "# 2.3 Menghapus Isi Set\n",
    "\n",
    "Item tertentu dapat dihapus dari set menggunakan metode:\n",
    "* `discard()` jika item yang mau dihapus tidak ada, set tidak berubah\n",
    "* `remove()` jika item yang mau dihapus tidak ada, maka akan keluar error"
   ]
  },
  {
   "cell_type": "markdown",
   "id": "eda2cd6b",
   "metadata": {},
   "source": [
    "# 3. Python Tuple"
   ]
  },
  {
   "cell_type": "code",
   "execution_count": 83,
   "id": "75ceaa38",
   "metadata": {},
   "outputs": [
    {
     "name": "stdout",
     "output_type": "stream",
     "text": [
      "('Askariasis', 'Taeniasis', 'Insomnia', 'Vertigo', 'Hiperurisemia', 'Obesitas', 'Skrufuloderma', 'Scabies', 'Miliaria', 'Lepra', 'Gastroentritis')\n"
     ]
    },
    {
     "data": {
      "text/plain": [
       "tuple"
      ]
     },
     "execution_count": 83,
     "metadata": {},
     "output_type": "execute_result"
    }
   ],
   "source": [
    "klaim_bpjs = (\"Askariasis\", \"Taeniasis\", \"Insomnia\", \"Vertigo\", \"Hiperurisemia\", \n",
    "     \"Obesitas\", \"Skrufuloderma\", \"Scabies\", \"Miliaria\", \"Lepra\", \"Gastroentritis\")\n",
    "print(klaim_bpjs)\n",
    "type(klaim_bpjs)"
   ]
  },
  {
   "cell_type": "markdown",
   "id": "c1a9f602",
   "metadata": {},
   "source": [
    "# 3.1 Menambahkan Isi Tuple\n",
    "Isi tuple tidak dapat ditambahkan karena sifat tuple yang `immutable`."
   ]
  },
  {
   "cell_type": "markdown",
   "id": "5281a90e",
   "metadata": {},
   "source": [
    "# 3.2 Tuple Slicing\n",
    "\n",
    "Untuk mengakses nilai dalam tupel, gunakan tanda kurung siku untuk mengiris beserta indeks atau indeks untuk mendapatkan nilai yang tersedia pada indeks tersebut. "
   ]
  },
  {
   "cell_type": "code",
   "execution_count": 84,
   "id": "9d1181d4",
   "metadata": {},
   "outputs": [
    {
     "data": {
      "text/plain": [
       "'Obesitas'"
      ]
     },
     "execution_count": 84,
     "metadata": {},
     "output_type": "execute_result"
    }
   ],
   "source": [
    "klaim_bpjs[5]"
   ]
  },
  {
   "cell_type": "code",
   "execution_count": 81,
   "id": "38d30da1",
   "metadata": {},
   "outputs": [
    {
     "ename": "TypeError",
     "evalue": "tuple indices must be integers or slices, not tuple",
     "output_type": "error",
     "traceback": [
      "\u001b[1;31m---------------------------------------------------------------------------\u001b[0m",
      "\u001b[1;31mTypeError\u001b[0m                                 Traceback (most recent call last)",
      "\u001b[1;32mC:\\Users\\ANDREA~1.KUR\\AppData\\Local\\Temp/ipykernel_13932/4105766700.py\u001b[0m in \u001b[0;36m<module>\u001b[1;34m\u001b[0m\n\u001b[1;32m----> 1\u001b[1;33m \u001b[0mklaim_bpjs\u001b[0m\u001b[1;33m[\u001b[0m\u001b[1;36m2\u001b[0m\u001b[1;33m,\u001b[0m\u001b[1;36m4\u001b[0m\u001b[1;33m]\u001b[0m\u001b[1;33m\u001b[0m\u001b[1;33m\u001b[0m\u001b[0m\n\u001b[0m",
      "\u001b[1;31mTypeError\u001b[0m: tuple indices must be integers or slices, not tuple"
     ]
    }
   ],
   "source": [
    "klaim_bpjs[2,4]"
   ]
  },
  {
   "cell_type": "markdown",
   "id": "02651420",
   "metadata": {},
   "source": [
    "# 3.3 Mengganti Isi Tuple\n",
    "Tuple tidak berubah, yang berarti Anda tidak dapat memperbarui atau mengubah nilai elemen tuple. Anda dapat mengambil bagian dari tupel yang ada untuk membuat tupel baru seperti ditunjukkan oleh contoh berikut."
   ]
  },
  {
   "cell_type": "code",
   "execution_count": 86,
   "id": "3aedc410",
   "metadata": {},
   "outputs": [
    {
     "ename": "AttributeError",
     "evalue": "'tuple' object has no attribute 'append'",
     "output_type": "error",
     "traceback": [
      "\u001b[1;31m---------------------------------------------------------------------------\u001b[0m",
      "\u001b[1;31mAttributeError\u001b[0m                            Traceback (most recent call last)",
      "\u001b[1;32mC:\\Users\\ANDREA~1.KUR\\AppData\\Local\\Temp/ipykernel_13932/1827685845.py\u001b[0m in \u001b[0;36m<module>\u001b[1;34m\u001b[0m\n\u001b[1;32m----> 1\u001b[1;33m \u001b[0mklaim_bpjs\u001b[0m\u001b[1;33m.\u001b[0m\u001b[0mappend\u001b[0m\u001b[1;33m(\u001b[0m\u001b[1;36m5\u001b[0m\u001b[1;33m)\u001b[0m\u001b[1;33m\u001b[0m\u001b[1;33m\u001b[0m\u001b[0m\n\u001b[0m\u001b[0;32m      2\u001b[0m \u001b[0mklaim_bpjs\u001b[0m\u001b[1;33m\u001b[0m\u001b[1;33m\u001b[0m\u001b[0m\n",
      "\u001b[1;31mAttributeError\u001b[0m: 'tuple' object has no attribute 'append'"
     ]
    }
   ],
   "source": [
    "klaim_bpjs.append(5)\n",
    "klaim_bpjs"
   ]
  },
  {
   "cell_type": "code",
   "execution_count": 88,
   "id": "bcf5182d",
   "metadata": {},
   "outputs": [
    {
     "data": {
      "text/plain": [
       "('Askariasis',\n",
       " 'Taeniasis',\n",
       " 'Insomnia',\n",
       " 'Vertigo',\n",
       " 'Hiperurisemia',\n",
       " 'Obesitas',\n",
       " 'Skrufuloderma',\n",
       " 'Scabies',\n",
       " 'Miliaria',\n",
       " 'Lepra',\n",
       " 'Gastroentritis',\n",
       " 'KELOID')"
      ]
     },
     "execution_count": 88,
     "metadata": {},
     "output_type": "execute_result"
    }
   ],
   "source": [
    "klaim_bpjs=klaim_bpjs+('KELOID',)\n",
    "klaim_bpjs"
   ]
  },
  {
   "cell_type": "markdown",
   "id": "112ea952",
   "metadata": {},
   "source": [
    "# 3.4 Menghapus Isi Tuple\n",
    "Tuple tidak berubah sehingga tuple tidak bisa dihapus."
   ]
  },
  {
   "cell_type": "markdown",
   "id": "92f2597b",
   "metadata": {},
   "source": [
    "# 4. Python Dictionary"
   ]
  },
  {
   "cell_type": "code",
   "execution_count": 61,
   "id": "5a0de924",
   "metadata": {},
   "outputs": [
    {
     "data": {
      "text/plain": [
       "{'capricious': 'berubah-ubah',\n",
       " 'enervate': 'lemah',\n",
       " 'prevaricate': 'berbohong',\n",
       " 'ostentation': 'kesombongan',\n",
       " 'cacophony': 'hiruk-pikuk',\n",
       " 'vacillate': 'bimbang',\n",
       " 'desiccate': 'mengering'}"
      ]
     },
     "execution_count": 61,
     "metadata": {},
     "output_type": "execute_result"
    }
   ],
   "source": [
    "gre = {'capricious': 'berubah-ubah', \n",
    "       'enervate': 'lemah', \n",
    "       'prevaricate': 'berbohong', \n",
    "       'ostentation': 'kesombongan', \n",
    "       'cacophony': 'hiruk-pikuk', \n",
    "       'vacillate': 'bimbang', \n",
    "       'desiccate': 'mengering'}\n",
    "gre"
   ]
  },
  {
   "cell_type": "markdown",
   "id": "80d82fe8",
   "metadata": {},
   "source": [
    "# 4.1 Mengakses Key dan Value dari Dictionary"
   ]
  },
  {
   "cell_type": "code",
   "execution_count": 73,
   "id": "62be6b51",
   "metadata": {},
   "outputs": [
    {
     "data": {
      "text/plain": [
       "'hiruk-pikuk'"
      ]
     },
     "execution_count": 73,
     "metadata": {},
     "output_type": "execute_result"
    }
   ],
   "source": [
    "# Mengakses Value dari Satu Key Unik \n",
    "gre['cacophony']"
   ]
  },
  {
   "cell_type": "code",
   "execution_count": 75,
   "id": "b9950532",
   "metadata": {},
   "outputs": [
    {
     "data": {
      "text/plain": [
       "dict_keys(['capricious', 'enervate', 'prevaricate', 'ostentation', 'cacophony', 'vacillate', 'desiccate'])"
      ]
     },
     "execution_count": 75,
     "metadata": {},
     "output_type": "execute_result"
    }
   ],
   "source": [
    "# Mengakses Value dari Seluruh Key \n",
    "value1 = gre.keys()\n",
    "value1"
   ]
  },
  {
   "cell_type": "code",
   "execution_count": 76,
   "id": "66e5016b",
   "metadata": {},
   "outputs": [
    {
     "name": "stdout",
     "output_type": "stream",
     "text": [
      "mengering\n"
     ]
    }
   ],
   "source": [
    "# Mencari Key dari Suatu Nilai\n",
    "kunci1 = gre.get('desiccate')\n",
    "print(kunci1)"
   ]
  },
  {
   "cell_type": "markdown",
   "id": "57582627",
   "metadata": {},
   "source": [
    "# 4.2 Membuat dan Menambahkan Isi Dictionary"
   ]
  },
  {
   "cell_type": "code",
   "execution_count": null,
   "id": "3b80aec5",
   "metadata": {},
   "outputs": [],
   "source": [
    "gre['assuage']='meredakan'\n",
    "print(gre)"
   ]
  },
  {
   "cell_type": "markdown",
   "id": "a611be96",
   "metadata": {},
   "source": [
    "# 4.3 Mengganti Isi Dictionary"
   ]
  },
  {
   "cell_type": "code",
   "execution_count": null,
   "id": "50b83396",
   "metadata": {},
   "outputs": [],
   "source": [
    "gre\n",
    "gre['vacillate'] = \"terombang-ambing\"\n",
    "print(gre)"
   ]
  },
  {
   "cell_type": "markdown",
   "id": "daf963e3",
   "metadata": {},
   "source": [
    "# 4.4 Menghapus Isi Dictionary"
   ]
  },
  {
   "cell_type": "code",
   "execution_count": null,
   "id": "cbe6ef5c",
   "metadata": {},
   "outputs": [],
   "source": [
    "#Menghapus item dengan nama 'ostentation'\n",
    "del gre['ostentation']\n",
    "print(gre)\n",
    "#Menghapus semua item di dalam dictionary\n",
    "gre.clear()\n",
    "print(gre)"
   ]
  },
  {
   "cell_type": "code",
   "execution_count": null,
   "id": "9cd4a181",
   "metadata": {},
   "outputs": [],
   "source": [
    "#Menghapus dictionary\n",
    "del dict \n",
    "print(gre)"
   ]
  },
  {
   "cell_type": "markdown",
   "id": "7949c614",
   "metadata": {},
   "source": [
    "## Konversi Antara Tuple, Set, List"
   ]
  },
  {
   "cell_type": "code",
   "execution_count": 42,
   "id": "e1518903",
   "metadata": {},
   "outputs": [],
   "source": [
    "list_rs=['rspad', 'rscm', 'rsudsenen', 'rsudcempakaputih']"
   ]
  },
  {
   "cell_type": "code",
   "execution_count": 47,
   "id": "3c4429e1",
   "metadata": {},
   "outputs": [
    {
     "name": "stdout",
     "output_type": "stream",
     "text": [
      "========HASIL KONVERSI==========\n",
      "Bentuk Set---------- {'rsudcempakaputih', 'rspad', 'rsudsenen', 'rscm'}\n",
      "Bentuk Tuple--------- ('rspad', 'rscm', 'rsudsenen', 'rsudcempakaputih')\n"
     ]
    }
   ],
   "source": [
    "# Set ke List\n",
    "set_rs=set(list_rs)\n",
    "# Set ke Tuple\n",
    "tuple_rs=tuple(list_rs)\n",
    "print(\"========HASIL KONVERSI==========\")\n",
    "print('Bentuk Set----------', set_rs)\n",
    "print('Bentuk Tuple---------', tuple_rs)"
   ]
  },
  {
   "cell_type": "code",
   "execution_count": null,
   "id": "a922b666",
   "metadata": {},
   "outputs": [],
   "source": [
    "# Silahkan coba untuk konversi lain (tuple->set, list, set->tuple, list)"
   ]
  },
  {
   "cell_type": "markdown",
   "id": "6183e37b",
   "metadata": {},
   "source": [
    "# Panjang Tuple, Set, List\n",
    "\n",
    "Untuk menghitung panjang tuple, set, list kita bisa menggunakan fungsi `len()`"
   ]
  },
  {
   "cell_type": "code",
   "execution_count": 57,
   "id": "155590a9",
   "metadata": {},
   "outputs": [
    {
     "name": "stdout",
     "output_type": "stream",
     "text": [
      " Panjang Tuple 4 \n",
      " Panjang Set 4 \n",
      " Panjang List 4\n",
      " Adapun panjang gre 7\n"
     ]
    }
   ],
   "source": [
    "l_tuple=len(list_rs)\n",
    "l_set=len(set_rs)\n",
    "l_list=len(tuple_rs)\n",
    "print(' Panjang Tuple', l_tuple, '\\n Panjang Set', l_set, '\\n Panjang List', l_list)\n",
    "l_gre=len(gre)\n",
    "print(' Adapun panjang gre', l_gre)"
   ]
  }
 ],
 "metadata": {
  "kernelspec": {
   "display_name": "Python 3 (ipykernel)",
   "language": "python",
   "name": "python3"
  },
  "language_info": {
   "codemirror_mode": {
    "name": "ipython",
    "version": 3
   },
   "file_extension": ".py",
   "mimetype": "text/x-python",
   "name": "python",
   "nbconvert_exporter": "python",
   "pygments_lexer": "ipython3",
   "version": "3.9.7"
  }
 },
 "nbformat": 4,
 "nbformat_minor": 5
}
